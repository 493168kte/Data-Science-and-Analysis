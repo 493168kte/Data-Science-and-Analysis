{
 "cells": [
  {
   "cell_type": "markdown",
   "metadata": {},
   "source": [
    "# Analyzing borrowers’ risk of defaulting\n",
    "\n",
    "This project is designed to analyze the risk of borrowers defaulting on a loan on the basis of their marital status and the number of children. "
   ]
  },
  {
   "cell_type": "code",
   "execution_count": 1,
   "metadata": {},
   "outputs": [],
   "source": [
    "# Loading all the libraries\n",
    "import pandas as pd\n",
    "from nltk.stem import SnowballStemmer\n",
    "# Load the data\n",
    "try:\n",
    "    df = pd.read_csv('E:\\\\Users\\\\x\\\\Documents\\\\jupyter\\\\DP\\\\credit_scoring_eng.csv')\n",
    "except:\n",
    "    df = pd.read_csv('/datasets/credit_scoring_eng.csv')"
   ]
  },
  {
   "cell_type": "markdown",
   "metadata": {},
   "source": [
    "**Descriptions**\n",
    "- `children` - the number of children in the family\n",
    "- `days_employed` - work experience in days\n",
    "- `dob_years` - client's age in years\n",
    "- `education` - client's education\n",
    "- `education_id` - education identifier\n",
    "- `family_status` - marital status\n",
    "- `family_status_id` - marital status identifier\n",
    "- `gender` - gender of the client\n",
    "- `income_type` - type of employment\n",
    "- `debt` - was there any debt on loan repayment\n",
    "- `total_income` - monthly income\n",
    "- `purpose` - the purpose of obtaining a loan"
   ]
  },
  {
   "cell_type": "code",
   "execution_count": 2,
   "metadata": {},
   "outputs": [
    {
     "data": {
      "text/plain": [
       "(21525, 12)"
      ]
     },
     "execution_count": 2,
     "metadata": {},
     "output_type": "execute_result"
    }
   ],
   "source": [
    "# Quantity of rows and columns\n",
    "df.shape"
   ]
  },
  {
   "cell_type": "code",
   "execution_count": 3,
   "metadata": {},
   "outputs": [
    {
     "data": {
      "text/html": [
       "<div>\n",
       "<style scoped>\n",
       "    .dataframe tbody tr th:only-of-type {\n",
       "        vertical-align: middle;\n",
       "    }\n",
       "\n",
       "    .dataframe tbody tr th {\n",
       "        vertical-align: top;\n",
       "    }\n",
       "\n",
       "    .dataframe thead th {\n",
       "        text-align: right;\n",
       "    }\n",
       "</style>\n",
       "<table border=\"1\" class=\"dataframe\">\n",
       "  <thead>\n",
       "    <tr style=\"text-align: right;\">\n",
       "      <th></th>\n",
       "      <th>children</th>\n",
       "      <th>days_employed</th>\n",
       "      <th>dob_years</th>\n",
       "      <th>education</th>\n",
       "      <th>education_id</th>\n",
       "      <th>family_status</th>\n",
       "      <th>family_status_id</th>\n",
       "      <th>gender</th>\n",
       "      <th>income_type</th>\n",
       "      <th>debt</th>\n",
       "      <th>total_income</th>\n",
       "      <th>purpose</th>\n",
       "    </tr>\n",
       "  </thead>\n",
       "  <tbody>\n",
       "    <tr>\n",
       "      <td>0</td>\n",
       "      <td>1</td>\n",
       "      <td>-8437.673028</td>\n",
       "      <td>42</td>\n",
       "      <td>bachelor's degree</td>\n",
       "      <td>0</td>\n",
       "      <td>married</td>\n",
       "      <td>0</td>\n",
       "      <td>F</td>\n",
       "      <td>employee</td>\n",
       "      <td>0</td>\n",
       "      <td>40620.102</td>\n",
       "      <td>purchase of the house</td>\n",
       "    </tr>\n",
       "    <tr>\n",
       "      <td>1</td>\n",
       "      <td>1</td>\n",
       "      <td>-4024.803754</td>\n",
       "      <td>36</td>\n",
       "      <td>secondary education</td>\n",
       "      <td>1</td>\n",
       "      <td>married</td>\n",
       "      <td>0</td>\n",
       "      <td>F</td>\n",
       "      <td>employee</td>\n",
       "      <td>0</td>\n",
       "      <td>17932.802</td>\n",
       "      <td>car purchase</td>\n",
       "    </tr>\n",
       "    <tr>\n",
       "      <td>2</td>\n",
       "      <td>0</td>\n",
       "      <td>-5623.422610</td>\n",
       "      <td>33</td>\n",
       "      <td>Secondary Education</td>\n",
       "      <td>1</td>\n",
       "      <td>married</td>\n",
       "      <td>0</td>\n",
       "      <td>M</td>\n",
       "      <td>employee</td>\n",
       "      <td>0</td>\n",
       "      <td>23341.752</td>\n",
       "      <td>purchase of the house</td>\n",
       "    </tr>\n",
       "    <tr>\n",
       "      <td>3</td>\n",
       "      <td>3</td>\n",
       "      <td>-4124.747207</td>\n",
       "      <td>32</td>\n",
       "      <td>secondary education</td>\n",
       "      <td>1</td>\n",
       "      <td>married</td>\n",
       "      <td>0</td>\n",
       "      <td>M</td>\n",
       "      <td>employee</td>\n",
       "      <td>0</td>\n",
       "      <td>42820.568</td>\n",
       "      <td>supplementary education</td>\n",
       "    </tr>\n",
       "    <tr>\n",
       "      <td>4</td>\n",
       "      <td>0</td>\n",
       "      <td>340266.072047</td>\n",
       "      <td>53</td>\n",
       "      <td>secondary education</td>\n",
       "      <td>1</td>\n",
       "      <td>civil partnership</td>\n",
       "      <td>1</td>\n",
       "      <td>F</td>\n",
       "      <td>retiree</td>\n",
       "      <td>0</td>\n",
       "      <td>25378.572</td>\n",
       "      <td>to have a wedding</td>\n",
       "    </tr>\n",
       "    <tr>\n",
       "      <td>5</td>\n",
       "      <td>0</td>\n",
       "      <td>-926.185831</td>\n",
       "      <td>27</td>\n",
       "      <td>bachelor's degree</td>\n",
       "      <td>0</td>\n",
       "      <td>civil partnership</td>\n",
       "      <td>1</td>\n",
       "      <td>M</td>\n",
       "      <td>business</td>\n",
       "      <td>0</td>\n",
       "      <td>40922.170</td>\n",
       "      <td>purchase of the house</td>\n",
       "    </tr>\n",
       "    <tr>\n",
       "      <td>6</td>\n",
       "      <td>0</td>\n",
       "      <td>-2879.202052</td>\n",
       "      <td>43</td>\n",
       "      <td>bachelor's degree</td>\n",
       "      <td>0</td>\n",
       "      <td>married</td>\n",
       "      <td>0</td>\n",
       "      <td>F</td>\n",
       "      <td>business</td>\n",
       "      <td>0</td>\n",
       "      <td>38484.156</td>\n",
       "      <td>housing transactions</td>\n",
       "    </tr>\n",
       "    <tr>\n",
       "      <td>7</td>\n",
       "      <td>0</td>\n",
       "      <td>-152.779569</td>\n",
       "      <td>50</td>\n",
       "      <td>SECONDARY EDUCATION</td>\n",
       "      <td>1</td>\n",
       "      <td>married</td>\n",
       "      <td>0</td>\n",
       "      <td>M</td>\n",
       "      <td>employee</td>\n",
       "      <td>0</td>\n",
       "      <td>21731.829</td>\n",
       "      <td>education</td>\n",
       "    </tr>\n",
       "    <tr>\n",
       "      <td>8</td>\n",
       "      <td>2</td>\n",
       "      <td>-6929.865299</td>\n",
       "      <td>35</td>\n",
       "      <td>BACHELOR'S DEGREE</td>\n",
       "      <td>0</td>\n",
       "      <td>civil partnership</td>\n",
       "      <td>1</td>\n",
       "      <td>F</td>\n",
       "      <td>employee</td>\n",
       "      <td>0</td>\n",
       "      <td>15337.093</td>\n",
       "      <td>having a wedding</td>\n",
       "    </tr>\n",
       "    <tr>\n",
       "      <td>9</td>\n",
       "      <td>0</td>\n",
       "      <td>-2188.756445</td>\n",
       "      <td>41</td>\n",
       "      <td>secondary education</td>\n",
       "      <td>1</td>\n",
       "      <td>married</td>\n",
       "      <td>0</td>\n",
       "      <td>M</td>\n",
       "      <td>employee</td>\n",
       "      <td>0</td>\n",
       "      <td>23108.150</td>\n",
       "      <td>purchase of the house for my family</td>\n",
       "    </tr>\n",
       "  </tbody>\n",
       "</table>\n",
       "</div>"
      ],
      "text/plain": [
       "   children  days_employed  dob_years            education  education_id  \\\n",
       "0         1   -8437.673028         42    bachelor's degree             0   \n",
       "1         1   -4024.803754         36  secondary education             1   \n",
       "2         0   -5623.422610         33  Secondary Education             1   \n",
       "3         3   -4124.747207         32  secondary education             1   \n",
       "4         0  340266.072047         53  secondary education             1   \n",
       "5         0    -926.185831         27    bachelor's degree             0   \n",
       "6         0   -2879.202052         43    bachelor's degree             0   \n",
       "7         0    -152.779569         50  SECONDARY EDUCATION             1   \n",
       "8         2   -6929.865299         35    BACHELOR'S DEGREE             0   \n",
       "9         0   -2188.756445         41  secondary education             1   \n",
       "\n",
       "       family_status  family_status_id gender income_type  debt  total_income  \\\n",
       "0            married                 0      F    employee     0     40620.102   \n",
       "1            married                 0      F    employee     0     17932.802   \n",
       "2            married                 0      M    employee     0     23341.752   \n",
       "3            married                 0      M    employee     0     42820.568   \n",
       "4  civil partnership                 1      F     retiree     0     25378.572   \n",
       "5  civil partnership                 1      M    business     0     40922.170   \n",
       "6            married                 0      F    business     0     38484.156   \n",
       "7            married                 0      M    employee     0     21731.829   \n",
       "8  civil partnership                 1      F    employee     0     15337.093   \n",
       "9            married                 0      M    employee     0     23108.150   \n",
       "\n",
       "                               purpose  \n",
       "0                purchase of the house  \n",
       "1                         car purchase  \n",
       "2                purchase of the house  \n",
       "3              supplementary education  \n",
       "4                    to have a wedding  \n",
       "5                purchase of the house  \n",
       "6                 housing transactions  \n",
       "7                            education  \n",
       "8                     having a wedding  \n",
       "9  purchase of the house for my family  "
      ]
     },
     "execution_count": 3,
     "metadata": {},
     "output_type": "execute_result"
    }
   ],
   "source": [
    "# First 10 rows\n",
    "df.head(10)"
   ]
  },
  {
   "cell_type": "code",
   "execution_count": 4,
   "metadata": {
    "scrolled": true
   },
   "outputs": [
    {
     "name": "stdout",
     "output_type": "stream",
     "text": [
      "<class 'pandas.core.frame.DataFrame'>\n",
      "RangeIndex: 21525 entries, 0 to 21524\n",
      "Data columns (total 12 columns):\n",
      "children            21525 non-null int64\n",
      "days_employed       19351 non-null float64\n",
      "dob_years           21525 non-null int64\n",
      "education           21525 non-null object\n",
      "education_id        21525 non-null int64\n",
      "family_status       21525 non-null object\n",
      "family_status_id    21525 non-null int64\n",
      "gender              21525 non-null object\n",
      "income_type         21525 non-null object\n",
      "debt                21525 non-null int64\n",
      "total_income        19351 non-null float64\n",
      "purpose             21525 non-null object\n",
      "dtypes: float64(2), int64(5), object(5)\n",
      "memory usage: 2.0+ MB\n"
     ]
    }
   ],
   "source": [
    "# Get info on data\n",
    "df.info()"
   ]
  },
  {
   "cell_type": "code",
   "execution_count": 5,
   "metadata": {
    "scrolled": true
   },
   "outputs": [
    {
     "data": {
      "text/plain": [
       "children               0\n",
       "days_employed       2174\n",
       "dob_years              0\n",
       "education              0\n",
       "education_id           0\n",
       "family_status          0\n",
       "family_status_id       0\n",
       "gender                 0\n",
       "income_type            0\n",
       "debt                   0\n",
       "total_income        2174\n",
       "purpose                0\n",
       "dtype: int64"
      ]
     },
     "execution_count": 5,
     "metadata": {},
     "output_type": "execute_result"
    }
   ],
   "source": [
    "# Missing values on dataset\n",
    "df.isna().sum()"
   ]
  },
  {
   "cell_type": "code",
   "execution_count": 6,
   "metadata": {},
   "outputs": [
    {
     "data": {
      "text/plain": [
       "10.099883855981417"
      ]
     },
     "execution_count": 6,
     "metadata": {},
     "output_type": "execute_result"
    }
   ],
   "source": [
    "# Calculate percentage of missing values contained in the datasets.\n",
    "df['days_employed'].isna().sum()/len(df)*100"
   ]
  },
  {
   "cell_type": "code",
   "execution_count": 7,
   "metadata": {},
   "outputs": [
    {
     "data": {
      "text/html": [
       "<div>\n",
       "<style scoped>\n",
       "    .dataframe tbody tr th:only-of-type {\n",
       "        vertical-align: middle;\n",
       "    }\n",
       "\n",
       "    .dataframe tbody tr th {\n",
       "        vertical-align: top;\n",
       "    }\n",
       "\n",
       "    .dataframe thead th {\n",
       "        text-align: right;\n",
       "    }\n",
       "</style>\n",
       "<table border=\"1\" class=\"dataframe\">\n",
       "  <thead>\n",
       "    <tr style=\"text-align: right;\">\n",
       "      <th></th>\n",
       "      <th>children</th>\n",
       "      <th>days_employed</th>\n",
       "      <th>dob_years</th>\n",
       "      <th>education</th>\n",
       "      <th>education_id</th>\n",
       "      <th>family_status</th>\n",
       "      <th>family_status_id</th>\n",
       "      <th>gender</th>\n",
       "      <th>income_type</th>\n",
       "      <th>debt</th>\n",
       "      <th>total_income</th>\n",
       "      <th>purpose</th>\n",
       "    </tr>\n",
       "  </thead>\n",
       "  <tbody>\n",
       "    <tr>\n",
       "      <td>count</td>\n",
       "      <td>21525.000000</td>\n",
       "      <td>19351.000000</td>\n",
       "      <td>21525.000000</td>\n",
       "      <td>21525</td>\n",
       "      <td>21525.000000</td>\n",
       "      <td>21525</td>\n",
       "      <td>21525.000000</td>\n",
       "      <td>21525</td>\n",
       "      <td>21525</td>\n",
       "      <td>21525.000000</td>\n",
       "      <td>19351.000000</td>\n",
       "      <td>21525</td>\n",
       "    </tr>\n",
       "    <tr>\n",
       "      <td>unique</td>\n",
       "      <td>NaN</td>\n",
       "      <td>NaN</td>\n",
       "      <td>NaN</td>\n",
       "      <td>15</td>\n",
       "      <td>NaN</td>\n",
       "      <td>5</td>\n",
       "      <td>NaN</td>\n",
       "      <td>3</td>\n",
       "      <td>8</td>\n",
       "      <td>NaN</td>\n",
       "      <td>NaN</td>\n",
       "      <td>38</td>\n",
       "    </tr>\n",
       "    <tr>\n",
       "      <td>top</td>\n",
       "      <td>NaN</td>\n",
       "      <td>NaN</td>\n",
       "      <td>NaN</td>\n",
       "      <td>secondary education</td>\n",
       "      <td>NaN</td>\n",
       "      <td>married</td>\n",
       "      <td>NaN</td>\n",
       "      <td>F</td>\n",
       "      <td>employee</td>\n",
       "      <td>NaN</td>\n",
       "      <td>NaN</td>\n",
       "      <td>wedding ceremony</td>\n",
       "    </tr>\n",
       "    <tr>\n",
       "      <td>freq</td>\n",
       "      <td>NaN</td>\n",
       "      <td>NaN</td>\n",
       "      <td>NaN</td>\n",
       "      <td>13750</td>\n",
       "      <td>NaN</td>\n",
       "      <td>12380</td>\n",
       "      <td>NaN</td>\n",
       "      <td>14236</td>\n",
       "      <td>11119</td>\n",
       "      <td>NaN</td>\n",
       "      <td>NaN</td>\n",
       "      <td>797</td>\n",
       "    </tr>\n",
       "    <tr>\n",
       "      <td>mean</td>\n",
       "      <td>0.538908</td>\n",
       "      <td>63046.497661</td>\n",
       "      <td>43.293380</td>\n",
       "      <td>NaN</td>\n",
       "      <td>0.817236</td>\n",
       "      <td>NaN</td>\n",
       "      <td>0.972544</td>\n",
       "      <td>NaN</td>\n",
       "      <td>NaN</td>\n",
       "      <td>0.080883</td>\n",
       "      <td>26787.568355</td>\n",
       "      <td>NaN</td>\n",
       "    </tr>\n",
       "    <tr>\n",
       "      <td>std</td>\n",
       "      <td>1.381587</td>\n",
       "      <td>140827.311974</td>\n",
       "      <td>12.574584</td>\n",
       "      <td>NaN</td>\n",
       "      <td>0.548138</td>\n",
       "      <td>NaN</td>\n",
       "      <td>1.420324</td>\n",
       "      <td>NaN</td>\n",
       "      <td>NaN</td>\n",
       "      <td>0.272661</td>\n",
       "      <td>16475.450632</td>\n",
       "      <td>NaN</td>\n",
       "    </tr>\n",
       "    <tr>\n",
       "      <td>min</td>\n",
       "      <td>-1.000000</td>\n",
       "      <td>-18388.949901</td>\n",
       "      <td>0.000000</td>\n",
       "      <td>NaN</td>\n",
       "      <td>0.000000</td>\n",
       "      <td>NaN</td>\n",
       "      <td>0.000000</td>\n",
       "      <td>NaN</td>\n",
       "      <td>NaN</td>\n",
       "      <td>0.000000</td>\n",
       "      <td>3306.762000</td>\n",
       "      <td>NaN</td>\n",
       "    </tr>\n",
       "    <tr>\n",
       "      <td>25%</td>\n",
       "      <td>0.000000</td>\n",
       "      <td>-2747.423625</td>\n",
       "      <td>33.000000</td>\n",
       "      <td>NaN</td>\n",
       "      <td>1.000000</td>\n",
       "      <td>NaN</td>\n",
       "      <td>0.000000</td>\n",
       "      <td>NaN</td>\n",
       "      <td>NaN</td>\n",
       "      <td>0.000000</td>\n",
       "      <td>16488.504500</td>\n",
       "      <td>NaN</td>\n",
       "    </tr>\n",
       "    <tr>\n",
       "      <td>50%</td>\n",
       "      <td>0.000000</td>\n",
       "      <td>-1203.369529</td>\n",
       "      <td>42.000000</td>\n",
       "      <td>NaN</td>\n",
       "      <td>1.000000</td>\n",
       "      <td>NaN</td>\n",
       "      <td>0.000000</td>\n",
       "      <td>NaN</td>\n",
       "      <td>NaN</td>\n",
       "      <td>0.000000</td>\n",
       "      <td>23202.870000</td>\n",
       "      <td>NaN</td>\n",
       "    </tr>\n",
       "    <tr>\n",
       "      <td>75%</td>\n",
       "      <td>1.000000</td>\n",
       "      <td>-291.095954</td>\n",
       "      <td>53.000000</td>\n",
       "      <td>NaN</td>\n",
       "      <td>1.000000</td>\n",
       "      <td>NaN</td>\n",
       "      <td>1.000000</td>\n",
       "      <td>NaN</td>\n",
       "      <td>NaN</td>\n",
       "      <td>0.000000</td>\n",
       "      <td>32549.611000</td>\n",
       "      <td>NaN</td>\n",
       "    </tr>\n",
       "    <tr>\n",
       "      <td>max</td>\n",
       "      <td>20.000000</td>\n",
       "      <td>401755.400475</td>\n",
       "      <td>75.000000</td>\n",
       "      <td>NaN</td>\n",
       "      <td>4.000000</td>\n",
       "      <td>NaN</td>\n",
       "      <td>4.000000</td>\n",
       "      <td>NaN</td>\n",
       "      <td>NaN</td>\n",
       "      <td>1.000000</td>\n",
       "      <td>362496.645000</td>\n",
       "      <td>NaN</td>\n",
       "    </tr>\n",
       "  </tbody>\n",
       "</table>\n",
       "</div>"
      ],
      "text/plain": [
       "            children  days_employed     dob_years            education  \\\n",
       "count   21525.000000   19351.000000  21525.000000                21525   \n",
       "unique           NaN            NaN           NaN                   15   \n",
       "top              NaN            NaN           NaN  secondary education   \n",
       "freq             NaN            NaN           NaN                13750   \n",
       "mean        0.538908   63046.497661     43.293380                  NaN   \n",
       "std         1.381587  140827.311974     12.574584                  NaN   \n",
       "min        -1.000000  -18388.949901      0.000000                  NaN   \n",
       "25%         0.000000   -2747.423625     33.000000                  NaN   \n",
       "50%         0.000000   -1203.369529     42.000000                  NaN   \n",
       "75%         1.000000    -291.095954     53.000000                  NaN   \n",
       "max        20.000000  401755.400475     75.000000                  NaN   \n",
       "\n",
       "        education_id family_status  family_status_id gender income_type  \\\n",
       "count   21525.000000         21525      21525.000000  21525       21525   \n",
       "unique           NaN             5               NaN      3           8   \n",
       "top              NaN       married               NaN      F    employee   \n",
       "freq             NaN         12380               NaN  14236       11119   \n",
       "mean        0.817236           NaN          0.972544    NaN         NaN   \n",
       "std         0.548138           NaN          1.420324    NaN         NaN   \n",
       "min         0.000000           NaN          0.000000    NaN         NaN   \n",
       "25%         1.000000           NaN          0.000000    NaN         NaN   \n",
       "50%         1.000000           NaN          0.000000    NaN         NaN   \n",
       "75%         1.000000           NaN          1.000000    NaN         NaN   \n",
       "max         4.000000           NaN          4.000000    NaN         NaN   \n",
       "\n",
       "                debt   total_income           purpose  \n",
       "count   21525.000000   19351.000000             21525  \n",
       "unique           NaN            NaN                38  \n",
       "top              NaN            NaN  wedding ceremony  \n",
       "freq             NaN            NaN               797  \n",
       "mean        0.080883   26787.568355               NaN  \n",
       "std         0.272661   16475.450632               NaN  \n",
       "min         0.000000    3306.762000               NaN  \n",
       "25%         0.000000   16488.504500               NaN  \n",
       "50%         0.000000   23202.870000               NaN  \n",
       "75%         0.000000   32549.611000               NaN  \n",
       "max         1.000000  362496.645000               NaN  "
      ]
     },
     "execution_count": 7,
     "metadata": {},
     "output_type": "execute_result"
    }
   ],
   "source": [
    "# Checking distribution \n",
    "df.describe(include='all')"
   ]
  },
  {
   "cell_type": "code",
   "execution_count": 8,
   "metadata": {
    "scrolled": true
   },
   "outputs": [
    {
     "data": {
      "text/html": [
       "<div>\n",
       "<style scoped>\n",
       "    .dataframe tbody tr th:only-of-type {\n",
       "        vertical-align: middle;\n",
       "    }\n",
       "\n",
       "    .dataframe tbody tr th {\n",
       "        vertical-align: top;\n",
       "    }\n",
       "\n",
       "    .dataframe thead th {\n",
       "        text-align: right;\n",
       "    }\n",
       "</style>\n",
       "<table border=\"1\" class=\"dataframe\">\n",
       "  <thead>\n",
       "    <tr style=\"text-align: right;\">\n",
       "      <th></th>\n",
       "      <th>days_employed</th>\n",
       "      <th>total_income</th>\n",
       "    </tr>\n",
       "  </thead>\n",
       "  <tbody>\n",
       "    <tr>\n",
       "      <td>12</td>\n",
       "      <td>NaN</td>\n",
       "      <td>NaN</td>\n",
       "    </tr>\n",
       "    <tr>\n",
       "      <td>26</td>\n",
       "      <td>NaN</td>\n",
       "      <td>NaN</td>\n",
       "    </tr>\n",
       "    <tr>\n",
       "      <td>29</td>\n",
       "      <td>NaN</td>\n",
       "      <td>NaN</td>\n",
       "    </tr>\n",
       "    <tr>\n",
       "      <td>41</td>\n",
       "      <td>NaN</td>\n",
       "      <td>NaN</td>\n",
       "    </tr>\n",
       "    <tr>\n",
       "      <td>55</td>\n",
       "      <td>NaN</td>\n",
       "      <td>NaN</td>\n",
       "    </tr>\n",
       "  </tbody>\n",
       "</table>\n",
       "</div>"
      ],
      "text/plain": [
       "    days_employed  total_income\n",
       "12            NaN           NaN\n",
       "26            NaN           NaN\n",
       "29            NaN           NaN\n",
       "41            NaN           NaN\n",
       "55            NaN           NaN"
      ]
     },
     "execution_count": 8,
     "metadata": {},
     "output_type": "execute_result"
    }
   ],
   "source": [
    "# Verify if the missing values in column days_employed and total_income are exactly the same\n",
    "null_value = df[df.isnull().any(axis=1)]\n",
    "null_value[['days_employed','total_income']].head()"
   ]
  },
  {
   "cell_type": "markdown",
   "metadata": {},
   "source": [
    "**Initialization**\n",
    "  \n",
    "- 2174 missing values on both `days_employed` and `total_income` columns. \n",
    "- `days_employed` data showed negative values and should be better represented with integer data type instead. \n",
    "- `total_income` datatype could be represented in integer as well or values without decimals. \n",
    "\n",
    "Since missing values seems significant. It is approximately 10% of the whole data set. \n",
    "Possible wrong data entered on `days_employed` column and customer might choose to not share their `total_income` data due to privacy concern during the data collection. \n",
    "The missing values on `days_employed` column matched exactly to `total_income` column. Customers who are unemployed are not comfortable sharing their income information. "
   ]
  },
  {
   "cell_type": "markdown",
   "metadata": {},
   "source": [
    "## Data transformation"
   ]
  },
  {
   "cell_type": "code",
   "execution_count": 9,
   "metadata": {},
   "outputs": [
    {
     "data": {
      "text/plain": [
       "secondary education    13750\n",
       "bachelor's degree       4718\n",
       "SECONDARY EDUCATION      772\n",
       "Secondary Education      711\n",
       "some college             668\n",
       "BACHELOR'S DEGREE        274\n",
       "Bachelor's Degree        268\n",
       "primary education        250\n",
       "Some College              47\n",
       "SOME COLLEGE              29\n",
       "PRIMARY EDUCATION         17\n",
       "Primary Education         15\n",
       "graduate degree            4\n",
       "GRADUATE DEGREE            1\n",
       "Graduate Degree            1\n",
       "Name: education, dtype: int64"
      ]
     },
     "execution_count": 9,
     "metadata": {},
     "output_type": "execute_result"
    }
   ],
   "source": [
    "# Verify all the values in education columns\n",
    "df['education'].value_counts()"
   ]
  },
  {
   "cell_type": "code",
   "execution_count": 10,
   "metadata": {},
   "outputs": [],
   "source": [
    "# Make data lower case\n",
    "df['education']=df['education'].str.lower()"
   ]
  },
  {
   "cell_type": "code",
   "execution_count": 11,
   "metadata": {
    "scrolled": true
   },
   "outputs": [
    {
     "data": {
      "text/plain": [
       "secondary education    15233\n",
       "bachelor's degree       5260\n",
       "some college             744\n",
       "primary education        282\n",
       "graduate degree            6\n",
       "Name: education, dtype: int64"
      ]
     },
     "execution_count": 11,
     "metadata": {},
     "output_type": "execute_result"
    }
   ],
   "source": [
    "# Recheck all the values in the column\n",
    "df['education'].value_counts()"
   ]
  },
  {
   "cell_type": "code",
   "execution_count": 12,
   "metadata": {},
   "outputs": [
    {
     "data": {
      "text/plain": [
       " 0     14149\n",
       " 1      4818\n",
       " 2      2055\n",
       " 3       330\n",
       " 20       76\n",
       "-1        47\n",
       " 4        41\n",
       " 5         9\n",
       "Name: children, dtype: int64"
      ]
     },
     "execution_count": 12,
     "metadata": {},
     "output_type": "execute_result"
    }
   ],
   "source": [
    "# Children's column\n",
    "df['children'].value_counts()"
   ]
  },
  {
   "cell_type": "markdown",
   "metadata": {},
   "source": [
    "- Possible error on counts with 20 on `children`.\n",
    "- Negative value on `children` seems incorrect as well"
   ]
  },
  {
   "cell_type": "code",
   "execution_count": 13,
   "metadata": {},
   "outputs": [
    {
     "name": "stdout",
     "output_type": "stream",
     "text": [
      "0.2183507549361208\n"
     ]
    }
   ],
   "source": [
    "# percent of children with -1 value in data sets\n",
    "print(len(df[df['children']<0])/(df['children'].count())*100)"
   ]
  },
  {
   "cell_type": "code",
   "execution_count": 14,
   "metadata": {},
   "outputs": [
    {
     "name": "stdout",
     "output_type": "stream",
     "text": [
      "0.3530778164924506\n"
     ]
    }
   ],
   "source": [
    "# percent of 20 children within the data sets\n",
    "print(len(df[df['children']==20])/(df['children'].count())*100)"
   ]
  },
  {
   "cell_type": "code",
   "execution_count": 15,
   "metadata": {},
   "outputs": [],
   "source": [
    "# replace negative value (-1) to 1\n",
    "df.loc[df['children']<0,'children']=1"
   ]
  },
  {
   "cell_type": "code",
   "execution_count": 16,
   "metadata": {},
   "outputs": [],
   "source": [
    "# dropping rows with value of 20 children\n",
    "df.drop(index=df[df['children']==20].index,inplace=True)"
   ]
  },
  {
   "cell_type": "code",
   "execution_count": 17,
   "metadata": {},
   "outputs": [
    {
     "data": {
      "text/plain": [
       "0    14149\n",
       "1     4865\n",
       "2     2055\n",
       "3      330\n",
       "4       41\n",
       "5        9\n",
       "Name: children, dtype: int64"
      ]
     },
     "execution_count": 17,
     "metadata": {},
     "output_type": "execute_result"
    }
   ],
   "source": [
    "# Checking the `children` column again to make sure it's all fixed\n",
    "df['children'].value_counts()"
   ]
  },
  {
   "cell_type": "markdown",
   "metadata": {},
   "source": [
    "Data errors of `children` seem very small which are only 0.2% and 0.35% of the datasets. The errors had been fixed by replacing the -1 to 1 and dropping the entire row of data with `children == 20` "
   ]
  },
  {
   "cell_type": "code",
   "execution_count": 18,
   "metadata": {},
   "outputs": [
    {
     "data": {
      "text/plain": [
       "False    19284\n",
       "True      2165\n",
       "Name: days_employed, dtype: int64"
      ]
     },
     "execution_count": 18,
     "metadata": {},
     "output_type": "execute_result"
    }
   ],
   "source": [
    "# Find missing values days_employed\n",
    "df['days_employed'].isna().value_counts()"
   ]
  },
  {
   "cell_type": "code",
   "execution_count": 19,
   "metadata": {
    "scrolled": true
   },
   "outputs": [
    {
     "data": {
      "text/plain": [
       "10.093710662501747"
      ]
     },
     "execution_count": 19,
     "metadata": {},
     "output_type": "execute_result"
    }
   ],
   "source": [
    "# Address the problematic values, if they exist\n",
    "df['days_employed'].isna().sum()/len(df)*100"
   ]
  },
  {
   "cell_type": "code",
   "execution_count": 20,
   "metadata": {},
   "outputs": [
    {
     "data": {
      "text/plain": [
       "array([42, 36, 33, 32, 53, 27, 43, 50, 35, 41, 40, 65, 54, 56, 26, 48, 24,\n",
       "       21, 57, 67, 28, 63, 62, 47, 34, 68, 25, 31, 30, 20, 49, 37, 45, 61,\n",
       "       64, 44, 52, 46, 23, 38, 39, 51,  0, 59, 29, 60, 55, 58, 71, 22, 73,\n",
       "       66, 69, 19, 72, 70, 74, 75])"
      ]
     },
     "execution_count": 20,
     "metadata": {},
     "output_type": "execute_result"
    }
   ],
   "source": [
    "#check unique value of dob_years\n",
    "df['dob_years'].unique()"
   ]
  },
  {
   "cell_type": "code",
   "execution_count": 21,
   "metadata": {},
   "outputs": [
    {
     "data": {
      "text/plain": [
       "0.055946664180148264"
      ]
     },
     "execution_count": 21,
     "metadata": {},
     "output_type": "execute_result"
    }
   ],
   "source": [
    "# Check the `dob_years` for suspicious values and count the percentage\n",
    "(len(df[df['dob_years']==0].count()))/len(df)*100"
   ]
  },
  {
   "cell_type": "code",
   "execution_count": 22,
   "metadata": {},
   "outputs": [],
   "source": [
    "# Address the issues in the `dob_years` column, if they exist\n",
    "df.drop(index=df[df['dob_years']<1].index,inplace=True)"
   ]
  },
  {
   "cell_type": "code",
   "execution_count": 23,
   "metadata": {},
   "outputs": [
    {
     "data": {
      "text/plain": [
       "array([42, 36, 33, 32, 53, 27, 43, 50, 35, 41, 40, 65, 54, 56, 26, 48, 24,\n",
       "       21, 57, 67, 28, 63, 62, 47, 34, 68, 25, 31, 30, 20, 49, 37, 45, 61,\n",
       "       64, 44, 52, 46, 23, 38, 39, 51, 59, 29, 60, 55, 58, 71, 22, 73, 66,\n",
       "       69, 19, 72, 70, 74, 75])"
      ]
     },
     "execution_count": 23,
     "metadata": {},
     "output_type": "execute_result"
    }
   ],
   "source": [
    "# Check the result - make sure it's fixed\n",
    "df['dob_years'].unique()"
   ]
  },
  {
   "cell_type": "markdown",
   "metadata": {},
   "source": [
    "Age 0 seems like an error in the dataset. Dropping those rows won't affect the dataframe much because the error only represent approximately 0.05% of the whole dataframe. Dropping row of `dob_years` with 0."
   ]
  },
  {
   "cell_type": "code",
   "execution_count": 24,
   "metadata": {},
   "outputs": [
    {
     "data": {
      "text/plain": [
       "married              12283\n",
       "civil partnership     4144\n",
       "unmarried             2788\n",
       "divorced              1183\n",
       "widow / widower        951\n",
       "Name: family_status, dtype: int64"
      ]
     },
     "execution_count": 24,
     "metadata": {},
     "output_type": "execute_result"
    }
   ],
   "source": [
    "# Family_status values\n",
    "df['family_status'].value_counts()"
   ]
  },
  {
   "cell_type": "markdown",
   "metadata": {},
   "source": [
    "`Unmarried` sounds similar to married, replacing with `single` for better and easier interpretation."
   ]
  },
  {
   "cell_type": "code",
   "execution_count": 25,
   "metadata": {},
   "outputs": [],
   "source": [
    "# Replace unmarried to single\n",
    "df['family_status']=df['family_status'].replace('unmarried','single')"
   ]
  },
  {
   "cell_type": "code",
   "execution_count": 26,
   "metadata": {},
   "outputs": [
    {
     "data": {
      "text/plain": [
       "married              12283\n",
       "civil partnership     4144\n",
       "single                2788\n",
       "divorced              1183\n",
       "widow / widower        951\n",
       "Name: family_status, dtype: int64"
      ]
     },
     "execution_count": 26,
     "metadata": {},
     "output_type": "execute_result"
    }
   ],
   "source": [
    "# Check the result - make sure it's fixed\n",
    "df['family_status'].value_counts()"
   ]
  },
  {
   "cell_type": "code",
   "execution_count": 27,
   "metadata": {},
   "outputs": [
    {
     "data": {
      "text/plain": [
       "F      14118\n",
       "M       7230\n",
       "XNA        1\n",
       "Name: gender, dtype: int64"
      ]
     },
     "execution_count": 27,
     "metadata": {},
     "output_type": "execute_result"
    }
   ],
   "source": [
    "# Gender values\n",
    "df['gender'].value_counts()"
   ]
  },
  {
   "cell_type": "code",
   "execution_count": 28,
   "metadata": {},
   "outputs": [],
   "source": [
    "#replace XNA gender with common gender\n",
    "df['gender']=df['gender'].replace('XNA','F')"
   ]
  },
  {
   "cell_type": "code",
   "execution_count": 29,
   "metadata": {},
   "outputs": [
    {
     "data": {
      "text/plain": [
       "F    14119\n",
       "M     7230\n",
       "Name: gender, dtype: int64"
      ]
     },
     "execution_count": 29,
     "metadata": {},
     "output_type": "execute_result"
    }
   ],
   "source": [
    "# Check the result - make sure it's fixed\n",
    "df['gender'].value_counts()"
   ]
  },
  {
   "cell_type": "markdown",
   "metadata": {},
   "source": [
    "`XNA` data in `gender` column seems like an unknown value. Luckily, there is only one XNA value in the gender column, replacing it with the more common gender from the dataset which is `F`. "
   ]
  },
  {
   "cell_type": "code",
   "execution_count": 30,
   "metadata": {},
   "outputs": [
    {
     "data": {
      "text/plain": [
       "employee                       11022\n",
       "business                        5043\n",
       "retiree                         3827\n",
       "civil servant                   1451\n",
       "entrepreneur                       2\n",
       "unemployed                         2\n",
       "paternity / maternity leave        1\n",
       "student                            1\n",
       "Name: income_type, dtype: int64"
      ]
     },
     "execution_count": 30,
     "metadata": {},
     "output_type": "execute_result"
    }
   ],
   "source": [
    "# Let's see the values in the column\n",
    "df['income_type'].value_counts()"
   ]
  },
  {
   "cell_type": "code",
   "execution_count": 31,
   "metadata": {},
   "outputs": [
    {
     "data": {
      "text/plain": [
       "False    21278\n",
       "True        71\n",
       "dtype: int64"
      ]
     },
     "execution_count": 31,
     "metadata": {},
     "output_type": "execute_result"
    }
   ],
   "source": [
    "# Checking duplicates on whole datasets\n",
    "df.duplicated().value_counts()"
   ]
  },
  {
   "cell_type": "code",
   "execution_count": 32,
   "metadata": {},
   "outputs": [],
   "source": [
    "# Address the duplicates, if they exist\n",
    "df = df.drop_duplicates().reset_index(drop=True)"
   ]
  },
  {
   "cell_type": "code",
   "execution_count": 33,
   "metadata": {},
   "outputs": [
    {
     "data": {
      "text/plain": [
       "False    21278\n",
       "dtype: int64"
      ]
     },
     "execution_count": 33,
     "metadata": {},
     "output_type": "execute_result"
    }
   ],
   "source": [
    "# Last check whether we have any duplicates\n",
    "df.duplicated().value_counts()"
   ]
  },
  {
   "cell_type": "code",
   "execution_count": 34,
   "metadata": {},
   "outputs": [
    {
     "data": {
      "text/plain": [
       "(21278, 12)"
      ]
     },
     "execution_count": 34,
     "metadata": {},
     "output_type": "execute_result"
    }
   ],
   "source": [
    "# Check the size of the dataset that you now have after your first manipulations with it\n",
    "df.shape"
   ]
  },
  {
   "cell_type": "markdown",
   "metadata": {},
   "source": [
    "There were originally 21525 rows of data, all columns now down to 21278 rows after data handling."
   ]
  },
  {
   "cell_type": "markdown",
   "metadata": {},
   "source": [
    "# Working with missing values"
   ]
  },
  {
   "cell_type": "code",
   "execution_count": 35,
   "metadata": {},
   "outputs": [
    {
     "data": {
      "text/plain": [
       "False    19194\n",
       "True      2084\n",
       "Name: total_income, dtype: int64"
      ]
     },
     "execution_count": 35,
     "metadata": {},
     "output_type": "execute_result"
    }
   ],
   "source": [
    "# Counts of missing value in total_income\n",
    "df['total_income'].isna().value_counts()"
   ]
  },
  {
   "cell_type": "markdown",
   "metadata": {},
   "source": [
    "### Restoring missing values in `total_income`"
   ]
  },
  {
   "cell_type": "code",
   "execution_count": 36,
   "metadata": {},
   "outputs": [
    {
     "data": {
      "text/plain": [
       "count     19194.000000\n",
       "mean      26794.003801\n",
       "std       16504.921426\n",
       "min        3306.762000\n",
       "25%       16493.600500\n",
       "50%       23203.328000\n",
       "75%       32535.277250\n",
       "max      362496.645000\n",
       "Name: total_income, dtype: float64"
      ]
     },
     "execution_count": 36,
     "metadata": {},
     "output_type": "execute_result"
    }
   ],
   "source": [
    "# Describe total_income column\n",
    "df['total_income'].describe()"
   ]
  },
  {
   "cell_type": "code",
   "execution_count": 37,
   "metadata": {},
   "outputs": [
    {
     "data": {
      "text/html": [
       "<div>\n",
       "<style scoped>\n",
       "    .dataframe tbody tr th:only-of-type {\n",
       "        vertical-align: middle;\n",
       "    }\n",
       "\n",
       "    .dataframe tbody tr th {\n",
       "        vertical-align: top;\n",
       "    }\n",
       "\n",
       "    .dataframe thead th {\n",
       "        text-align: right;\n",
       "    }\n",
       "</style>\n",
       "<table border=\"1\" class=\"dataframe\">\n",
       "  <thead>\n",
       "    <tr style=\"text-align: right;\">\n",
       "      <th></th>\n",
       "      <th>children</th>\n",
       "      <th>days_employed</th>\n",
       "      <th>dob_years</th>\n",
       "      <th>education</th>\n",
       "      <th>education_id</th>\n",
       "      <th>family_status</th>\n",
       "      <th>family_status_id</th>\n",
       "      <th>gender</th>\n",
       "      <th>income_type</th>\n",
       "      <th>debt</th>\n",
       "      <th>total_income</th>\n",
       "      <th>purpose</th>\n",
       "    </tr>\n",
       "  </thead>\n",
       "  <tbody>\n",
       "    <tr>\n",
       "      <td>0</td>\n",
       "      <td>1</td>\n",
       "      <td>-8437.673028</td>\n",
       "      <td>42</td>\n",
       "      <td>bachelor's degree</td>\n",
       "      <td>0</td>\n",
       "      <td>married</td>\n",
       "      <td>0</td>\n",
       "      <td>F</td>\n",
       "      <td>employee</td>\n",
       "      <td>0</td>\n",
       "      <td>40620.102</td>\n",
       "      <td>purchase of the house</td>\n",
       "    </tr>\n",
       "    <tr>\n",
       "      <td>1</td>\n",
       "      <td>1</td>\n",
       "      <td>-4024.803754</td>\n",
       "      <td>36</td>\n",
       "      <td>secondary education</td>\n",
       "      <td>1</td>\n",
       "      <td>married</td>\n",
       "      <td>0</td>\n",
       "      <td>F</td>\n",
       "      <td>employee</td>\n",
       "      <td>0</td>\n",
       "      <td>17932.802</td>\n",
       "      <td>car purchase</td>\n",
       "    </tr>\n",
       "    <tr>\n",
       "      <td>2</td>\n",
       "      <td>0</td>\n",
       "      <td>-5623.422610</td>\n",
       "      <td>33</td>\n",
       "      <td>secondary education</td>\n",
       "      <td>1</td>\n",
       "      <td>married</td>\n",
       "      <td>0</td>\n",
       "      <td>M</td>\n",
       "      <td>employee</td>\n",
       "      <td>0</td>\n",
       "      <td>23341.752</td>\n",
       "      <td>purchase of the house</td>\n",
       "    </tr>\n",
       "    <tr>\n",
       "      <td>3</td>\n",
       "      <td>3</td>\n",
       "      <td>-4124.747207</td>\n",
       "      <td>32</td>\n",
       "      <td>secondary education</td>\n",
       "      <td>1</td>\n",
       "      <td>married</td>\n",
       "      <td>0</td>\n",
       "      <td>M</td>\n",
       "      <td>employee</td>\n",
       "      <td>0</td>\n",
       "      <td>42820.568</td>\n",
       "      <td>supplementary education</td>\n",
       "    </tr>\n",
       "    <tr>\n",
       "      <td>4</td>\n",
       "      <td>0</td>\n",
       "      <td>340266.072047</td>\n",
       "      <td>53</td>\n",
       "      <td>secondary education</td>\n",
       "      <td>1</td>\n",
       "      <td>civil partnership</td>\n",
       "      <td>1</td>\n",
       "      <td>F</td>\n",
       "      <td>retiree</td>\n",
       "      <td>0</td>\n",
       "      <td>25378.572</td>\n",
       "      <td>to have a wedding</td>\n",
       "    </tr>\n",
       "    <tr>\n",
       "      <td>5</td>\n",
       "      <td>0</td>\n",
       "      <td>-926.185831</td>\n",
       "      <td>27</td>\n",
       "      <td>bachelor's degree</td>\n",
       "      <td>0</td>\n",
       "      <td>civil partnership</td>\n",
       "      <td>1</td>\n",
       "      <td>M</td>\n",
       "      <td>business</td>\n",
       "      <td>0</td>\n",
       "      <td>40922.170</td>\n",
       "      <td>purchase of the house</td>\n",
       "    </tr>\n",
       "    <tr>\n",
       "      <td>6</td>\n",
       "      <td>0</td>\n",
       "      <td>-2879.202052</td>\n",
       "      <td>43</td>\n",
       "      <td>bachelor's degree</td>\n",
       "      <td>0</td>\n",
       "      <td>married</td>\n",
       "      <td>0</td>\n",
       "      <td>F</td>\n",
       "      <td>business</td>\n",
       "      <td>0</td>\n",
       "      <td>38484.156</td>\n",
       "      <td>housing transactions</td>\n",
       "    </tr>\n",
       "    <tr>\n",
       "      <td>7</td>\n",
       "      <td>0</td>\n",
       "      <td>-152.779569</td>\n",
       "      <td>50</td>\n",
       "      <td>secondary education</td>\n",
       "      <td>1</td>\n",
       "      <td>married</td>\n",
       "      <td>0</td>\n",
       "      <td>M</td>\n",
       "      <td>employee</td>\n",
       "      <td>0</td>\n",
       "      <td>21731.829</td>\n",
       "      <td>education</td>\n",
       "    </tr>\n",
       "    <tr>\n",
       "      <td>8</td>\n",
       "      <td>2</td>\n",
       "      <td>-6929.865299</td>\n",
       "      <td>35</td>\n",
       "      <td>bachelor's degree</td>\n",
       "      <td>0</td>\n",
       "      <td>civil partnership</td>\n",
       "      <td>1</td>\n",
       "      <td>F</td>\n",
       "      <td>employee</td>\n",
       "      <td>0</td>\n",
       "      <td>15337.093</td>\n",
       "      <td>having a wedding</td>\n",
       "    </tr>\n",
       "    <tr>\n",
       "      <td>9</td>\n",
       "      <td>0</td>\n",
       "      <td>-2188.756445</td>\n",
       "      <td>41</td>\n",
       "      <td>secondary education</td>\n",
       "      <td>1</td>\n",
       "      <td>married</td>\n",
       "      <td>0</td>\n",
       "      <td>M</td>\n",
       "      <td>employee</td>\n",
       "      <td>0</td>\n",
       "      <td>23108.150</td>\n",
       "      <td>purchase of the house for my family</td>\n",
       "    </tr>\n",
       "  </tbody>\n",
       "</table>\n",
       "</div>"
      ],
      "text/plain": [
       "   children  days_employed  dob_years            education  education_id  \\\n",
       "0         1   -8437.673028         42    bachelor's degree             0   \n",
       "1         1   -4024.803754         36  secondary education             1   \n",
       "2         0   -5623.422610         33  secondary education             1   \n",
       "3         3   -4124.747207         32  secondary education             1   \n",
       "4         0  340266.072047         53  secondary education             1   \n",
       "5         0    -926.185831         27    bachelor's degree             0   \n",
       "6         0   -2879.202052         43    bachelor's degree             0   \n",
       "7         0    -152.779569         50  secondary education             1   \n",
       "8         2   -6929.865299         35    bachelor's degree             0   \n",
       "9         0   -2188.756445         41  secondary education             1   \n",
       "\n",
       "       family_status  family_status_id gender income_type  debt  total_income  \\\n",
       "0            married                 0      F    employee     0     40620.102   \n",
       "1            married                 0      F    employee     0     17932.802   \n",
       "2            married                 0      M    employee     0     23341.752   \n",
       "3            married                 0      M    employee     0     42820.568   \n",
       "4  civil partnership                 1      F     retiree     0     25378.572   \n",
       "5  civil partnership                 1      M    business     0     40922.170   \n",
       "6            married                 0      F    business     0     38484.156   \n",
       "7            married                 0      M    employee     0     21731.829   \n",
       "8  civil partnership                 1      F    employee     0     15337.093   \n",
       "9            married                 0      M    employee     0     23108.150   \n",
       "\n",
       "                               purpose  \n",
       "0                purchase of the house  \n",
       "1                         car purchase  \n",
       "2                purchase of the house  \n",
       "3              supplementary education  \n",
       "4                    to have a wedding  \n",
       "5                purchase of the house  \n",
       "6                 housing transactions  \n",
       "7                            education  \n",
       "8                     having a wedding  \n",
       "9  purchase of the house for my family  "
      ]
     },
     "execution_count": 37,
     "metadata": {},
     "output_type": "execute_result"
    }
   ],
   "source": [
    "# Create a table without missing values\n",
    "income_data = df[df['total_income'].isnull()==False]\n",
    "income_data.head(10)"
   ]
  },
  {
   "cell_type": "code",
   "execution_count": 38,
   "metadata": {},
   "outputs": [
    {
     "data": {
      "text/plain": [
       "count     19194.000000\n",
       "mean      26794.003801\n",
       "std       16504.921426\n",
       "min        3306.762000\n",
       "25%       16493.600500\n",
       "50%       23203.328000\n",
       "75%       32535.277250\n",
       "max      362496.645000\n",
       "Name: total_income, dtype: float64"
      ]
     },
     "execution_count": 38,
     "metadata": {},
     "output_type": "execute_result"
    }
   ],
   "source": [
    "# Look at the mean and median values for income based on your identified factors\n",
    "income_data['total_income'].describe()"
   ]
  },
  {
   "cell_type": "code",
   "execution_count": 39,
   "metadata": {},
   "outputs": [
    {
     "data": {
      "text/plain": [
       "low income       14569\n",
       "middle income     4576\n",
       "upper income        49\n",
       "Name: total_income, dtype: int64"
      ]
     },
     "execution_count": 39,
     "metadata": {},
     "output_type": "execute_result"
    }
   ],
   "source": [
    "# Group income_data\n",
    "def df_income_group(income):\n",
    "    if income < 33000:\n",
    "        return 'low income'\n",
    "    elif income < 120000:\n",
    "        return 'middle income'\n",
    "    else:\n",
    "        return 'upper income'\n",
    "# Test function\n",
    "income_data['total_income'].apply(df_income_group).value_counts()"
   ]
  },
  {
   "cell_type": "code",
   "execution_count": 40,
   "metadata": {},
   "outputs": [
    {
     "data": {
      "text/html": [
       "<div>\n",
       "<style scoped>\n",
       "    .dataframe tbody tr th:only-of-type {\n",
       "        vertical-align: middle;\n",
       "    }\n",
       "\n",
       "    .dataframe tbody tr th {\n",
       "        vertical-align: top;\n",
       "    }\n",
       "\n",
       "    .dataframe thead th {\n",
       "        text-align: right;\n",
       "    }\n",
       "</style>\n",
       "<table border=\"1\" class=\"dataframe\">\n",
       "  <thead>\n",
       "    <tr style=\"text-align: right;\">\n",
       "      <th></th>\n",
       "      <th>children</th>\n",
       "      <th>days_employed</th>\n",
       "      <th>dob_years</th>\n",
       "      <th>education</th>\n",
       "      <th>education_id</th>\n",
       "      <th>family_status</th>\n",
       "      <th>family_status_id</th>\n",
       "      <th>gender</th>\n",
       "      <th>income_type</th>\n",
       "      <th>debt</th>\n",
       "      <th>total_income</th>\n",
       "      <th>purpose</th>\n",
       "      <th>group_income</th>\n",
       "    </tr>\n",
       "  </thead>\n",
       "  <tbody>\n",
       "    <tr>\n",
       "      <td>0</td>\n",
       "      <td>1</td>\n",
       "      <td>-8437.673028</td>\n",
       "      <td>42</td>\n",
       "      <td>bachelor's degree</td>\n",
       "      <td>0</td>\n",
       "      <td>married</td>\n",
       "      <td>0</td>\n",
       "      <td>F</td>\n",
       "      <td>employee</td>\n",
       "      <td>0</td>\n",
       "      <td>40620.102</td>\n",
       "      <td>purchase of the house</td>\n",
       "      <td>middle income</td>\n",
       "    </tr>\n",
       "    <tr>\n",
       "      <td>1</td>\n",
       "      <td>1</td>\n",
       "      <td>-4024.803754</td>\n",
       "      <td>36</td>\n",
       "      <td>secondary education</td>\n",
       "      <td>1</td>\n",
       "      <td>married</td>\n",
       "      <td>0</td>\n",
       "      <td>F</td>\n",
       "      <td>employee</td>\n",
       "      <td>0</td>\n",
       "      <td>17932.802</td>\n",
       "      <td>car purchase</td>\n",
       "      <td>low income</td>\n",
       "    </tr>\n",
       "    <tr>\n",
       "      <td>2</td>\n",
       "      <td>0</td>\n",
       "      <td>-5623.422610</td>\n",
       "      <td>33</td>\n",
       "      <td>secondary education</td>\n",
       "      <td>1</td>\n",
       "      <td>married</td>\n",
       "      <td>0</td>\n",
       "      <td>M</td>\n",
       "      <td>employee</td>\n",
       "      <td>0</td>\n",
       "      <td>23341.752</td>\n",
       "      <td>purchase of the house</td>\n",
       "      <td>low income</td>\n",
       "    </tr>\n",
       "    <tr>\n",
       "      <td>3</td>\n",
       "      <td>3</td>\n",
       "      <td>-4124.747207</td>\n",
       "      <td>32</td>\n",
       "      <td>secondary education</td>\n",
       "      <td>1</td>\n",
       "      <td>married</td>\n",
       "      <td>0</td>\n",
       "      <td>M</td>\n",
       "      <td>employee</td>\n",
       "      <td>0</td>\n",
       "      <td>42820.568</td>\n",
       "      <td>supplementary education</td>\n",
       "      <td>middle income</td>\n",
       "    </tr>\n",
       "    <tr>\n",
       "      <td>4</td>\n",
       "      <td>0</td>\n",
       "      <td>340266.072047</td>\n",
       "      <td>53</td>\n",
       "      <td>secondary education</td>\n",
       "      <td>1</td>\n",
       "      <td>civil partnership</td>\n",
       "      <td>1</td>\n",
       "      <td>F</td>\n",
       "      <td>retiree</td>\n",
       "      <td>0</td>\n",
       "      <td>25378.572</td>\n",
       "      <td>to have a wedding</td>\n",
       "      <td>low income</td>\n",
       "    </tr>\n",
       "  </tbody>\n",
       "</table>\n",
       "</div>"
      ],
      "text/plain": [
       "   children  days_employed  dob_years            education  education_id  \\\n",
       "0         1   -8437.673028         42    bachelor's degree             0   \n",
       "1         1   -4024.803754         36  secondary education             1   \n",
       "2         0   -5623.422610         33  secondary education             1   \n",
       "3         3   -4124.747207         32  secondary education             1   \n",
       "4         0  340266.072047         53  secondary education             1   \n",
       "\n",
       "       family_status  family_status_id gender income_type  debt  total_income  \\\n",
       "0            married                 0      F    employee     0     40620.102   \n",
       "1            married                 0      F    employee     0     17932.802   \n",
       "2            married                 0      M    employee     0     23341.752   \n",
       "3            married                 0      M    employee     0     42820.568   \n",
       "4  civil partnership                 1      F     retiree     0     25378.572   \n",
       "\n",
       "                   purpose   group_income  \n",
       "0    purchase of the house  middle income  \n",
       "1             car purchase     low income  \n",
       "2    purchase of the house     low income  \n",
       "3  supplementary education  middle income  \n",
       "4        to have a wedding     low income  "
      ]
     },
     "execution_count": 40,
     "metadata": {},
     "output_type": "execute_result"
    }
   ],
   "source": [
    "# apply to new column \n",
    "df['group_income']=income_data['total_income'].apply(df_income_group)\n",
    "df.head(5)"
   ]
  },
  {
   "cell_type": "code",
   "execution_count": 41,
   "metadata": {},
   "outputs": [
    {
     "data": {
      "text/html": [
       "<div>\n",
       "<style scoped>\n",
       "    .dataframe tbody tr th:only-of-type {\n",
       "        vertical-align: middle;\n",
       "    }\n",
       "\n",
       "    .dataframe tbody tr th {\n",
       "        vertical-align: top;\n",
       "    }\n",
       "\n",
       "    .dataframe thead th {\n",
       "        text-align: right;\n",
       "    }\n",
       "</style>\n",
       "<table border=\"1\" class=\"dataframe\">\n",
       "  <thead>\n",
       "    <tr style=\"text-align: right;\">\n",
       "      <th></th>\n",
       "      <th>count</th>\n",
       "      <th>mean</th>\n",
       "      <th>std</th>\n",
       "      <th>min</th>\n",
       "      <th>25%</th>\n",
       "      <th>50%</th>\n",
       "      <th>75%</th>\n",
       "      <th>max</th>\n",
       "    </tr>\n",
       "    <tr>\n",
       "      <th>income_type</th>\n",
       "      <th></th>\n",
       "      <th></th>\n",
       "      <th></th>\n",
       "      <th></th>\n",
       "      <th></th>\n",
       "      <th></th>\n",
       "      <th></th>\n",
       "      <th></th>\n",
       "    </tr>\n",
       "  </thead>\n",
       "  <tbody>\n",
       "    <tr>\n",
       "      <td>business</td>\n",
       "      <td>4540.0</td>\n",
       "      <td>32414.336508</td>\n",
       "      <td>20936.640782</td>\n",
       "      <td>4592.450</td>\n",
       "      <td>20111.84275</td>\n",
       "      <td>27583.3600</td>\n",
       "      <td>39028.97350</td>\n",
       "      <td>362496.645</td>\n",
       "    </tr>\n",
       "    <tr>\n",
       "      <td>civil servant</td>\n",
       "      <td>1305.0</td>\n",
       "      <td>27350.649756</td>\n",
       "      <td>15525.907930</td>\n",
       "      <td>4672.012</td>\n",
       "      <td>16814.86800</td>\n",
       "      <td>24076.1150</td>\n",
       "      <td>33452.06600</td>\n",
       "      <td>145672.235</td>\n",
       "    </tr>\n",
       "    <tr>\n",
       "      <td>employee</td>\n",
       "      <td>9925.0</td>\n",
       "      <td>25819.737239</td>\n",
       "      <td>14626.392529</td>\n",
       "      <td>3418.824</td>\n",
       "      <td>16447.20300</td>\n",
       "      <td>22816.1930</td>\n",
       "      <td>31468.05400</td>\n",
       "      <td>276204.162</td>\n",
       "    </tr>\n",
       "    <tr>\n",
       "      <td>entrepreneur</td>\n",
       "      <td>1.0</td>\n",
       "      <td>79866.103000</td>\n",
       "      <td>NaN</td>\n",
       "      <td>79866.103</td>\n",
       "      <td>79866.10300</td>\n",
       "      <td>79866.1030</td>\n",
       "      <td>79866.10300</td>\n",
       "      <td>79866.103</td>\n",
       "    </tr>\n",
       "    <tr>\n",
       "      <td>paternity / maternity leave</td>\n",
       "      <td>1.0</td>\n",
       "      <td>8612.661000</td>\n",
       "      <td>NaN</td>\n",
       "      <td>8612.661</td>\n",
       "      <td>8612.66100</td>\n",
       "      <td>8612.6610</td>\n",
       "      <td>8612.66100</td>\n",
       "      <td>8612.661</td>\n",
       "    </tr>\n",
       "    <tr>\n",
       "      <td>retiree</td>\n",
       "      <td>3419.0</td>\n",
       "      <td>21943.056865</td>\n",
       "      <td>12846.672456</td>\n",
       "      <td>3306.762</td>\n",
       "      <td>13271.68350</td>\n",
       "      <td>18956.9340</td>\n",
       "      <td>27134.30750</td>\n",
       "      <td>117616.523</td>\n",
       "    </tr>\n",
       "    <tr>\n",
       "      <td>student</td>\n",
       "      <td>1.0</td>\n",
       "      <td>15712.260000</td>\n",
       "      <td>NaN</td>\n",
       "      <td>15712.260</td>\n",
       "      <td>15712.26000</td>\n",
       "      <td>15712.2600</td>\n",
       "      <td>15712.26000</td>\n",
       "      <td>15712.260</td>\n",
       "    </tr>\n",
       "    <tr>\n",
       "      <td>unemployed</td>\n",
       "      <td>2.0</td>\n",
       "      <td>21014.360500</td>\n",
       "      <td>16152.074628</td>\n",
       "      <td>9593.119</td>\n",
       "      <td>15303.73975</td>\n",
       "      <td>21014.3605</td>\n",
       "      <td>26724.98125</td>\n",
       "      <td>32435.602</td>\n",
       "    </tr>\n",
       "  </tbody>\n",
       "</table>\n",
       "</div>"
      ],
      "text/plain": [
       "                              count          mean           std        min  \\\n",
       "income_type                                                                  \n",
       "business                     4540.0  32414.336508  20936.640782   4592.450   \n",
       "civil servant                1305.0  27350.649756  15525.907930   4672.012   \n",
       "employee                     9925.0  25819.737239  14626.392529   3418.824   \n",
       "entrepreneur                    1.0  79866.103000           NaN  79866.103   \n",
       "paternity / maternity leave     1.0   8612.661000           NaN   8612.661   \n",
       "retiree                      3419.0  21943.056865  12846.672456   3306.762   \n",
       "student                         1.0  15712.260000           NaN  15712.260   \n",
       "unemployed                      2.0  21014.360500  16152.074628   9593.119   \n",
       "\n",
       "                                     25%         50%          75%         max  \n",
       "income_type                                                                    \n",
       "business                     20111.84275  27583.3600  39028.97350  362496.645  \n",
       "civil servant                16814.86800  24076.1150  33452.06600  145672.235  \n",
       "employee                     16447.20300  22816.1930  31468.05400  276204.162  \n",
       "entrepreneur                 79866.10300  79866.1030  79866.10300   79866.103  \n",
       "paternity / maternity leave   8612.66100   8612.6610   8612.66100    8612.661  \n",
       "retiree                      13271.68350  18956.9340  27134.30750  117616.523  \n",
       "student                      15712.26000  15712.2600  15712.26000   15712.260  \n",
       "unemployed                   15303.73975  21014.3605  26724.98125   32435.602  "
      ]
     },
     "execution_count": 41,
     "metadata": {},
     "output_type": "execute_result"
    }
   ],
   "source": [
    "# Look at the distribution for income based on income_type\n",
    "df.groupby('income_type')['total_income'].describe()"
   ]
  },
  {
   "cell_type": "code",
   "execution_count": 42,
   "metadata": {
    "scrolled": true
   },
   "outputs": [
    {
     "data": {
      "text/html": [
       "<div>\n",
       "<style scoped>\n",
       "    .dataframe tbody tr th:only-of-type {\n",
       "        vertical-align: middle;\n",
       "    }\n",
       "\n",
       "    .dataframe tbody tr th {\n",
       "        vertical-align: top;\n",
       "    }\n",
       "\n",
       "    .dataframe thead th {\n",
       "        text-align: right;\n",
       "    }\n",
       "</style>\n",
       "<table border=\"1\" class=\"dataframe\">\n",
       "  <thead>\n",
       "    <tr style=\"text-align: right;\">\n",
       "      <th></th>\n",
       "      <th>count</th>\n",
       "      <th>mean</th>\n",
       "      <th>std</th>\n",
       "      <th>min</th>\n",
       "      <th>25%</th>\n",
       "      <th>50%</th>\n",
       "      <th>75%</th>\n",
       "      <th>max</th>\n",
       "    </tr>\n",
       "    <tr>\n",
       "      <th>education</th>\n",
       "      <th></th>\n",
       "      <th></th>\n",
       "      <th></th>\n",
       "      <th></th>\n",
       "      <th></th>\n",
       "      <th></th>\n",
       "      <th></th>\n",
       "      <th></th>\n",
       "    </tr>\n",
       "  </thead>\n",
       "  <tbody>\n",
       "    <tr>\n",
       "      <td>bachelor's degree</td>\n",
       "      <td>4673.0</td>\n",
       "      <td>33186.447659</td>\n",
       "      <td>21767.638121</td>\n",
       "      <td>5148.514</td>\n",
       "      <td>20280.74500</td>\n",
       "      <td>28065.7400</td>\n",
       "      <td>40050.2770</td>\n",
       "      <td>362496.645</td>\n",
       "    </tr>\n",
       "    <tr>\n",
       "      <td>graduate degree</td>\n",
       "      <td>6.0</td>\n",
       "      <td>27960.024667</td>\n",
       "      <td>12205.330046</td>\n",
       "      <td>15800.399</td>\n",
       "      <td>18005.02925</td>\n",
       "      <td>25161.5835</td>\n",
       "      <td>38593.8535</td>\n",
       "      <td>42945.794</td>\n",
       "    </tr>\n",
       "    <tr>\n",
       "      <td>primary education</td>\n",
       "      <td>261.0</td>\n",
       "      <td>21144.882211</td>\n",
       "      <td>10873.977874</td>\n",
       "      <td>4049.374</td>\n",
       "      <td>13117.13300</td>\n",
       "      <td>18741.9760</td>\n",
       "      <td>27119.0240</td>\n",
       "      <td>78410.774</td>\n",
       "    </tr>\n",
       "    <tr>\n",
       "      <td>secondary education</td>\n",
       "      <td>13583.0</td>\n",
       "      <td>24590.586912</td>\n",
       "      <td>13702.454949</td>\n",
       "      <td>3306.762</td>\n",
       "      <td>15621.68800</td>\n",
       "      <td>21835.2490</td>\n",
       "      <td>30212.2745</td>\n",
       "      <td>276204.162</td>\n",
       "    </tr>\n",
       "    <tr>\n",
       "      <td>some college</td>\n",
       "      <td>671.0</td>\n",
       "      <td>29066.054548</td>\n",
       "      <td>15662.897367</td>\n",
       "      <td>5514.581</td>\n",
       "      <td>18225.26950</td>\n",
       "      <td>25709.8980</td>\n",
       "      <td>36628.2880</td>\n",
       "      <td>153349.533</td>\n",
       "    </tr>\n",
       "  </tbody>\n",
       "</table>\n",
       "</div>"
      ],
      "text/plain": [
       "                       count          mean           std        min  \\\n",
       "education                                                             \n",
       "bachelor's degree     4673.0  33186.447659  21767.638121   5148.514   \n",
       "graduate degree          6.0  27960.024667  12205.330046  15800.399   \n",
       "primary education      261.0  21144.882211  10873.977874   4049.374   \n",
       "secondary education  13583.0  24590.586912  13702.454949   3306.762   \n",
       "some college           671.0  29066.054548  15662.897367   5514.581   \n",
       "\n",
       "                             25%         50%         75%         max  \n",
       "education                                                             \n",
       "bachelor's degree    20280.74500  28065.7400  40050.2770  362496.645  \n",
       "graduate degree      18005.02925  25161.5835  38593.8535   42945.794  \n",
       "primary education    13117.13300  18741.9760  27119.0240   78410.774  \n",
       "secondary education  15621.68800  21835.2490  30212.2745  276204.162  \n",
       "some college         18225.26950  25709.8980  36628.2880  153349.533  "
      ]
     },
     "execution_count": 42,
     "metadata": {},
     "output_type": "execute_result"
    }
   ],
   "source": [
    "# Look at the distribution for income based on education\n",
    "df.groupby('education')['total_income'].describe()"
   ]
  },
  {
   "cell_type": "code",
   "execution_count": 43,
   "metadata": {},
   "outputs": [],
   "source": [
    "#  Replace missing values in total_income with median grouped by education\n",
    "df['total_income'] = df['total_income'].fillna(df.groupby('education')['total_income'].transform('median'))"
   ]
  },
  {
   "cell_type": "code",
   "execution_count": 44,
   "metadata": {},
   "outputs": [
    {
     "data": {
      "text/plain": [
       "False    21278\n",
       "Name: total_income, dtype: int64"
      ]
     },
     "execution_count": 44,
     "metadata": {},
     "output_type": "execute_result"
    }
   ],
   "source": [
    "# Check if we got any errors\n",
    "df['total_income'].isna().value_counts()"
   ]
  },
  {
   "cell_type": "code",
   "execution_count": 45,
   "metadata": {},
   "outputs": [],
   "source": [
    "# Convert total_income datatype from float to int\n",
    "df['total_income']=df['total_income'].astype('int64')"
   ]
  },
  {
   "cell_type": "code",
   "execution_count": 46,
   "metadata": {},
   "outputs": [],
   "source": [
    "# apply total_income to group.\n",
    "df['group_income']=df['total_income'].apply(df_income_group)"
   ]
  },
  {
   "cell_type": "code",
   "execution_count": 47,
   "metadata": {},
   "outputs": [
    {
     "data": {
      "text/plain": [
       "low income       16653\n",
       "middle income     4576\n",
       "upper income        49\n",
       "Name: group_income, dtype: int64"
      ]
     },
     "execution_count": 47,
     "metadata": {},
     "output_type": "execute_result"
    }
   ],
   "source": [
    "# Group_income's value\n",
    "df['group_income'].value_counts()"
   ]
  },
  {
   "cell_type": "code",
   "execution_count": 48,
   "metadata": {},
   "outputs": [
    {
     "data": {
      "text/plain": [
       "21278"
      ]
     },
     "execution_count": 48,
     "metadata": {},
     "output_type": "execute_result"
    }
   ],
   "source": [
    "# Checking the number of entries in the columns\n",
    "df['total_income'].size"
   ]
  },
  {
   "cell_type": "code",
   "execution_count": 49,
   "metadata": {},
   "outputs": [],
   "source": [
    "# Let's write a function that calculates the age category\n",
    "def df_age_group(age):\n",
    "    if age < 30:\n",
    "        return '20s'\n",
    "    elif age < 40:\n",
    "        return '30s'\n",
    "    elif age < 50:\n",
    "        return '40s'\n",
    "    elif age < 60:\n",
    "        return '50s'\n",
    "    elif age < 70:\n",
    "        return '60s'\n",
    "    else: \n",
    "        return '70+'"
   ]
  },
  {
   "cell_type": "code",
   "execution_count": 50,
   "metadata": {},
   "outputs": [
    {
     "data": {
      "text/plain": [
       "30s    5640\n",
       "40s    5331\n",
       "50s    4641\n",
       "20s    3171\n",
       "60s    2326\n",
       "70+     169\n",
       "Name: dob_years, dtype: int64"
      ]
     },
     "execution_count": 50,
     "metadata": {},
     "output_type": "execute_result"
    }
   ],
   "source": [
    "# Test if the function works\n",
    "df['dob_years'].apply(df_age_group).value_counts()"
   ]
  },
  {
   "cell_type": "code",
   "execution_count": 51,
   "metadata": {},
   "outputs": [],
   "source": [
    "# Creating new column based on function\n",
    "df['age_group']=df['dob_years'].apply(df_age_group)"
   ]
  },
  {
   "cell_type": "code",
   "execution_count": 52,
   "metadata": {
    "scrolled": false
   },
   "outputs": [
    {
     "data": {
      "text/html": [
       "<div>\n",
       "<style scoped>\n",
       "    .dataframe tbody tr th:only-of-type {\n",
       "        vertical-align: middle;\n",
       "    }\n",
       "\n",
       "    .dataframe tbody tr th {\n",
       "        vertical-align: top;\n",
       "    }\n",
       "\n",
       "    .dataframe thead th {\n",
       "        text-align: right;\n",
       "    }\n",
       "</style>\n",
       "<table border=\"1\" class=\"dataframe\">\n",
       "  <thead>\n",
       "    <tr style=\"text-align: right;\">\n",
       "      <th></th>\n",
       "      <th>children</th>\n",
       "      <th>days_employed</th>\n",
       "      <th>dob_years</th>\n",
       "      <th>education</th>\n",
       "      <th>education_id</th>\n",
       "      <th>family_status</th>\n",
       "      <th>family_status_id</th>\n",
       "      <th>gender</th>\n",
       "      <th>income_type</th>\n",
       "      <th>debt</th>\n",
       "      <th>total_income</th>\n",
       "      <th>purpose</th>\n",
       "      <th>group_income</th>\n",
       "      <th>age_group</th>\n",
       "    </tr>\n",
       "  </thead>\n",
       "  <tbody>\n",
       "    <tr>\n",
       "      <td>0</td>\n",
       "      <td>1</td>\n",
       "      <td>-8437.673028</td>\n",
       "      <td>42</td>\n",
       "      <td>bachelor's degree</td>\n",
       "      <td>0</td>\n",
       "      <td>married</td>\n",
       "      <td>0</td>\n",
       "      <td>F</td>\n",
       "      <td>employee</td>\n",
       "      <td>0</td>\n",
       "      <td>40620</td>\n",
       "      <td>purchase of the house</td>\n",
       "      <td>middle income</td>\n",
       "      <td>40s</td>\n",
       "    </tr>\n",
       "    <tr>\n",
       "      <td>1</td>\n",
       "      <td>1</td>\n",
       "      <td>-4024.803754</td>\n",
       "      <td>36</td>\n",
       "      <td>secondary education</td>\n",
       "      <td>1</td>\n",
       "      <td>married</td>\n",
       "      <td>0</td>\n",
       "      <td>F</td>\n",
       "      <td>employee</td>\n",
       "      <td>0</td>\n",
       "      <td>17932</td>\n",
       "      <td>car purchase</td>\n",
       "      <td>low income</td>\n",
       "      <td>30s</td>\n",
       "    </tr>\n",
       "    <tr>\n",
       "      <td>2</td>\n",
       "      <td>0</td>\n",
       "      <td>-5623.422610</td>\n",
       "      <td>33</td>\n",
       "      <td>secondary education</td>\n",
       "      <td>1</td>\n",
       "      <td>married</td>\n",
       "      <td>0</td>\n",
       "      <td>M</td>\n",
       "      <td>employee</td>\n",
       "      <td>0</td>\n",
       "      <td>23341</td>\n",
       "      <td>purchase of the house</td>\n",
       "      <td>low income</td>\n",
       "      <td>30s</td>\n",
       "    </tr>\n",
       "    <tr>\n",
       "      <td>3</td>\n",
       "      <td>3</td>\n",
       "      <td>-4124.747207</td>\n",
       "      <td>32</td>\n",
       "      <td>secondary education</td>\n",
       "      <td>1</td>\n",
       "      <td>married</td>\n",
       "      <td>0</td>\n",
       "      <td>M</td>\n",
       "      <td>employee</td>\n",
       "      <td>0</td>\n",
       "      <td>42820</td>\n",
       "      <td>supplementary education</td>\n",
       "      <td>middle income</td>\n",
       "      <td>30s</td>\n",
       "    </tr>\n",
       "    <tr>\n",
       "      <td>4</td>\n",
       "      <td>0</td>\n",
       "      <td>340266.072047</td>\n",
       "      <td>53</td>\n",
       "      <td>secondary education</td>\n",
       "      <td>1</td>\n",
       "      <td>civil partnership</td>\n",
       "      <td>1</td>\n",
       "      <td>F</td>\n",
       "      <td>retiree</td>\n",
       "      <td>0</td>\n",
       "      <td>25378</td>\n",
       "      <td>to have a wedding</td>\n",
       "      <td>low income</td>\n",
       "      <td>50s</td>\n",
       "    </tr>\n",
       "    <tr>\n",
       "      <td>5</td>\n",
       "      <td>0</td>\n",
       "      <td>-926.185831</td>\n",
       "      <td>27</td>\n",
       "      <td>bachelor's degree</td>\n",
       "      <td>0</td>\n",
       "      <td>civil partnership</td>\n",
       "      <td>1</td>\n",
       "      <td>M</td>\n",
       "      <td>business</td>\n",
       "      <td>0</td>\n",
       "      <td>40922</td>\n",
       "      <td>purchase of the house</td>\n",
       "      <td>middle income</td>\n",
       "      <td>20s</td>\n",
       "    </tr>\n",
       "    <tr>\n",
       "      <td>6</td>\n",
       "      <td>0</td>\n",
       "      <td>-2879.202052</td>\n",
       "      <td>43</td>\n",
       "      <td>bachelor's degree</td>\n",
       "      <td>0</td>\n",
       "      <td>married</td>\n",
       "      <td>0</td>\n",
       "      <td>F</td>\n",
       "      <td>business</td>\n",
       "      <td>0</td>\n",
       "      <td>38484</td>\n",
       "      <td>housing transactions</td>\n",
       "      <td>middle income</td>\n",
       "      <td>40s</td>\n",
       "    </tr>\n",
       "    <tr>\n",
       "      <td>7</td>\n",
       "      <td>0</td>\n",
       "      <td>-152.779569</td>\n",
       "      <td>50</td>\n",
       "      <td>secondary education</td>\n",
       "      <td>1</td>\n",
       "      <td>married</td>\n",
       "      <td>0</td>\n",
       "      <td>M</td>\n",
       "      <td>employee</td>\n",
       "      <td>0</td>\n",
       "      <td>21731</td>\n",
       "      <td>education</td>\n",
       "      <td>low income</td>\n",
       "      <td>50s</td>\n",
       "    </tr>\n",
       "    <tr>\n",
       "      <td>8</td>\n",
       "      <td>2</td>\n",
       "      <td>-6929.865299</td>\n",
       "      <td>35</td>\n",
       "      <td>bachelor's degree</td>\n",
       "      <td>0</td>\n",
       "      <td>civil partnership</td>\n",
       "      <td>1</td>\n",
       "      <td>F</td>\n",
       "      <td>employee</td>\n",
       "      <td>0</td>\n",
       "      <td>15337</td>\n",
       "      <td>having a wedding</td>\n",
       "      <td>low income</td>\n",
       "      <td>30s</td>\n",
       "    </tr>\n",
       "    <tr>\n",
       "      <td>9</td>\n",
       "      <td>0</td>\n",
       "      <td>-2188.756445</td>\n",
       "      <td>41</td>\n",
       "      <td>secondary education</td>\n",
       "      <td>1</td>\n",
       "      <td>married</td>\n",
       "      <td>0</td>\n",
       "      <td>M</td>\n",
       "      <td>employee</td>\n",
       "      <td>0</td>\n",
       "      <td>23108</td>\n",
       "      <td>purchase of the house for my family</td>\n",
       "      <td>low income</td>\n",
       "      <td>40s</td>\n",
       "    </tr>\n",
       "  </tbody>\n",
       "</table>\n",
       "</div>"
      ],
      "text/plain": [
       "   children  days_employed  dob_years            education  education_id  \\\n",
       "0         1   -8437.673028         42    bachelor's degree             0   \n",
       "1         1   -4024.803754         36  secondary education             1   \n",
       "2         0   -5623.422610         33  secondary education             1   \n",
       "3         3   -4124.747207         32  secondary education             1   \n",
       "4         0  340266.072047         53  secondary education             1   \n",
       "5         0    -926.185831         27    bachelor's degree             0   \n",
       "6         0   -2879.202052         43    bachelor's degree             0   \n",
       "7         0    -152.779569         50  secondary education             1   \n",
       "8         2   -6929.865299         35    bachelor's degree             0   \n",
       "9         0   -2188.756445         41  secondary education             1   \n",
       "\n",
       "       family_status  family_status_id gender income_type  debt  total_income  \\\n",
       "0            married                 0      F    employee     0         40620   \n",
       "1            married                 0      F    employee     0         17932   \n",
       "2            married                 0      M    employee     0         23341   \n",
       "3            married                 0      M    employee     0         42820   \n",
       "4  civil partnership                 1      F     retiree     0         25378   \n",
       "5  civil partnership                 1      M    business     0         40922   \n",
       "6            married                 0      F    business     0         38484   \n",
       "7            married                 0      M    employee     0         21731   \n",
       "8  civil partnership                 1      F    employee     0         15337   \n",
       "9            married                 0      M    employee     0         23108   \n",
       "\n",
       "                               purpose   group_income age_group  \n",
       "0                purchase of the house  middle income       40s  \n",
       "1                         car purchase     low income       30s  \n",
       "2                purchase of the house     low income       30s  \n",
       "3              supplementary education  middle income       30s  \n",
       "4                    to have a wedding     low income       50s  \n",
       "5                purchase of the house  middle income       20s  \n",
       "6                 housing transactions  middle income       40s  \n",
       "7                            education     low income       50s  \n",
       "8                     having a wedding     low income       30s  \n",
       "9  purchase of the house for my family     low income       40s  "
      ]
     },
     "execution_count": 52,
     "metadata": {},
     "output_type": "execute_result"
    }
   ],
   "source": [
    "# Checking how values in the new column\n",
    "df.head(10)"
   ]
  },
  {
   "cell_type": "code",
   "execution_count": 53,
   "metadata": {},
   "outputs": [
    {
     "data": {
      "text/html": [
       "<div>\n",
       "<style scoped>\n",
       "    .dataframe tbody tr th:only-of-type {\n",
       "        vertical-align: middle;\n",
       "    }\n",
       "\n",
       "    .dataframe tbody tr th {\n",
       "        vertical-align: top;\n",
       "    }\n",
       "\n",
       "    .dataframe thead th {\n",
       "        text-align: right;\n",
       "    }\n",
       "</style>\n",
       "<table border=\"1\" class=\"dataframe\">\n",
       "  <thead>\n",
       "    <tr style=\"text-align: right;\">\n",
       "      <th></th>\n",
       "      <th>count</th>\n",
       "      <th>mean</th>\n",
       "      <th>std</th>\n",
       "      <th>min</th>\n",
       "      <th>25%</th>\n",
       "      <th>50%</th>\n",
       "      <th>75%</th>\n",
       "      <th>max</th>\n",
       "    </tr>\n",
       "    <tr>\n",
       "      <th>age_group</th>\n",
       "      <th></th>\n",
       "      <th></th>\n",
       "      <th></th>\n",
       "      <th></th>\n",
       "      <th></th>\n",
       "      <th></th>\n",
       "      <th></th>\n",
       "      <th></th>\n",
       "    </tr>\n",
       "  </thead>\n",
       "  <tbody>\n",
       "    <tr>\n",
       "      <td>20s</td>\n",
       "      <td>3171.0</td>\n",
       "      <td>25404.631347</td>\n",
       "      <td>12893.230966</td>\n",
       "      <td>4494.0</td>\n",
       "      <td>16906.5</td>\n",
       "      <td>22493.0</td>\n",
       "      <td>29815.50</td>\n",
       "      <td>131588.0</td>\n",
       "    </tr>\n",
       "    <tr>\n",
       "      <td>30s</td>\n",
       "      <td>5640.0</td>\n",
       "      <td>27875.110638</td>\n",
       "      <td>16638.312238</td>\n",
       "      <td>3392.0</td>\n",
       "      <td>18393.0</td>\n",
       "      <td>24063.5</td>\n",
       "      <td>32786.00</td>\n",
       "      <td>352136.0</td>\n",
       "    </tr>\n",
       "    <tr>\n",
       "      <td>40s</td>\n",
       "      <td>5331.0</td>\n",
       "      <td>28063.781842</td>\n",
       "      <td>17173.288778</td>\n",
       "      <td>4036.0</td>\n",
       "      <td>18203.0</td>\n",
       "      <td>23997.0</td>\n",
       "      <td>33458.00</td>\n",
       "      <td>362496.0</td>\n",
       "    </tr>\n",
       "    <tr>\n",
       "      <td>50s</td>\n",
       "      <td>4641.0</td>\n",
       "      <td>25529.527042</td>\n",
       "      <td>14962.731505</td>\n",
       "      <td>3306.0</td>\n",
       "      <td>16446.0</td>\n",
       "      <td>21835.0</td>\n",
       "      <td>30065.00</td>\n",
       "      <td>195686.0</td>\n",
       "    </tr>\n",
       "    <tr>\n",
       "      <td>60s</td>\n",
       "      <td>2326.0</td>\n",
       "      <td>23210.030954</td>\n",
       "      <td>14459.133488</td>\n",
       "      <td>3471.0</td>\n",
       "      <td>14508.5</td>\n",
       "      <td>21340.5</td>\n",
       "      <td>27781.75</td>\n",
       "      <td>274402.0</td>\n",
       "    </tr>\n",
       "    <tr>\n",
       "      <td>70+</td>\n",
       "      <td>169.0</td>\n",
       "      <td>20234.781065</td>\n",
       "      <td>9765.565653</td>\n",
       "      <td>3595.0</td>\n",
       "      <td>12944.0</td>\n",
       "      <td>19163.0</td>\n",
       "      <td>25233.00</td>\n",
       "      <td>57508.0</td>\n",
       "    </tr>\n",
       "  </tbody>\n",
       "</table>\n",
       "</div>"
      ],
      "text/plain": [
       "            count          mean           std     min      25%      50%  \\\n",
       "age_group                                                                 \n",
       "20s        3171.0  25404.631347  12893.230966  4494.0  16906.5  22493.0   \n",
       "30s        5640.0  27875.110638  16638.312238  3392.0  18393.0  24063.5   \n",
       "40s        5331.0  28063.781842  17173.288778  4036.0  18203.0  23997.0   \n",
       "50s        4641.0  25529.527042  14962.731505  3306.0  16446.0  21835.0   \n",
       "60s        2326.0  23210.030954  14459.133488  3471.0  14508.5  21340.5   \n",
       "70+         169.0  20234.781065   9765.565653  3595.0  12944.0  19163.0   \n",
       "\n",
       "                75%       max  \n",
       "age_group                      \n",
       "20s        29815.50  131588.0  \n",
       "30s        32786.00  352136.0  \n",
       "40s        33458.00  362496.0  \n",
       "50s        30065.00  195686.0  \n",
       "60s        27781.75  274402.0  \n",
       "70+        25233.00   57508.0  "
      ]
     },
     "execution_count": 53,
     "metadata": {},
     "output_type": "execute_result"
    }
   ],
   "source": [
    "df.groupby('age_group')['total_income'].describe()"
   ]
  },
  {
   "cell_type": "markdown",
   "metadata": {},
   "source": [
    "- Original plan was replacing those *missing values* with the *median()* obtained from total_income itself, but the data distribution is too skewed even for *median()* values.  \n",
    "\n",
    "- Replaced those missing values with *median()* values grouped by `education` will results overall better datasets. \n",
    "\n",
    "- Added `Group_income` for better interpretation of datasets as well. Grouped into: \n",
    "\n",
    "    - low income \n",
    "\n",
    "    - middle income \n",
    "\n",
    "    - upper income \n",
    "\n",
    "- Added `Age_group` in to 30s to 70+ category for better interpretation as well. \n",
    "\n",
    "  \n",
    "\n",
    "Datasets showed most borrowers are in the low-income group. "
   ]
  },
  {
   "cell_type": "markdown",
   "metadata": {},
   "source": [
    "###  Restoring values in `days_employed`"
   ]
  },
  {
   "cell_type": "code",
   "execution_count": 54,
   "metadata": {},
   "outputs": [
    {
     "data": {
      "text/plain": [
       "0     -8437.673028\n",
       "1     -4024.803754\n",
       "2     -5623.422610\n",
       "3     -4124.747207\n",
       "4    340266.072047\n",
       "5      -926.185831\n",
       "6     -2879.202052\n",
       "7      -152.779569\n",
       "8     -6929.865299\n",
       "9     -2188.756445\n",
       "Name: days_employed, dtype: float64"
      ]
     },
     "execution_count": 54,
     "metadata": {},
     "output_type": "execute_result"
    }
   ],
   "source": [
    "# Look at days_employed column\n",
    "df['days_employed'].head(10)"
   ]
  },
  {
   "cell_type": "code",
   "execution_count": 55,
   "metadata": {},
   "outputs": [
    {
     "data": {
      "text/plain": [
       "0      8437.673028\n",
       "1      4024.803754\n",
       "2      5623.422610\n",
       "3      4124.747207\n",
       "4    340266.072047\n",
       "5       926.185831\n",
       "6      2879.202052\n",
       "7       152.779569\n",
       "8      6929.865299\n",
       "9      2188.756445\n",
       "Name: days_employed, dtype: float64"
      ]
     },
     "execution_count": 55,
     "metadata": {},
     "output_type": "execute_result"
    }
   ],
   "source": [
    "# remove negative value of day_employed column\n",
    "df['days_employed']=abs(df['days_employed'])\n",
    "# check column after remove\n",
    "df['days_employed'].head(10)"
   ]
  },
  {
   "cell_type": "code",
   "execution_count": 56,
   "metadata": {
    "pycharm": {
     "name": "#%%\n"
    },
    "scrolled": true
   },
   "outputs": [
    {
     "data": {
      "text/plain": [
       "count     19194.000000\n",
       "mean      66994.286518\n",
       "std      139101.094784\n",
       "min          24.141633\n",
       "25%         927.830608\n",
       "50%        2198.029232\n",
       "75%        5554.325716\n",
       "max      401755.400475\n",
       "Name: days_employed, dtype: float64"
      ]
     },
     "execution_count": 56,
     "metadata": {},
     "output_type": "execute_result"
    }
   ],
   "source": [
    "# `days_employed` medians and means\n",
    "df['days_employed'].describe()"
   ]
  },
  {
   "cell_type": "code",
   "execution_count": 57,
   "metadata": {},
   "outputs": [
    {
     "data": {
      "text/html": [
       "<div>\n",
       "<style scoped>\n",
       "    .dataframe tbody tr th:only-of-type {\n",
       "        vertical-align: middle;\n",
       "    }\n",
       "\n",
       "    .dataframe tbody tr th {\n",
       "        vertical-align: top;\n",
       "    }\n",
       "\n",
       "    .dataframe thead th {\n",
       "        text-align: right;\n",
       "    }\n",
       "</style>\n",
       "<table border=\"1\" class=\"dataframe\">\n",
       "  <thead>\n",
       "    <tr style=\"text-align: right;\">\n",
       "      <th></th>\n",
       "      <th>count</th>\n",
       "      <th>mean</th>\n",
       "      <th>std</th>\n",
       "      <th>min</th>\n",
       "      <th>25%</th>\n",
       "      <th>50%</th>\n",
       "      <th>75%</th>\n",
       "      <th>max</th>\n",
       "    </tr>\n",
       "    <tr>\n",
       "      <th>education</th>\n",
       "      <th></th>\n",
       "      <th></th>\n",
       "      <th></th>\n",
       "      <th></th>\n",
       "      <th></th>\n",
       "      <th></th>\n",
       "      <th></th>\n",
       "      <th></th>\n",
       "    </tr>\n",
       "  </thead>\n",
       "  <tbody>\n",
       "    <tr>\n",
       "      <td>bachelor's degree</td>\n",
       "      <td>4673.0</td>\n",
       "      <td>42447.427842</td>\n",
       "      <td>114140.223551</td>\n",
       "      <td>24.240695</td>\n",
       "      <td>819.627219</td>\n",
       "      <td>1896.866606</td>\n",
       "      <td>4128.038397</td>\n",
       "      <td>401715.811749</td>\n",
       "    </tr>\n",
       "    <tr>\n",
       "      <td>graduate degree</td>\n",
       "      <td>6.0</td>\n",
       "      <td>121323.630206</td>\n",
       "      <td>182921.141764</td>\n",
       "      <td>409.200149</td>\n",
       "      <td>3101.583496</td>\n",
       "      <td>5660.057032</td>\n",
       "      <td>254680.630641</td>\n",
       "      <td>376276.219531</td>\n",
       "    </tr>\n",
       "    <tr>\n",
       "      <td>primary education</td>\n",
       "      <td>261.0</td>\n",
       "      <td>130340.426349</td>\n",
       "      <td>173352.954149</td>\n",
       "      <td>62.108487</td>\n",
       "      <td>863.272579</td>\n",
       "      <td>3043.933615</td>\n",
       "      <td>346471.063425</td>\n",
       "      <td>401440.834336</td>\n",
       "    </tr>\n",
       "    <tr>\n",
       "      <td>secondary education</td>\n",
       "      <td>13583.0</td>\n",
       "      <td>76481.124303</td>\n",
       "      <td>146492.386656</td>\n",
       "      <td>24.141633</td>\n",
       "      <td>997.081407</td>\n",
       "      <td>2394.069195</td>\n",
       "      <td>7082.504942</td>\n",
       "      <td>401755.400475</td>\n",
       "    </tr>\n",
       "    <tr>\n",
       "      <td>some college</td>\n",
       "      <td>671.0</td>\n",
       "      <td>20777.348241</td>\n",
       "      <td>82078.444889</td>\n",
       "      <td>51.496885</td>\n",
       "      <td>598.088924</td>\n",
       "      <td>1212.588325</td>\n",
       "      <td>2259.270736</td>\n",
       "      <td>399693.485689</td>\n",
       "    </tr>\n",
       "  </tbody>\n",
       "</table>\n",
       "</div>"
      ],
      "text/plain": [
       "                       count           mean            std         min  \\\n",
       "education                                                                \n",
       "bachelor's degree     4673.0   42447.427842  114140.223551   24.240695   \n",
       "graduate degree          6.0  121323.630206  182921.141764  409.200149   \n",
       "primary education      261.0  130340.426349  173352.954149   62.108487   \n",
       "secondary education  13583.0   76481.124303  146492.386656   24.141633   \n",
       "some college           671.0   20777.348241   82078.444889   51.496885   \n",
       "\n",
       "                             25%          50%            75%            max  \n",
       "education                                                                    \n",
       "bachelor's degree     819.627219  1896.866606    4128.038397  401715.811749  \n",
       "graduate degree      3101.583496  5660.057032  254680.630641  376276.219531  \n",
       "primary education     863.272579  3043.933615  346471.063425  401440.834336  \n",
       "secondary education   997.081407  2394.069195    7082.504942  401755.400475  \n",
       "some college          598.088924  1212.588325    2259.270736  399693.485689  "
      ]
     },
     "execution_count": 57,
     "metadata": {},
     "output_type": "execute_result"
    }
   ],
   "source": [
    "# `days_employed` medians and means grouped by 'education'\n",
    "df.groupby('education')['days_employed'].describe()"
   ]
  },
  {
   "cell_type": "code",
   "execution_count": 58,
   "metadata": {},
   "outputs": [
    {
     "data": {
      "text/html": [
       "<div>\n",
       "<style scoped>\n",
       "    .dataframe tbody tr th:only-of-type {\n",
       "        vertical-align: middle;\n",
       "    }\n",
       "\n",
       "    .dataframe tbody tr th {\n",
       "        vertical-align: top;\n",
       "    }\n",
       "\n",
       "    .dataframe thead th {\n",
       "        text-align: right;\n",
       "    }\n",
       "</style>\n",
       "<table border=\"1\" class=\"dataframe\">\n",
       "  <thead>\n",
       "    <tr style=\"text-align: right;\">\n",
       "      <th></th>\n",
       "      <th>count</th>\n",
       "      <th>mean</th>\n",
       "      <th>std</th>\n",
       "      <th>min</th>\n",
       "      <th>25%</th>\n",
       "      <th>50%</th>\n",
       "      <th>75%</th>\n",
       "      <th>max</th>\n",
       "    </tr>\n",
       "    <tr>\n",
       "      <th>income_type</th>\n",
       "      <th></th>\n",
       "      <th></th>\n",
       "      <th></th>\n",
       "      <th></th>\n",
       "      <th></th>\n",
       "      <th></th>\n",
       "      <th></th>\n",
       "      <th></th>\n",
       "    </tr>\n",
       "  </thead>\n",
       "  <tbody>\n",
       "    <tr>\n",
       "      <td>business</td>\n",
       "      <td>4540.0</td>\n",
       "      <td>2117.933008</td>\n",
       "      <td>2052.113581</td>\n",
       "      <td>30.195337</td>\n",
       "      <td>686.382042</td>\n",
       "      <td>1555.261159</td>\n",
       "      <td>2882.671797</td>\n",
       "      <td>17615.563266</td>\n",
       "    </tr>\n",
       "    <tr>\n",
       "      <td>civil servant</td>\n",
       "      <td>1305.0</td>\n",
       "      <td>3387.514221</td>\n",
       "      <td>2784.226064</td>\n",
       "      <td>39.954170</td>\n",
       "      <td>1246.749979</td>\n",
       "      <td>2672.903939</td>\n",
       "      <td>4726.161617</td>\n",
       "      <td>15193.032201</td>\n",
       "    </tr>\n",
       "    <tr>\n",
       "      <td>employee</td>\n",
       "      <td>9925.0</td>\n",
       "      <td>2327.164891</td>\n",
       "      <td>2308.561853</td>\n",
       "      <td>24.141633</td>\n",
       "      <td>745.352610</td>\n",
       "      <td>1575.323578</td>\n",
       "      <td>3108.834443</td>\n",
       "      <td>18388.949901</td>\n",
       "    </tr>\n",
       "    <tr>\n",
       "      <td>entrepreneur</td>\n",
       "      <td>1.0</td>\n",
       "      <td>520.848083</td>\n",
       "      <td>NaN</td>\n",
       "      <td>520.848083</td>\n",
       "      <td>520.848083</td>\n",
       "      <td>520.848083</td>\n",
       "      <td>520.848083</td>\n",
       "      <td>520.848083</td>\n",
       "    </tr>\n",
       "    <tr>\n",
       "      <td>paternity / maternity leave</td>\n",
       "      <td>1.0</td>\n",
       "      <td>3296.759962</td>\n",
       "      <td>NaN</td>\n",
       "      <td>3296.759962</td>\n",
       "      <td>3296.759962</td>\n",
       "      <td>3296.759962</td>\n",
       "      <td>3296.759962</td>\n",
       "      <td>3296.759962</td>\n",
       "    </tr>\n",
       "    <tr>\n",
       "      <td>retiree</td>\n",
       "      <td>3419.0</td>\n",
       "      <td>365024.240512</td>\n",
       "      <td>21064.054513</td>\n",
       "      <td>328728.720605</td>\n",
       "      <td>346697.593443</td>\n",
       "      <td>365247.114512</td>\n",
       "      <td>383265.981921</td>\n",
       "      <td>401755.400475</td>\n",
       "    </tr>\n",
       "    <tr>\n",
       "      <td>student</td>\n",
       "      <td>1.0</td>\n",
       "      <td>578.751554</td>\n",
       "      <td>NaN</td>\n",
       "      <td>578.751554</td>\n",
       "      <td>578.751554</td>\n",
       "      <td>578.751554</td>\n",
       "      <td>578.751554</td>\n",
       "      <td>578.751554</td>\n",
       "    </tr>\n",
       "    <tr>\n",
       "      <td>unemployed</td>\n",
       "      <td>2.0</td>\n",
       "      <td>366413.652744</td>\n",
       "      <td>40855.478519</td>\n",
       "      <td>337524.466835</td>\n",
       "      <td>351969.059790</td>\n",
       "      <td>366413.652744</td>\n",
       "      <td>380858.245699</td>\n",
       "      <td>395302.838654</td>\n",
       "    </tr>\n",
       "  </tbody>\n",
       "</table>\n",
       "</div>"
      ],
      "text/plain": [
       "                              count           mean           std  \\\n",
       "income_type                                                        \n",
       "business                     4540.0    2117.933008   2052.113581   \n",
       "civil servant                1305.0    3387.514221   2784.226064   \n",
       "employee                     9925.0    2327.164891   2308.561853   \n",
       "entrepreneur                    1.0     520.848083           NaN   \n",
       "paternity / maternity leave     1.0    3296.759962           NaN   \n",
       "retiree                      3419.0  365024.240512  21064.054513   \n",
       "student                         1.0     578.751554           NaN   \n",
       "unemployed                      2.0  366413.652744  40855.478519   \n",
       "\n",
       "                                       min            25%            50%  \\\n",
       "income_type                                                                \n",
       "business                         30.195337     686.382042    1555.261159   \n",
       "civil servant                    39.954170    1246.749979    2672.903939   \n",
       "employee                         24.141633     745.352610    1575.323578   \n",
       "entrepreneur                    520.848083     520.848083     520.848083   \n",
       "paternity / maternity leave    3296.759962    3296.759962    3296.759962   \n",
       "retiree                      328728.720605  346697.593443  365247.114512   \n",
       "student                         578.751554     578.751554     578.751554   \n",
       "unemployed                   337524.466835  351969.059790  366413.652744   \n",
       "\n",
       "                                       75%            max  \n",
       "income_type                                                \n",
       "business                       2882.671797   17615.563266  \n",
       "civil servant                  4726.161617   15193.032201  \n",
       "employee                       3108.834443   18388.949901  \n",
       "entrepreneur                    520.848083     520.848083  \n",
       "paternity / maternity leave    3296.759962    3296.759962  \n",
       "retiree                      383265.981921  401755.400475  \n",
       "student                         578.751554     578.751554  \n",
       "unemployed                   380858.245699  395302.838654  "
      ]
     },
     "execution_count": 58,
     "metadata": {},
     "output_type": "execute_result"
    }
   ],
   "source": [
    "# `days_employed` medians and means grouped by 'income_type'\n",
    "df.groupby('income_type')['days_employed'].describe()"
   ]
  },
  {
   "cell_type": "code",
   "execution_count": 59,
   "metadata": {},
   "outputs": [],
   "source": [
    "# Replacing missing values with median group by income_type\n",
    "df['days_employed'] = df['days_employed'].fillna(df.groupby('income_type')['days_employed'].transform('median'))"
   ]
  },
  {
   "cell_type": "code",
   "execution_count": 60,
   "metadata": {},
   "outputs": [],
   "source": [
    "# Convert days_employed datatype from float to int\n",
    "df['days_employed']=df['days_employed'].astype('int64')"
   ]
  },
  {
   "cell_type": "code",
   "execution_count": 61,
   "metadata": {},
   "outputs": [
    {
     "data": {
      "text/plain": [
       "False    21278\n",
       "Name: days_employed, dtype: int64"
      ]
     },
     "execution_count": 61,
     "metadata": {},
     "output_type": "execute_result"
    }
   ],
   "source": [
    "# Checking if missing values are all filled\n",
    "df['days_employed'].isna().value_counts()"
   ]
  },
  {
   "cell_type": "code",
   "execution_count": 62,
   "metadata": {},
   "outputs": [
    {
     "name": "stdout",
     "output_type": "stream",
     "text": [
      "<class 'pandas.core.frame.DataFrame'>\n",
      "RangeIndex: 21278 entries, 0 to 21277\n",
      "Data columns (total 14 columns):\n",
      "children            21278 non-null int64\n",
      "days_employed       21278 non-null int64\n",
      "dob_years           21278 non-null int64\n",
      "education           21278 non-null object\n",
      "education_id        21278 non-null int64\n",
      "family_status       21278 non-null object\n",
      "family_status_id    21278 non-null int64\n",
      "gender              21278 non-null object\n",
      "income_type         21278 non-null object\n",
      "debt                21278 non-null int64\n",
      "total_income        21278 non-null int64\n",
      "purpose             21278 non-null object\n",
      "group_income        21278 non-null object\n",
      "age_group           21278 non-null object\n",
      "dtypes: int64(7), object(7)\n",
      "memory usage: 2.3+ MB\n"
     ]
    }
   ],
   "source": [
    "df.info()"
   ]
  },
  {
   "cell_type": "markdown",
   "metadata": {},
   "source": [
    "- Distribution of data in `days_employed` are too skewed to be used to replace its missing values. \n",
    "\n",
    "- Replaced those missing values with *median()* values grouped by `income_type` probably produced better datasets because they are existing data. "
   ]
  },
  {
   "cell_type": "markdown",
   "metadata": {},
   "source": [
    "## Categorization of data"
   ]
  },
  {
   "cell_type": "code",
   "execution_count": 63,
   "metadata": {
    "scrolled": true
   },
   "outputs": [
    {
     "data": {
      "text/plain": [
       "0                   purchase of the house\n",
       "1                            car purchase\n",
       "2                   purchase of the house\n",
       "3                 supplementary education\n",
       "4                       to have a wedding\n",
       "5                   purchase of the house\n",
       "6                    housing transactions\n",
       "7                               education\n",
       "8                        having a wedding\n",
       "9     purchase of the house for my family\n",
       "10                        buy real estate\n",
       "11             buy commercial real estate\n",
       "12                      to have a wedding\n",
       "13                           car purchase\n",
       "14            buy residential real estate\n",
       "Name: purpose, dtype: object"
      ]
     },
     "execution_count": 63,
     "metadata": {},
     "output_type": "execute_result"
    }
   ],
   "source": [
    "# Print the values for your selected data for categorization\n",
    "df['purpose'].head(15)"
   ]
  },
  {
   "cell_type": "code",
   "execution_count": 64,
   "metadata": {
    "scrolled": false
   },
   "outputs": [
    {
     "data": {
      "text/plain": [
       "wedding ceremony                            785\n",
       "having a wedding                            760\n",
       "to have a wedding                           756\n",
       "real estate transactions                    671\n",
       "buy commercial real estate                  655\n",
       "buying property for renting out             648\n",
       "transactions with commercial real estate    644\n",
       "housing transactions                        642\n",
       "purchase of the house                       637\n",
       "housing                                     636\n",
       "purchase of the house for my family         636\n",
       "property                                    628\n",
       "construction of own property                627\n",
       "transactions with my real estate            626\n",
       "building a real estate                      620\n",
       "building a property                         619\n",
       "purchase of my own house                    619\n",
       "buy real estate                             616\n",
       "housing renovation                          603\n",
       "buy residential real estate                 601\n",
       "buying my own car                           502\n",
       "going to university                         493\n",
       "car                                         489\n",
       "second-hand car purchase                    480\n",
       "cars                                        475\n",
       "to own a car                                472\n",
       "buying a second-hand car                    472\n",
       "to buy a car                                466\n",
       "car purchase                                459\n",
       "supplementary education                     455\n",
       "purchase of a car                           454\n",
       "university education                        444\n",
       "to get a supplementary education            443\n",
       "education                                   442\n",
       "getting an education                        440\n",
       "profile education                           433\n",
       "getting higher education                    423\n",
       "to become educated                          407\n",
       "Name: purpose, dtype: int64"
      ]
     },
     "execution_count": 64,
     "metadata": {},
     "output_type": "execute_result"
    }
   ],
   "source": [
    "# Check the unique values\n",
    "df['purpose'].value_counts()"
   ]
  },
  {
   "cell_type": "code",
   "execution_count": 65,
   "metadata": {},
   "outputs": [],
   "source": [
    "# Function to categorize the purpose data\n",
    "english_stemmer = SnowballStemmer('english')\n",
    "def categorizer(issue):\n",
    "    if issue == \"profile education\":\n",
    "        return \"education\"\n",
    "    elif issue == \"university education\":\n",
    "        return \"education\"\n",
    "    elif issue == \"supplementary education\":\n",
    "        return \"education\"\n",
    "    for word in issue.replace(',',' ').replace('/',' ').split(\" \"):\n",
    "        stem = english_stemmer.stem(word)\n",
    "        if stem == \"wed\":\n",
    "            return \"wedding\"\n",
    "        elif stem == \"build\" or stem == \"hous\" or stem == \"rent\" or stem == \"comm\"or stem == \"real\" or stem==\"esta\"or stem == \"own\":\n",
    "            return \"property\"\n",
    "        elif stem == \"car\":\n",
    "            return \"automotive\"\n",
    "        elif stem == \"educated\" or stem == \"higher\"or stem == \"an\" or stem == \"to\" or stem == \"university\" or stem == \"profile\":\n",
    "            return \"education\"\n",
    "    return issue"
   ]
  },
  {
   "cell_type": "code",
   "execution_count": 66,
   "metadata": {},
   "outputs": [],
   "source": [
    "# Create a column with the categories and count the values for them\n",
    "df['cat_purpose']=df['purpose'].apply(categorizer)"
   ]
  },
  {
   "cell_type": "code",
   "execution_count": 67,
   "metadata": {},
   "outputs": [
    {
     "data": {
      "text/plain": [
       "property      11230\n",
       "education      5674\n",
       "automotive     2829\n",
       "wedding        1545\n",
       "Name: cat_purpose, dtype: int64"
      ]
     },
     "execution_count": 67,
     "metadata": {},
     "output_type": "execute_result"
    }
   ],
   "source": [
    "# Looking through all the numerical data in your selected column for categorization\n",
    "df['cat_purpose'].value_counts()"
   ]
  },
  {
   "cell_type": "code",
   "execution_count": 68,
   "metadata": {
    "scrolled": false
   },
   "outputs": [
    {
     "data": {
      "text/html": [
       "<div>\n",
       "<style scoped>\n",
       "    .dataframe tbody tr th:only-of-type {\n",
       "        vertical-align: middle;\n",
       "    }\n",
       "\n",
       "    .dataframe tbody tr th {\n",
       "        vertical-align: top;\n",
       "    }\n",
       "\n",
       "    .dataframe thead th {\n",
       "        text-align: right;\n",
       "    }\n",
       "</style>\n",
       "<table border=\"1\" class=\"dataframe\">\n",
       "  <thead>\n",
       "    <tr style=\"text-align: right;\">\n",
       "      <th></th>\n",
       "      <th>children</th>\n",
       "      <th>days_employed</th>\n",
       "      <th>dob_years</th>\n",
       "      <th>education</th>\n",
       "      <th>education_id</th>\n",
       "      <th>family_status</th>\n",
       "      <th>family_status_id</th>\n",
       "      <th>gender</th>\n",
       "      <th>income_type</th>\n",
       "      <th>debt</th>\n",
       "      <th>total_income</th>\n",
       "      <th>purpose</th>\n",
       "      <th>group_income</th>\n",
       "      <th>age_group</th>\n",
       "      <th>cat_purpose</th>\n",
       "    </tr>\n",
       "  </thead>\n",
       "  <tbody>\n",
       "    <tr>\n",
       "      <td>0</td>\n",
       "      <td>1</td>\n",
       "      <td>8437</td>\n",
       "      <td>42</td>\n",
       "      <td>bachelor's degree</td>\n",
       "      <td>0</td>\n",
       "      <td>married</td>\n",
       "      <td>0</td>\n",
       "      <td>F</td>\n",
       "      <td>employee</td>\n",
       "      <td>0</td>\n",
       "      <td>40620</td>\n",
       "      <td>purchase of the house</td>\n",
       "      <td>middle income</td>\n",
       "      <td>40s</td>\n",
       "      <td>property</td>\n",
       "    </tr>\n",
       "    <tr>\n",
       "      <td>1</td>\n",
       "      <td>1</td>\n",
       "      <td>4024</td>\n",
       "      <td>36</td>\n",
       "      <td>secondary education</td>\n",
       "      <td>1</td>\n",
       "      <td>married</td>\n",
       "      <td>0</td>\n",
       "      <td>F</td>\n",
       "      <td>employee</td>\n",
       "      <td>0</td>\n",
       "      <td>17932</td>\n",
       "      <td>car purchase</td>\n",
       "      <td>low income</td>\n",
       "      <td>30s</td>\n",
       "      <td>automotive</td>\n",
       "    </tr>\n",
       "    <tr>\n",
       "      <td>2</td>\n",
       "      <td>0</td>\n",
       "      <td>5623</td>\n",
       "      <td>33</td>\n",
       "      <td>secondary education</td>\n",
       "      <td>1</td>\n",
       "      <td>married</td>\n",
       "      <td>0</td>\n",
       "      <td>M</td>\n",
       "      <td>employee</td>\n",
       "      <td>0</td>\n",
       "      <td>23341</td>\n",
       "      <td>purchase of the house</td>\n",
       "      <td>low income</td>\n",
       "      <td>30s</td>\n",
       "      <td>property</td>\n",
       "    </tr>\n",
       "    <tr>\n",
       "      <td>3</td>\n",
       "      <td>3</td>\n",
       "      <td>4124</td>\n",
       "      <td>32</td>\n",
       "      <td>secondary education</td>\n",
       "      <td>1</td>\n",
       "      <td>married</td>\n",
       "      <td>0</td>\n",
       "      <td>M</td>\n",
       "      <td>employee</td>\n",
       "      <td>0</td>\n",
       "      <td>42820</td>\n",
       "      <td>supplementary education</td>\n",
       "      <td>middle income</td>\n",
       "      <td>30s</td>\n",
       "      <td>education</td>\n",
       "    </tr>\n",
       "    <tr>\n",
       "      <td>4</td>\n",
       "      <td>0</td>\n",
       "      <td>340266</td>\n",
       "      <td>53</td>\n",
       "      <td>secondary education</td>\n",
       "      <td>1</td>\n",
       "      <td>civil partnership</td>\n",
       "      <td>1</td>\n",
       "      <td>F</td>\n",
       "      <td>retiree</td>\n",
       "      <td>0</td>\n",
       "      <td>25378</td>\n",
       "      <td>to have a wedding</td>\n",
       "      <td>low income</td>\n",
       "      <td>50s</td>\n",
       "      <td>education</td>\n",
       "    </tr>\n",
       "    <tr>\n",
       "      <td>5</td>\n",
       "      <td>0</td>\n",
       "      <td>926</td>\n",
       "      <td>27</td>\n",
       "      <td>bachelor's degree</td>\n",
       "      <td>0</td>\n",
       "      <td>civil partnership</td>\n",
       "      <td>1</td>\n",
       "      <td>M</td>\n",
       "      <td>business</td>\n",
       "      <td>0</td>\n",
       "      <td>40922</td>\n",
       "      <td>purchase of the house</td>\n",
       "      <td>middle income</td>\n",
       "      <td>20s</td>\n",
       "      <td>property</td>\n",
       "    </tr>\n",
       "    <tr>\n",
       "      <td>6</td>\n",
       "      <td>0</td>\n",
       "      <td>2879</td>\n",
       "      <td>43</td>\n",
       "      <td>bachelor's degree</td>\n",
       "      <td>0</td>\n",
       "      <td>married</td>\n",
       "      <td>0</td>\n",
       "      <td>F</td>\n",
       "      <td>business</td>\n",
       "      <td>0</td>\n",
       "      <td>38484</td>\n",
       "      <td>housing transactions</td>\n",
       "      <td>middle income</td>\n",
       "      <td>40s</td>\n",
       "      <td>property</td>\n",
       "    </tr>\n",
       "    <tr>\n",
       "      <td>7</td>\n",
       "      <td>0</td>\n",
       "      <td>152</td>\n",
       "      <td>50</td>\n",
       "      <td>secondary education</td>\n",
       "      <td>1</td>\n",
       "      <td>married</td>\n",
       "      <td>0</td>\n",
       "      <td>M</td>\n",
       "      <td>employee</td>\n",
       "      <td>0</td>\n",
       "      <td>21731</td>\n",
       "      <td>education</td>\n",
       "      <td>low income</td>\n",
       "      <td>50s</td>\n",
       "      <td>education</td>\n",
       "    </tr>\n",
       "    <tr>\n",
       "      <td>8</td>\n",
       "      <td>2</td>\n",
       "      <td>6929</td>\n",
       "      <td>35</td>\n",
       "      <td>bachelor's degree</td>\n",
       "      <td>0</td>\n",
       "      <td>civil partnership</td>\n",
       "      <td>1</td>\n",
       "      <td>F</td>\n",
       "      <td>employee</td>\n",
       "      <td>0</td>\n",
       "      <td>15337</td>\n",
       "      <td>having a wedding</td>\n",
       "      <td>low income</td>\n",
       "      <td>30s</td>\n",
       "      <td>wedding</td>\n",
       "    </tr>\n",
       "    <tr>\n",
       "      <td>9</td>\n",
       "      <td>0</td>\n",
       "      <td>2188</td>\n",
       "      <td>41</td>\n",
       "      <td>secondary education</td>\n",
       "      <td>1</td>\n",
       "      <td>married</td>\n",
       "      <td>0</td>\n",
       "      <td>M</td>\n",
       "      <td>employee</td>\n",
       "      <td>0</td>\n",
       "      <td>23108</td>\n",
       "      <td>purchase of the house for my family</td>\n",
       "      <td>low income</td>\n",
       "      <td>40s</td>\n",
       "      <td>property</td>\n",
       "    </tr>\n",
       "  </tbody>\n",
       "</table>\n",
       "</div>"
      ],
      "text/plain": [
       "   children  days_employed  dob_years            education  education_id  \\\n",
       "0         1           8437         42    bachelor's degree             0   \n",
       "1         1           4024         36  secondary education             1   \n",
       "2         0           5623         33  secondary education             1   \n",
       "3         3           4124         32  secondary education             1   \n",
       "4         0         340266         53  secondary education             1   \n",
       "5         0            926         27    bachelor's degree             0   \n",
       "6         0           2879         43    bachelor's degree             0   \n",
       "7         0            152         50  secondary education             1   \n",
       "8         2           6929         35    bachelor's degree             0   \n",
       "9         0           2188         41  secondary education             1   \n",
       "\n",
       "       family_status  family_status_id gender income_type  debt  total_income  \\\n",
       "0            married                 0      F    employee     0         40620   \n",
       "1            married                 0      F    employee     0         17932   \n",
       "2            married                 0      M    employee     0         23341   \n",
       "3            married                 0      M    employee     0         42820   \n",
       "4  civil partnership                 1      F     retiree     0         25378   \n",
       "5  civil partnership                 1      M    business     0         40922   \n",
       "6            married                 0      F    business     0         38484   \n",
       "7            married                 0      M    employee     0         21731   \n",
       "8  civil partnership                 1      F    employee     0         15337   \n",
       "9            married                 0      M    employee     0         23108   \n",
       "\n",
       "                               purpose   group_income age_group cat_purpose  \n",
       "0                purchase of the house  middle income       40s    property  \n",
       "1                         car purchase     low income       30s  automotive  \n",
       "2                purchase of the house     low income       30s    property  \n",
       "3              supplementary education  middle income       30s   education  \n",
       "4                    to have a wedding     low income       50s   education  \n",
       "5                purchase of the house  middle income       20s    property  \n",
       "6                 housing transactions  middle income       40s    property  \n",
       "7                            education     low income       50s   education  \n",
       "8                     having a wedding     low income       30s     wedding  \n",
       "9  purchase of the house for my family     low income       40s    property  "
      ]
     },
     "execution_count": 68,
     "metadata": {},
     "output_type": "execute_result"
    }
   ],
   "source": [
    "# Getting summary statistics for the column\n",
    "df.head(10)"
   ]
  },
  {
   "cell_type": "markdown",
   "metadata": {},
   "source": [
    "There are 38 unique values in `purpose` columns. Categorized them into 4 categories make it much easier to read data: \n",
    "\n",
    "   - property \n",
    "\n",
    "   - education \n",
    "\n",
    "   - automotive \n",
    "\n",
    "   - wedding \n",
    " "
   ]
  },
  {
   "cell_type": "markdown",
   "metadata": {},
   "source": [
    "## Checking the Hypotheses\n"
   ]
  },
  {
   "cell_type": "code",
   "execution_count": 69,
   "metadata": {
    "scrolled": true
   },
   "outputs": [
    {
     "data": {
      "text/plain": [
       "0    19553\n",
       "1     1725\n",
       "Name: debt, dtype: int64"
      ]
     },
     "execution_count": 69,
     "metadata": {},
     "output_type": "execute_result"
    }
   ],
   "source": [
    "df['debt'].value_counts()"
   ]
  },
  {
   "cell_type": "code",
   "execution_count": 70,
   "metadata": {},
   "outputs": [
    {
     "data": {
      "text/html": [
       "<div>\n",
       "<style scoped>\n",
       "    .dataframe tbody tr th:only-of-type {\n",
       "        vertical-align: middle;\n",
       "    }\n",
       "\n",
       "    .dataframe tbody tr th {\n",
       "        vertical-align: top;\n",
       "    }\n",
       "\n",
       "    .dataframe thead th {\n",
       "        text-align: right;\n",
       "    }\n",
       "</style>\n",
       "<table border=\"1\" class=\"dataframe\">\n",
       "  <thead>\n",
       "    <tr style=\"text-align: right;\">\n",
       "      <th>group_income</th>\n",
       "      <th>low income</th>\n",
       "      <th>middle income</th>\n",
       "      <th>upper income</th>\n",
       "      <th>All</th>\n",
       "    </tr>\n",
       "    <tr>\n",
       "      <th>children</th>\n",
       "      <th></th>\n",
       "      <th></th>\n",
       "      <th></th>\n",
       "      <th></th>\n",
       "    </tr>\n",
       "  </thead>\n",
       "  <tbody>\n",
       "    <tr>\n",
       "      <td>0</td>\n",
       "      <td>861.0</td>\n",
       "      <td>194.0</td>\n",
       "      <td>3.0</td>\n",
       "      <td>1058</td>\n",
       "    </tr>\n",
       "    <tr>\n",
       "      <td>1</td>\n",
       "      <td>361.0</td>\n",
       "      <td>80.0</td>\n",
       "      <td>1.0</td>\n",
       "      <td>442</td>\n",
       "    </tr>\n",
       "    <tr>\n",
       "      <td>2</td>\n",
       "      <td>156.0</td>\n",
       "      <td>38.0</td>\n",
       "      <td>0.0</td>\n",
       "      <td>194</td>\n",
       "    </tr>\n",
       "    <tr>\n",
       "      <td>3</td>\n",
       "      <td>23.0</td>\n",
       "      <td>4.0</td>\n",
       "      <td>0.0</td>\n",
       "      <td>27</td>\n",
       "    </tr>\n",
       "    <tr>\n",
       "      <td>4</td>\n",
       "      <td>3.0</td>\n",
       "      <td>1.0</td>\n",
       "      <td>NaN</td>\n",
       "      <td>4</td>\n",
       "    </tr>\n",
       "    <tr>\n",
       "      <td>5</td>\n",
       "      <td>0.0</td>\n",
       "      <td>0.0</td>\n",
       "      <td>NaN</td>\n",
       "      <td>0</td>\n",
       "    </tr>\n",
       "    <tr>\n",
       "      <td>All</td>\n",
       "      <td>1404.0</td>\n",
       "      <td>317.0</td>\n",
       "      <td>4.0</td>\n",
       "      <td>1725</td>\n",
       "    </tr>\n",
       "  </tbody>\n",
       "</table>\n",
       "</div>"
      ],
      "text/plain": [
       "group_income  low income  middle income  upper income   All\n",
       "children                                                   \n",
       "0                  861.0          194.0           3.0  1058\n",
       "1                  361.0           80.0           1.0   442\n",
       "2                  156.0           38.0           0.0   194\n",
       "3                   23.0            4.0           0.0    27\n",
       "4                    3.0            1.0           NaN     4\n",
       "5                    0.0            0.0           NaN     0\n",
       "All               1404.0          317.0           4.0  1725"
      ]
     },
     "execution_count": 70,
     "metadata": {},
     "output_type": "execute_result"
    }
   ],
   "source": [
    "# Check the children data and paying back on time\n",
    "default_children=df.pivot_table(index='children',columns='group_income',values='debt',aggfunc='sum',margins='True')\n",
    "# Calculating default-rate based on the number of children\n",
    "default_children"
   ]
  },
  {
   "cell_type": "code",
   "execution_count": 71,
   "metadata": {},
   "outputs": [
    {
     "data": {
      "text/html": [
       "<div>\n",
       "<style scoped>\n",
       "    .dataframe tbody tr th:only-of-type {\n",
       "        vertical-align: middle;\n",
       "    }\n",
       "\n",
       "    .dataframe tbody tr th {\n",
       "        vertical-align: top;\n",
       "    }\n",
       "\n",
       "    .dataframe thead th {\n",
       "        text-align: right;\n",
       "    }\n",
       "</style>\n",
       "<table border=\"1\" class=\"dataframe\">\n",
       "  <thead>\n",
       "    <tr style=\"text-align: right;\">\n",
       "      <th>group_income</th>\n",
       "      <th>low income</th>\n",
       "      <th>middle income</th>\n",
       "      <th>upper income</th>\n",
       "      <th>All</th>\n",
       "    </tr>\n",
       "    <tr>\n",
       "      <th>family_status</th>\n",
       "      <th></th>\n",
       "      <th></th>\n",
       "      <th></th>\n",
       "      <th></th>\n",
       "    </tr>\n",
       "  </thead>\n",
       "  <tbody>\n",
       "    <tr>\n",
       "      <td>civil partnership</td>\n",
       "      <td>324.0</td>\n",
       "      <td>58.0</td>\n",
       "      <td>1.0</td>\n",
       "      <td>383</td>\n",
       "    </tr>\n",
       "    <tr>\n",
       "      <td>divorced</td>\n",
       "      <td>68.0</td>\n",
       "      <td>16.0</td>\n",
       "      <td>0.0</td>\n",
       "      <td>84</td>\n",
       "    </tr>\n",
       "    <tr>\n",
       "      <td>married</td>\n",
       "      <td>742.0</td>\n",
       "      <td>179.0</td>\n",
       "      <td>3.0</td>\n",
       "      <td>924</td>\n",
       "    </tr>\n",
       "    <tr>\n",
       "      <td>single</td>\n",
       "      <td>216.0</td>\n",
       "      <td>56.0</td>\n",
       "      <td>0.0</td>\n",
       "      <td>272</td>\n",
       "    </tr>\n",
       "    <tr>\n",
       "      <td>widow / widower</td>\n",
       "      <td>54.0</td>\n",
       "      <td>8.0</td>\n",
       "      <td>NaN</td>\n",
       "      <td>62</td>\n",
       "    </tr>\n",
       "    <tr>\n",
       "      <td>All</td>\n",
       "      <td>1404.0</td>\n",
       "      <td>317.0</td>\n",
       "      <td>4.0</td>\n",
       "      <td>1725</td>\n",
       "    </tr>\n",
       "  </tbody>\n",
       "</table>\n",
       "</div>"
      ],
      "text/plain": [
       "group_income       low income  middle income  upper income   All\n",
       "family_status                                                   \n",
       "civil partnership       324.0           58.0           1.0   383\n",
       "divorced                 68.0           16.0           0.0    84\n",
       "married                 742.0          179.0           3.0   924\n",
       "single                  216.0           56.0           0.0   272\n",
       "widow / widower          54.0            8.0           NaN    62\n",
       "All                    1404.0          317.0           4.0  1725"
      ]
     },
     "execution_count": 71,
     "metadata": {},
     "output_type": "execute_result"
    }
   ],
   "source": [
    "# Check the family status data and paying back on time\n",
    "default_family=df.pivot_table(index='family_status',columns='group_income',values='debt',aggfunc='sum',margins='True')\n",
    "# Calculating default-rate based on family status\n",
    "default_family"
   ]
  },
  {
   "cell_type": "code",
   "execution_count": 72,
   "metadata": {},
   "outputs": [
    {
     "data": {
      "text/html": [
       "<div>\n",
       "<style scoped>\n",
       "    .dataframe tbody tr th:only-of-type {\n",
       "        vertical-align: middle;\n",
       "    }\n",
       "\n",
       "    .dataframe tbody tr th {\n",
       "        vertical-align: top;\n",
       "    }\n",
       "\n",
       "    .dataframe thead th {\n",
       "        text-align: right;\n",
       "    }\n",
       "</style>\n",
       "<table border=\"1\" class=\"dataframe\">\n",
       "  <thead>\n",
       "    <tr style=\"text-align: right;\">\n",
       "      <th>income_type</th>\n",
       "      <th>business</th>\n",
       "      <th>civil servant</th>\n",
       "      <th>employee</th>\n",
       "      <th>entrepreneur</th>\n",
       "      <th>paternity / maternity leave</th>\n",
       "      <th>retiree</th>\n",
       "      <th>student</th>\n",
       "      <th>unemployed</th>\n",
       "      <th>All</th>\n",
       "    </tr>\n",
       "    <tr>\n",
       "      <th>group_income</th>\n",
       "      <th></th>\n",
       "      <th></th>\n",
       "      <th></th>\n",
       "      <th></th>\n",
       "      <th></th>\n",
       "      <th></th>\n",
       "      <th></th>\n",
       "      <th></th>\n",
       "      <th></th>\n",
       "    </tr>\n",
       "  </thead>\n",
       "  <tbody>\n",
       "    <tr>\n",
       "      <td>low income</td>\n",
       "      <td>272.0</td>\n",
       "      <td>71.0</td>\n",
       "      <td>872.0</td>\n",
       "      <td>0.0</td>\n",
       "      <td>1.0</td>\n",
       "      <td>187.0</td>\n",
       "      <td>0.0</td>\n",
       "      <td>1.0</td>\n",
       "      <td>1404</td>\n",
       "    </tr>\n",
       "    <tr>\n",
       "      <td>middle income</td>\n",
       "      <td>98.0</td>\n",
       "      <td>15.0</td>\n",
       "      <td>176.0</td>\n",
       "      <td>0.0</td>\n",
       "      <td>NaN</td>\n",
       "      <td>28.0</td>\n",
       "      <td>NaN</td>\n",
       "      <td>NaN</td>\n",
       "      <td>317</td>\n",
       "    </tr>\n",
       "    <tr>\n",
       "      <td>upper income</td>\n",
       "      <td>3.0</td>\n",
       "      <td>0.0</td>\n",
       "      <td>1.0</td>\n",
       "      <td>NaN</td>\n",
       "      <td>NaN</td>\n",
       "      <td>NaN</td>\n",
       "      <td>NaN</td>\n",
       "      <td>NaN</td>\n",
       "      <td>4</td>\n",
       "    </tr>\n",
       "    <tr>\n",
       "      <td>All</td>\n",
       "      <td>373.0</td>\n",
       "      <td>86.0</td>\n",
       "      <td>1049.0</td>\n",
       "      <td>0.0</td>\n",
       "      <td>1.0</td>\n",
       "      <td>215.0</td>\n",
       "      <td>0.0</td>\n",
       "      <td>1.0</td>\n",
       "      <td>1725</td>\n",
       "    </tr>\n",
       "  </tbody>\n",
       "</table>\n",
       "</div>"
      ],
      "text/plain": [
       "income_type    business  civil servant  employee  entrepreneur  \\\n",
       "group_income                                                     \n",
       "low income        272.0           71.0     872.0           0.0   \n",
       "middle income      98.0           15.0     176.0           0.0   \n",
       "upper income        3.0            0.0       1.0           NaN   \n",
       "All               373.0           86.0    1049.0           0.0   \n",
       "\n",
       "income_type    paternity / maternity leave  retiree  student  unemployed   All  \n",
       "group_income                                                                    \n",
       "low income                             1.0    187.0      0.0         1.0  1404  \n",
       "middle income                          NaN     28.0      NaN         NaN   317  \n",
       "upper income                           NaN      NaN      NaN         NaN     4  \n",
       "All                                    1.0    215.0      0.0         1.0  1725  "
      ]
     },
     "execution_count": 72,
     "metadata": {},
     "output_type": "execute_result"
    }
   ],
   "source": [
    "# Check the income level data and paying back on time\n",
    "default_income=df.pivot_table(index='group_income',columns='income_type',values='debt',aggfunc='sum',margins='True')\n",
    "# Calculating default-rate based on income level\n",
    "default_income"
   ]
  },
  {
   "cell_type": "code",
   "execution_count": 73,
   "metadata": {},
   "outputs": [
    {
     "data": {
      "text/html": [
       "<div>\n",
       "<style scoped>\n",
       "    .dataframe tbody tr th:only-of-type {\n",
       "        vertical-align: middle;\n",
       "    }\n",
       "\n",
       "    .dataframe tbody tr th {\n",
       "        vertical-align: top;\n",
       "    }\n",
       "\n",
       "    .dataframe thead th {\n",
       "        text-align: right;\n",
       "    }\n",
       "</style>\n",
       "<table border=\"1\" class=\"dataframe\">\n",
       "  <thead>\n",
       "    <tr style=\"text-align: right;\">\n",
       "      <th>group_income</th>\n",
       "      <th>low income</th>\n",
       "      <th>middle income</th>\n",
       "      <th>upper income</th>\n",
       "      <th>All</th>\n",
       "    </tr>\n",
       "    <tr>\n",
       "      <th>children</th>\n",
       "      <th></th>\n",
       "      <th></th>\n",
       "      <th></th>\n",
       "      <th></th>\n",
       "    </tr>\n",
       "  </thead>\n",
       "  <tbody>\n",
       "    <tr>\n",
       "      <td>0</td>\n",
       "      <td>49.913043</td>\n",
       "      <td>11.246377</td>\n",
       "      <td>0.173913</td>\n",
       "      <td>61.333333</td>\n",
       "    </tr>\n",
       "    <tr>\n",
       "      <td>1</td>\n",
       "      <td>20.927536</td>\n",
       "      <td>4.637681</td>\n",
       "      <td>0.057971</td>\n",
       "      <td>25.623188</td>\n",
       "    </tr>\n",
       "    <tr>\n",
       "      <td>2</td>\n",
       "      <td>9.043478</td>\n",
       "      <td>2.202899</td>\n",
       "      <td>0.000000</td>\n",
       "      <td>11.246377</td>\n",
       "    </tr>\n",
       "    <tr>\n",
       "      <td>3</td>\n",
       "      <td>1.333333</td>\n",
       "      <td>0.231884</td>\n",
       "      <td>0.000000</td>\n",
       "      <td>1.565217</td>\n",
       "    </tr>\n",
       "    <tr>\n",
       "      <td>4</td>\n",
       "      <td>0.173913</td>\n",
       "      <td>0.057971</td>\n",
       "      <td>NaN</td>\n",
       "      <td>0.231884</td>\n",
       "    </tr>\n",
       "    <tr>\n",
       "      <td>5</td>\n",
       "      <td>0.000000</td>\n",
       "      <td>0.000000</td>\n",
       "      <td>NaN</td>\n",
       "      <td>0.000000</td>\n",
       "    </tr>\n",
       "    <tr>\n",
       "      <td>All</td>\n",
       "      <td>81.391304</td>\n",
       "      <td>18.376812</td>\n",
       "      <td>0.231884</td>\n",
       "      <td>100.000000</td>\n",
       "    </tr>\n",
       "  </tbody>\n",
       "</table>\n",
       "</div>"
      ],
      "text/plain": [
       "group_income  low income  middle income  upper income         All\n",
       "children                                                         \n",
       "0              49.913043      11.246377      0.173913   61.333333\n",
       "1              20.927536       4.637681      0.057971   25.623188\n",
       "2               9.043478       2.202899      0.000000   11.246377\n",
       "3               1.333333       0.231884      0.000000    1.565217\n",
       "4               0.173913       0.057971           NaN    0.231884\n",
       "5               0.000000       0.000000           NaN    0.000000\n",
       "All            81.391304      18.376812      0.231884  100.000000"
      ]
     },
     "execution_count": 73,
     "metadata": {},
     "output_type": "execute_result"
    }
   ],
   "source": [
    "# Check the percentages for default rate for each credit purpose for analysis\n",
    "default_children/len(df[df['debt']==1])*100"
   ]
  },
  {
   "cell_type": "code",
   "execution_count": 74,
   "metadata": {},
   "outputs": [
    {
     "data": {
      "text/html": [
       "<div>\n",
       "<style scoped>\n",
       "    .dataframe tbody tr th:only-of-type {\n",
       "        vertical-align: middle;\n",
       "    }\n",
       "\n",
       "    .dataframe tbody tr th {\n",
       "        vertical-align: top;\n",
       "    }\n",
       "\n",
       "    .dataframe thead th {\n",
       "        text-align: right;\n",
       "    }\n",
       "</style>\n",
       "<table border=\"1\" class=\"dataframe\">\n",
       "  <thead>\n",
       "    <tr style=\"text-align: right;\">\n",
       "      <th>group_income</th>\n",
       "      <th>low income</th>\n",
       "      <th>middle income</th>\n",
       "      <th>upper income</th>\n",
       "      <th>All</th>\n",
       "    </tr>\n",
       "    <tr>\n",
       "      <th>family_status</th>\n",
       "      <th></th>\n",
       "      <th></th>\n",
       "      <th></th>\n",
       "      <th></th>\n",
       "    </tr>\n",
       "  </thead>\n",
       "  <tbody>\n",
       "    <tr>\n",
       "      <td>civil partnership</td>\n",
       "      <td>18.782609</td>\n",
       "      <td>3.362319</td>\n",
       "      <td>0.057971</td>\n",
       "      <td>22.202899</td>\n",
       "    </tr>\n",
       "    <tr>\n",
       "      <td>divorced</td>\n",
       "      <td>3.942029</td>\n",
       "      <td>0.927536</td>\n",
       "      <td>0.000000</td>\n",
       "      <td>4.869565</td>\n",
       "    </tr>\n",
       "    <tr>\n",
       "      <td>married</td>\n",
       "      <td>43.014493</td>\n",
       "      <td>10.376812</td>\n",
       "      <td>0.173913</td>\n",
       "      <td>53.565217</td>\n",
       "    </tr>\n",
       "    <tr>\n",
       "      <td>single</td>\n",
       "      <td>12.521739</td>\n",
       "      <td>3.246377</td>\n",
       "      <td>0.000000</td>\n",
       "      <td>15.768116</td>\n",
       "    </tr>\n",
       "    <tr>\n",
       "      <td>widow / widower</td>\n",
       "      <td>3.130435</td>\n",
       "      <td>0.463768</td>\n",
       "      <td>NaN</td>\n",
       "      <td>3.594203</td>\n",
       "    </tr>\n",
       "    <tr>\n",
       "      <td>All</td>\n",
       "      <td>81.391304</td>\n",
       "      <td>18.376812</td>\n",
       "      <td>0.231884</td>\n",
       "      <td>100.000000</td>\n",
       "    </tr>\n",
       "  </tbody>\n",
       "</table>\n",
       "</div>"
      ],
      "text/plain": [
       "group_income       low income  middle income  upper income         All\n",
       "family_status                                                         \n",
       "civil partnership   18.782609       3.362319      0.057971   22.202899\n",
       "divorced             3.942029       0.927536      0.000000    4.869565\n",
       "married             43.014493      10.376812      0.173913   53.565217\n",
       "single              12.521739       3.246377      0.000000   15.768116\n",
       "widow / widower      3.130435       0.463768           NaN    3.594203\n",
       "All                 81.391304      18.376812      0.231884  100.000000"
      ]
     },
     "execution_count": 74,
     "metadata": {},
     "output_type": "execute_result"
    }
   ],
   "source": [
    "default_family/len(df[df['debt']==1])*100"
   ]
  },
  {
   "cell_type": "code",
   "execution_count": 75,
   "metadata": {
    "scrolled": true
   },
   "outputs": [
    {
     "data": {
      "text/html": [
       "<div>\n",
       "<style scoped>\n",
       "    .dataframe tbody tr th:only-of-type {\n",
       "        vertical-align: middle;\n",
       "    }\n",
       "\n",
       "    .dataframe tbody tr th {\n",
       "        vertical-align: top;\n",
       "    }\n",
       "\n",
       "    .dataframe thead th {\n",
       "        text-align: right;\n",
       "    }\n",
       "</style>\n",
       "<table border=\"1\" class=\"dataframe\">\n",
       "  <thead>\n",
       "    <tr style=\"text-align: right;\">\n",
       "      <th>income_type</th>\n",
       "      <th>business</th>\n",
       "      <th>civil servant</th>\n",
       "      <th>employee</th>\n",
       "      <th>entrepreneur</th>\n",
       "      <th>paternity / maternity leave</th>\n",
       "      <th>retiree</th>\n",
       "      <th>student</th>\n",
       "      <th>unemployed</th>\n",
       "      <th>All</th>\n",
       "    </tr>\n",
       "    <tr>\n",
       "      <th>group_income</th>\n",
       "      <th></th>\n",
       "      <th></th>\n",
       "      <th></th>\n",
       "      <th></th>\n",
       "      <th></th>\n",
       "      <th></th>\n",
       "      <th></th>\n",
       "      <th></th>\n",
       "      <th></th>\n",
       "    </tr>\n",
       "  </thead>\n",
       "  <tbody>\n",
       "    <tr>\n",
       "      <td>low income</td>\n",
       "      <td>15.768116</td>\n",
       "      <td>4.115942</td>\n",
       "      <td>50.550725</td>\n",
       "      <td>0.0</td>\n",
       "      <td>0.057971</td>\n",
       "      <td>10.840580</td>\n",
       "      <td>0.0</td>\n",
       "      <td>0.057971</td>\n",
       "      <td>81.391304</td>\n",
       "    </tr>\n",
       "    <tr>\n",
       "      <td>middle income</td>\n",
       "      <td>5.681159</td>\n",
       "      <td>0.869565</td>\n",
       "      <td>10.202899</td>\n",
       "      <td>0.0</td>\n",
       "      <td>NaN</td>\n",
       "      <td>1.623188</td>\n",
       "      <td>NaN</td>\n",
       "      <td>NaN</td>\n",
       "      <td>18.376812</td>\n",
       "    </tr>\n",
       "    <tr>\n",
       "      <td>upper income</td>\n",
       "      <td>0.173913</td>\n",
       "      <td>0.000000</td>\n",
       "      <td>0.057971</td>\n",
       "      <td>NaN</td>\n",
       "      <td>NaN</td>\n",
       "      <td>NaN</td>\n",
       "      <td>NaN</td>\n",
       "      <td>NaN</td>\n",
       "      <td>0.231884</td>\n",
       "    </tr>\n",
       "    <tr>\n",
       "      <td>All</td>\n",
       "      <td>21.623188</td>\n",
       "      <td>4.985507</td>\n",
       "      <td>60.811594</td>\n",
       "      <td>0.0</td>\n",
       "      <td>0.057971</td>\n",
       "      <td>12.463768</td>\n",
       "      <td>0.0</td>\n",
       "      <td>0.057971</td>\n",
       "      <td>100.000000</td>\n",
       "    </tr>\n",
       "  </tbody>\n",
       "</table>\n",
       "</div>"
      ],
      "text/plain": [
       "income_type     business  civil servant   employee  entrepreneur  \\\n",
       "group_income                                                       \n",
       "low income     15.768116       4.115942  50.550725           0.0   \n",
       "middle income   5.681159       0.869565  10.202899           0.0   \n",
       "upper income    0.173913       0.000000   0.057971           NaN   \n",
       "All            21.623188       4.985507  60.811594           0.0   \n",
       "\n",
       "income_type    paternity / maternity leave    retiree  student  unemployed  \\\n",
       "group_income                                                                 \n",
       "low income                        0.057971  10.840580      0.0    0.057971   \n",
       "middle income                          NaN   1.623188      NaN         NaN   \n",
       "upper income                           NaN        NaN      NaN         NaN   \n",
       "All                               0.057971  12.463768      0.0    0.057971   \n",
       "\n",
       "income_type           All  \n",
       "group_income               \n",
       "low income      81.391304  \n",
       "middle income   18.376812  \n",
       "upper income     0.231884  \n",
       "All            100.000000  "
      ]
     },
     "execution_count": 75,
     "metadata": {},
     "output_type": "execute_result"
    }
   ],
   "source": [
    "default_income/len(df[df['debt']==1])*100"
   ]
  },
  {
   "cell_type": "markdown",
   "metadata": {},
   "source": [
    "# Conclusion  \n",
    "\n",
    "  \n",
    "\n",
    "**Children vs Debt** \n",
    "\n",
    "- Having children does not seem to have much impact on debt repayment on time. \n",
    "\n",
    "- Most of the low income without any children have the highest debt default rate. Which is approximately 49% of the datasets `children-debt`. \n",
    "\n",
    "- Having more children and low incomes has a general impact on debt repayment on time. \n",
    "\n",
    "- Number of children might not be the main effect on paying debt back on time. \n",
    "\n",
    "  \n",
    "\n",
    "**Family Status vs Debt** \n",
    "\n",
    "- Married couples with low income have the highest rate of debt default. \n",
    "\n",
    "- Divorced and widow/widower have less impact on debt default. \n",
    "\n",
    "- Married couples have a significant impact on paying debt on time. This is a total of about 54% of the family's overall status in all income brackets to affect debt. \n",
    "\n",
    "  \n",
    "\n",
    "**Income_level vs Debt** \n",
    "\n",
    "- Low-income households have shown to have a significant impact on debt default. \n",
    "\n",
    "- Approximately 81% of the debt default falls on low-income group. \n",
    "\n",
    "- On the opposite side, upper income group have hardly any debt default in datasets at all. (Only 0.2% of the total datasets) \n",
    "\n",
    "  \n",
    "\n",
    "Based on the analysis from datasets with the provided data, *low income* household have significantly higher chance to default on debt. Surprisingly, data showed that households without children had a higher rate of debt default, which usually was not the case because households without children might have less commitment and be less likely to be in financial hardship. So, having kids will not increase the rate of debt default.  \n",
    "\n",
    "  \n",
    "\n",
    "- ***Borrower with conditions below able to reduce the debt default risk:*** \n",
    "\n",
    "- `income status of middle to upper income` \n",
    "\n",
    "- `family status divorce, widower, single` \n",
    "\n",
    "- `number of children > 1. ` "
   ]
  }
 ],
 "metadata": {
  "ExecuteTimeLog": [
   {
    "duration": 2741,
    "start_time": "2021-10-21T01:08:49.480Z"
   },
   {
    "duration": 52,
    "start_time": "2021-10-21T01:08:53.315Z"
   },
   {
    "duration": 49,
    "start_time": "2021-10-21T01:08:57.432Z"
   },
   {
    "duration": 70,
    "start_time": "2021-10-21T01:09:07.706Z"
   },
   {
    "duration": 1968,
    "start_time": "2021-11-20T21:43:35.944Z"
   },
   {
    "duration": 12,
    "start_time": "2021-11-20T21:43:37.915Z"
   },
   {
    "duration": 22,
    "start_time": "2021-11-20T21:43:37.930Z"
   },
   {
    "duration": 34,
    "start_time": "2021-11-20T21:43:37.954Z"
   },
   {
    "duration": 12,
    "start_time": "2021-11-20T21:43:37.990Z"
   },
   {
    "duration": 7,
    "start_time": "2021-11-20T21:43:38.004Z"
   },
   {
    "duration": 108,
    "start_time": "2021-11-20T21:43:38.013Z"
   },
   {
    "duration": 536,
    "start_time": "2021-11-20T21:43:38.123Z"
   },
   {
    "duration": 1761,
    "start_time": "2021-11-20T21:43:36.904Z"
   },
   {
    "duration": 1758,
    "start_time": "2021-11-20T21:43:36.908Z"
   },
   {
    "duration": 1757,
    "start_time": "2021-11-20T21:43:36.910Z"
   },
   {
    "duration": 1757,
    "start_time": "2021-11-20T21:43:36.912Z"
   },
   {
    "duration": 1757,
    "start_time": "2021-11-20T21:43:36.913Z"
   },
   {
    "duration": 1752,
    "start_time": "2021-11-20T21:43:36.919Z"
   },
   {
    "duration": 1751,
    "start_time": "2021-11-20T21:43:36.921Z"
   },
   {
    "duration": 1752,
    "start_time": "2021-11-20T21:43:36.922Z"
   },
   {
    "duration": 1751,
    "start_time": "2021-11-20T21:43:36.924Z"
   },
   {
    "duration": 1750,
    "start_time": "2021-11-20T21:43:36.926Z"
   },
   {
    "duration": 1750,
    "start_time": "2021-11-20T21:43:36.928Z"
   },
   {
    "duration": 1749,
    "start_time": "2021-11-20T21:43:36.930Z"
   },
   {
    "duration": 1744,
    "start_time": "2021-11-20T21:43:36.937Z"
   },
   {
    "duration": 1743,
    "start_time": "2021-11-20T21:43:36.939Z"
   },
   {
    "duration": 1743,
    "start_time": "2021-11-20T21:43:36.940Z"
   },
   {
    "duration": 1743,
    "start_time": "2021-11-20T21:43:36.942Z"
   },
   {
    "duration": 1743,
    "start_time": "2021-11-20T21:43:36.943Z"
   },
   {
    "duration": 1743,
    "start_time": "2021-11-20T21:43:36.945Z"
   },
   {
    "duration": 1742,
    "start_time": "2021-11-20T21:43:36.947Z"
   },
   {
    "duration": 1742,
    "start_time": "2021-11-20T21:43:36.948Z"
   },
   {
    "duration": 1739,
    "start_time": "2021-11-20T21:43:36.954Z"
   },
   {
    "duration": 1739,
    "start_time": "2021-11-20T21:43:36.955Z"
   },
   {
    "duration": 1739,
    "start_time": "2021-11-20T21:43:36.957Z"
   },
   {
    "duration": 1739,
    "start_time": "2021-11-20T21:43:36.958Z"
   },
   {
    "duration": 1737,
    "start_time": "2021-11-20T21:43:36.962Z"
   },
   {
    "duration": 1626,
    "start_time": "2021-11-20T21:43:37.074Z"
   },
   {
    "duration": 1619,
    "start_time": "2021-11-20T21:43:37.083Z"
   },
   {
    "duration": 1618,
    "start_time": "2021-11-20T21:43:37.085Z"
   },
   {
    "duration": 1618,
    "start_time": "2021-11-20T21:43:37.086Z"
   },
   {
    "duration": 1566,
    "start_time": "2021-11-20T21:43:37.140Z"
   },
   {
    "duration": 1503,
    "start_time": "2021-11-20T21:43:37.205Z"
   },
   {
    "duration": 1502,
    "start_time": "2021-11-20T21:43:37.207Z"
   },
   {
    "duration": 1503,
    "start_time": "2021-11-20T21:43:37.208Z"
   },
   {
    "duration": 1502,
    "start_time": "2021-11-20T21:43:37.210Z"
   },
   {
    "duration": 1502,
    "start_time": "2021-11-20T21:43:37.211Z"
   },
   {
    "duration": 1502,
    "start_time": "2021-11-20T21:43:37.213Z"
   },
   {
    "duration": 1502,
    "start_time": "2021-11-20T21:43:37.214Z"
   },
   {
    "duration": 1501,
    "start_time": "2021-11-20T21:43:37.216Z"
   },
   {
    "duration": 1501,
    "start_time": "2021-11-20T21:43:37.218Z"
   },
   {
    "duration": 1501,
    "start_time": "2021-11-20T21:43:37.219Z"
   },
   {
    "duration": 1501,
    "start_time": "2021-11-20T21:43:37.220Z"
   },
   {
    "duration": 1501,
    "start_time": "2021-11-20T21:43:37.222Z"
   },
   {
    "duration": 1559,
    "start_time": "2021-11-20T21:43:37.223Z"
   },
   {
    "duration": 1558,
    "start_time": "2021-11-20T21:43:37.225Z"
   },
   {
    "duration": 1559,
    "start_time": "2021-11-20T21:43:37.226Z"
   },
   {
    "duration": 1559,
    "start_time": "2021-11-20T21:43:37.227Z"
   },
   {
    "duration": 1558,
    "start_time": "2021-11-20T21:43:37.229Z"
   },
   {
    "duration": 1559,
    "start_time": "2021-11-20T21:43:37.230Z"
   },
   {
    "duration": 1558,
    "start_time": "2021-11-20T21:43:37.232Z"
   },
   {
    "duration": 1558,
    "start_time": "2021-11-20T21:43:37.234Z"
   },
   {
    "duration": 1558,
    "start_time": "2021-11-20T21:43:37.235Z"
   },
   {
    "duration": 1558,
    "start_time": "2021-11-20T21:43:37.237Z"
   },
   {
    "duration": 1558,
    "start_time": "2021-11-20T21:43:37.238Z"
   },
   {
    "duration": 1558,
    "start_time": "2021-11-20T21:43:37.240Z"
   },
   {
    "duration": 1558,
    "start_time": "2021-11-20T21:43:37.241Z"
   },
   {
    "duration": 1559,
    "start_time": "2021-11-20T21:43:37.242Z"
   },
   {
    "duration": 1558,
    "start_time": "2021-11-20T21:43:37.244Z"
   },
   {
    "duration": 1556,
    "start_time": "2021-11-20T21:43:37.248Z"
   },
   {
    "duration": 1556,
    "start_time": "2021-11-20T21:43:37.249Z"
   },
   {
    "duration": 1555,
    "start_time": "2021-11-20T21:43:37.251Z"
   },
   {
    "duration": 1556,
    "start_time": "2021-11-20T21:43:37.252Z"
   },
   {
    "duration": 1556,
    "start_time": "2021-11-20T21:43:37.253Z"
   },
   {
    "duration": 1556,
    "start_time": "2021-11-20T21:43:37.255Z"
   },
   {
    "duration": 1556,
    "start_time": "2021-11-20T21:43:37.256Z"
   },
   {
    "duration": 1556,
    "start_time": "2021-11-20T21:43:37.258Z"
   },
   {
    "duration": 1556,
    "start_time": "2021-11-20T21:43:37.259Z"
   },
   {
    "duration": 10,
    "start_time": "2021-11-20T21:43:50.718Z"
   },
   {
    "duration": 22,
    "start_time": "2021-11-20T21:43:51.187Z"
   },
   {
    "duration": 18,
    "start_time": "2021-11-20T21:43:51.564Z"
   },
   {
    "duration": 8,
    "start_time": "2021-11-20T21:43:51.854Z"
   },
   {
    "duration": 7,
    "start_time": "2021-11-20T21:43:52.394Z"
   },
   {
    "duration": 7,
    "start_time": "2021-11-20T21:43:52.644Z"
   },
   {
    "duration": 10,
    "start_time": "2021-11-20T21:43:52.896Z"
   },
   {
    "duration": 10,
    "start_time": "2021-11-20T21:43:53.144Z"
   },
   {
    "duration": 8,
    "start_time": "2021-11-20T21:43:53.650Z"
   },
   {
    "duration": 9,
    "start_time": "2021-11-20T21:43:54.103Z"
   },
   {
    "duration": 7,
    "start_time": "2021-11-20T21:43:54.324Z"
   },
   {
    "duration": 7,
    "start_time": "2021-11-20T21:43:54.554Z"
   },
   {
    "duration": 9,
    "start_time": "2021-11-20T21:43:54.787Z"
   },
   {
    "duration": 12,
    "start_time": "2021-11-20T21:43:55.013Z"
   },
   {
    "duration": 6,
    "start_time": "2021-11-20T21:43:55.226Z"
   },
   {
    "duration": 13,
    "start_time": "2021-11-20T21:43:55.668Z"
   },
   {
    "duration": 5,
    "start_time": "2021-11-20T21:43:56.075Z"
   },
   {
    "duration": 9,
    "start_time": "2021-11-20T21:43:56.287Z"
   },
   {
    "duration": 14,
    "start_time": "2021-11-20T21:43:56.477Z"
   },
   {
    "duration": 7,
    "start_time": "2021-11-20T21:43:56.686Z"
   },
   {
    "duration": 13,
    "start_time": "2021-11-20T21:43:56.870Z"
   },
   {
    "duration": 10,
    "start_time": "2021-11-20T21:43:57.247Z"
   },
   {
    "duration": 36,
    "start_time": "2021-11-20T21:43:57.428Z"
   },
   {
    "duration": 27,
    "start_time": "2021-11-20T21:43:57.649Z"
   },
   {
    "duration": 39,
    "start_time": "2021-11-20T21:43:57.815Z"
   },
   {
    "duration": 6,
    "start_time": "2021-11-20T21:43:58.054Z"
   },
   {
    "duration": 9,
    "start_time": "2021-11-20T21:43:58.680Z"
   },
   {
    "duration": 12,
    "start_time": "2021-11-20T21:43:59.084Z"
   },
   {
    "duration": 24,
    "start_time": "2021-11-20T21:43:59.268Z"
   },
   {
    "duration": 12,
    "start_time": "2021-11-20T21:43:59.453Z"
   },
   {
    "duration": 19,
    "start_time": "2021-11-20T21:43:59.645Z"
   },
   {
    "duration": 29,
    "start_time": "2021-11-20T21:43:59.866Z"
   },
   {
    "duration": 56,
    "start_time": "2021-11-20T21:44:00.116Z"
   },
   {
    "duration": 56,
    "start_time": "2021-11-20T21:44:00.337Z"
   },
   {
    "duration": 14,
    "start_time": "2021-11-20T21:44:00.550Z"
   },
   {
    "duration": 11,
    "start_time": "2021-11-20T21:44:00.768Z"
   },
   {
    "duration": 5,
    "start_time": "2021-11-20T21:44:00.983Z"
   },
   {
    "duration": 11,
    "start_time": "2021-11-20T21:44:01.189Z"
   },
   {
    "duration": 11,
    "start_time": "2021-11-20T21:44:01.387Z"
   },
   {
    "duration": 5,
    "start_time": "2021-11-20T21:44:01.597Z"
   },
   {
    "duration": 5,
    "start_time": "2021-11-20T21:44:01.801Z"
   },
   {
    "duration": 18,
    "start_time": "2021-11-20T21:44:02.003Z"
   },
   {
    "duration": 12,
    "start_time": "2021-11-20T21:44:02.242Z"
   },
   {
    "duration": 37,
    "start_time": "2021-11-20T21:44:02.474Z"
   },
   {
    "duration": 7,
    "start_time": "2021-11-20T21:44:03.171Z"
   },
   {
    "duration": 9,
    "start_time": "2021-11-20T21:44:03.395Z"
   },
   {
    "duration": 11,
    "start_time": "2021-11-20T21:44:03.628Z"
   },
   {
    "duration": 48,
    "start_time": "2021-11-20T21:44:03.875Z"
   },
   {
    "duration": 47,
    "start_time": "2021-11-20T21:44:04.093Z"
   },
   {
    "duration": 11,
    "start_time": "2021-11-20T21:44:04.302Z"
   },
   {
    "duration": 5,
    "start_time": "2021-11-20T21:44:04.512Z"
   },
   {
    "duration": 9,
    "start_time": "2021-11-20T21:44:04.733Z"
   },
   {
    "duration": 17,
    "start_time": "2021-11-20T21:44:04.948Z"
   },
   {
    "duration": 9,
    "start_time": "2021-11-20T21:44:05.593Z"
   },
   {
    "duration": 10,
    "start_time": "2021-11-20T21:44:05.800Z"
   },
   {
    "duration": 7,
    "start_time": "2021-11-20T21:44:06.013Z"
   },
   {
    "duration": 1201,
    "start_time": "2021-11-20T21:44:06.216Z"
   },
   {
    "duration": 14,
    "start_time": "2021-11-20T21:44:07.420Z"
   },
   {
    "duration": 57,
    "start_time": "2021-11-20T21:44:07.438Z"
   },
   {
    "duration": 14,
    "start_time": "2021-11-20T21:44:07.498Z"
   },
   {
    "duration": 97,
    "start_time": "2021-11-20T21:44:07.514Z"
   },
   {
    "duration": 115,
    "start_time": "2021-11-20T21:44:07.647Z"
   },
   {
    "duration": 126,
    "start_time": "2021-11-20T21:44:07.845Z"
   },
   {
    "duration": 33,
    "start_time": "2021-11-20T21:44:08.124Z"
   },
   {
    "duration": 25,
    "start_time": "2021-11-20T21:44:08.377Z"
   },
   {
    "duration": 30,
    "start_time": "2021-11-20T21:44:08.638Z"
   },
   {
    "duration": 2613,
    "start_time": "2021-11-20T22:15:59.439Z"
   },
   {
    "duration": 14,
    "start_time": "2021-11-20T22:16:02.055Z"
   },
   {
    "duration": 22,
    "start_time": "2021-11-20T22:16:02.079Z"
   },
   {
    "duration": 19,
    "start_time": "2021-11-20T22:16:02.103Z"
   },
   {
    "duration": 14,
    "start_time": "2021-11-20T22:16:02.125Z"
   },
   {
    "duration": 40,
    "start_time": "2021-11-20T22:16:02.142Z"
   },
   {
    "duration": 127,
    "start_time": "2021-11-20T22:16:02.186Z"
   },
   {
    "duration": 712,
    "start_time": "2021-11-20T22:16:02.318Z"
   },
   {
    "duration": 1665,
    "start_time": "2021-11-20T22:16:01.371Z"
   },
   {
    "duration": 1664,
    "start_time": "2021-11-20T22:16:01.374Z"
   },
   {
    "duration": 1663,
    "start_time": "2021-11-20T22:16:01.377Z"
   },
   {
    "duration": 1659,
    "start_time": "2021-11-20T22:16:01.382Z"
   },
   {
    "duration": 1659,
    "start_time": "2021-11-20T22:16:01.384Z"
   },
   {
    "duration": 1656,
    "start_time": "2021-11-20T22:16:01.388Z"
   },
   {
    "duration": 1654,
    "start_time": "2021-11-20T22:16:01.391Z"
   },
   {
    "duration": 1653,
    "start_time": "2021-11-20T22:16:01.394Z"
   },
   {
    "duration": 1651,
    "start_time": "2021-11-20T22:16:01.397Z"
   },
   {
    "duration": 1650,
    "start_time": "2021-11-20T22:16:01.399Z"
   },
   {
    "duration": 1648,
    "start_time": "2021-11-20T22:16:01.402Z"
   },
   {
    "duration": 1639,
    "start_time": "2021-11-20T22:16:01.413Z"
   },
   {
    "duration": 1635,
    "start_time": "2021-11-20T22:16:01.418Z"
   },
   {
    "duration": 1634,
    "start_time": "2021-11-20T22:16:01.420Z"
   },
   {
    "duration": 1631,
    "start_time": "2021-11-20T22:16:01.424Z"
   },
   {
    "duration": 1630,
    "start_time": "2021-11-20T22:16:01.427Z"
   },
   {
    "duration": 1627,
    "start_time": "2021-11-20T22:16:01.431Z"
   },
   {
    "duration": 1625,
    "start_time": "2021-11-20T22:16:01.434Z"
   },
   {
    "duration": 1621,
    "start_time": "2021-11-20T22:16:01.439Z"
   },
   {
    "duration": 1620,
    "start_time": "2021-11-20T22:16:01.442Z"
   },
   {
    "duration": 1616,
    "start_time": "2021-11-20T22:16:01.447Z"
   },
   {
    "duration": 1615,
    "start_time": "2021-11-20T22:16:01.449Z"
   },
   {
    "duration": 1612,
    "start_time": "2021-11-20T22:16:01.453Z"
   },
   {
    "duration": 1611,
    "start_time": "2021-11-20T22:16:01.456Z"
   },
   {
    "duration": 1557,
    "start_time": "2021-11-20T22:16:01.514Z"
   },
   {
    "duration": 1554,
    "start_time": "2021-11-20T22:16:01.518Z"
   },
   {
    "duration": 1560,
    "start_time": "2021-11-20T22:16:01.521Z"
   },
   {
    "duration": 1559,
    "start_time": "2021-11-20T22:16:01.524Z"
   },
   {
    "duration": 1557,
    "start_time": "2021-11-20T22:16:01.528Z"
   },
   {
    "duration": 1552,
    "start_time": "2021-11-20T22:16:01.534Z"
   },
   {
    "duration": 1551,
    "start_time": "2021-11-20T22:16:01.536Z"
   },
   {
    "duration": 1547,
    "start_time": "2021-11-20T22:16:01.541Z"
   },
   {
    "duration": 1547,
    "start_time": "2021-11-20T22:16:01.543Z"
   },
   {
    "duration": 1544,
    "start_time": "2021-11-20T22:16:01.547Z"
   },
   {
    "duration": 1543,
    "start_time": "2021-11-20T22:16:01.549Z"
   },
   {
    "duration": 1540,
    "start_time": "2021-11-20T22:16:01.554Z"
   },
   {
    "duration": 1538,
    "start_time": "2021-11-20T22:16:01.557Z"
   },
   {
    "duration": 1536,
    "start_time": "2021-11-20T22:16:01.560Z"
   },
   {
    "duration": 1534,
    "start_time": "2021-11-20T22:16:01.563Z"
   },
   {
    "duration": 1534,
    "start_time": "2021-11-20T22:16:01.565Z"
   },
   {
    "duration": 1488,
    "start_time": "2021-11-20T22:16:01.612Z"
   },
   {
    "duration": 1485,
    "start_time": "2021-11-20T22:16:01.617Z"
   },
   {
    "duration": 1484,
    "start_time": "2021-11-20T22:16:01.619Z"
   },
   {
    "duration": 1480,
    "start_time": "2021-11-20T22:16:01.624Z"
   },
   {
    "duration": 1480,
    "start_time": "2021-11-20T22:16:01.626Z"
   },
   {
    "duration": 1477,
    "start_time": "2021-11-20T22:16:01.630Z"
   },
   {
    "duration": 1474,
    "start_time": "2021-11-20T22:16:01.634Z"
   },
   {
    "duration": 1470,
    "start_time": "2021-11-20T22:16:01.639Z"
   },
   {
    "duration": 1470,
    "start_time": "2021-11-20T22:16:01.641Z"
   },
   {
    "duration": 1466,
    "start_time": "2021-11-20T22:16:01.646Z"
   },
   {
    "duration": 1465,
    "start_time": "2021-11-20T22:16:01.648Z"
   },
   {
    "duration": 1462,
    "start_time": "2021-11-20T22:16:01.653Z"
   },
   {
    "duration": 1461,
    "start_time": "2021-11-20T22:16:01.655Z"
   },
   {
    "duration": 1525,
    "start_time": "2021-11-20T22:16:01.659Z"
   },
   {
    "duration": 1524,
    "start_time": "2021-11-20T22:16:01.662Z"
   },
   {
    "duration": 1521,
    "start_time": "2021-11-20T22:16:01.666Z"
   },
   {
    "duration": 1520,
    "start_time": "2021-11-20T22:16:01.669Z"
   },
   {
    "duration": 1520,
    "start_time": "2021-11-20T22:16:01.671Z"
   },
   {
    "duration": 1519,
    "start_time": "2021-11-20T22:16:01.674Z"
   },
   {
    "duration": 1512,
    "start_time": "2021-11-20T22:16:01.682Z"
   },
   {
    "duration": 1511,
    "start_time": "2021-11-20T22:16:01.685Z"
   },
   {
    "duration": 1509,
    "start_time": "2021-11-20T22:16:01.689Z"
   },
   {
    "duration": 1507,
    "start_time": "2021-11-20T22:16:01.692Z"
   },
   {
    "duration": 1508,
    "start_time": "2021-11-20T22:16:01.693Z"
   },
   {
    "duration": 1506,
    "start_time": "2021-11-20T22:16:01.696Z"
   },
   {
    "duration": 1505,
    "start_time": "2021-11-20T22:16:01.698Z"
   },
   {
    "duration": 10,
    "start_time": "2021-11-20T22:16:14.099Z"
   },
   {
    "duration": 15,
    "start_time": "2021-11-20T22:16:14.560Z"
   },
   {
    "duration": 12,
    "start_time": "2021-11-20T22:16:14.593Z"
   },
   {
    "duration": 11,
    "start_time": "2021-11-20T22:16:14.664Z"
   },
   {
    "duration": 7,
    "start_time": "2021-11-20T22:16:14.730Z"
   },
   {
    "duration": 7,
    "start_time": "2021-11-20T22:16:14.764Z"
   },
   {
    "duration": 8,
    "start_time": "2021-11-20T22:16:14.799Z"
   },
   {
    "duration": 11,
    "start_time": "2021-11-20T22:16:14.838Z"
   },
   {
    "duration": 9,
    "start_time": "2021-11-20T22:16:14.871Z"
   },
   {
    "duration": 10,
    "start_time": "2021-11-20T22:16:14.971Z"
   },
   {
    "duration": 8,
    "start_time": "2021-11-20T22:16:14.999Z"
   },
   {
    "duration": 7,
    "start_time": "2021-11-20T22:16:15.035Z"
   },
   {
    "duration": 9,
    "start_time": "2021-11-20T22:16:15.070Z"
   },
   {
    "duration": 12,
    "start_time": "2021-11-20T22:16:15.102Z"
   },
   {
    "duration": 6,
    "start_time": "2021-11-20T22:16:15.136Z"
   },
   {
    "duration": 11,
    "start_time": "2021-11-20T22:16:15.237Z"
   },
   {
    "duration": 5,
    "start_time": "2021-11-20T22:16:15.306Z"
   },
   {
    "duration": 11,
    "start_time": "2021-11-20T22:16:15.374Z"
   },
   {
    "duration": 11,
    "start_time": "2021-11-20T22:16:15.406Z"
   },
   {
    "duration": 5,
    "start_time": "2021-11-20T22:16:15.445Z"
   },
   {
    "duration": 9,
    "start_time": "2021-11-20T22:16:15.475Z"
   },
   {
    "duration": 10,
    "start_time": "2021-11-20T22:16:15.576Z"
   },
   {
    "duration": 25,
    "start_time": "2021-11-20T22:16:15.609Z"
   },
   {
    "duration": 26,
    "start_time": "2021-11-20T22:16:15.648Z"
   },
   {
    "duration": 24,
    "start_time": "2021-11-20T22:16:15.685Z"
   },
   {
    "duration": 4,
    "start_time": "2021-11-20T22:16:15.715Z"
   },
   {
    "duration": 7,
    "start_time": "2021-11-20T22:16:15.847Z"
   },
   {
    "duration": 11,
    "start_time": "2021-11-20T22:16:15.916Z"
   },
   {
    "duration": 23,
    "start_time": "2021-11-20T22:16:15.948Z"
   },
   {
    "duration": 11,
    "start_time": "2021-11-20T22:16:15.982Z"
   },
   {
    "duration": 16,
    "start_time": "2021-11-20T22:16:16.016Z"
   },
   {
    "duration": 27,
    "start_time": "2021-11-20T22:16:16.053Z"
   },
   {
    "duration": 49,
    "start_time": "2021-11-20T22:16:16.087Z"
   },
   {
    "duration": 61,
    "start_time": "2021-11-20T22:16:16.138Z"
   },
   {
    "duration": 10,
    "start_time": "2021-11-20T22:16:16.201Z"
   },
   {
    "duration": 7,
    "start_time": "2021-11-20T22:16:16.219Z"
   },
   {
    "duration": 5,
    "start_time": "2021-11-20T22:16:16.254Z"
   },
   {
    "duration": 11,
    "start_time": "2021-11-20T22:16:16.288Z"
   },
   {
    "duration": 10,
    "start_time": "2021-11-20T22:16:16.325Z"
   },
   {
    "duration": 5,
    "start_time": "2021-11-20T22:16:16.355Z"
   },
   {
    "duration": 5,
    "start_time": "2021-11-20T22:16:16.390Z"
   },
   {
    "duration": 18,
    "start_time": "2021-11-20T22:16:16.423Z"
   },
   {
    "duration": 17,
    "start_time": "2021-11-20T22:16:17.073Z"
   },
   {
    "duration": 34,
    "start_time": "2021-11-20T22:16:17.244Z"
   },
   {
    "duration": 9,
    "start_time": "2021-11-20T22:16:17.864Z"
   },
   {
    "duration": 8,
    "start_time": "2021-11-20T22:16:17.963Z"
   },
   {
    "duration": 16,
    "start_time": "2021-11-20T22:16:18.425Z"
   },
   {
    "duration": 42,
    "start_time": "2021-11-20T22:16:18.458Z"
   },
   {
    "duration": 45,
    "start_time": "2021-11-20T22:16:18.503Z"
   },
   {
    "duration": 9,
    "start_time": "2021-11-20T22:16:18.551Z"
   },
   {
    "duration": 5,
    "start_time": "2021-11-20T22:16:18.599Z"
   },
   {
    "duration": 9,
    "start_time": "2021-11-20T22:16:18.631Z"
   },
   {
    "duration": 20,
    "start_time": "2021-11-20T22:16:18.661Z"
   },
   {
    "duration": 7,
    "start_time": "2021-11-20T22:16:18.797Z"
   },
   {
    "duration": 10,
    "start_time": "2021-11-20T22:16:18.830Z"
   },
   {
    "duration": 10,
    "start_time": "2021-11-20T22:16:18.865Z"
   },
   {
    "duration": 1270,
    "start_time": "2021-11-20T22:16:18.900Z"
   },
   {
    "duration": 20,
    "start_time": "2021-11-20T22:16:20.174Z"
   },
   {
    "duration": 28,
    "start_time": "2021-11-20T22:16:20.197Z"
   },
   {
    "duration": 12,
    "start_time": "2021-11-20T22:16:20.228Z"
   },
   {
    "duration": 105,
    "start_time": "2021-11-20T22:16:20.243Z"
   },
   {
    "duration": 90,
    "start_time": "2021-11-20T22:16:20.351Z"
   },
   {
    "duration": 104,
    "start_time": "2021-11-20T22:16:20.444Z"
   },
   {
    "duration": 35,
    "start_time": "2021-11-20T22:16:20.551Z"
   },
   {
    "duration": 20,
    "start_time": "2021-11-20T22:16:20.589Z"
   },
   {
    "duration": 37,
    "start_time": "2021-11-20T22:16:20.612Z"
   },
   {
    "duration": 125,
    "start_time": "2021-11-20T22:16:39.417Z"
   },
   {
    "duration": 12172,
    "start_time": "2021-11-20T22:17:05.390Z"
   },
   {
    "duration": 68,
    "start_time": "2021-11-20T22:25:21.629Z"
   },
   {
    "duration": 71,
    "start_time": "2021-11-20T22:25:23.859Z"
   },
   {
    "duration": 79,
    "start_time": "2021-11-20T22:25:24.038Z"
   },
   {
    "duration": 19,
    "start_time": "2021-11-20T22:25:24.203Z"
   },
   {
    "duration": 19,
    "start_time": "2021-11-20T22:25:24.366Z"
   },
   {
    "duration": 27,
    "start_time": "2021-11-20T22:25:24.506Z"
   },
   {
    "duration": 1250,
    "start_time": "2021-11-21T06:05:35.630Z"
   },
   {
    "duration": 10,
    "start_time": "2021-11-21T06:05:36.882Z"
   },
   {
    "duration": 28,
    "start_time": "2021-11-21T06:05:36.893Z"
   },
   {
    "duration": 45,
    "start_time": "2021-11-21T06:05:36.923Z"
   },
   {
    "duration": 29,
    "start_time": "2021-11-21T06:05:36.970Z"
   },
   {
    "duration": 48,
    "start_time": "2021-11-21T06:05:37.001Z"
   },
   {
    "duration": 84,
    "start_time": "2021-11-21T06:05:37.050Z"
   },
   {
    "duration": 258,
    "start_time": "2021-11-21T06:05:37.136Z"
   },
   {
    "duration": 1025,
    "start_time": "2021-11-21T06:05:36.373Z"
   },
   {
    "duration": 1022,
    "start_time": "2021-11-21T06:05:36.377Z"
   },
   {
    "duration": 1020,
    "start_time": "2021-11-21T06:05:36.380Z"
   },
   {
    "duration": 1017,
    "start_time": "2021-11-21T06:05:36.384Z"
   },
   {
    "duration": 1015,
    "start_time": "2021-11-21T06:05:36.387Z"
   },
   {
    "duration": 1011,
    "start_time": "2021-11-21T06:05:36.391Z"
   },
   {
    "duration": 1009,
    "start_time": "2021-11-21T06:05:36.394Z"
   },
   {
    "duration": 1007,
    "start_time": "2021-11-21T06:05:36.397Z"
   },
   {
    "duration": 1003,
    "start_time": "2021-11-21T06:05:36.401Z"
   },
   {
    "duration": 1000,
    "start_time": "2021-11-21T06:05:36.405Z"
   },
   {
    "duration": 997,
    "start_time": "2021-11-21T06:05:36.409Z"
   },
   {
    "duration": 994,
    "start_time": "2021-11-21T06:05:36.412Z"
   },
   {
    "duration": 991,
    "start_time": "2021-11-21T06:05:36.416Z"
   },
   {
    "duration": 989,
    "start_time": "2021-11-21T06:05:36.419Z"
   },
   {
    "duration": 986,
    "start_time": "2021-11-21T06:05:36.423Z"
   },
   {
    "duration": 956,
    "start_time": "2021-11-21T06:05:36.453Z"
   },
   {
    "duration": 931,
    "start_time": "2021-11-21T06:05:36.479Z"
   },
   {
    "duration": 928,
    "start_time": "2021-11-21T06:05:36.483Z"
   },
   {
    "duration": 924,
    "start_time": "2021-11-21T06:05:36.487Z"
   },
   {
    "duration": 868,
    "start_time": "2021-11-21T06:05:36.544Z"
   },
   {
    "duration": 865,
    "start_time": "2021-11-21T06:05:36.548Z"
   },
   {
    "duration": 717,
    "start_time": "2021-11-21T06:05:36.696Z"
   },
   {
    "duration": 663,
    "start_time": "2021-11-21T06:05:36.751Z"
   },
   {
    "duration": 661,
    "start_time": "2021-11-21T06:05:36.754Z"
   },
   {
    "duration": 657,
    "start_time": "2021-11-21T06:05:36.758Z"
   },
   {
    "duration": 655,
    "start_time": "2021-11-21T06:05:36.761Z"
   },
   {
    "duration": 653,
    "start_time": "2021-11-21T06:05:36.764Z"
   },
   {
    "duration": 650,
    "start_time": "2021-11-21T06:05:36.768Z"
   },
   {
    "duration": 648,
    "start_time": "2021-11-21T06:05:36.771Z"
   },
   {
    "duration": 645,
    "start_time": "2021-11-21T06:05:36.775Z"
   },
   {
    "duration": 642,
    "start_time": "2021-11-21T06:05:36.778Z"
   },
   {
    "duration": 639,
    "start_time": "2021-11-21T06:05:36.782Z"
   },
   {
    "duration": 637,
    "start_time": "2021-11-21T06:05:36.785Z"
   },
   {
    "duration": 634,
    "start_time": "2021-11-21T06:05:36.789Z"
   },
   {
    "duration": 555,
    "start_time": "2021-11-21T06:05:36.869Z"
   },
   {
    "duration": 553,
    "start_time": "2021-11-21T06:05:36.872Z"
   },
   {
    "duration": 550,
    "start_time": "2021-11-21T06:05:36.876Z"
   },
   {
    "duration": 547,
    "start_time": "2021-11-21T06:05:36.879Z"
   },
   {
    "duration": 545,
    "start_time": "2021-11-21T06:05:36.882Z"
   },
   {
    "duration": 543,
    "start_time": "2021-11-21T06:05:36.885Z"
   },
   {
    "duration": 540,
    "start_time": "2021-11-21T06:05:36.889Z"
   },
   {
    "duration": 538,
    "start_time": "2021-11-21T06:05:36.892Z"
   },
   {
    "duration": 536,
    "start_time": "2021-11-21T06:05:36.895Z"
   },
   {
    "duration": 534,
    "start_time": "2021-11-21T06:05:36.898Z"
   },
   {
    "duration": 531,
    "start_time": "2021-11-21T06:05:36.902Z"
   },
   {
    "duration": 527,
    "start_time": "2021-11-21T06:05:36.906Z"
   },
   {
    "duration": 525,
    "start_time": "2021-11-21T06:05:36.909Z"
   },
   {
    "duration": 523,
    "start_time": "2021-11-21T06:05:36.912Z"
   },
   {
    "duration": 520,
    "start_time": "2021-11-21T06:05:36.916Z"
   },
   {
    "duration": 517,
    "start_time": "2021-11-21T06:05:36.919Z"
   },
   {
    "duration": 515,
    "start_time": "2021-11-21T06:05:36.922Z"
   },
   {
    "duration": 512,
    "start_time": "2021-11-21T06:05:36.925Z"
   },
   {
    "duration": 509,
    "start_time": "2021-11-21T06:05:36.929Z"
   },
   {
    "duration": 506,
    "start_time": "2021-11-21T06:05:36.932Z"
   },
   {
    "duration": 556,
    "start_time": "2021-11-21T06:05:36.935Z"
   },
   {
    "duration": 554,
    "start_time": "2021-11-21T06:05:36.938Z"
   },
   {
    "duration": 550,
    "start_time": "2021-11-21T06:05:36.942Z"
   },
   {
    "duration": 540,
    "start_time": "2021-11-21T06:05:36.953Z"
   },
   {
    "duration": 537,
    "start_time": "2021-11-21T06:05:36.957Z"
   },
   {
    "duration": 535,
    "start_time": "2021-11-21T06:05:36.960Z"
   },
   {
    "duration": 531,
    "start_time": "2021-11-21T06:05:36.964Z"
   },
   {
    "duration": 529,
    "start_time": "2021-11-21T06:05:36.967Z"
   },
   {
    "duration": 526,
    "start_time": "2021-11-21T06:05:36.971Z"
   },
   {
    "duration": 524,
    "start_time": "2021-11-21T06:05:36.974Z"
   },
   {
    "duration": 522,
    "start_time": "2021-11-21T06:05:36.977Z"
   },
   {
    "duration": 519,
    "start_time": "2021-11-21T06:05:36.981Z"
   },
   {
    "duration": 9,
    "start_time": "2021-11-21T06:06:05.003Z"
   },
   {
    "duration": 8,
    "start_time": "2021-11-21T06:06:22.142Z"
   },
   {
    "duration": 1221,
    "start_time": "2021-11-21T06:07:20.250Z"
   },
   {
    "duration": 8,
    "start_time": "2021-11-21T06:07:21.472Z"
   },
   {
    "duration": 18,
    "start_time": "2021-11-21T06:07:21.482Z"
   },
   {
    "duration": 10,
    "start_time": "2021-11-21T06:07:21.561Z"
   },
   {
    "duration": 10,
    "start_time": "2021-11-21T06:07:22.385Z"
   },
   {
    "duration": 4,
    "start_time": "2021-11-21T06:07:22.754Z"
   },
   {
    "duration": 53,
    "start_time": "2021-11-21T06:07:23.395Z"
   },
   {
    "duration": 8,
    "start_time": "2021-11-21T06:07:26.161Z"
   },
   {
    "duration": 7,
    "start_time": "2021-11-21T06:07:30.801Z"
   },
   {
    "duration": 286,
    "start_time": "2021-11-21T06:07:45.027Z"
   },
   {
    "duration": 18,
    "start_time": "2021-11-21T06:08:03.367Z"
   },
   {
    "duration": 168,
    "start_time": "2021-11-21T06:08:15.408Z"
   },
   {
    "duration": 191,
    "start_time": "2021-11-21T06:10:34.204Z"
   },
   {
    "duration": 10,
    "start_time": "2021-11-21T06:10:44.500Z"
   },
   {
    "duration": 7,
    "start_time": "2021-11-21T06:10:50.150Z"
   },
   {
    "duration": 6,
    "start_time": "2021-11-21T06:10:55.965Z"
   },
   {
    "duration": 163,
    "start_time": "2021-11-21T06:11:25.716Z"
   },
   {
    "duration": 5,
    "start_time": "2021-11-21T06:11:42.513Z"
   },
   {
    "duration": 161,
    "start_time": "2021-11-21T06:11:46.547Z"
   },
   {
    "duration": 263,
    "start_time": "2021-11-21T06:14:49.044Z"
   },
   {
    "duration": 6,
    "start_time": "2021-11-21T06:14:53.596Z"
   },
   {
    "duration": 5,
    "start_time": "2021-11-21T06:17:12.001Z"
   },
   {
    "duration": 54,
    "start_time": "2021-11-21T06:17:20.387Z"
   },
   {
    "duration": 59,
    "start_time": "2021-11-21T06:17:27.481Z"
   },
   {
    "duration": 166,
    "start_time": "2021-11-21T06:17:33.334Z"
   },
   {
    "duration": 162,
    "start_time": "2021-11-21T06:17:37.541Z"
   },
   {
    "duration": 6,
    "start_time": "2021-11-21T06:18:22.903Z"
   },
   {
    "duration": 6,
    "start_time": "2021-11-21T06:18:37.521Z"
   },
   {
    "duration": 26,
    "start_time": "2021-11-21T06:19:16.230Z"
   },
   {
    "duration": 3927,
    "start_time": "2021-11-21T06:20:18.932Z"
   },
   {
    "duration": 56,
    "start_time": "2021-11-21T06:20:50.144Z"
   },
   {
    "duration": 7,
    "start_time": "2021-11-21T06:20:53.110Z"
   },
   {
    "duration": 139,
    "start_time": "2021-11-21T06:21:10.585Z"
   },
   {
    "duration": 159,
    "start_time": "2021-11-21T06:21:12.570Z"
   },
   {
    "duration": 25,
    "start_time": "2021-11-21T06:21:33.913Z"
   },
   {
    "duration": 16,
    "start_time": "2021-11-21T06:23:32.002Z"
   },
   {
    "duration": 1261,
    "start_time": "2021-11-21T06:28:09.326Z"
   },
   {
    "duration": 8,
    "start_time": "2021-11-21T06:28:10.589Z"
   },
   {
    "duration": 19,
    "start_time": "2021-11-21T06:28:10.599Z"
   },
   {
    "duration": 11,
    "start_time": "2021-11-21T06:28:10.620Z"
   },
   {
    "duration": 9,
    "start_time": "2021-11-21T06:28:10.632Z"
   },
   {
    "duration": 4,
    "start_time": "2021-11-21T06:28:10.642Z"
   },
   {
    "duration": 73,
    "start_time": "2021-11-21T06:28:10.648Z"
   },
   {
    "duration": 14,
    "start_time": "2021-11-21T06:28:10.723Z"
   },
   {
    "duration": 8,
    "start_time": "2021-11-21T06:28:10.739Z"
   },
   {
    "duration": 22,
    "start_time": "2021-11-21T06:28:10.748Z"
   },
   {
    "duration": 20,
    "start_time": "2021-11-21T06:28:10.772Z"
   },
   {
    "duration": 17,
    "start_time": "2021-11-21T06:28:10.794Z"
   },
   {
    "duration": 29,
    "start_time": "2021-11-21T06:28:10.812Z"
   },
   {
    "duration": 28,
    "start_time": "2021-11-21T06:28:10.842Z"
   },
   {
    "duration": 22,
    "start_time": "2021-11-21T06:28:10.871Z"
   },
   {
    "duration": 25,
    "start_time": "2021-11-21T06:28:10.894Z"
   },
   {
    "duration": 14,
    "start_time": "2021-11-21T06:28:10.920Z"
   },
   {
    "duration": 25,
    "start_time": "2021-11-21T06:28:10.936Z"
   },
   {
    "duration": 23,
    "start_time": "2021-11-21T06:28:10.963Z"
   },
   {
    "duration": 12,
    "start_time": "2021-11-21T06:28:10.988Z"
   },
   {
    "duration": 33,
    "start_time": "2021-11-21T06:28:11.001Z"
   },
   {
    "duration": 10,
    "start_time": "2021-11-21T06:28:11.036Z"
   },
   {
    "duration": 31,
    "start_time": "2021-11-21T06:28:11.050Z"
   },
   {
    "duration": 20,
    "start_time": "2021-11-21T06:28:11.083Z"
   },
   {
    "duration": 6,
    "start_time": "2021-11-21T06:28:11.104Z"
   },
   {
    "duration": 9,
    "start_time": "2021-11-21T06:28:11.112Z"
   },
   {
    "duration": 11,
    "start_time": "2021-11-21T06:28:11.122Z"
   },
   {
    "duration": 5,
    "start_time": "2021-11-21T06:28:11.134Z"
   },
   {
    "duration": 9,
    "start_time": "2021-11-21T06:28:11.141Z"
   },
   {
    "duration": 8,
    "start_time": "2021-11-21T06:28:11.151Z"
   },
   {
    "duration": 17,
    "start_time": "2021-11-21T06:28:11.160Z"
   },
   {
    "duration": 27,
    "start_time": "2021-11-21T06:28:11.178Z"
   },
   {
    "duration": 14,
    "start_time": "2021-11-21T06:28:11.207Z"
   },
   {
    "duration": 2,
    "start_time": "2021-11-21T06:28:11.223Z"
   },
   {
    "duration": 7,
    "start_time": "2021-11-21T06:28:11.227Z"
   },
   {
    "duration": 7,
    "start_time": "2021-11-21T06:28:11.235Z"
   },
   {
    "duration": 14,
    "start_time": "2021-11-21T06:28:11.244Z"
   },
   {
    "duration": 38,
    "start_time": "2021-11-21T06:28:11.259Z"
   },
   {
    "duration": 11,
    "start_time": "2021-11-21T06:28:11.299Z"
   },
   {
    "duration": 20,
    "start_time": "2021-11-21T06:28:11.311Z"
   },
   {
    "duration": 31,
    "start_time": "2021-11-21T06:28:11.332Z"
   },
   {
    "duration": 48,
    "start_time": "2021-11-21T06:28:11.365Z"
   },
   {
    "duration": 6,
    "start_time": "2021-11-21T06:28:11.415Z"
   },
   {
    "duration": 5,
    "start_time": "2021-11-21T06:28:11.422Z"
   },
   {
    "duration": 6,
    "start_time": "2021-11-21T06:28:11.429Z"
   },
   {
    "duration": 8,
    "start_time": "2021-11-21T06:28:11.437Z"
   },
   {
    "duration": 11,
    "start_time": "2021-11-21T06:28:11.447Z"
   },
   {
    "duration": 11,
    "start_time": "2021-11-21T06:28:11.459Z"
   },
   {
    "duration": 21,
    "start_time": "2021-11-21T06:28:11.471Z"
   },
   {
    "duration": 20,
    "start_time": "2021-11-21T06:28:11.494Z"
   },
   {
    "duration": 8,
    "start_time": "2021-11-21T06:28:11.516Z"
   },
   {
    "duration": 16,
    "start_time": "2021-11-21T06:28:11.526Z"
   },
   {
    "duration": 4,
    "start_time": "2021-11-21T06:28:11.544Z"
   },
   {
    "duration": 7,
    "start_time": "2021-11-21T06:28:11.549Z"
   },
   {
    "duration": 7,
    "start_time": "2021-11-21T06:28:11.558Z"
   },
   {
    "duration": 49,
    "start_time": "2021-11-21T06:28:11.567Z"
   },
   {
    "duration": 30,
    "start_time": "2021-11-21T06:28:11.618Z"
   },
   {
    "duration": 6,
    "start_time": "2021-11-21T06:28:11.649Z"
   },
   {
    "duration": 4,
    "start_time": "2021-11-21T06:28:11.656Z"
   },
   {
    "duration": 35,
    "start_time": "2021-11-21T06:28:11.661Z"
   },
   {
    "duration": 13,
    "start_time": "2021-11-21T06:28:11.698Z"
   },
   {
    "duration": 4,
    "start_time": "2021-11-21T06:28:11.712Z"
   },
   {
    "duration": 9,
    "start_time": "2021-11-21T06:28:11.718Z"
   },
   {
    "duration": 8,
    "start_time": "2021-11-21T06:28:11.729Z"
   },
   {
    "duration": 382,
    "start_time": "2021-11-21T06:28:11.739Z"
   },
   {
    "duration": 6,
    "start_time": "2021-11-21T06:28:12.123Z"
   },
   {
    "duration": 16,
    "start_time": "2021-11-21T06:28:12.131Z"
   },
   {
    "duration": 6,
    "start_time": "2021-11-21T06:28:12.152Z"
   },
   {
    "duration": 65,
    "start_time": "2021-11-21T06:28:12.159Z"
   },
   {
    "duration": 43,
    "start_time": "2021-11-21T06:28:12.226Z"
   },
   {
    "duration": 62,
    "start_time": "2021-11-21T06:28:12.270Z"
   },
   {
    "duration": 13,
    "start_time": "2021-11-21T06:28:12.334Z"
   },
   {
    "duration": 12,
    "start_time": "2021-11-21T06:28:12.348Z"
   },
   {
    "duration": 36,
    "start_time": "2021-11-21T06:28:12.361Z"
   },
   {
    "duration": 13,
    "start_time": "2021-11-21T06:28:28.621Z"
   },
   {
    "duration": 13,
    "start_time": "2021-11-21T06:28:36.677Z"
   },
   {
    "duration": 13,
    "start_time": "2021-11-21T06:28:42.098Z"
   },
   {
    "duration": 1258,
    "start_time": "2021-11-21T06:28:51.391Z"
   },
   {
    "duration": 8,
    "start_time": "2021-11-21T06:28:52.651Z"
   },
   {
    "duration": 16,
    "start_time": "2021-11-21T06:28:52.661Z"
   },
   {
    "duration": 10,
    "start_time": "2021-11-21T06:28:52.679Z"
   },
   {
    "duration": 8,
    "start_time": "2021-11-21T06:28:52.691Z"
   },
   {
    "duration": 6,
    "start_time": "2021-11-21T06:28:52.701Z"
   },
   {
    "duration": 52,
    "start_time": "2021-11-21T06:28:52.708Z"
   },
   {
    "duration": 13,
    "start_time": "2021-11-21T06:29:03.529Z"
   },
   {
    "duration": 1259,
    "start_time": "2021-11-21T06:29:14.509Z"
   },
   {
    "duration": 8,
    "start_time": "2021-11-21T06:29:15.770Z"
   },
   {
    "duration": 73,
    "start_time": "2021-11-21T06:29:15.780Z"
   },
   {
    "duration": 61,
    "start_time": "2021-11-21T06:29:15.855Z"
   },
   {
    "duration": 75,
    "start_time": "2021-11-21T06:29:15.918Z"
   },
   {
    "duration": 80,
    "start_time": "2021-11-21T06:29:15.995Z"
   },
   {
    "duration": 115,
    "start_time": "2021-11-21T06:29:16.077Z"
   },
   {
    "duration": 13,
    "start_time": "2021-11-21T06:29:16.195Z"
   },
   {
    "duration": 49,
    "start_time": "2021-11-21T06:29:16.210Z"
   },
   {
    "duration": 64,
    "start_time": "2021-11-21T06:29:16.260Z"
   },
   {
    "duration": 51,
    "start_time": "2021-11-21T06:29:16.326Z"
   },
   {
    "duration": 74,
    "start_time": "2021-11-21T06:29:16.378Z"
   },
   {
    "duration": 44,
    "start_time": "2021-11-21T06:29:16.454Z"
   },
   {
    "duration": 88,
    "start_time": "2021-11-21T06:29:16.500Z"
   },
   {
    "duration": 46,
    "start_time": "2021-11-21T06:29:16.590Z"
   },
   {
    "duration": 62,
    "start_time": "2021-11-21T06:29:16.637Z"
   },
   {
    "duration": 62,
    "start_time": "2021-11-21T06:29:16.700Z"
   },
   {
    "duration": 43,
    "start_time": "2021-11-21T06:29:16.764Z"
   },
   {
    "duration": 65,
    "start_time": "2021-11-21T06:29:16.809Z"
   },
   {
    "duration": 53,
    "start_time": "2021-11-21T06:29:16.876Z"
   },
   {
    "duration": 44,
    "start_time": "2021-11-21T06:29:16.931Z"
   },
   {
    "duration": 55,
    "start_time": "2021-11-21T06:29:16.976Z"
   },
   {
    "duration": 28,
    "start_time": "2021-11-21T06:29:17.034Z"
   },
   {
    "duration": 58,
    "start_time": "2021-11-21T06:29:17.064Z"
   },
   {
    "duration": 57,
    "start_time": "2021-11-21T06:29:17.123Z"
   },
   {
    "duration": 45,
    "start_time": "2021-11-21T06:29:17.182Z"
   },
   {
    "duration": 56,
    "start_time": "2021-11-21T06:29:17.229Z"
   },
   {
    "duration": 50,
    "start_time": "2021-11-21T06:29:17.287Z"
   },
   {
    "duration": 47,
    "start_time": "2021-11-21T06:29:17.338Z"
   },
   {
    "duration": 47,
    "start_time": "2021-11-21T06:29:17.387Z"
   },
   {
    "duration": 61,
    "start_time": "2021-11-21T06:29:17.436Z"
   },
   {
    "duration": 84,
    "start_time": "2021-11-21T06:29:17.499Z"
   },
   {
    "duration": 44,
    "start_time": "2021-11-21T06:29:17.584Z"
   },
   {
    "duration": 59,
    "start_time": "2021-11-21T06:29:17.629Z"
   },
   {
    "duration": 41,
    "start_time": "2021-11-21T06:29:17.690Z"
   },
   {
    "duration": 50,
    "start_time": "2021-11-21T06:29:17.733Z"
   },
   {
    "duration": 84,
    "start_time": "2021-11-21T06:29:17.784Z"
   },
   {
    "duration": 40,
    "start_time": "2021-11-21T06:29:17.870Z"
   },
   {
    "duration": 64,
    "start_time": "2021-11-21T06:29:17.912Z"
   },
   {
    "duration": 140,
    "start_time": "2021-11-21T06:29:17.977Z"
   },
   {
    "duration": 101,
    "start_time": "2021-11-21T06:29:18.119Z"
   },
   {
    "duration": 42,
    "start_time": "2021-11-21T06:29:18.222Z"
   },
   {
    "duration": 52,
    "start_time": "2021-11-21T06:29:18.265Z"
   },
   {
    "duration": 51,
    "start_time": "2021-11-21T06:29:18.319Z"
   },
   {
    "duration": 70,
    "start_time": "2021-11-21T06:29:18.372Z"
   },
   {
    "duration": 58,
    "start_time": "2021-11-21T06:29:18.443Z"
   },
   {
    "duration": 67,
    "start_time": "2021-11-21T06:29:18.502Z"
   },
   {
    "duration": 73,
    "start_time": "2021-11-21T06:29:18.571Z"
   },
   {
    "duration": 35,
    "start_time": "2021-11-21T06:29:18.646Z"
   },
   {
    "duration": 51,
    "start_time": "2021-11-21T06:29:18.683Z"
   },
   {
    "duration": 46,
    "start_time": "2021-11-21T06:29:18.736Z"
   },
   {
    "duration": 43,
    "start_time": "2021-11-21T06:29:18.784Z"
   },
   {
    "duration": 38,
    "start_time": "2021-11-21T06:29:18.829Z"
   },
   {
    "duration": 37,
    "start_time": "2021-11-21T06:29:18.868Z"
   },
   {
    "duration": 72,
    "start_time": "2021-11-21T06:29:18.906Z"
   },
   {
    "duration": 100,
    "start_time": "2021-11-21T06:29:18.980Z"
   },
   {
    "duration": 37,
    "start_time": "2021-11-21T06:29:19.082Z"
   },
   {
    "duration": 21,
    "start_time": "2021-11-21T06:29:19.120Z"
   },
   {
    "duration": 37,
    "start_time": "2021-11-21T06:29:19.143Z"
   },
   {
    "duration": 44,
    "start_time": "2021-11-21T06:29:19.181Z"
   },
   {
    "duration": 50,
    "start_time": "2021-11-21T06:29:19.226Z"
   },
   {
    "duration": 36,
    "start_time": "2021-11-21T06:29:19.278Z"
   },
   {
    "duration": 48,
    "start_time": "2021-11-21T06:29:19.316Z"
   },
   {
    "duration": 48,
    "start_time": "2021-11-21T06:29:19.365Z"
   },
   {
    "duration": 416,
    "start_time": "2021-11-21T06:29:19.414Z"
   },
   {
    "duration": 7,
    "start_time": "2021-11-21T06:29:19.832Z"
   },
   {
    "duration": 50,
    "start_time": "2021-11-21T06:29:19.840Z"
   },
   {
    "duration": 24,
    "start_time": "2021-11-21T06:29:19.895Z"
   },
   {
    "duration": 59,
    "start_time": "2021-11-21T06:29:19.920Z"
   },
   {
    "duration": 44,
    "start_time": "2021-11-21T06:29:19.981Z"
   },
   {
    "duration": 67,
    "start_time": "2021-11-21T06:29:20.027Z"
   },
   {
    "duration": 17,
    "start_time": "2021-11-21T06:29:20.096Z"
   },
   {
    "duration": 32,
    "start_time": "2021-11-21T06:29:20.114Z"
   },
   {
    "duration": 30,
    "start_time": "2021-11-21T06:29:20.148Z"
   },
   {
    "duration": 26,
    "start_time": "2021-11-21T06:34:02.041Z"
   },
   {
    "duration": 1294,
    "start_time": "2021-11-21T06:35:39.165Z"
   },
   {
    "duration": 8,
    "start_time": "2021-11-21T06:35:40.460Z"
   },
   {
    "duration": 15,
    "start_time": "2021-11-21T06:35:40.470Z"
   },
   {
    "duration": 9,
    "start_time": "2021-11-21T06:35:40.487Z"
   },
   {
    "duration": 8,
    "start_time": "2021-11-21T06:35:40.498Z"
   },
   {
    "duration": 5,
    "start_time": "2021-11-21T06:35:40.507Z"
   },
   {
    "duration": 49,
    "start_time": "2021-11-21T06:35:40.513Z"
   },
   {
    "duration": 36,
    "start_time": "2021-11-21T06:35:40.565Z"
   },
   {
    "duration": 6,
    "start_time": "2021-11-21T06:35:40.603Z"
   },
   {
    "duration": 11,
    "start_time": "2021-11-21T06:35:40.611Z"
   },
   {
    "duration": 7,
    "start_time": "2021-11-21T06:35:40.623Z"
   },
   {
    "duration": 6,
    "start_time": "2021-11-21T06:35:40.632Z"
   },
   {
    "duration": 5,
    "start_time": "2021-11-21T06:35:40.640Z"
   },
   {
    "duration": 7,
    "start_time": "2021-11-21T06:35:40.646Z"
   },
   {
    "duration": 43,
    "start_time": "2021-11-21T06:35:40.655Z"
   },
   {
    "duration": 10,
    "start_time": "2021-11-21T06:35:40.700Z"
   },
   {
    "duration": 6,
    "start_time": "2021-11-21T06:35:40.711Z"
   },
   {
    "duration": 6,
    "start_time": "2021-11-21T06:35:40.718Z"
   },
   {
    "duration": 4,
    "start_time": "2021-11-21T06:35:40.726Z"
   },
   {
    "duration": 6,
    "start_time": "2021-11-21T06:35:40.731Z"
   },
   {
    "duration": 7,
    "start_time": "2021-11-21T06:35:40.738Z"
   },
   {
    "duration": 7,
    "start_time": "2021-11-21T06:35:40.746Z"
   },
   {
    "duration": 38,
    "start_time": "2021-11-21T06:35:40.756Z"
   },
   {
    "duration": 7,
    "start_time": "2021-11-21T06:35:40.797Z"
   },
   {
    "duration": 6,
    "start_time": "2021-11-21T06:35:40.806Z"
   },
   {
    "duration": 8,
    "start_time": "2021-11-21T06:35:40.813Z"
   },
   {
    "duration": 7,
    "start_time": "2021-11-21T06:35:40.823Z"
   },
   {
    "duration": 4,
    "start_time": "2021-11-21T06:35:40.832Z"
   },
   {
    "duration": 7,
    "start_time": "2021-11-21T06:35:40.837Z"
   },
   {
    "duration": 7,
    "start_time": "2021-11-21T06:35:40.846Z"
   },
   {
    "duration": 49,
    "start_time": "2021-11-21T06:35:40.854Z"
   },
   {
    "duration": 16,
    "start_time": "2021-11-21T06:35:40.904Z"
   },
   {
    "duration": 15,
    "start_time": "2021-11-21T06:35:40.921Z"
   },
   {
    "duration": 4,
    "start_time": "2021-11-21T06:35:40.937Z"
   },
   {
    "duration": 11,
    "start_time": "2021-11-21T06:35:40.942Z"
   },
   {
    "duration": 11,
    "start_time": "2021-11-21T06:35:40.955Z"
   },
   {
    "duration": 38,
    "start_time": "2021-11-21T06:35:40.967Z"
   },
   {
    "duration": 9,
    "start_time": "2021-11-21T06:35:41.006Z"
   },
   {
    "duration": 13,
    "start_time": "2021-11-21T06:35:41.016Z"
   },
   {
    "duration": 18,
    "start_time": "2021-11-21T06:35:41.030Z"
   },
   {
    "duration": 65,
    "start_time": "2021-11-21T06:35:41.049Z"
   },
   {
    "duration": 24,
    "start_time": "2021-11-21T06:35:41.116Z"
   },
   {
    "duration": 8,
    "start_time": "2021-11-21T06:35:41.142Z"
   },
   {
    "duration": 6,
    "start_time": "2021-11-21T06:35:41.151Z"
   },
   {
    "duration": 3,
    "start_time": "2021-11-21T06:35:41.159Z"
   },
   {
    "duration": 8,
    "start_time": "2021-11-21T06:35:41.192Z"
   },
   {
    "duration": 7,
    "start_time": "2021-11-21T06:35:41.202Z"
   },
   {
    "duration": 5,
    "start_time": "2021-11-21T06:35:41.211Z"
   },
   {
    "duration": 4,
    "start_time": "2021-11-21T06:35:41.217Z"
   },
   {
    "duration": 13,
    "start_time": "2021-11-21T06:35:41.223Z"
   },
   {
    "duration": 8,
    "start_time": "2021-11-21T06:35:41.238Z"
   },
   {
    "duration": 52,
    "start_time": "2021-11-21T06:35:41.248Z"
   },
   {
    "duration": 29,
    "start_time": "2021-11-21T06:35:41.302Z"
   },
   {
    "duration": 5,
    "start_time": "2021-11-21T06:35:41.333Z"
   },
   {
    "duration": 7,
    "start_time": "2021-11-21T06:35:41.340Z"
   },
   {
    "duration": 8,
    "start_time": "2021-11-21T06:35:41.349Z"
   },
   {
    "duration": 53,
    "start_time": "2021-11-21T06:35:41.359Z"
   },
   {
    "duration": 28,
    "start_time": "2021-11-21T06:35:41.413Z"
   },
   {
    "duration": 7,
    "start_time": "2021-11-21T06:35:41.443Z"
   },
   {
    "duration": 3,
    "start_time": "2021-11-21T06:35:41.452Z"
   },
   {
    "duration": 31,
    "start_time": "2021-11-21T06:35:41.461Z"
   },
   {
    "duration": 11,
    "start_time": "2021-11-21T06:35:41.493Z"
   },
   {
    "duration": 4,
    "start_time": "2021-11-21T06:35:41.506Z"
   },
   {
    "duration": 7,
    "start_time": "2021-11-21T06:35:41.512Z"
   },
   {
    "duration": 4,
    "start_time": "2021-11-21T06:35:41.521Z"
   },
   {
    "duration": 385,
    "start_time": "2021-11-21T06:35:41.526Z"
   },
   {
    "duration": 6,
    "start_time": "2021-11-21T06:35:41.913Z"
   },
   {
    "duration": 12,
    "start_time": "2021-11-21T06:35:41.923Z"
   },
   {
    "duration": 5,
    "start_time": "2021-11-21T06:35:41.937Z"
   },
   {
    "duration": 66,
    "start_time": "2021-11-21T06:35:41.944Z"
   },
   {
    "duration": 44,
    "start_time": "2021-11-21T06:35:42.011Z"
   },
   {
    "duration": 69,
    "start_time": "2021-11-21T06:35:42.057Z"
   },
   {
    "duration": 12,
    "start_time": "2021-11-21T06:35:42.128Z"
   },
   {
    "duration": 12,
    "start_time": "2021-11-21T06:35:42.141Z"
   },
   {
    "duration": 15,
    "start_time": "2021-11-21T06:35:42.155Z"
   }
  ],
  "kernelspec": {
   "display_name": "Python 3 (ipykernel)",
   "language": "python",
   "name": "python3"
  },
  "language_info": {
   "codemirror_mode": {
    "name": "ipython",
    "version": 3
   },
   "file_extension": ".py",
   "mimetype": "text/x-python",
   "name": "python",
   "nbconvert_exporter": "python",
   "pygments_lexer": "ipython3",
   "version": "3.9.7"
  },
  "toc": {
   "base_numbering": 1,
   "nav_menu": {},
   "number_sections": true,
   "sideBar": true,
   "skip_h1_title": true,
   "title_cell": "Table of Contents",
   "title_sidebar": "Contents",
   "toc_cell": false,
   "toc_position": {},
   "toc_section_display": true,
   "toc_window_display": true
  }
 },
 "nbformat": 4,
 "nbformat_minor": 2
}
