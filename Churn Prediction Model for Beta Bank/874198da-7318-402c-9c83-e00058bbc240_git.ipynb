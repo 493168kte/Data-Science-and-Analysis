{
 "cells": [
  {
   "cell_type": "markdown",
   "id": "f5785552",
   "metadata": {},
   "source": [
    "# Churn Prediction Model for Beta Bank\n",
    "\n",
    "This project aims to determine the best model to predict the churning rate for Beta Bank, so bankers can save the existing customers rather than attract new ones to improve long-term sustainability for the company."
   ]
  },
  {
   "cell_type": "markdown",
   "id": "15109acd",
   "metadata": {},
   "source": [
    "## Initialization"
   ]
  },
  {
   "cell_type": "code",
   "execution_count": 5,
   "id": "3d247c67",
   "metadata": {
    "scrolled": true
   },
   "outputs": [],
   "source": [
    "#Loading Libraries\n",
    "import pandas as pd\n",
    "import matplotlib.pyplot as plt\n",
    "import numpy as np\n",
    "import seaborn as sns\n",
    "from sklearn.tree import DecisionTreeClassifier\n",
    "from sklearn.ensemble import RandomForestClassifier\n",
    "from sklearn.metrics import accuracy_score\n",
    "from sklearn.metrics import mean_squared_error\n",
    "from sklearn.model_selection import train_test_split\n",
    "from sklearn.linear_model import LogisticRegression\n",
    "from sklearn.model_selection import train_test_split\n",
    "from sklearn.metrics import r2_score\n",
    "from sklearn.metrics import mean_absolute_error\n",
    "from sklearn.preprocessing import StandardScaler\n",
    "from sklearn.metrics import confusion_matrix, roc_auc_score, roc_curve\n",
    "from sklearn.metrics import f1_score\n",
    "from sklearn.metrics import precision_score\n",
    "from sklearn.metrics import recall_score\n",
    "# from imblearn.over_sampling import SMOTE\n",
    "# from joblib import dump\n",
    "# import joblib\n",
    "import warnings\n",
    "warnings.filterwarnings(\"ignore\")"
   ]
  },
  {
   "cell_type": "markdown",
   "id": "700bb183",
   "metadata": {},
   "source": [
    "### Data Exploration"
   ]
  },
  {
   "cell_type": "code",
   "execution_count": 3,
   "id": "089a6ae9",
   "metadata": {},
   "outputs": [],
   "source": [
    "# Read dataframe\n",
    "try:\n",
    "    df = pd.read_csv('Churn.csv')\n",
    "except:\n",
    "    df = pd.read_csv('/datasets/Churn.csv')"
   ]
  },
  {
   "cell_type": "code",
   "execution_count": 4,
   "id": "70733bc1",
   "metadata": {},
   "outputs": [
    {
     "name": "stdout",
     "output_type": "stream",
     "text": [
      "<class 'pandas.core.frame.DataFrame'>\n",
      "RangeIndex: 10000 entries, 0 to 9999\n",
      "Data columns (total 14 columns):\n",
      " #   Column           Non-Null Count  Dtype  \n",
      "---  ------           --------------  -----  \n",
      " 0   RowNumber        10000 non-null  int64  \n",
      " 1   CustomerId       10000 non-null  int64  \n",
      " 2   Surname          10000 non-null  object \n",
      " 3   CreditScore      10000 non-null  int64  \n",
      " 4   Geography        10000 non-null  object \n",
      " 5   Gender           10000 non-null  object \n",
      " 6   Age              10000 non-null  int64  \n",
      " 7   Tenure           9091 non-null   float64\n",
      " 8   Balance          10000 non-null  float64\n",
      " 9   NumOfProducts    10000 non-null  int64  \n",
      " 10  HasCrCard        10000 non-null  int64  \n",
      " 11  IsActiveMember   10000 non-null  int64  \n",
      " 12  EstimatedSalary  10000 non-null  float64\n",
      " 13  Exited           10000 non-null  int64  \n",
      "dtypes: float64(3), int64(8), object(3)\n",
      "memory usage: 1.1+ MB\n"
     ]
    }
   ],
   "source": [
    "# Dataframe info\n",
    "df.info()"
   ]
  },
  {
   "cell_type": "code",
   "execution_count": 5,
   "id": "a82e3233",
   "metadata": {},
   "outputs": [],
   "source": [
    "# Convert all columns string to lower case\n",
    "df.columns = df.columns.str.lower()"
   ]
  },
  {
   "cell_type": "code",
   "execution_count": 6,
   "id": "62755789",
   "metadata": {},
   "outputs": [
    {
     "data": {
      "text/html": [
       "<div>\n",
       "<style scoped>\n",
       "    .dataframe tbody tr th:only-of-type {\n",
       "        vertical-align: middle;\n",
       "    }\n",
       "\n",
       "    .dataframe tbody tr th {\n",
       "        vertical-align: top;\n",
       "    }\n",
       "\n",
       "    .dataframe thead th {\n",
       "        text-align: right;\n",
       "    }\n",
       "</style>\n",
       "<table border=\"1\" class=\"dataframe\">\n",
       "  <thead>\n",
       "    <tr style=\"text-align: right;\">\n",
       "      <th></th>\n",
       "      <th>rownumber</th>\n",
       "      <th>customerid</th>\n",
       "      <th>surname</th>\n",
       "      <th>creditscore</th>\n",
       "      <th>geography</th>\n",
       "      <th>gender</th>\n",
       "      <th>age</th>\n",
       "      <th>tenure</th>\n",
       "      <th>balance</th>\n",
       "      <th>numofproducts</th>\n",
       "      <th>hascrcard</th>\n",
       "      <th>isactivemember</th>\n",
       "      <th>estimatedsalary</th>\n",
       "      <th>exited</th>\n",
       "    </tr>\n",
       "  </thead>\n",
       "  <tbody>\n",
       "    <tr>\n",
       "      <th>0</th>\n",
       "      <td>1</td>\n",
       "      <td>15634602</td>\n",
       "      <td>Hargrave</td>\n",
       "      <td>619</td>\n",
       "      <td>France</td>\n",
       "      <td>Female</td>\n",
       "      <td>42</td>\n",
       "      <td>2.0</td>\n",
       "      <td>0.00</td>\n",
       "      <td>1</td>\n",
       "      <td>1</td>\n",
       "      <td>1</td>\n",
       "      <td>101348.88</td>\n",
       "      <td>1</td>\n",
       "    </tr>\n",
       "    <tr>\n",
       "      <th>1</th>\n",
       "      <td>2</td>\n",
       "      <td>15647311</td>\n",
       "      <td>Hill</td>\n",
       "      <td>608</td>\n",
       "      <td>Spain</td>\n",
       "      <td>Female</td>\n",
       "      <td>41</td>\n",
       "      <td>1.0</td>\n",
       "      <td>83807.86</td>\n",
       "      <td>1</td>\n",
       "      <td>0</td>\n",
       "      <td>1</td>\n",
       "      <td>112542.58</td>\n",
       "      <td>0</td>\n",
       "    </tr>\n",
       "    <tr>\n",
       "      <th>2</th>\n",
       "      <td>3</td>\n",
       "      <td>15619304</td>\n",
       "      <td>Onio</td>\n",
       "      <td>502</td>\n",
       "      <td>France</td>\n",
       "      <td>Female</td>\n",
       "      <td>42</td>\n",
       "      <td>8.0</td>\n",
       "      <td>159660.80</td>\n",
       "      <td>3</td>\n",
       "      <td>1</td>\n",
       "      <td>0</td>\n",
       "      <td>113931.57</td>\n",
       "      <td>1</td>\n",
       "    </tr>\n",
       "    <tr>\n",
       "      <th>3</th>\n",
       "      <td>4</td>\n",
       "      <td>15701354</td>\n",
       "      <td>Boni</td>\n",
       "      <td>699</td>\n",
       "      <td>France</td>\n",
       "      <td>Female</td>\n",
       "      <td>39</td>\n",
       "      <td>1.0</td>\n",
       "      <td>0.00</td>\n",
       "      <td>2</td>\n",
       "      <td>0</td>\n",
       "      <td>0</td>\n",
       "      <td>93826.63</td>\n",
       "      <td>0</td>\n",
       "    </tr>\n",
       "    <tr>\n",
       "      <th>4</th>\n",
       "      <td>5</td>\n",
       "      <td>15737888</td>\n",
       "      <td>Mitchell</td>\n",
       "      <td>850</td>\n",
       "      <td>Spain</td>\n",
       "      <td>Female</td>\n",
       "      <td>43</td>\n",
       "      <td>2.0</td>\n",
       "      <td>125510.82</td>\n",
       "      <td>1</td>\n",
       "      <td>1</td>\n",
       "      <td>1</td>\n",
       "      <td>79084.10</td>\n",
       "      <td>0</td>\n",
       "    </tr>\n",
       "  </tbody>\n",
       "</table>\n",
       "</div>"
      ],
      "text/plain": [
       "   rownumber  customerid   surname  creditscore geography  gender  age  \\\n",
       "0          1    15634602  Hargrave          619    France  Female   42   \n",
       "1          2    15647311      Hill          608     Spain  Female   41   \n",
       "2          3    15619304      Onio          502    France  Female   42   \n",
       "3          4    15701354      Boni          699    France  Female   39   \n",
       "4          5    15737888  Mitchell          850     Spain  Female   43   \n",
       "\n",
       "   tenure    balance  numofproducts  hascrcard  isactivemember  \\\n",
       "0     2.0       0.00              1          1               1   \n",
       "1     1.0   83807.86              1          0               1   \n",
       "2     8.0  159660.80              3          1               0   \n",
       "3     1.0       0.00              2          0               0   \n",
       "4     2.0  125510.82              1          1               1   \n",
       "\n",
       "   estimatedsalary  exited  \n",
       "0        101348.88       1  \n",
       "1        112542.58       0  \n",
       "2        113931.57       1  \n",
       "3         93826.63       0  \n",
       "4         79084.10       0  "
      ]
     },
     "execution_count": 6,
     "metadata": {},
     "output_type": "execute_result"
    }
   ],
   "source": [
    "df.head()"
   ]
  },
  {
   "cell_type": "markdown",
   "id": "03158f37",
   "metadata": {},
   "source": [
    "Dataframe contained 13 columns with 1 of the column contained some missing values. \n",
    "\n",
    "    RowNumber — data string index\n",
    "    CustomerId — unique customer identifier\n",
    "    Surname — surname\n",
    "    CreditScore — credit score\n",
    "    Geography — country of residence\n",
    "    Gender — gender\n",
    "    Age — age\n",
    "    Tenure — period of maturation for a customer’s fixed deposit (years)\n",
    "    Balance — account balance\n",
    "    NumOfProducts — number of banking products used by the customer\n",
    "    HasCrCard — customer has a credit card\n",
    "    IsActiveMember — customer’s activeness\n",
    "    EstimatedSalary — estimated salary"
   ]
  },
  {
   "cell_type": "markdown",
   "id": "f1828ee7",
   "metadata": {},
   "source": [
    "### Preprocessing Data"
   ]
  },
  {
   "cell_type": "code",
   "execution_count": 7,
   "id": "7c48cd30",
   "metadata": {},
   "outputs": [
    {
     "data": {
      "image/png": "[encoded data removed]",
      "text/plain": [
       "<Figure size 504x360 with 1 Axes>"
      ]
     },
     "metadata": {
      "needs_background": "light"
     },
     "output_type": "display_data"
    }
   ],
   "source": [
    "# Histogram for Tenure column\n",
    "df['tenure'].plot.hist(figsize=(7, 5))\n",
    "plt.title('Tenure')\n",
    "plt.xlabel('Value')\n",
    "plt.ylabel('Counts')\n",
    "df['tenure'].value_counts();"
   ]
  },
  {
   "cell_type": "markdown",
   "id": "76bad4cb",
   "metadata": {},
   "source": [
    "#### Fill Missing Values"
   ]
  },
  {
   "cell_type": "code",
   "execution_count": 8,
   "id": "17f60c62",
   "metadata": {},
   "outputs": [],
   "source": [
    "# Fill tenure missing values group by products\n",
    "df['tenure']=df.groupby('numofproducts')['tenure'].apply(lambda x: x.fillna(x.mean()))"
   ]
  },
  {
   "cell_type": "code",
   "execution_count": 9,
   "id": "751b0e8c",
   "metadata": {},
   "outputs": [
    {
     "data": {
      "text/plain": [
       "rownumber          0\n",
       "customerid         0\n",
       "surname            0\n",
       "creditscore        0\n",
       "geography          0\n",
       "gender             0\n",
       "age                0\n",
       "tenure             0\n",
       "balance            0\n",
       "numofproducts      0\n",
       "hascrcard          0\n",
       "isactivemember     0\n",
       "estimatedsalary    0\n",
       "exited             0\n",
       "dtype: int64"
      ]
     },
     "execution_count": 9,
     "metadata": {},
     "output_type": "execute_result"
    }
   ],
   "source": [
    "# Recheck for missing values\n",
    "df.isna().sum()"
   ]
  },
  {
   "cell_type": "code",
   "execution_count": 10,
   "id": "62f2b6fc",
   "metadata": {},
   "outputs": [
    {
     "data": {
      "text/html": [
       "<div>\n",
       "<style scoped>\n",
       "    .dataframe tbody tr th:only-of-type {\n",
       "        vertical-align: middle;\n",
       "    }\n",
       "\n",
       "    .dataframe tbody tr th {\n",
       "        vertical-align: top;\n",
       "    }\n",
       "\n",
       "    .dataframe thead th {\n",
       "        text-align: right;\n",
       "    }\n",
       "</style>\n",
       "<table border=\"1\" class=\"dataframe\">\n",
       "  <thead>\n",
       "    <tr style=\"text-align: right;\">\n",
       "      <th></th>\n",
       "      <th>creditscore</th>\n",
       "      <th>geography</th>\n",
       "      <th>gender</th>\n",
       "      <th>age</th>\n",
       "      <th>tenure</th>\n",
       "      <th>balance</th>\n",
       "      <th>numofproducts</th>\n",
       "      <th>hascrcard</th>\n",
       "      <th>isactivemember</th>\n",
       "      <th>estimatedsalary</th>\n",
       "      <th>exited</th>\n",
       "    </tr>\n",
       "  </thead>\n",
       "  <tbody>\n",
       "    <tr>\n",
       "      <th>0</th>\n",
       "      <td>619</td>\n",
       "      <td>France</td>\n",
       "      <td>Female</td>\n",
       "      <td>42</td>\n",
       "      <td>2.0</td>\n",
       "      <td>0.00</td>\n",
       "      <td>1</td>\n",
       "      <td>1</td>\n",
       "      <td>1</td>\n",
       "      <td>101348.88</td>\n",
       "      <td>1</td>\n",
       "    </tr>\n",
       "    <tr>\n",
       "      <th>1</th>\n",
       "      <td>608</td>\n",
       "      <td>Spain</td>\n",
       "      <td>Female</td>\n",
       "      <td>41</td>\n",
       "      <td>1.0</td>\n",
       "      <td>83807.86</td>\n",
       "      <td>1</td>\n",
       "      <td>0</td>\n",
       "      <td>1</td>\n",
       "      <td>112542.58</td>\n",
       "      <td>0</td>\n",
       "    </tr>\n",
       "    <tr>\n",
       "      <th>2</th>\n",
       "      <td>502</td>\n",
       "      <td>France</td>\n",
       "      <td>Female</td>\n",
       "      <td>42</td>\n",
       "      <td>8.0</td>\n",
       "      <td>159660.80</td>\n",
       "      <td>3</td>\n",
       "      <td>1</td>\n",
       "      <td>0</td>\n",
       "      <td>113931.57</td>\n",
       "      <td>1</td>\n",
       "    </tr>\n",
       "    <tr>\n",
       "      <th>3</th>\n",
       "      <td>699</td>\n",
       "      <td>France</td>\n",
       "      <td>Female</td>\n",
       "      <td>39</td>\n",
       "      <td>1.0</td>\n",
       "      <td>0.00</td>\n",
       "      <td>2</td>\n",
       "      <td>0</td>\n",
       "      <td>0</td>\n",
       "      <td>93826.63</td>\n",
       "      <td>0</td>\n",
       "    </tr>\n",
       "    <tr>\n",
       "      <th>4</th>\n",
       "      <td>850</td>\n",
       "      <td>Spain</td>\n",
       "      <td>Female</td>\n",
       "      <td>43</td>\n",
       "      <td>2.0</td>\n",
       "      <td>125510.82</td>\n",
       "      <td>1</td>\n",
       "      <td>1</td>\n",
       "      <td>1</td>\n",
       "      <td>79084.10</td>\n",
       "      <td>0</td>\n",
       "    </tr>\n",
       "  </tbody>\n",
       "</table>\n",
       "</div>"
      ],
      "text/plain": [
       "   creditscore geography  gender  age  tenure    balance  numofproducts  \\\n",
       "0          619    France  Female   42     2.0       0.00              1   \n",
       "1          608     Spain  Female   41     1.0   83807.86              1   \n",
       "2          502    France  Female   42     8.0  159660.80              3   \n",
       "3          699    France  Female   39     1.0       0.00              2   \n",
       "4          850     Spain  Female   43     2.0  125510.82              1   \n",
       "\n",
       "   hascrcard  isactivemember  estimatedsalary  exited  \n",
       "0          1               1        101348.88       1  \n",
       "1          0               1        112542.58       0  \n",
       "2          1               0        113931.57       1  \n",
       "3          0               0         93826.63       0  \n",
       "4          1               1         79084.10       0  "
      ]
     },
     "execution_count": 10,
     "metadata": {},
     "output_type": "execute_result"
    }
   ],
   "source": [
    "# Drop unrelevant columns for modeling\n",
    "df2 = df.drop(['rownumber','customerid','surname'], axis =1)\n",
    "df2.head()"
   ]
  },
  {
   "cell_type": "markdown",
   "id": "bad8287e",
   "metadata": {},
   "source": [
    "**Fill Missing values**\n",
    "\n",
    "Overall values count on Tenure seems balanced across the data frame. Missing values on Tenure columns have been filled group by `numofproducts`. `['rownumber','customerid','surname']` columns were dropped due to irrelevant to model training. "
   ]
  },
  {
   "cell_type": "markdown",
   "id": "b209c426",
   "metadata": {},
   "source": [
    "#### One Hot Encoding"
   ]
  },
  {
   "cell_type": "code",
   "execution_count": 11,
   "id": "47d72c92",
   "metadata": {},
   "outputs": [
    {
     "data": {
      "text/html": [
       "<div>\n",
       "<style scoped>\n",
       "    .dataframe tbody tr th:only-of-type {\n",
       "        vertical-align: middle;\n",
       "    }\n",
       "\n",
       "    .dataframe tbody tr th {\n",
       "        vertical-align: top;\n",
       "    }\n",
       "\n",
       "    .dataframe thead th {\n",
       "        text-align: right;\n",
       "    }\n",
       "</style>\n",
       "<table border=\"1\" class=\"dataframe\">\n",
       "  <thead>\n",
       "    <tr style=\"text-align: right;\">\n",
       "      <th></th>\n",
       "      <th>creditscore</th>\n",
       "      <th>age</th>\n",
       "      <th>tenure</th>\n",
       "      <th>balance</th>\n",
       "      <th>numofproducts</th>\n",
       "      <th>hascrcard</th>\n",
       "      <th>isactivemember</th>\n",
       "      <th>estimatedsalary</th>\n",
       "      <th>exited</th>\n",
       "      <th>geography_germany</th>\n",
       "      <th>geography_spain</th>\n",
       "      <th>gender_male</th>\n",
       "    </tr>\n",
       "  </thead>\n",
       "  <tbody>\n",
       "    <tr>\n",
       "      <th>0</th>\n",
       "      <td>619</td>\n",
       "      <td>42</td>\n",
       "      <td>2.0</td>\n",
       "      <td>0.00</td>\n",
       "      <td>1</td>\n",
       "      <td>1</td>\n",
       "      <td>1</td>\n",
       "      <td>101348.88</td>\n",
       "      <td>1</td>\n",
       "      <td>0</td>\n",
       "      <td>0</td>\n",
       "      <td>0</td>\n",
       "    </tr>\n",
       "    <tr>\n",
       "      <th>1</th>\n",
       "      <td>608</td>\n",
       "      <td>41</td>\n",
       "      <td>1.0</td>\n",
       "      <td>83807.86</td>\n",
       "      <td>1</td>\n",
       "      <td>0</td>\n",
       "      <td>1</td>\n",
       "      <td>112542.58</td>\n",
       "      <td>0</td>\n",
       "      <td>0</td>\n",
       "      <td>1</td>\n",
       "      <td>0</td>\n",
       "    </tr>\n",
       "    <tr>\n",
       "      <th>2</th>\n",
       "      <td>502</td>\n",
       "      <td>42</td>\n",
       "      <td>8.0</td>\n",
       "      <td>159660.80</td>\n",
       "      <td>3</td>\n",
       "      <td>1</td>\n",
       "      <td>0</td>\n",
       "      <td>113931.57</td>\n",
       "      <td>1</td>\n",
       "      <td>0</td>\n",
       "      <td>0</td>\n",
       "      <td>0</td>\n",
       "    </tr>\n",
       "    <tr>\n",
       "      <th>3</th>\n",
       "      <td>699</td>\n",
       "      <td>39</td>\n",
       "      <td>1.0</td>\n",
       "      <td>0.00</td>\n",
       "      <td>2</td>\n",
       "      <td>0</td>\n",
       "      <td>0</td>\n",
       "      <td>93826.63</td>\n",
       "      <td>0</td>\n",
       "      <td>0</td>\n",
       "      <td>0</td>\n",
       "      <td>0</td>\n",
       "    </tr>\n",
       "    <tr>\n",
       "      <th>4</th>\n",
       "      <td>850</td>\n",
       "      <td>43</td>\n",
       "      <td>2.0</td>\n",
       "      <td>125510.82</td>\n",
       "      <td>1</td>\n",
       "      <td>1</td>\n",
       "      <td>1</td>\n",
       "      <td>79084.10</td>\n",
       "      <td>0</td>\n",
       "      <td>0</td>\n",
       "      <td>1</td>\n",
       "      <td>0</td>\n",
       "    </tr>\n",
       "  </tbody>\n",
       "</table>\n",
       "</div>"
      ],
      "text/plain": [
       "   creditscore  age  tenure    balance  numofproducts  hascrcard  \\\n",
       "0          619   42     2.0       0.00              1          1   \n",
       "1          608   41     1.0   83807.86              1          0   \n",
       "2          502   42     8.0  159660.80              3          1   \n",
       "3          699   39     1.0       0.00              2          0   \n",
       "4          850   43     2.0  125510.82              1          1   \n",
       "\n",
       "   isactivemember  estimatedsalary  exited  geography_germany  \\\n",
       "0               1        101348.88       1                  0   \n",
       "1               1        112542.58       0                  0   \n",
       "2               0        113931.57       1                  0   \n",
       "3               0         93826.63       0                  0   \n",
       "4               1         79084.10       0                  0   \n",
       "\n",
       "   geography_spain  gender_male  \n",
       "0                0            0  \n",
       "1                1            0  \n",
       "2                0            0  \n",
       "3                0            0  \n",
       "4                1            0  "
      ]
     },
     "execution_count": 11,
     "metadata": {},
     "output_type": "execute_result"
    }
   ],
   "source": [
    "# OHE on dataframe for geography and gender\n",
    "df_ohe = pd.get_dummies(df2,drop_first=True)\n",
    "df_ohe.columns = df_ohe.columns.str.lower() \n",
    "df_ohe.head()"
   ]
  },
  {
   "cell_type": "code",
   "execution_count": 12,
   "id": "bed487fc",
   "metadata": {},
   "outputs": [
    {
     "name": "stdout",
     "output_type": "stream",
     "text": [
      "<class 'pandas.core.frame.DataFrame'>\n",
      "RangeIndex: 10000 entries, 0 to 9999\n",
      "Data columns (total 12 columns):\n",
      " #   Column             Non-Null Count  Dtype  \n",
      "---  ------             --------------  -----  \n",
      " 0   creditscore        10000 non-null  int64  \n",
      " 1   age                10000 non-null  int64  \n",
      " 2   tenure             10000 non-null  float64\n",
      " 3   balance            10000 non-null  float64\n",
      " 4   numofproducts      10000 non-null  int64  \n",
      " 5   hascrcard          10000 non-null  int64  \n",
      " 6   isactivemember     10000 non-null  int64  \n",
      " 7   estimatedsalary    10000 non-null  float64\n",
      " 8   exited             10000 non-null  int64  \n",
      " 9   geography_germany  10000 non-null  uint8  \n",
      " 10  geography_spain    10000 non-null  uint8  \n",
      " 11  gender_male        10000 non-null  uint8  \n",
      "dtypes: float64(3), int64(6), uint8(3)\n",
      "memory usage: 732.5 KB\n"
     ]
    }
   ],
   "source": [
    "df_ohe.info()"
   ]
  },
  {
   "cell_type": "markdown",
   "id": "01eeefa7",
   "metadata": {},
   "source": [
    "#### Splitting Data Set for Training, Validation, and Testing"
   ]
  },
  {
   "cell_type": "code",
   "execution_count": 13,
   "id": "6decbf82",
   "metadata": {},
   "outputs": [],
   "source": [
    "# Splitting dataframe for training, validating, and testing\n",
    "target = df_ohe['exited']\n",
    "features = df_ohe.drop('exited', axis=1)\n",
    "features_train_full, features_test, target_train_full, target_test = \\\n",
    "train_test_split(features, target, test_size=0.2, random_state=12345)\n",
    "features_train, features_valid,target_train,target_valid = \\\n",
    "train_test_split(features_train_full,target_train_full, test_size=0.25, random_state=12345)"
   ]
  },
  {
   "cell_type": "code",
   "execution_count": 14,
   "id": "1233e438",
   "metadata": {},
   "outputs": [
    {
     "name": "stdout",
     "output_type": "stream",
     "text": [
      "(6000, 11)\n",
      "(6000,)\n",
      "(2000, 11)\n",
      "(2000,)\n"
     ]
    }
   ],
   "source": [
    "print(features_train.shape)\n",
    "print(target_train.shape)\n",
    "print(features_valid.shape)\n",
    "print(target_valid.shape)"
   ]
  },
  {
   "cell_type": "code",
   "execution_count": 15,
   "id": "6d04fa85",
   "metadata": {},
   "outputs": [],
   "source": [
    "# Prepare numeric column for scaling\n",
    "numeric = ['creditscore', 'age', 'tenure', 'balance', 'estimatedsalary']"
   ]
  },
  {
   "cell_type": "code",
   "execution_count": 16,
   "id": "43b1f753",
   "metadata": {},
   "outputs": [],
   "source": [
    "# Scaling dataframe\n",
    "scaler = StandardScaler()\n",
    "scaler.fit(features_train[numeric])\n",
    "features_train[numeric] = scaler.transform(features_train[numeric])\n",
    "features_valid[numeric] = scaler.transform(features_valid[numeric])"
   ]
  },
  {
   "cell_type": "code",
   "execution_count": 17,
   "id": "73010ccc",
   "metadata": {},
   "outputs": [
    {
     "data": {
      "text/html": [
       "<div>\n",
       "<style scoped>\n",
       "    .dataframe tbody tr th:only-of-type {\n",
       "        vertical-align: middle;\n",
       "    }\n",
       "\n",
       "    .dataframe tbody tr th {\n",
       "        vertical-align: top;\n",
       "    }\n",
       "\n",
       "    .dataframe thead th {\n",
       "        text-align: right;\n",
       "    }\n",
       "</style>\n",
       "<table border=\"1\" class=\"dataframe\">\n",
       "  <thead>\n",
       "    <tr style=\"text-align: right;\">\n",
       "      <th></th>\n",
       "      <th>creditscore</th>\n",
       "      <th>age</th>\n",
       "      <th>tenure</th>\n",
       "      <th>balance</th>\n",
       "      <th>numofproducts</th>\n",
       "      <th>hascrcard</th>\n",
       "      <th>isactivemember</th>\n",
       "      <th>estimatedsalary</th>\n",
       "      <th>geography_germany</th>\n",
       "      <th>geography_spain</th>\n",
       "      <th>gender_male</th>\n",
       "    </tr>\n",
       "  </thead>\n",
       "  <tbody>\n",
       "    <tr>\n",
       "      <th>492</th>\n",
       "      <td>-0.134048</td>\n",
       "      <td>-0.078068</td>\n",
       "      <td>-0.368988</td>\n",
       "      <td>0.076163</td>\n",
       "      <td>2</td>\n",
       "      <td>0</td>\n",
       "      <td>1</td>\n",
       "      <td>0.331571</td>\n",
       "      <td>0</td>\n",
       "      <td>0</td>\n",
       "      <td>0</td>\n",
       "    </tr>\n",
       "    <tr>\n",
       "      <th>6655</th>\n",
       "      <td>-1.010798</td>\n",
       "      <td>0.494555</td>\n",
       "      <td>-0.020454</td>\n",
       "      <td>0.136391</td>\n",
       "      <td>1</td>\n",
       "      <td>1</td>\n",
       "      <td>1</td>\n",
       "      <td>-0.727858</td>\n",
       "      <td>0</td>\n",
       "      <td>0</td>\n",
       "      <td>1</td>\n",
       "    </tr>\n",
       "    <tr>\n",
       "      <th>4287</th>\n",
       "      <td>0.639554</td>\n",
       "      <td>1.353490</td>\n",
       "      <td>-1.454074</td>\n",
       "      <td>0.358435</td>\n",
       "      <td>1</td>\n",
       "      <td>1</td>\n",
       "      <td>1</td>\n",
       "      <td>-0.477006</td>\n",
       "      <td>1</td>\n",
       "      <td>0</td>\n",
       "      <td>1</td>\n",
       "    </tr>\n",
       "    <tr>\n",
       "      <th>42</th>\n",
       "      <td>-0.990168</td>\n",
       "      <td>2.116987</td>\n",
       "      <td>-1.092379</td>\n",
       "      <td>0.651725</td>\n",
       "      <td>1</td>\n",
       "      <td>1</td>\n",
       "      <td>1</td>\n",
       "      <td>-0.100232</td>\n",
       "      <td>0</td>\n",
       "      <td>0</td>\n",
       "      <td>0</td>\n",
       "    </tr>\n",
       "    <tr>\n",
       "      <th>8178</th>\n",
       "      <td>0.567351</td>\n",
       "      <td>0.685430</td>\n",
       "      <td>0.716098</td>\n",
       "      <td>0.813110</td>\n",
       "      <td>2</td>\n",
       "      <td>1</td>\n",
       "      <td>1</td>\n",
       "      <td>0.801922</td>\n",
       "      <td>0</td>\n",
       "      <td>0</td>\n",
       "      <td>0</td>\n",
       "    </tr>\n",
       "  </tbody>\n",
       "</table>\n",
       "</div>"
      ],
      "text/plain": [
       "      creditscore       age    tenure   balance  numofproducts  hascrcard  \\\n",
       "492     -0.134048 -0.078068 -0.368988  0.076163              2          0   \n",
       "6655    -1.010798  0.494555 -0.020454  0.136391              1          1   \n",
       "4287     0.639554  1.353490 -1.454074  0.358435              1          1   \n",
       "42      -0.990168  2.116987 -1.092379  0.651725              1          1   \n",
       "8178     0.567351  0.685430  0.716098  0.813110              2          1   \n",
       "\n",
       "      isactivemember  estimatedsalary  geography_germany  geography_spain  \\\n",
       "492                1         0.331571                  0                0   \n",
       "6655               1        -0.727858                  0                0   \n",
       "4287               1        -0.477006                  1                0   \n",
       "42                 1        -0.100232                  0                0   \n",
       "8178               1         0.801922                  0                0   \n",
       "\n",
       "      gender_male  \n",
       "492             0  \n",
       "6655            1  \n",
       "4287            1  \n",
       "42              0  \n",
       "8178            0  "
      ]
     },
     "execution_count": 17,
     "metadata": {},
     "output_type": "execute_result"
    }
   ],
   "source": [
    "# Check Scaled data\n",
    "features_train.head()"
   ]
  },
  {
   "cell_type": "code",
   "execution_count": 18,
   "id": "256ebc3b",
   "metadata": {},
   "outputs": [
    {
     "data": {
      "image/png": "[encoded data removed]",
      "text/plain": [
       "<Figure size 504x360 with 1 Axes>"
      ]
     },
     "metadata": {
      "needs_background": "light"
     },
     "output_type": "display_data"
    }
   ],
   "source": [
    "pd.value_counts(target_train).plot.bar(figsize=(7, 5))\n",
    "plt.title('Target Count')\n",
    "plt.xlabel('Exited')\n",
    "plt.ylabel('Frequency')\n",
    "target_train.value_counts();"
   ]
  },
  {
   "cell_type": "markdown",
   "id": "af1c2f73",
   "metadata": {},
   "source": [
    "**OHE on categorial features** \n",
    "  \n",
    "\n",
    "One Hot Encoding feature was used to transform categorical features of columns `geography` and `gender` into numerical features. First, the data frame was split into 80% Training Set and 20% Test set, then 25% validation set were split from the training set. Training sets were then scaled with the Standard Scaler feature to standardize features to facilitate the training of models by algorithms. "
   ]
  },
  {
   "cell_type": "markdown",
   "id": "48f151a1",
   "metadata": {},
   "source": [
    "### Base Model"
   ]
  },
  {
   "cell_type": "markdown",
   "id": "8e01dc5a",
   "metadata": {},
   "source": [
    "#### LR"
   ]
  },
  {
   "cell_type": "code",
   "execution_count": 19,
   "id": "6fc0dd26",
   "metadata": {},
   "outputs": [
    {
     "name": "stdout",
     "output_type": "stream",
     "text": [
      "0.30131826741996237\n"
     ]
    }
   ],
   "source": [
    "# Training base model with Logistic Regression\n",
    "model_lr = LogisticRegression(random_state=12345,solver='liblinear')\n",
    "model_lr.fit(features_train,target_train)\n",
    "predicted_valid = model_lr.predict(features_valid)\n",
    "print(f1_score(target_valid,predicted_valid))"
   ]
  },
  {
   "cell_type": "code",
   "execution_count": 20,
   "id": "06d06cd9",
   "metadata": {},
   "outputs": [],
   "source": [
    "# ROC curve function for plotting (feature(x),target(y),model(m))\n",
    "def rocplot(x,y,m):\n",
    "    probabilities_valid = m.predict_proba(x)[:,1]\n",
    "    fpr, tpr, thresholds = roc_curve(y,probabilities_valid)\n",
    "    print(\"ROC/AUC: {}\".format(roc_auc_score(y, probabilities_valid)))# < write code here >\n",
    "    plt.figure(figsize=(7, 5))\n",
    "    plt.plot(fpr, tpr)\n",
    "    plt.plot([0, 1], [0, 1], linestyle='--')\n",
    "    plt.xlim([0,1.0])\n",
    "    plt.ylim([0,1.0])\n",
    "    plt.xlabel('False Positive Rate')\n",
    "    plt.ylabel('True Positive Rate')\n",
    "    plt.title('ROC curve')\n",
    "    plt.show();"
   ]
  },
  {
   "cell_type": "markdown",
   "id": "569c076d",
   "metadata": {},
   "source": [
    "#### DT"
   ]
  },
  {
   "cell_type": "code",
   "execution_count": 21,
   "id": "71baa2db",
   "metadata": {
    "scrolled": false
   },
   "outputs": [
    {
     "name": "stdout",
     "output_type": "stream",
     "text": [
      "max_depth is 7.0; with highest F1 score of 0.5583596214511041\n"
     ]
    }
   ],
   "source": [
    "# Training base model with Decision Tree Classifier\n",
    "dt_depth = pd.DataFrame(columns=['depth','f1'])\n",
    "for depth in range (1,10):\n",
    "    model_dt = DecisionTreeClassifier(max_depth=depth,random_state=12345)\n",
    "    model_dt.fit(features_train,target_train)\n",
    "    predictions_valid = model_dt.predict(features_valid)\n",
    "    dt_depth = dt_depth.append({'depth': depth,'f1': f1_score(target_valid,predictions_valid)}, ignore_index=True)\n",
    "print(f\"max_depth is {dt_depth['depth'][dt_depth.f1.idxmax()]}; with highest F1 score of {dt_depth.f1.max()}\")"
   ]
  },
  {
   "cell_type": "markdown",
   "id": "3cbac255",
   "metadata": {},
   "source": [
    "#### RF"
   ]
  },
  {
   "cell_type": "code",
   "execution_count": 22,
   "id": "8589faaf",
   "metadata": {},
   "outputs": [
    {
     "name": "stdout",
     "output_type": "stream",
     "text": [
      "max n is 16.0; with highest F1 score of 0.5348837209302326\n"
     ]
    }
   ],
   "source": [
    "# Training base model with Random Forest Classifier\n",
    "ft_depth = pd.DataFrame(columns=['n','f1'])\n",
    "for n in range (5,25):\n",
    "    model_ft = RandomForestClassifier(max_depth=7,n_estimators=n,random_state=12345)\n",
    "    model_ft.fit(features_train,target_train)\n",
    "    predictions_valid = model_ft.predict(features_valid)\n",
    "    ft_depth = ft_depth.append({'n': n,'f1': f1_score(target_valid,predictions_valid)}, ignore_index=True)\n",
    "print(f\"max n is {ft_depth['n'][ft_depth.f1.idxmax()]}; with highest F1 score of {ft_depth.f1.max()}\")"
   ]
  },
  {
   "cell_type": "markdown",
   "id": "985fc5b4",
   "metadata": {},
   "source": [
    "#### Best Base Model"
   ]
  },
  {
   "cell_type": "code",
   "execution_count": 23,
   "id": "52fdf71b",
   "metadata": {},
   "outputs": [
    {
     "name": "stdout",
     "output_type": "stream",
     "text": [
      "f1 score: 0.5583596214511041\n"
     ]
    }
   ],
   "source": [
    "# Best base model for dataframe\n",
    "model_dt = DecisionTreeClassifier(max_depth=7,random_state=12345)\n",
    "model_dt.fit(features_train,target_train)\n",
    "predictions_valid = model_dt.predict(features_valid)\n",
    "print('f1 score:',f1_score(target_valid,predictions_valid))"
   ]
  },
  {
   "cell_type": "code",
   "execution_count": 24,
   "id": "169af723",
   "metadata": {},
   "outputs": [
    {
     "name": "stdout",
     "output_type": "stream",
     "text": [
      "ROC/AUC: 0.8231010349393358\n"
     ]
    },
    {
     "data": {
      "image/png": "[encoded data removed]",
      "text/plain": [
       "<Figure size 504x360 with 1 Axes>"
      ]
     },
     "metadata": {
      "needs_background": "light"
     },
     "output_type": "display_data"
    }
   ],
   "source": [
    "# ROC plotting and Area under curve\n",
    "rocplot(features_valid, target_valid,model_dt)"
   ]
  },
  {
   "cell_type": "markdown",
   "id": "52ab7716",
   "metadata": {},
   "source": [
    "### Class Weight Balanced Model"
   ]
  },
  {
   "cell_type": "markdown",
   "id": "3df4eece",
   "metadata": {},
   "source": [
    "#### LR_CWB"
   ]
  },
  {
   "cell_type": "code",
   "execution_count": 25,
   "id": "ac68c3d2",
   "metadata": {},
   "outputs": [
    {
     "name": "stdout",
     "output_type": "stream",
     "text": [
      "f1 score: 0.4741532976827095\n"
     ]
    }
   ],
   "source": [
    "# Training base model with Logistic Regression with class_weight balanced parameters\n",
    "model_lr_cwb = LogisticRegression(random_state=12345,solver='liblinear',class_weight='balanced')\n",
    "model_lr_cwb.fit(features_train,target_train)\n",
    "predicted_valid = model_lr_cwb.predict(features_valid)\n",
    "print('f1 score:',f1_score(target_valid,predicted_valid))"
   ]
  },
  {
   "cell_type": "markdown",
   "id": "676d7449",
   "metadata": {},
   "source": [
    "#### DT_CWB"
   ]
  },
  {
   "cell_type": "code",
   "execution_count": 26,
   "id": "70111d8b",
   "metadata": {
    "scrolled": false
   },
   "outputs": [
    {
     "name": "stdout",
     "output_type": "stream",
     "text": [
      "max_depth is 6.0; with highest F1 score of 0.5587044534412956\n"
     ]
    }
   ],
   "source": [
    "# Training base model with Decision Tree Classifier with class_weight balanced parameters\n",
    "dt_depth = pd.DataFrame(columns=['depth','f1'])\n",
    "for depth in range (1,10):\n",
    "    model_dt = DecisionTreeClassifier(max_depth=depth,random_state=12345,class_weight='balanced')\n",
    "    model_dt.fit(features_train,target_train)\n",
    "    predictions_valid = model_dt.predict(features_valid)\n",
    "    dt_depth = dt_depth.append({'depth': depth,'f1': f1_score(target_valid,predictions_valid)}, ignore_index=True)\n",
    "print(f\"max_depth is {dt_depth['depth'][dt_depth.f1.idxmax()]}; with highest F1 score of {dt_depth.f1.max()}\")"
   ]
  },
  {
   "cell_type": "markdown",
   "id": "6b4a4640",
   "metadata": {},
   "source": [
    "#### RF_CWB"
   ]
  },
  {
   "cell_type": "code",
   "execution_count": 27,
   "id": "55273670",
   "metadata": {},
   "outputs": [
    {
     "name": "stdout",
     "output_type": "stream",
     "text": [
      "max n is 92.0; with highest F1 score of 0.5818965517241379\n"
     ]
    }
   ],
   "source": [
    "# Training base model with Random Forest Classifier with class_weight balanced parameters\n",
    "ft_depth = pd.DataFrame(columns=['n','f1'])\n",
    "for n in range (90,95):\n",
    "    model_ft = RandomForestClassifier(max_depth=6,n_estimators=n,random_state=12345,class_weight='balanced')\n",
    "    model_ft.fit(features_train,target_train)\n",
    "    predictions_valid = model_ft.predict(features_valid)\n",
    "    ft_depth = ft_depth.append({'n': n,'f1': f1_score(target_valid,predictions_valid)}, ignore_index=True)\n",
    "print(f\"max n is {ft_depth['n'][ft_depth.f1.idxmax()]}; with highest F1 score of {ft_depth.f1.max()}\")"
   ]
  },
  {
   "cell_type": "markdown",
   "id": "a9062732",
   "metadata": {},
   "source": [
    "#### Best Model_RF_CWB"
   ]
  },
  {
   "cell_type": "code",
   "execution_count": 28,
   "id": "ca42e19d",
   "metadata": {},
   "outputs": [
    {
     "name": "stdout",
     "output_type": "stream",
     "text": [
      "f1 score: 0.5818965517241379\n"
     ]
    }
   ],
   "source": [
    "# Best model with class_weight balanced parameters\n",
    "model_rf_cwb = RandomForestClassifier(max_depth=6,n_estimators=92,random_state=12345,class_weight='balanced')\n",
    "model_rf_cwb.fit(features_train,target_train)\n",
    "predictions_valid = model_rf_cwb.predict(features_valid)\n",
    "print('f1 score:',f1_score(target_valid,predictions_valid))"
   ]
  },
  {
   "cell_type": "code",
   "execution_count": 29,
   "id": "540d7720",
   "metadata": {},
   "outputs": [
    {
     "name": "stdout",
     "output_type": "stream",
     "text": [
      "ROC/AUC: 0.8484070581241387\n"
     ]
    },
    {
     "data": {
      "image/png": "[encoded data removed]",
      "text/plain": [
       "<Figure size 504x360 with 1 Axes>"
      ]
     },
     "metadata": {
      "needs_background": "light"
     },
     "output_type": "display_data"
    }
   ],
   "source": [
    "# ROC plotting and Area under curve\n",
    "rocplot(features_valid,target_valid,model_rf_cwb)"
   ]
  },
  {
   "cell_type": "markdown",
   "id": "0d9ca244",
   "metadata": {},
   "source": [
    "### SMOTE Resampled Model"
   ]
  },
  {
   "cell_type": "markdown",
   "id": "0059c482",
   "metadata": {},
   "source": [
    "#### Resampling Undersize Model"
   ]
  },
  {
   "cell_type": "code",
   "execution_count": 30,
   "id": "a465451d",
   "metadata": {},
   "outputs": [],
   "source": [
    "# SMOTE to resampling data\n",
    "sm = SMOTE(random_state=12345)\n",
    "features_train_r, target_train_r = sm.fit_resample(features_train, target_train)"
   ]
  },
  {
   "cell_type": "code",
   "execution_count": 31,
   "id": "c02d08aa",
   "metadata": {},
   "outputs": [
    {
     "data": {
      "text/plain": [
       "0    4781\n",
       "1    1219\n",
       "Name: exited, dtype: int64"
      ]
     },
     "execution_count": 31,
     "metadata": {},
     "output_type": "execute_result"
    }
   ],
   "source": [
    "# Without SMOTE\n",
    "target_train.value_counts()"
   ]
  },
  {
   "cell_type": "code",
   "execution_count": 32,
   "id": "6bdee57a",
   "metadata": {},
   "outputs": [
    {
     "data": {
      "text/plain": [
       "0    4781\n",
       "1    4781\n",
       "Name: exited, dtype: int64"
      ]
     },
     "execution_count": 32,
     "metadata": {},
     "output_type": "execute_result"
    }
   ],
   "source": [
    "# After SMOTE\n",
    "target_train_r.value_counts()"
   ]
  },
  {
   "cell_type": "markdown",
   "id": "e7a29fd0",
   "metadata": {},
   "source": [
    "#### LR_SMOTE"
   ]
  },
  {
   "cell_type": "code",
   "execution_count": 33,
   "id": "ce2a7e61",
   "metadata": {},
   "outputs": [
    {
     "name": "stdout",
     "output_type": "stream",
     "text": [
      "0.4860853432282004\n"
     ]
    }
   ],
   "source": [
    "# Training SMOTE resampled data model with Logistic Regression\n",
    "model_lr_smote = LogisticRegression(random_state=12345,solver='liblinear')\n",
    "model_lr_smote.fit(features_train_r,target_train_r)\n",
    "predicted_valid = model_lr_smote.predict(features_valid)\n",
    "print(f1_score(target_valid,predicted_valid))"
   ]
  },
  {
   "cell_type": "markdown",
   "id": "bbf62169",
   "metadata": {},
   "source": [
    "#### DT_SMOTE"
   ]
  },
  {
   "cell_type": "code",
   "execution_count": 34,
   "id": "7a6b3481",
   "metadata": {},
   "outputs": [
    {
     "name": "stdout",
     "output_type": "stream",
     "text": [
      "max_depth is 5.0; with highest F1 score of 0.5443169968717414\n"
     ]
    }
   ],
   "source": [
    "# Training SMOTE resampled data model with Decision Tree Classifier\n",
    "dt_depth = pd.DataFrame(columns=['depth','f1'])\n",
    "for depth in range (1,10):\n",
    "    model_dt = DecisionTreeClassifier(max_depth=depth,random_state=12345)\n",
    "    model_dt.fit(features_train_r,target_train_r)\n",
    "    predictions_valid = model_dt.predict(features_valid)\n",
    "    dt_depth = dt_depth.append({'depth': depth,'f1': f1_score(target_valid,predictions_valid)}, ignore_index=True)\n",
    "print(f\"max_depth is {dt_depth['depth'][dt_depth.f1.idxmax()]}; with highest F1 score of {dt_depth.f1.max()}\")"
   ]
  },
  {
   "cell_type": "markdown",
   "id": "037146e5",
   "metadata": {},
   "source": [
    "#### RF_SMOTE"
   ]
  },
  {
   "cell_type": "code",
   "execution_count": 35,
   "id": "2764a06a",
   "metadata": {},
   "outputs": [
    {
     "name": "stdout",
     "output_type": "stream",
     "text": [
      "max n is 11.0; with highest F1 score of 0.5757906215921483\n"
     ]
    }
   ],
   "source": [
    "# Training SMOTE resampled data model with Random Forest Classifier\n",
    "ft_depth = pd.DataFrame(columns=['n','f1'])\n",
    "for n in range (1,15):\n",
    "    model_ft = RandomForestClassifier(max_depth=5,n_estimators=n,random_state=12345)\n",
    "    model_ft.fit(features_train_r,target_train_r)\n",
    "    predictions_valid = model_ft.predict(features_valid)\n",
    "    ft_depth = ft_depth.append({'n': n,'f1': f1_score(target_valid,predictions_valid)}, ignore_index=True)\n",
    "print(f\"max n is {ft_depth['n'][ft_depth.f1.idxmax()]}; with highest F1 score of {ft_depth.f1.max()}\")"
   ]
  },
  {
   "cell_type": "markdown",
   "id": "31298a8e",
   "metadata": {},
   "source": [
    "#### Best Model_RF_SMOTE"
   ]
  },
  {
   "cell_type": "code",
   "execution_count": 36,
   "id": "076e4f6b",
   "metadata": {},
   "outputs": [
    {
     "name": "stdout",
     "output_type": "stream",
     "text": [
      "f1 score: 0.5757906215921483\n"
     ]
    }
   ],
   "source": [
    "# Best model for SMOTE resampled\n",
    "model_rf_smote = RandomForestClassifier(max_depth=5,n_estimators=11,random_state=12345)\n",
    "model_rf_smote.fit(features_train_r,target_train_r)\n",
    "predictions_valid = model_rf_smote.predict(features_valid)\n",
    "print('f1 score:',f1_score(target_valid,predictions_valid))"
   ]
  },
  {
   "cell_type": "code",
   "execution_count": 37,
   "id": "d0dd5bf6",
   "metadata": {},
   "outputs": [
    {
     "name": "stdout",
     "output_type": "stream",
     "text": [
      "ROC/AUC: 0.8461872873017664\n"
     ]
    },
    {
     "data": {
      "image/png": "[encoded data removed]",
      "text/plain": [
       "<Figure size 504x360 with 1 Axes>"
      ]
     },
     "metadata": {
      "needs_background": "light"
     },
     "output_type": "display_data"
    }
   ],
   "source": [
    "# ROC plotting and Area under curve\n",
    "rocplot(features_valid,target_valid,model_rf_smote)"
   ]
  },
  {
   "cell_type": "markdown",
   "id": "47d5b902",
   "metadata": {},
   "source": [
    "### Choosing Best Model"
   ]
  },
  {
   "cell_type": "markdown",
   "id": "8435684f",
   "metadata": {},
   "source": [
    "#### Model_RF_CWB (Best F1 Score)"
   ]
  },
  {
   "cell_type": "code",
   "execution_count": 38,
   "id": "cf817139",
   "metadata": {},
   "outputs": [],
   "source": [
    "# Scale full training set\n",
    "scaler.fit(features_train_full[numeric])\n",
    "features_train_full[numeric] = scaler.transform(features_train_full[numeric])\n",
    "features_test[numeric] = scaler.transform(features_test[numeric])"
   ]
  },
  {
   "cell_type": "code",
   "execution_count": 39,
   "id": "7bf6b7c2",
   "metadata": {},
   "outputs": [
    {
     "name": "stdout",
     "output_type": "stream",
     "text": [
      "f1 score: 0.6357487922705314\n"
     ]
    }
   ],
   "source": [
    "# Best model with top F1 score and ROC-AUC score (Random Forest Classifier with Class_weight balanced parameters)\n",
    "model_rf_cwb = RandomForestClassifier(max_depth=6,n_estimators=92,random_state=12345,class_weight='balanced')\n",
    "model_rf_cwb.fit(features_train_full,target_train_full)\n",
    "predictions_test = model_rf_cwb.predict(features_test)\n",
    "print('f1 score:',f1_score(target_test,predictions_test))"
   ]
  },
  {
   "cell_type": "code",
   "execution_count": 40,
   "id": "db80ae2e",
   "metadata": {},
   "outputs": [
    {
     "name": "stdout",
     "output_type": "stream",
     "text": [
      "ROC/AUC: 0.863656462762275\n"
     ]
    },
    {
     "data": {
      "image/png": "[encoded data removed]",
      "text/plain": [
       "<Figure size 504x360 with 1 Axes>"
      ]
     },
     "metadata": {
      "needs_background": "light"
     },
     "output_type": "display_data"
    }
   ],
   "source": [
    "# ROC plotting and Area under curve\n",
    "rocplot(features_test,target_test,model_rf_cwb)"
   ]
  },
  {
   "cell_type": "markdown",
   "id": "8fe812a8",
   "metadata": {},
   "source": [
    "## Conclusion"
   ]
  },
  {
   "cell_type": "markdown",
   "id": "517e74af",
   "metadata": {},
   "source": [
    "Models were trained with standard training set without any alteration and tested on the validation sets. Started with base model training with Logistic Regression, Decision Tree Classification, and Random Forest classification (`LR, DT, RF`). Then all models training were repeated with parameter `class_weight = balanced` added (`LR_CWB, DT_CWB, RF_CWB`). The last round of model training was performed on SMOTE resample balanced data frame (`LR_S, DT_S, RF_S`). The best depth parameters for all the Decision Tree Model were tested using the loop. Then the best-chosen parameters were used to train the Random Forest model. Best n_estimator parameters are determined using the for loops. \n",
    "\n",
    "  \n",
    "\n",
    "**F1 Scores of the different model:** \n",
    "\n",
    "- LR = 0.301 \n",
    "\n",
    "- DT = 0.558 \n",
    "\n",
    "- RT = 0.535 \n",
    "\n",
    "- LR_CWB = 0.474 \n",
    "\n",
    "- DT_CWB = 0.559 \n",
    "\n",
    "- RF_CWB = 0.582 \n",
    "\n",
    "- LR_S = 0.486 \n",
    "\n",
    "- DT_S = 0.544 \n",
    "\n",
    "- RF_S = 0.576 \n",
    "\n",
    " "
   ]
  },
  {
   "cell_type": "markdown",
   "id": "c13ee49c",
   "metadata": {},
   "source": [
    "The final model chosen Random Forest Classification with parameters `max_depth=6, n_estimators=92, random_state=12345, class_weight='balanced'`, with top F1 Scores of 0.582, and area under curve, ROC-AOC score of 0.848. \n",
    "\n",
    "  \n",
    "\n",
    "Full training sets were used to scale and fit the model. The model was then tested on the test set, achieving a final F1 score of **`0.636`** and an area under the curve, ROC-AOC score of **`0.864`**. The best model improved significantly compared to the base model, which is f1 score of 0.558 (**14%** improvement) and ROC/AUC score of 0.823`.  \n",
    "\n",
    "  \n",
    "\n",
    "I recommend the Beta bank use Random Forest Classification with parameters max_depth of 6, n_estimators of 92, class_weight='balanced' for churning rate prediction. "
   ]
  }
 ],
 "metadata": {
  "kernelspec": {
   "display_name": "Python 3 (ipykernel)",
   "language": "python",
   "name": "python3"
  },
  "language_info": {
   "codemirror_mode": {
    "name": "ipython",
    "version": 3
   },
   "file_extension": ".py",
   "mimetype": "text/x-python",
   "name": "python",
   "nbconvert_exporter": "python",
   "pygments_lexer": "ipython3",
   "version": "3.9.7"
  },
  "toc": {
   "base_numbering": 1,
   "nav_menu": {},
   "number_sections": true,
   "sideBar": true,
   "skip_h1_title": false,
   "title_cell": "Table of Contents",
   "title_sidebar": "Contents",
   "toc_cell": false,
   "toc_position": {
    "height": "calc(100% - 180px)",
    "left": "10px",
    "top": "150px",
    "width": "439px"
   },
   "toc_section_display": true,
   "toc_window_display": true
  }
 },
 "nbformat": 4,
 "nbformat_minor": 5
}
