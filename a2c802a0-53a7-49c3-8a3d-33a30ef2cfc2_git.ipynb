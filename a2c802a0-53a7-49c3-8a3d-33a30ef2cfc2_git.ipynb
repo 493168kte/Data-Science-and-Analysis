{
 "cells": [
  {
   "cell_type": "markdown",
   "id": "52062a72",
   "metadata": {
    "toc": true
   },
   "source": [
    "<h1>Table of Contents<span class=\"tocSkip\"></span></h1>\n",
    "<div class=\"toc\"><ul class=\"toc-item\"><li><span><a href=\"#What-sells-a-game?\" data-toc-modified-id=\"What-sells-a-game?-1\"><span class=\"toc-item-num\">1&nbsp;&nbsp;</span>What sells a game?</a></span><ul class=\"toc-item\"><li><span><a href=\"#Initialization\" data-toc-modified-id=\"Initialization-1.1\"><span class=\"toc-item-num\">1.1&nbsp;&nbsp;</span>Initialization</a></span><ul class=\"toc-item\"><li><span><a href=\"#Data-exploration\" data-toc-modified-id=\"Data-exploration-1.1.1\"><span class=\"toc-item-num\">1.1.1&nbsp;&nbsp;</span>Data exploration</a></span></li></ul></li><li><span><a href=\"#Preprocessing-Data\" data-toc-modified-id=\"Preprocessing-Data-1.2\"><span class=\"toc-item-num\">1.2&nbsp;&nbsp;</span>Preprocessing Data</a></span><ul class=\"toc-item\"><li><span><a href=\"#Name\" data-toc-modified-id=\"Name-1.2.1\"><span class=\"toc-item-num\">1.2.1&nbsp;&nbsp;</span>Name</a></span></li><li><span><a href=\"#Year-of-Release\" data-toc-modified-id=\"Year-of-Release-1.2.2\"><span class=\"toc-item-num\">1.2.2&nbsp;&nbsp;</span>Year of Release</a></span></li><li><span><a href=\"#Rating\" data-toc-modified-id=\"Rating-1.2.3\"><span class=\"toc-item-num\">1.2.3&nbsp;&nbsp;</span>Rating</a></span></li><li><span><a href=\"#User-score\" data-toc-modified-id=\"User-score-1.2.4\"><span class=\"toc-item-num\">1.2.4&nbsp;&nbsp;</span>User score</a></span></li><li><span><a href=\"#Critic-score\" data-toc-modified-id=\"Critic-score-1.2.5\"><span class=\"toc-item-num\">1.2.5&nbsp;&nbsp;</span>Critic score</a></span></li><li><span><a href=\"#Total-sales\" data-toc-modified-id=\"Total-sales-1.2.6\"><span class=\"toc-item-num\">1.2.6&nbsp;&nbsp;</span>Total sales</a></span></li></ul></li><li><span><a href=\"#Exploratory-Data-Analysis-(EDA)\" data-toc-modified-id=\"Exploratory-Data-Analysis-(EDA)-1.3\"><span class=\"toc-item-num\">1.3&nbsp;&nbsp;</span>Exploratory Data Analysis (EDA)</a></span><ul class=\"toc-item\"><li><span><a href=\"#Dataframe-Distribution\" data-toc-modified-id=\"Dataframe-Distribution-1.3.1\"><span class=\"toc-item-num\">1.3.1&nbsp;&nbsp;</span>Dataframe Distribution</a></span></li><li><span><a href=\"#Data-Correlation\" data-toc-modified-id=\"Data-Correlation-1.3.2\"><span class=\"toc-item-num\">1.3.2&nbsp;&nbsp;</span>Data Correlation</a></span></li><li><span><a href=\"#Data-Analysis-for-forecasting-(Year->-2011)\" data-toc-modified-id=\"Data-Analysis-for-forecasting-(Year->-2011)-1.3.3\"><span class=\"toc-item-num\">1.3.3&nbsp;&nbsp;</span>Data Analysis for forecasting (Year &gt; 2011)</a></span></li><li><span><a href=\"#Working-with-Outliers\" data-toc-modified-id=\"Working-with-Outliers-1.3.4\"><span class=\"toc-item-num\">1.3.4&nbsp;&nbsp;</span>Working with Outliers</a></span></li><li><span><a href=\"#Pivot-Data\" data-toc-modified-id=\"Pivot-Data-1.3.5\"><span class=\"toc-item-num\">1.3.5&nbsp;&nbsp;</span>Pivot Data</a></span><ul class=\"toc-item\"><li><span><a href=\"#North-America-Region\" data-toc-modified-id=\"North-America-Region-1.3.5.1\"><span class=\"toc-item-num\">1.3.5.1&nbsp;&nbsp;</span>North America Region</a></span></li><li><span><a href=\"#Japan-Region\" data-toc-modified-id=\"Japan-Region-1.3.5.2\"><span class=\"toc-item-num\">1.3.5.2&nbsp;&nbsp;</span>Japan Region</a></span></li><li><span><a href=\"#Europe-Region\" data-toc-modified-id=\"Europe-Region-1.3.5.3\"><span class=\"toc-item-num\">1.3.5.3&nbsp;&nbsp;</span>Europe Region</a></span></li><li><span><a href=\"#Global-Region\" data-toc-modified-id=\"Global-Region-1.3.5.4\"><span class=\"toc-item-num\">1.3.5.4&nbsp;&nbsp;</span>Global Region</a></span></li><li><span><a href=\"#Pivot-Data-Plot\" data-toc-modified-id=\"Pivot-Data-Plot-1.3.5.5\"><span class=\"toc-item-num\">1.3.5.5&nbsp;&nbsp;</span>Pivot Data Plot</a></span></li></ul></li><li><span><a href=\"#Top-Platforms\" data-toc-modified-id=\"Top-Platforms-1.3.6\"><span class=\"toc-item-num\">1.3.6&nbsp;&nbsp;</span>Top Platforms</a></span></li><li><span><a href=\"#Boxplot-distribution\" data-toc-modified-id=\"Boxplot-distribution-1.3.7\"><span class=\"toc-item-num\">1.3.7&nbsp;&nbsp;</span>Boxplot distribution</a></span></li><li><span><a href=\"#Scatterplot-distribution\" data-toc-modified-id=\"Scatterplot-distribution-1.3.8\"><span class=\"toc-item-num\">1.3.8&nbsp;&nbsp;</span>Scatterplot distribution</a></span></li></ul></li><li><span><a href=\"#Statistical-Data-Analysis\" data-toc-modified-id=\"Statistical-Data-Analysis-1.4\"><span class=\"toc-item-num\">1.4&nbsp;&nbsp;</span>Statistical Data Analysis</a></span><ul class=\"toc-item\"><li><span><a href=\"#Xbox-one-and-PC-Platforms\" data-toc-modified-id=\"Xbox-one-and-PC-Platforms-1.4.1\"><span class=\"toc-item-num\">1.4.1&nbsp;&nbsp;</span>Xbox one and PC Platforms</a></span></li><li><span><a href=\"#Actions-and-Sports-Genre\" data-toc-modified-id=\"Actions-and-Sports-Genre-1.4.2\"><span class=\"toc-item-num\">1.4.2&nbsp;&nbsp;</span>Actions and Sports Genre</a></span></li></ul></li><li><span><a href=\"#General-Conclusions\" data-toc-modified-id=\"General-Conclusions-1.5\"><span class=\"toc-item-num\">1.5&nbsp;&nbsp;</span>General Conclusions</a></span></li></ul></li></ul></div>"
   ]
  },
  {
   "cell_type": "markdown",
   "id": "09c945b9",
   "metadata": {},
   "source": [
    "# What sells a game?"
   ]
  },
  {
   "cell_type": "markdown",
   "id": "b100d2ce",
   "metadata": {},
   "source": [
    "This project aims to determine which pattern influence the sales of the game. The project analysis will help spot the potential big winners game and let Online Store Ice plan the advertising campaigns accordingly based on the patterns that generate better sales for the game."
   ]
  },
  {
   "cell_type": "markdown",
   "id": "83a3beef",
   "metadata": {},
   "source": [
    "## Initialization"
   ]
  },
  {
   "cell_type": "code",
   "execution_count": 1,
   "id": "522a2870",
   "metadata": {},
   "outputs": [],
   "source": [
    "# Loading all the libraries\n",
    "import pandas as pd\n",
    "import matplotlib.pyplot as plt\n",
    "import numpy as np\n",
    "import seaborn as sns\n",
    "import warnings\n",
    "warnings.filterwarnings(\"ignore\")\n",
    "from scipy import stats as st\n",
    "from functools import reduce\n",
    "import inspect, re"
   ]
  },
  {
   "cell_type": "code",
   "execution_count": 2,
   "id": "ec3028b7",
   "metadata": {},
   "outputs": [],
   "source": [
    "# Load the data files into different DataFrames\n",
    "try:\n",
    "    df = pd.read_csv('games.csv')\n",
    "except:\n",
    "    df = pd.read_csv('/datasets/games.csv')"
   ]
  },
  {
   "cell_type": "markdown",
   "id": "5353bc69",
   "metadata": {},
   "source": [
    "### Data exploration"
   ]
  },
  {
   "cell_type": "code",
   "execution_count": 3,
   "id": "49f4a580",
   "metadata": {},
   "outputs": [
    {
     "data": {
      "text/html": [
       "<div>\n",
       "<style scoped>\n",
       "    .dataframe tbody tr th:only-of-type {\n",
       "        vertical-align: middle;\n",
       "    }\n",
       "\n",
       "    .dataframe tbody tr th {\n",
       "        vertical-align: top;\n",
       "    }\n",
       "\n",
       "    .dataframe thead th {\n",
       "        text-align: right;\n",
       "    }\n",
       "</style>\n",
       "<table border=\"1\" class=\"dataframe\">\n",
       "  <thead>\n",
       "    <tr style=\"text-align: right;\">\n",
       "      <th></th>\n",
       "      <th>Name</th>\n",
       "      <th>Platform</th>\n",
       "      <th>Year_of_Release</th>\n",
       "      <th>Genre</th>\n",
       "      <th>NA_sales</th>\n",
       "      <th>EU_sales</th>\n",
       "      <th>JP_sales</th>\n",
       "      <th>Other_sales</th>\n",
       "      <th>Critic_Score</th>\n",
       "      <th>User_Score</th>\n",
       "      <th>Rating</th>\n",
       "    </tr>\n",
       "  </thead>\n",
       "  <tbody>\n",
       "    <tr>\n",
       "      <th>0</th>\n",
       "      <td>Wii Sports</td>\n",
       "      <td>Wii</td>\n",
       "      <td>2006.0</td>\n",
       "      <td>Sports</td>\n",
       "      <td>41.36</td>\n",
       "      <td>28.96</td>\n",
       "      <td>3.77</td>\n",
       "      <td>8.45</td>\n",
       "      <td>76.0</td>\n",
       "      <td>8</td>\n",
       "      <td>E</td>\n",
       "    </tr>\n",
       "    <tr>\n",
       "      <th>1</th>\n",
       "      <td>Super Mario Bros.</td>\n",
       "      <td>NES</td>\n",
       "      <td>1985.0</td>\n",
       "      <td>Platform</td>\n",
       "      <td>29.08</td>\n",
       "      <td>3.58</td>\n",
       "      <td>6.81</td>\n",
       "      <td>0.77</td>\n",
       "      <td>NaN</td>\n",
       "      <td>NaN</td>\n",
       "      <td>NaN</td>\n",
       "    </tr>\n",
       "    <tr>\n",
       "      <th>2</th>\n",
       "      <td>Mario Kart Wii</td>\n",
       "      <td>Wii</td>\n",
       "      <td>2008.0</td>\n",
       "      <td>Racing</td>\n",
       "      <td>15.68</td>\n",
       "      <td>12.76</td>\n",
       "      <td>3.79</td>\n",
       "      <td>3.29</td>\n",
       "      <td>82.0</td>\n",
       "      <td>8.3</td>\n",
       "      <td>E</td>\n",
       "    </tr>\n",
       "    <tr>\n",
       "      <th>3</th>\n",
       "      <td>Wii Sports Resort</td>\n",
       "      <td>Wii</td>\n",
       "      <td>2009.0</td>\n",
       "      <td>Sports</td>\n",
       "      <td>15.61</td>\n",
       "      <td>10.93</td>\n",
       "      <td>3.28</td>\n",
       "      <td>2.95</td>\n",
       "      <td>80.0</td>\n",
       "      <td>8</td>\n",
       "      <td>E</td>\n",
       "    </tr>\n",
       "    <tr>\n",
       "      <th>4</th>\n",
       "      <td>Pokemon Red/Pokemon Blue</td>\n",
       "      <td>GB</td>\n",
       "      <td>1996.0</td>\n",
       "      <td>Role-Playing</td>\n",
       "      <td>11.27</td>\n",
       "      <td>8.89</td>\n",
       "      <td>10.22</td>\n",
       "      <td>1.00</td>\n",
       "      <td>NaN</td>\n",
       "      <td>NaN</td>\n",
       "      <td>NaN</td>\n",
       "    </tr>\n",
       "  </tbody>\n",
       "</table>\n",
       "</div>"
      ],
      "text/plain": [
       "                       Name Platform  Year_of_Release         Genre  NA_sales  \\\n",
       "0                Wii Sports      Wii           2006.0        Sports     41.36   \n",
       "1         Super Mario Bros.      NES           1985.0      Platform     29.08   \n",
       "2            Mario Kart Wii      Wii           2008.0        Racing     15.68   \n",
       "3         Wii Sports Resort      Wii           2009.0        Sports     15.61   \n",
       "4  Pokemon Red/Pokemon Blue       GB           1996.0  Role-Playing     11.27   \n",
       "\n",
       "   EU_sales  JP_sales  Other_sales  Critic_Score User_Score Rating  \n",
       "0     28.96      3.77         8.45          76.0          8      E  \n",
       "1      3.58      6.81         0.77           NaN        NaN    NaN  \n",
       "2     12.76      3.79         3.29          82.0        8.3      E  \n",
       "3     10.93      3.28         2.95          80.0          8      E  \n",
       "4      8.89     10.22         1.00           NaN        NaN    NaN  "
      ]
     },
     "execution_count": 3,
     "metadata": {},
     "output_type": "execute_result"
    }
   ],
   "source": [
    "# Dataframe\n",
    "df.head(5)"
   ]
  },
  {
   "cell_type": "code",
   "execution_count": 4,
   "id": "96beda19",
   "metadata": {},
   "outputs": [],
   "source": [
    "# Lowered Columns Names\n",
    "df = df.rename(columns=str.lower)"
   ]
  },
  {
   "cell_type": "code",
   "execution_count": 5,
   "id": "9a278466",
   "metadata": {},
   "outputs": [
    {
     "name": "stdout",
     "output_type": "stream",
     "text": [
      "<class 'pandas.core.frame.DataFrame'>\n",
      "RangeIndex: 16715 entries, 0 to 16714\n",
      "Data columns (total 11 columns):\n",
      " #   Column           Non-Null Count  Dtype  \n",
      "---  ------           --------------  -----  \n",
      " 0   name             16713 non-null  object \n",
      " 1   platform         16715 non-null  object \n",
      " 2   year_of_release  16446 non-null  float64\n",
      " 3   genre            16713 non-null  object \n",
      " 4   na_sales         16715 non-null  float64\n",
      " 5   eu_sales         16715 non-null  float64\n",
      " 6   jp_sales         16715 non-null  float64\n",
      " 7   other_sales      16715 non-null  float64\n",
      " 8   critic_score     8137 non-null   float64\n",
      " 9   user_score       10014 non-null  object \n",
      " 10  rating           9949 non-null   object \n",
      "dtypes: float64(6), object(5)\n",
      "memory usage: 1.4+ MB\n"
     ]
    }
   ],
   "source": [
    "# Dataframe Info\n",
    "df.info()"
   ]
  },
  {
   "cell_type": "markdown",
   "id": "5aa1364e",
   "metadata": {},
   "source": [
    "**Initialization**\n",
    "\n",
    "There are 16715 rows and 11 columns of data in the dataframe. All the columns name has been changed to lower case for easier interpretation and analysis of the data. It seems like there are some missing values in `name`,`year_of_release`,`critic_score`,`user_score`,and `rating` columns.\n",
    "\n",
    "Data description:\n",
    "   - `name`     column is showing the names of the Games.\n",
    "   - `platform` Gaming Platforms.\n",
    "   - `year_of_release` Game released year.\n",
    "   - `na_sales` North American region Sales in USD million.\n",
    "   - `eu_sales` Europe region Sales in USD million.\n",
    "   - `jp_sales` Japan region Sales in USD million.\n",
    "   - `other_sales` Sales from other region in USD million.\n",
    "   - `critic_score` Review rating on game performance from professional.\n",
    "   - `user_score` User rating on game performance.\n",
    "   - `rating` Entertainment Software Rating Board (ESRB)"
   ]
  },
  {
   "cell_type": "markdown",
   "id": "fda48490",
   "metadata": {},
   "source": [
    "## Preprocessing Data"
   ]
  },
  {
   "cell_type": "code",
   "execution_count": 6,
   "id": "83c0c812",
   "metadata": {
    "scrolled": true
   },
   "outputs": [
    {
     "data": {
      "text/html": [
       "<div>\n",
       "<style scoped>\n",
       "    .dataframe tbody tr th:only-of-type {\n",
       "        vertical-align: middle;\n",
       "    }\n",
       "\n",
       "    .dataframe tbody tr th {\n",
       "        vertical-align: top;\n",
       "    }\n",
       "\n",
       "    .dataframe thead th {\n",
       "        text-align: right;\n",
       "    }\n",
       "</style>\n",
       "<table border=\"1\" class=\"dataframe\">\n",
       "  <thead>\n",
       "    <tr style=\"text-align: right;\">\n",
       "      <th></th>\n",
       "      <th>year_of_release</th>\n",
       "      <th>na_sales</th>\n",
       "      <th>eu_sales</th>\n",
       "      <th>jp_sales</th>\n",
       "      <th>other_sales</th>\n",
       "      <th>critic_score</th>\n",
       "    </tr>\n",
       "  </thead>\n",
       "  <tbody>\n",
       "    <tr>\n",
       "      <th>count</th>\n",
       "      <td>16446.000000</td>\n",
       "      <td>16715.000000</td>\n",
       "      <td>16715.000000</td>\n",
       "      <td>16715.000000</td>\n",
       "      <td>16715.000000</td>\n",
       "      <td>8137.000000</td>\n",
       "    </tr>\n",
       "    <tr>\n",
       "      <th>mean</th>\n",
       "      <td>2006.484616</td>\n",
       "      <td>0.263377</td>\n",
       "      <td>0.145060</td>\n",
       "      <td>0.077617</td>\n",
       "      <td>0.047342</td>\n",
       "      <td>68.967679</td>\n",
       "    </tr>\n",
       "    <tr>\n",
       "      <th>std</th>\n",
       "      <td>5.877050</td>\n",
       "      <td>0.813604</td>\n",
       "      <td>0.503339</td>\n",
       "      <td>0.308853</td>\n",
       "      <td>0.186731</td>\n",
       "      <td>13.938165</td>\n",
       "    </tr>\n",
       "    <tr>\n",
       "      <th>min</th>\n",
       "      <td>1980.000000</td>\n",
       "      <td>0.000000</td>\n",
       "      <td>0.000000</td>\n",
       "      <td>0.000000</td>\n",
       "      <td>0.000000</td>\n",
       "      <td>13.000000</td>\n",
       "    </tr>\n",
       "    <tr>\n",
       "      <th>25%</th>\n",
       "      <td>2003.000000</td>\n",
       "      <td>0.000000</td>\n",
       "      <td>0.000000</td>\n",
       "      <td>0.000000</td>\n",
       "      <td>0.000000</td>\n",
       "      <td>60.000000</td>\n",
       "    </tr>\n",
       "    <tr>\n",
       "      <th>50%</th>\n",
       "      <td>2007.000000</td>\n",
       "      <td>0.080000</td>\n",
       "      <td>0.020000</td>\n",
       "      <td>0.000000</td>\n",
       "      <td>0.010000</td>\n",
       "      <td>71.000000</td>\n",
       "    </tr>\n",
       "    <tr>\n",
       "      <th>75%</th>\n",
       "      <td>2010.000000</td>\n",
       "      <td>0.240000</td>\n",
       "      <td>0.110000</td>\n",
       "      <td>0.040000</td>\n",
       "      <td>0.030000</td>\n",
       "      <td>79.000000</td>\n",
       "    </tr>\n",
       "    <tr>\n",
       "      <th>max</th>\n",
       "      <td>2016.000000</td>\n",
       "      <td>41.360000</td>\n",
       "      <td>28.960000</td>\n",
       "      <td>10.220000</td>\n",
       "      <td>10.570000</td>\n",
       "      <td>98.000000</td>\n",
       "    </tr>\n",
       "  </tbody>\n",
       "</table>\n",
       "</div>"
      ],
      "text/plain": [
       "       year_of_release      na_sales      eu_sales      jp_sales  \\\n",
       "count     16446.000000  16715.000000  16715.000000  16715.000000   \n",
       "mean       2006.484616      0.263377      0.145060      0.077617   \n",
       "std           5.877050      0.813604      0.503339      0.308853   \n",
       "min        1980.000000      0.000000      0.000000      0.000000   \n",
       "25%        2003.000000      0.000000      0.000000      0.000000   \n",
       "50%        2007.000000      0.080000      0.020000      0.000000   \n",
       "75%        2010.000000      0.240000      0.110000      0.040000   \n",
       "max        2016.000000     41.360000     28.960000     10.220000   \n",
       "\n",
       "        other_sales  critic_score  \n",
       "count  16715.000000   8137.000000  \n",
       "mean       0.047342     68.967679  \n",
       "std        0.186731     13.938165  \n",
       "min        0.000000     13.000000  \n",
       "25%        0.000000     60.000000  \n",
       "50%        0.010000     71.000000  \n",
       "75%        0.030000     79.000000  \n",
       "max       10.570000     98.000000  "
      ]
     },
     "execution_count": 6,
     "metadata": {},
     "output_type": "execute_result"
    }
   ],
   "source": [
    "# Dataframe Descriptive Statistics.\n",
    "df.describe()"
   ]
  },
  {
   "cell_type": "code",
   "execution_count": 7,
   "id": "786b3622",
   "metadata": {},
   "outputs": [
    {
     "data": {
      "text/plain": [
       "name                  2\n",
       "platform              0\n",
       "year_of_release     269\n",
       "genre                 2\n",
       "na_sales              0\n",
       "eu_sales              0\n",
       "jp_sales              0\n",
       "other_sales           0\n",
       "critic_score       8578\n",
       "user_score         6701\n",
       "rating             6766\n",
       "dtype: int64"
      ]
     },
     "execution_count": 7,
     "metadata": {},
     "output_type": "execute_result"
    }
   ],
   "source": [
    "# Missing Values Count per column\n",
    "df.isna().sum()"
   ]
  },
  {
   "cell_type": "code",
   "execution_count": 8,
   "id": "8defd12e",
   "metadata": {},
   "outputs": [],
   "source": [
    "# Drop all duplicates\n",
    "df.drop_duplicates(inplace=True)"
   ]
  },
  {
   "cell_type": "markdown",
   "id": "465f64dd",
   "metadata": {},
   "source": [
    "### Name"
   ]
  },
  {
   "cell_type": "code",
   "execution_count": 9,
   "id": "b1baf02f",
   "metadata": {},
   "outputs": [],
   "source": [
    "# Drop the two missing values from name column\n",
    "df.dropna(subset=['name'],inplace=True)"
   ]
  },
  {
   "cell_type": "markdown",
   "id": "df237f1f",
   "metadata": {},
   "source": [
    "### Year of Release"
   ]
  },
  {
   "cell_type": "code",
   "execution_count": 10,
   "id": "31691736",
   "metadata": {},
   "outputs": [],
   "source": [
    "# Filled missing values year_of_release column grouped by name\n",
    "df['year_of_release'] = df['year_of_release'].fillna(df.groupby('name')['year_of_release'].apply(lambda x: x.ffill().mean()))"
   ]
  },
  {
   "cell_type": "code",
   "execution_count": 11,
   "id": "10003f4a",
   "metadata": {},
   "outputs": [
    {
     "data": {
      "text/plain": [
       "0.016095255190570215"
      ]
     },
     "execution_count": 11,
     "metadata": {},
     "output_type": "execute_result"
    }
   ],
   "source": [
    "# Check leftover year_of_release missing values\n",
    "(df['year_of_release'].isna().sum())/len(df)"
   ]
  },
  {
   "cell_type": "code",
   "execution_count": 12,
   "id": "17700bd8",
   "metadata": {},
   "outputs": [],
   "source": [
    "# # Drop the missing values from year_of_release column\n",
    "df.dropna(subset=['year_of_release'],inplace=True)\n",
    "df['year_of_release']=df['year_of_release'].astype('int')"
   ]
  },
  {
   "cell_type": "code",
   "execution_count": 13,
   "id": "a02b1d35",
   "metadata": {},
   "outputs": [
    {
     "data": {
      "text/html": [
       "<div>\n",
       "<style scoped>\n",
       "    .dataframe tbody tr th:only-of-type {\n",
       "        vertical-align: middle;\n",
       "    }\n",
       "\n",
       "    .dataframe tbody tr th {\n",
       "        vertical-align: top;\n",
       "    }\n",
       "\n",
       "    .dataframe thead th {\n",
       "        text-align: right;\n",
       "    }\n",
       "</style>\n",
       "<table border=\"1\" class=\"dataframe\">\n",
       "  <thead>\n",
       "    <tr style=\"text-align: right;\">\n",
       "      <th></th>\n",
       "      <th>name</th>\n",
       "      <th>platform</th>\n",
       "      <th>year_of_release</th>\n",
       "      <th>genre</th>\n",
       "      <th>na_sales</th>\n",
       "      <th>eu_sales</th>\n",
       "      <th>jp_sales</th>\n",
       "      <th>other_sales</th>\n",
       "      <th>critic_score</th>\n",
       "      <th>user_score</th>\n",
       "      <th>rating</th>\n",
       "    </tr>\n",
       "  </thead>\n",
       "  <tbody>\n",
       "    <tr>\n",
       "      <th>0</th>\n",
       "      <td>Wii Sports</td>\n",
       "      <td>Wii</td>\n",
       "      <td>2006</td>\n",
       "      <td>Sports</td>\n",
       "      <td>41.36</td>\n",
       "      <td>28.96</td>\n",
       "      <td>3.77</td>\n",
       "      <td>8.45</td>\n",
       "      <td>76.0</td>\n",
       "      <td>8</td>\n",
       "      <td>E</td>\n",
       "    </tr>\n",
       "    <tr>\n",
       "      <th>1</th>\n",
       "      <td>Super Mario Bros.</td>\n",
       "      <td>NES</td>\n",
       "      <td>1985</td>\n",
       "      <td>Platform</td>\n",
       "      <td>29.08</td>\n",
       "      <td>3.58</td>\n",
       "      <td>6.81</td>\n",
       "      <td>0.77</td>\n",
       "      <td>NaN</td>\n",
       "      <td>NaN</td>\n",
       "      <td>NaN</td>\n",
       "    </tr>\n",
       "    <tr>\n",
       "      <th>2</th>\n",
       "      <td>Mario Kart Wii</td>\n",
       "      <td>Wii</td>\n",
       "      <td>2008</td>\n",
       "      <td>Racing</td>\n",
       "      <td>15.68</td>\n",
       "      <td>12.76</td>\n",
       "      <td>3.79</td>\n",
       "      <td>3.29</td>\n",
       "      <td>82.0</td>\n",
       "      <td>8.3</td>\n",
       "      <td>E</td>\n",
       "    </tr>\n",
       "    <tr>\n",
       "      <th>3</th>\n",
       "      <td>Wii Sports Resort</td>\n",
       "      <td>Wii</td>\n",
       "      <td>2009</td>\n",
       "      <td>Sports</td>\n",
       "      <td>15.61</td>\n",
       "      <td>10.93</td>\n",
       "      <td>3.28</td>\n",
       "      <td>2.95</td>\n",
       "      <td>80.0</td>\n",
       "      <td>8</td>\n",
       "      <td>E</td>\n",
       "    </tr>\n",
       "    <tr>\n",
       "      <th>4</th>\n",
       "      <td>Pokemon Red/Pokemon Blue</td>\n",
       "      <td>GB</td>\n",
       "      <td>1996</td>\n",
       "      <td>Role-Playing</td>\n",
       "      <td>11.27</td>\n",
       "      <td>8.89</td>\n",
       "      <td>10.22</td>\n",
       "      <td>1.00</td>\n",
       "      <td>NaN</td>\n",
       "      <td>NaN</td>\n",
       "      <td>NaN</td>\n",
       "    </tr>\n",
       "  </tbody>\n",
       "</table>\n",
       "</div>"
      ],
      "text/plain": [
       "                       name platform  year_of_release         genre  na_sales  \\\n",
       "0                Wii Sports      Wii             2006        Sports     41.36   \n",
       "1         Super Mario Bros.      NES             1985      Platform     29.08   \n",
       "2            Mario Kart Wii      Wii             2008        Racing     15.68   \n",
       "3         Wii Sports Resort      Wii             2009        Sports     15.61   \n",
       "4  Pokemon Red/Pokemon Blue       GB             1996  Role-Playing     11.27   \n",
       "\n",
       "   eu_sales  jp_sales  other_sales  critic_score user_score rating  \n",
       "0     28.96      3.77         8.45          76.0          8      E  \n",
       "1      3.58      6.81         0.77           NaN        NaN    NaN  \n",
       "2     12.76      3.79         3.29          82.0        8.3      E  \n",
       "3     10.93      3.28         2.95          80.0          8      E  \n",
       "4      8.89     10.22         1.00           NaN        NaN    NaN  "
      ]
     },
     "execution_count": 13,
     "metadata": {},
     "output_type": "execute_result"
    }
   ],
   "source": [
    "df.head(5)"
   ]
  },
  {
   "cell_type": "markdown",
   "id": "49b49b49",
   "metadata": {},
   "source": [
    "### Rating"
   ]
  },
  {
   "cell_type": "code",
   "execution_count": 14,
   "id": "1107b41a",
   "metadata": {},
   "outputs": [],
   "source": [
    "# Filled missing values rating column grouped by name\n",
    "df['rating'] = df['rating'].fillna(df.groupby('name')['rating'].apply(lambda x: x.ffill().bfill()))"
   ]
  },
  {
   "cell_type": "code",
   "execution_count": 15,
   "id": "e63ed024",
   "metadata": {},
   "outputs": [
    {
     "data": {
      "text/plain": [
       "0.38062515203113595"
      ]
     },
     "execution_count": 15,
     "metadata": {},
     "output_type": "execute_result"
    }
   ],
   "source": [
    "# Check leftover rating missing values\n",
    "(df['rating'].isna().sum())/len(df)"
   ]
  },
  {
   "cell_type": "code",
   "execution_count": 16,
   "id": "f201e042",
   "metadata": {},
   "outputs": [],
   "source": [
    "# Fill leftover msising value with unknown\n",
    "df['rating'].fillna('unknown',inplace=True)"
   ]
  },
  {
   "cell_type": "markdown",
   "id": "ec3ee7ce",
   "metadata": {},
   "source": [
    "### User score"
   ]
  },
  {
   "cell_type": "code",
   "execution_count": 17,
   "id": "95358c39",
   "metadata": {},
   "outputs": [
    {
     "data": {
      "text/html": [
       "<div>\n",
       "<style scoped>\n",
       "    .dataframe tbody tr th:only-of-type {\n",
       "        vertical-align: middle;\n",
       "    }\n",
       "\n",
       "    .dataframe tbody tr th {\n",
       "        vertical-align: top;\n",
       "    }\n",
       "\n",
       "    .dataframe thead th {\n",
       "        text-align: right;\n",
       "    }\n",
       "</style>\n",
       "<table border=\"1\" class=\"dataframe\">\n",
       "  <thead>\n",
       "    <tr style=\"text-align: right;\">\n",
       "      <th></th>\n",
       "      <th>name</th>\n",
       "      <th>platform</th>\n",
       "      <th>year_of_release</th>\n",
       "      <th>genre</th>\n",
       "      <th>na_sales</th>\n",
       "      <th>eu_sales</th>\n",
       "      <th>jp_sales</th>\n",
       "      <th>other_sales</th>\n",
       "      <th>critic_score</th>\n",
       "      <th>user_score</th>\n",
       "      <th>rating</th>\n",
       "    </tr>\n",
       "  </thead>\n",
       "  <tbody>\n",
       "    <tr>\n",
       "      <th>15663</th>\n",
       "      <td>Atlantic Quest</td>\n",
       "      <td>PC</td>\n",
       "      <td>2011</td>\n",
       "      <td>Puzzle</td>\n",
       "      <td>0.00</td>\n",
       "      <td>0.02</td>\n",
       "      <td>0.0</td>\n",
       "      <td>0.00</td>\n",
       "      <td>NaN</td>\n",
       "      <td>NaN</td>\n",
       "      <td>unknown</td>\n",
       "    </tr>\n",
       "    <tr>\n",
       "      <th>5109</th>\n",
       "      <td>Scooby-Doo! Classic Creep Capers</td>\n",
       "      <td>N64</td>\n",
       "      <td>2000</td>\n",
       "      <td>Action</td>\n",
       "      <td>0.30</td>\n",
       "      <td>0.06</td>\n",
       "      <td>0.0</td>\n",
       "      <td>0.00</td>\n",
       "      <td>NaN</td>\n",
       "      <td>NaN</td>\n",
       "      <td>unknown</td>\n",
       "    </tr>\n",
       "    <tr>\n",
       "      <th>13433</th>\n",
       "      <td>Jonah Lomu Rugby Challenge</td>\n",
       "      <td>PC</td>\n",
       "      <td>2011</td>\n",
       "      <td>Sports</td>\n",
       "      <td>0.00</td>\n",
       "      <td>0.04</td>\n",
       "      <td>0.0</td>\n",
       "      <td>0.01</td>\n",
       "      <td>NaN</td>\n",
       "      <td>NaN</td>\n",
       "      <td>E</td>\n",
       "    </tr>\n",
       "    <tr>\n",
       "      <th>12014</th>\n",
       "      <td>Wallace &amp; Gromit in Project Zoo</td>\n",
       "      <td>GC</td>\n",
       "      <td>2003</td>\n",
       "      <td>Platform</td>\n",
       "      <td>0.05</td>\n",
       "      <td>0.01</td>\n",
       "      <td>0.0</td>\n",
       "      <td>0.00</td>\n",
       "      <td>NaN</td>\n",
       "      <td>NaN</td>\n",
       "      <td>unknown</td>\n",
       "    </tr>\n",
       "    <tr>\n",
       "      <th>9340</th>\n",
       "      <td>Shonen Jump's One Piece: Grand Battle</td>\n",
       "      <td>PS2</td>\n",
       "      <td>2005</td>\n",
       "      <td>Fighting</td>\n",
       "      <td>0.07</td>\n",
       "      <td>0.05</td>\n",
       "      <td>0.0</td>\n",
       "      <td>0.02</td>\n",
       "      <td>NaN</td>\n",
       "      <td>NaN</td>\n",
       "      <td>unknown</td>\n",
       "    </tr>\n",
       "  </tbody>\n",
       "</table>\n",
       "</div>"
      ],
      "text/plain": [
       "                                        name platform  year_of_release  \\\n",
       "15663                         Atlantic Quest       PC             2011   \n",
       "5109        Scooby-Doo! Classic Creep Capers      N64             2000   \n",
       "13433             Jonah Lomu Rugby Challenge       PC             2011   \n",
       "12014        Wallace & Gromit in Project Zoo       GC             2003   \n",
       "9340   Shonen Jump's One Piece: Grand Battle      PS2             2005   \n",
       "\n",
       "          genre  na_sales  eu_sales  jp_sales  other_sales  critic_score  \\\n",
       "15663    Puzzle      0.00      0.02       0.0         0.00           NaN   \n",
       "5109     Action      0.30      0.06       0.0         0.00           NaN   \n",
       "13433    Sports      0.00      0.04       0.0         0.01           NaN   \n",
       "12014  Platform      0.05      0.01       0.0         0.00           NaN   \n",
       "9340   Fighting      0.07      0.05       0.0         0.02           NaN   \n",
       "\n",
       "      user_score   rating  \n",
       "15663        NaN  unknown  \n",
       "5109         NaN  unknown  \n",
       "13433        NaN        E  \n",
       "12014        NaN  unknown  \n",
       "9340         NaN  unknown  "
      ]
     },
     "execution_count": 17,
     "metadata": {},
     "output_type": "execute_result"
    }
   ],
   "source": [
    "# User_score missing value sample\n",
    "df[df['user_score'].isna()==True].sample(5)"
   ]
  },
  {
   "cell_type": "code",
   "execution_count": 18,
   "id": "16398d14",
   "metadata": {},
   "outputs": [],
   "source": [
    "# Replace rating tbd to -5 tomake it numerical\n",
    "df['user_score'].replace('tbd','-5',inplace=True)"
   ]
  },
  {
   "cell_type": "code",
   "execution_count": 19,
   "id": "852fc46c",
   "metadata": {
    "scrolled": false
   },
   "outputs": [],
   "source": [
    "# Fill user_score missing values with -1 and change datatype to float64\n",
    "df['user_score'].fillna('-1',inplace=True)\n",
    "df['user_score']=df['user_score'].astype('float64')"
   ]
  },
  {
   "cell_type": "markdown",
   "id": "be8fb3ed",
   "metadata": {},
   "source": [
    "### Critic score"
   ]
  },
  {
   "cell_type": "code",
   "execution_count": 20,
   "id": "e45fba5b",
   "metadata": {},
   "outputs": [
    {
     "data": {
      "text/plain": [
       "0.5145341765993675"
      ]
     },
     "execution_count": 20,
     "metadata": {},
     "output_type": "execute_result"
    }
   ],
   "source": [
    "# % critic_score missing values in dataframe\n",
    "df['critic_score'].isna().sum()/len(df)"
   ]
  },
  {
   "cell_type": "code",
   "execution_count": 21,
   "id": "b137d154",
   "metadata": {
    "scrolled": false
   },
   "outputs": [],
   "source": [
    "# fill those missing values with 0 and change dataype to float64\n",
    "df['critic_score'].fillna('0',inplace=True)\n",
    "df['critic_score']=df['critic_score'].astype('float64')"
   ]
  },
  {
   "cell_type": "code",
   "execution_count": 22,
   "id": "be60d51a",
   "metadata": {},
   "outputs": [
    {
     "data": {
      "text/plain": [
       "name               0\n",
       "platform           0\n",
       "year_of_release    0\n",
       "genre              0\n",
       "na_sales           0\n",
       "eu_sales           0\n",
       "jp_sales           0\n",
       "other_sales        0\n",
       "critic_score       0\n",
       "user_score         0\n",
       "rating             0\n",
       "dtype: int64"
      ]
     },
     "execution_count": 22,
     "metadata": {},
     "output_type": "execute_result"
    }
   ],
   "source": [
    "# re verify for missing values.\n",
    "df.isna().sum()"
   ]
  },
  {
   "cell_type": "code",
   "execution_count": 23,
   "id": "b4627d9d",
   "metadata": {},
   "outputs": [
    {
     "data": {
      "text/html": [
       "<div>\n",
       "<style scoped>\n",
       "    .dataframe tbody tr th:only-of-type {\n",
       "        vertical-align: middle;\n",
       "    }\n",
       "\n",
       "    .dataframe tbody tr th {\n",
       "        vertical-align: top;\n",
       "    }\n",
       "\n",
       "    .dataframe thead th {\n",
       "        text-align: right;\n",
       "    }\n",
       "</style>\n",
       "<table border=\"1\" class=\"dataframe\">\n",
       "  <thead>\n",
       "    <tr style=\"text-align: right;\">\n",
       "      <th></th>\n",
       "      <th>name</th>\n",
       "      <th>platform</th>\n",
       "      <th>year_of_release</th>\n",
       "      <th>genre</th>\n",
       "      <th>na_sales</th>\n",
       "      <th>eu_sales</th>\n",
       "      <th>jp_sales</th>\n",
       "      <th>other_sales</th>\n",
       "      <th>critic_score</th>\n",
       "      <th>user_score</th>\n",
       "      <th>rating</th>\n",
       "    </tr>\n",
       "  </thead>\n",
       "  <tbody>\n",
       "    <tr>\n",
       "      <th>9871</th>\n",
       "      <td>NFL Head Coach</td>\n",
       "      <td>XB</td>\n",
       "      <td>2006</td>\n",
       "      <td>Sports</td>\n",
       "      <td>0.09</td>\n",
       "      <td>0.03</td>\n",
       "      <td>0.00</td>\n",
       "      <td>0.00</td>\n",
       "      <td>69.0</td>\n",
       "      <td>7.1</td>\n",
       "      <td>E</td>\n",
       "    </tr>\n",
       "    <tr>\n",
       "      <th>5</th>\n",
       "      <td>Tetris</td>\n",
       "      <td>GB</td>\n",
       "      <td>1989</td>\n",
       "      <td>Puzzle</td>\n",
       "      <td>23.20</td>\n",
       "      <td>2.26</td>\n",
       "      <td>4.22</td>\n",
       "      <td>0.58</td>\n",
       "      <td>0.0</td>\n",
       "      <td>-1.0</td>\n",
       "      <td>unknown</td>\n",
       "    </tr>\n",
       "    <tr>\n",
       "      <th>1170</th>\n",
       "      <td>SoulCalibur IV</td>\n",
       "      <td>X360</td>\n",
       "      <td>2008</td>\n",
       "      <td>Fighting</td>\n",
       "      <td>0.92</td>\n",
       "      <td>0.43</td>\n",
       "      <td>0.07</td>\n",
       "      <td>0.15</td>\n",
       "      <td>85.0</td>\n",
       "      <td>7.9</td>\n",
       "      <td>T</td>\n",
       "    </tr>\n",
       "    <tr>\n",
       "      <th>13346</th>\n",
       "      <td>Wii de Asobu Chibi-Robo!</td>\n",
       "      <td>Wii</td>\n",
       "      <td>2009</td>\n",
       "      <td>Adventure</td>\n",
       "      <td>0.00</td>\n",
       "      <td>0.00</td>\n",
       "      <td>0.05</td>\n",
       "      <td>0.00</td>\n",
       "      <td>0.0</td>\n",
       "      <td>-1.0</td>\n",
       "      <td>unknown</td>\n",
       "    </tr>\n",
       "    <tr>\n",
       "      <th>7231</th>\n",
       "      <td>Pinball Hall of Fame: The Williams Collection</td>\n",
       "      <td>PS3</td>\n",
       "      <td>2009</td>\n",
       "      <td>Misc</td>\n",
       "      <td>0.20</td>\n",
       "      <td>0.00</td>\n",
       "      <td>0.00</td>\n",
       "      <td>0.02</td>\n",
       "      <td>82.0</td>\n",
       "      <td>7.9</td>\n",
       "      <td>E10+</td>\n",
       "    </tr>\n",
       "  </tbody>\n",
       "</table>\n",
       "</div>"
      ],
      "text/plain": [
       "                                                name platform  \\\n",
       "9871                                  NFL Head Coach       XB   \n",
       "5                                             Tetris       GB   \n",
       "1170                                  SoulCalibur IV     X360   \n",
       "13346                       Wii de Asobu Chibi-Robo!      Wii   \n",
       "7231   Pinball Hall of Fame: The Williams Collection      PS3   \n",
       "\n",
       "       year_of_release      genre  na_sales  eu_sales  jp_sales  other_sales  \\\n",
       "9871              2006     Sports      0.09      0.03      0.00         0.00   \n",
       "5                 1989     Puzzle     23.20      2.26      4.22         0.58   \n",
       "1170              2008   Fighting      0.92      0.43      0.07         0.15   \n",
       "13346             2009  Adventure      0.00      0.00      0.05         0.00   \n",
       "7231              2009       Misc      0.20      0.00      0.00         0.02   \n",
       "\n",
       "       critic_score  user_score   rating  \n",
       "9871           69.0         7.1        E  \n",
       "5               0.0        -1.0  unknown  \n",
       "1170           85.0         7.9        T  \n",
       "13346           0.0        -1.0  unknown  \n",
       "7231           82.0         7.9     E10+  "
      ]
     },
     "execution_count": 23,
     "metadata": {},
     "output_type": "execute_result"
    }
   ],
   "source": [
    "# dataframe sameple\n",
    "df.sample(5)"
   ]
  },
  {
   "cell_type": "markdown",
   "id": "45ed9d22",
   "metadata": {},
   "source": [
    "### Total sales"
   ]
  },
  {
   "cell_type": "code",
   "execution_count": 24,
   "id": "d6eee77f",
   "metadata": {},
   "outputs": [],
   "source": [
    "# Create total_sales colum , sum up all columns from different region\n",
    "df['total_sales']=df[['na_sales','eu_sales','jp_sales','other_sales']].sum(axis=1)"
   ]
  },
  {
   "cell_type": "code",
   "execution_count": 25,
   "id": "0119c351",
   "metadata": {},
   "outputs": [
    {
     "data": {
      "text/html": [
       "<div>\n",
       "<style scoped>\n",
       "    .dataframe tbody tr th:only-of-type {\n",
       "        vertical-align: middle;\n",
       "    }\n",
       "\n",
       "    .dataframe tbody tr th {\n",
       "        vertical-align: top;\n",
       "    }\n",
       "\n",
       "    .dataframe thead th {\n",
       "        text-align: right;\n",
       "    }\n",
       "</style>\n",
       "<table border=\"1\" class=\"dataframe\">\n",
       "  <thead>\n",
       "    <tr style=\"text-align: right;\">\n",
       "      <th></th>\n",
       "      <th>name</th>\n",
       "      <th>platform</th>\n",
       "      <th>year_of_release</th>\n",
       "      <th>genre</th>\n",
       "      <th>na_sales</th>\n",
       "      <th>eu_sales</th>\n",
       "      <th>jp_sales</th>\n",
       "      <th>other_sales</th>\n",
       "      <th>critic_score</th>\n",
       "      <th>user_score</th>\n",
       "      <th>rating</th>\n",
       "      <th>total_sales</th>\n",
       "    </tr>\n",
       "  </thead>\n",
       "  <tbody>\n",
       "    <tr>\n",
       "      <th>0</th>\n",
       "      <td>Wii Sports</td>\n",
       "      <td>Wii</td>\n",
       "      <td>2006</td>\n",
       "      <td>Sports</td>\n",
       "      <td>41.36</td>\n",
       "      <td>28.96</td>\n",
       "      <td>3.77</td>\n",
       "      <td>8.45</td>\n",
       "      <td>76.0</td>\n",
       "      <td>8.0</td>\n",
       "      <td>E</td>\n",
       "      <td>82.54</td>\n",
       "    </tr>\n",
       "    <tr>\n",
       "      <th>1</th>\n",
       "      <td>Super Mario Bros.</td>\n",
       "      <td>NES</td>\n",
       "      <td>1985</td>\n",
       "      <td>Platform</td>\n",
       "      <td>29.08</td>\n",
       "      <td>3.58</td>\n",
       "      <td>6.81</td>\n",
       "      <td>0.77</td>\n",
       "      <td>0.0</td>\n",
       "      <td>-1.0</td>\n",
       "      <td>unknown</td>\n",
       "      <td>40.24</td>\n",
       "    </tr>\n",
       "    <tr>\n",
       "      <th>2</th>\n",
       "      <td>Mario Kart Wii</td>\n",
       "      <td>Wii</td>\n",
       "      <td>2008</td>\n",
       "      <td>Racing</td>\n",
       "      <td>15.68</td>\n",
       "      <td>12.76</td>\n",
       "      <td>3.79</td>\n",
       "      <td>3.29</td>\n",
       "      <td>82.0</td>\n",
       "      <td>8.3</td>\n",
       "      <td>E</td>\n",
       "      <td>35.52</td>\n",
       "    </tr>\n",
       "    <tr>\n",
       "      <th>3</th>\n",
       "      <td>Wii Sports Resort</td>\n",
       "      <td>Wii</td>\n",
       "      <td>2009</td>\n",
       "      <td>Sports</td>\n",
       "      <td>15.61</td>\n",
       "      <td>10.93</td>\n",
       "      <td>3.28</td>\n",
       "      <td>2.95</td>\n",
       "      <td>80.0</td>\n",
       "      <td>8.0</td>\n",
       "      <td>E</td>\n",
       "      <td>32.77</td>\n",
       "    </tr>\n",
       "    <tr>\n",
       "      <th>4</th>\n",
       "      <td>Pokemon Red/Pokemon Blue</td>\n",
       "      <td>GB</td>\n",
       "      <td>1996</td>\n",
       "      <td>Role-Playing</td>\n",
       "      <td>11.27</td>\n",
       "      <td>8.89</td>\n",
       "      <td>10.22</td>\n",
       "      <td>1.00</td>\n",
       "      <td>0.0</td>\n",
       "      <td>-1.0</td>\n",
       "      <td>unknown</td>\n",
       "      <td>31.38</td>\n",
       "    </tr>\n",
       "  </tbody>\n",
       "</table>\n",
       "</div>"
      ],
      "text/plain": [
       "                       name platform  year_of_release         genre  na_sales  \\\n",
       "0                Wii Sports      Wii             2006        Sports     41.36   \n",
       "1         Super Mario Bros.      NES             1985      Platform     29.08   \n",
       "2            Mario Kart Wii      Wii             2008        Racing     15.68   \n",
       "3         Wii Sports Resort      Wii             2009        Sports     15.61   \n",
       "4  Pokemon Red/Pokemon Blue       GB             1996  Role-Playing     11.27   \n",
       "\n",
       "   eu_sales  jp_sales  other_sales  critic_score  user_score   rating  \\\n",
       "0     28.96      3.77         8.45          76.0         8.0        E   \n",
       "1      3.58      6.81         0.77           0.0        -1.0  unknown   \n",
       "2     12.76      3.79         3.29          82.0         8.3        E   \n",
       "3     10.93      3.28         2.95          80.0         8.0        E   \n",
       "4      8.89     10.22         1.00           0.0        -1.0  unknown   \n",
       "\n",
       "   total_sales  \n",
       "0        82.54  \n",
       "1        40.24  \n",
       "2        35.52  \n",
       "3        32.77  \n",
       "4        31.38  "
      ]
     },
     "execution_count": 25,
     "metadata": {},
     "output_type": "execute_result"
    }
   ],
   "source": [
    "# Top 5 games that generate best sales.\n",
    "df.sort_values(by='total_sales',ascending=False).head(5)"
   ]
  },
  {
   "cell_type": "markdown",
   "id": "0eca30f3",
   "metadata": {},
   "source": [
    "**Data preprocessing:**\n",
    "   - There 2 missing values in `name` columns; 2 rows were drop since it won't affect much on the overall data.\n",
    "   - The 269 missing values in `year_of_release` column has been filled grouped by the `name` and left over missing values were drop datatype changed to int.\n",
    "   - The missing values in `rating` column has been filled grouped by the `name` and left over missing values are filled with `unknown` rating.\n",
    "   - The missing values in `user_score` columns has been filled with -1 and tbd replaced with -5 to seperate the data for easier analysis. \n",
    "   - The missing values in `critic_score` columns has been filled with 0 to seperate the data for easier analysis. \n",
    "   - `total_sales` column has been created; it is the sum of all regions which are na, jp, eu, and other sales region."
   ]
  },
  {
   "cell_type": "markdown",
   "id": "4be771b3",
   "metadata": {},
   "source": [
    "## Exploratory Data Analysis (EDA)"
   ]
  },
  {
   "cell_type": "markdown",
   "id": "db8b28a9",
   "metadata": {},
   "source": [
    "### Dataframe Distribution"
   ]
  },
  {
   "cell_type": "code",
   "execution_count": 26,
   "id": "b2e7bc7d",
   "metadata": {},
   "outputs": [
    {
     "data": {
      "image/png": "[encoded data removed]",
      "text/plain": [
       "<Figure size 576x504 with 1 Axes>"
      ]
     },
     "metadata": {
      "needs_background": "light"
     },
     "output_type": "display_data"
    }
   ],
   "source": [
    "# Platform distribution\n",
    "plt.subplots(figsize=(8,7))\n",
    "sns.countplot(x ='platform', data = df\n",
    "              ,order = df['platform'].value_counts().index).set(title='Platform distribution')\n",
    "plt.xticks(rotation=90);"
   ]
  },
  {
   "cell_type": "code",
   "execution_count": 27,
   "id": "a4f4b9c0",
   "metadata": {},
   "outputs": [
    {
     "data": {
      "image/png": "[encoded data removed]",
      "text/plain": [
       "<Figure size 576x504 with 1 Axes>"
      ]
     },
     "metadata": {
      "needs_background": "light"
     },
     "output_type": "display_data"
    }
   ],
   "source": [
    "# Genre distribution\n",
    "plt.subplots(figsize=(8,7))\n",
    "sns.countplot(x ='genre', data = df\n",
    "              ,order = df['genre'].value_counts().index).set(title='Genre distribution')\n",
    "plt.xticks(rotation=90);"
   ]
  },
  {
   "cell_type": "code",
   "execution_count": 28,
   "id": "3b38992f",
   "metadata": {
    "scrolled": false
   },
   "outputs": [
    {
     "data": {
      "image/png": "[encoded data removed]",
      "text/plain": [
       "<Figure size 576x504 with 1 Axes>"
      ]
     },
     "metadata": {
      "needs_background": "light"
     },
     "output_type": "display_data"
    }
   ],
   "source": [
    "# Games released per year distribution\n",
    "plt.subplots(figsize=(8,7))\n",
    "sns.histplot(df, x=\"year_of_release\",bins=35).set(title='Games per year distribution');"
   ]
  },
  {
   "cell_type": "code",
   "execution_count": 29,
   "id": "58f7630f",
   "metadata": {},
   "outputs": [
    {
     "data": {
      "image/png": "[encoded data removed]",
      "text/plain": [
       "<Figure size 576x504 with 1 Axes>"
      ]
     },
     "metadata": {
      "needs_background": "light"
     },
     "output_type": "display_data"
    }
   ],
   "source": [
    "# Genre distribution\n",
    "plt.subplots(figsize=(8,7))\n",
    "sns.countplot(x ='rating', data = df\n",
    "              ,order = df['rating'].value_counts().index).set(title='Rating Distribution');"
   ]
  },
  {
   "cell_type": "markdown",
   "id": "4eff4f4d",
   "metadata": {},
   "source": [
    "**Initial EDA**\n",
    "\n",
    "Looking at platform distribution chart, PS2 showed and Nitendo DS showed the best sales followed by newer platform which are PS3,X360,and Wii. Action genre games seems to most popular followed by Sports genre games. Histogram plot showed that the games release, sales count peaked at around year 2008 the started to decline and suddenly jump up again at year 2016.\n",
    "Rating Distribution showed some relevance with rating E `everyone` games showing the highest sales then rating T `teen` games.\n",
    "\n"
   ]
  },
  {
   "cell_type": "markdown",
   "id": "5fab4e92",
   "metadata": {},
   "source": [
    "###  Data Correlation"
   ]
  },
  {
   "cell_type": "code",
   "execution_count": 30,
   "id": "f183b1f6",
   "metadata": {},
   "outputs": [],
   "source": [
    "# List with dtype int32 or float64\n",
    "intlist = []\n",
    "for col in df.columns:\n",
    "    if df[col].dtype == np.int32 or df[col].dtype ==np.float64:\n",
    "        intlist.append(col)"
   ]
  },
  {
   "cell_type": "code",
   "execution_count": 31,
   "id": "572513f0",
   "metadata": {},
   "outputs": [
    {
     "data": {
      "image/png": "[encoded data removed]",
      "text/plain": [
       "<Figure size 936x648 with 2 Axes>"
      ]
     },
     "metadata": {
      "needs_background": "light"
     },
     "output_type": "display_data"
    }
   ],
   "source": [
    "# Correlation Matrix of dataframe\n",
    "corr_matrix = df[intlist].corr().abs()\n",
    "\n",
    "plt.subplots(figsize=(13, 9))\n",
    "sns.heatmap(corr_matrix,annot=True,fmt='.3g')\n",
    "\n",
    "# Mask unimportant features\n",
    "sns.heatmap(corr_matrix, mask=corr_matrix < 1, cbar=False).set(title='Correlation Matrix for Dataframe (df)')\n",
    "plt.show()"
   ]
  },
  {
   "cell_type": "markdown",
   "id": "a0c43fe4",
   "metadata": {},
   "source": [
    "**Data Correlation**\n",
    "\n",
    "Above chart represents correlation between columns. Higher number represents high correlation between the two data. Chart showed that all regions sales have direct correlation with `total_sales` column, and each region has some correlation to other regions as well. "
   ]
  },
  {
   "cell_type": "markdown",
   "id": "d0ab8d10",
   "metadata": {},
   "source": [
    "### Data Analysis for forecasting (Year > 2011)"
   ]
  },
  {
   "cell_type": "code",
   "execution_count": 32,
   "id": "aa5f5877",
   "metadata": {},
   "outputs": [
    {
     "data": {
      "text/html": [
       "<div>\n",
       "<style scoped>\n",
       "    .dataframe tbody tr th:only-of-type {\n",
       "        vertical-align: middle;\n",
       "    }\n",
       "\n",
       "    .dataframe tbody tr th {\n",
       "        vertical-align: top;\n",
       "    }\n",
       "\n",
       "    .dataframe thead tr th {\n",
       "        text-align: left;\n",
       "    }\n",
       "\n",
       "    .dataframe thead tr:last-of-type th {\n",
       "        text-align: right;\n",
       "    }\n",
       "</style>\n",
       "<table border=\"1\" class=\"dataframe\">\n",
       "  <thead>\n",
       "    <tr>\n",
       "      <th></th>\n",
       "      <th colspan=\"21\" halign=\"left\">count</th>\n",
       "    </tr>\n",
       "    <tr>\n",
       "      <th></th>\n",
       "      <th colspan=\"21\" halign=\"left\">total_sales</th>\n",
       "    </tr>\n",
       "    <tr>\n",
       "      <th>platform</th>\n",
       "      <th>2600</th>\n",
       "      <th>3DO</th>\n",
       "      <th>3DS</th>\n",
       "      <th>DC</th>\n",
       "      <th>DS</th>\n",
       "      <th>GB</th>\n",
       "      <th>GBA</th>\n",
       "      <th>GC</th>\n",
       "      <th>GEN</th>\n",
       "      <th>GG</th>\n",
       "      <th>...</th>\n",
       "      <th>SAT</th>\n",
       "      <th>SCD</th>\n",
       "      <th>SNES</th>\n",
       "      <th>TG16</th>\n",
       "      <th>WS</th>\n",
       "      <th>Wii</th>\n",
       "      <th>WiiU</th>\n",
       "      <th>X360</th>\n",
       "      <th>XB</th>\n",
       "      <th>XOne</th>\n",
       "    </tr>\n",
       "    <tr>\n",
       "      <th>year_of_release</th>\n",
       "      <th></th>\n",
       "      <th></th>\n",
       "      <th></th>\n",
       "      <th></th>\n",
       "      <th></th>\n",
       "      <th></th>\n",
       "      <th></th>\n",
       "      <th></th>\n",
       "      <th></th>\n",
       "      <th></th>\n",
       "      <th></th>\n",
       "      <th></th>\n",
       "      <th></th>\n",
       "      <th></th>\n",
       "      <th></th>\n",
       "      <th></th>\n",
       "      <th></th>\n",
       "      <th></th>\n",
       "      <th></th>\n",
       "      <th></th>\n",
       "      <th></th>\n",
       "    </tr>\n",
       "  </thead>\n",
       "  <tbody>\n",
       "    <tr>\n",
       "      <th>1980</th>\n",
       "      <td>9</td>\n",
       "      <td>0</td>\n",
       "      <td>0</td>\n",
       "      <td>0</td>\n",
       "      <td>0</td>\n",
       "      <td>0</td>\n",
       "      <td>0</td>\n",
       "      <td>0</td>\n",
       "      <td>0</td>\n",
       "      <td>0</td>\n",
       "      <td>...</td>\n",
       "      <td>0</td>\n",
       "      <td>0</td>\n",
       "      <td>0</td>\n",
       "      <td>0</td>\n",
       "      <td>0</td>\n",
       "      <td>0</td>\n",
       "      <td>0</td>\n",
       "      <td>0</td>\n",
       "      <td>0</td>\n",
       "      <td>0</td>\n",
       "    </tr>\n",
       "    <tr>\n",
       "      <th>1981</th>\n",
       "      <td>46</td>\n",
       "      <td>0</td>\n",
       "      <td>0</td>\n",
       "      <td>0</td>\n",
       "      <td>0</td>\n",
       "      <td>0</td>\n",
       "      <td>0</td>\n",
       "      <td>0</td>\n",
       "      <td>0</td>\n",
       "      <td>0</td>\n",
       "      <td>...</td>\n",
       "      <td>0</td>\n",
       "      <td>0</td>\n",
       "      <td>0</td>\n",
       "      <td>0</td>\n",
       "      <td>0</td>\n",
       "      <td>0</td>\n",
       "      <td>0</td>\n",
       "      <td>0</td>\n",
       "      <td>0</td>\n",
       "      <td>0</td>\n",
       "    </tr>\n",
       "    <tr>\n",
       "      <th>1982</th>\n",
       "      <td>36</td>\n",
       "      <td>0</td>\n",
       "      <td>0</td>\n",
       "      <td>0</td>\n",
       "      <td>0</td>\n",
       "      <td>0</td>\n",
       "      <td>0</td>\n",
       "      <td>0</td>\n",
       "      <td>0</td>\n",
       "      <td>0</td>\n",
       "      <td>...</td>\n",
       "      <td>0</td>\n",
       "      <td>0</td>\n",
       "      <td>0</td>\n",
       "      <td>0</td>\n",
       "      <td>0</td>\n",
       "      <td>0</td>\n",
       "      <td>0</td>\n",
       "      <td>0</td>\n",
       "      <td>0</td>\n",
       "      <td>0</td>\n",
       "    </tr>\n",
       "    <tr>\n",
       "      <th>1983</th>\n",
       "      <td>11</td>\n",
       "      <td>0</td>\n",
       "      <td>0</td>\n",
       "      <td>0</td>\n",
       "      <td>0</td>\n",
       "      <td>0</td>\n",
       "      <td>0</td>\n",
       "      <td>0</td>\n",
       "      <td>0</td>\n",
       "      <td>0</td>\n",
       "      <td>...</td>\n",
       "      <td>0</td>\n",
       "      <td>0</td>\n",
       "      <td>0</td>\n",
       "      <td>0</td>\n",
       "      <td>0</td>\n",
       "      <td>0</td>\n",
       "      <td>0</td>\n",
       "      <td>0</td>\n",
       "      <td>0</td>\n",
       "      <td>0</td>\n",
       "    </tr>\n",
       "    <tr>\n",
       "      <th>1984</th>\n",
       "      <td>1</td>\n",
       "      <td>0</td>\n",
       "      <td>0</td>\n",
       "      <td>0</td>\n",
       "      <td>0</td>\n",
       "      <td>0</td>\n",
       "      <td>0</td>\n",
       "      <td>0</td>\n",
       "      <td>0</td>\n",
       "      <td>0</td>\n",
       "      <td>...</td>\n",
       "      <td>0</td>\n",
       "      <td>0</td>\n",
       "      <td>0</td>\n",
       "      <td>0</td>\n",
       "      <td>0</td>\n",
       "      <td>0</td>\n",
       "      <td>0</td>\n",
       "      <td>0</td>\n",
       "      <td>0</td>\n",
       "      <td>0</td>\n",
       "    </tr>\n",
       "    <tr>\n",
       "      <th>1985</th>\n",
       "      <td>1</td>\n",
       "      <td>0</td>\n",
       "      <td>0</td>\n",
       "      <td>0</td>\n",
       "      <td>1</td>\n",
       "      <td>0</td>\n",
       "      <td>0</td>\n",
       "      <td>0</td>\n",
       "      <td>0</td>\n",
       "      <td>0</td>\n",
       "      <td>...</td>\n",
       "      <td>0</td>\n",
       "      <td>0</td>\n",
       "      <td>0</td>\n",
       "      <td>0</td>\n",
       "      <td>0</td>\n",
       "      <td>0</td>\n",
       "      <td>0</td>\n",
       "      <td>0</td>\n",
       "      <td>0</td>\n",
       "      <td>0</td>\n",
       "    </tr>\n",
       "    <tr>\n",
       "      <th>1986</th>\n",
       "      <td>2</td>\n",
       "      <td>0</td>\n",
       "      <td>0</td>\n",
       "      <td>0</td>\n",
       "      <td>0</td>\n",
       "      <td>0</td>\n",
       "      <td>0</td>\n",
       "      <td>0</td>\n",
       "      <td>0</td>\n",
       "      <td>0</td>\n",
       "      <td>...</td>\n",
       "      <td>0</td>\n",
       "      <td>0</td>\n",
       "      <td>0</td>\n",
       "      <td>0</td>\n",
       "      <td>0</td>\n",
       "      <td>0</td>\n",
       "      <td>0</td>\n",
       "      <td>0</td>\n",
       "      <td>0</td>\n",
       "      <td>0</td>\n",
       "    </tr>\n",
       "    <tr>\n",
       "      <th>1987</th>\n",
       "      <td>6</td>\n",
       "      <td>0</td>\n",
       "      <td>0</td>\n",
       "      <td>0</td>\n",
       "      <td>0</td>\n",
       "      <td>0</td>\n",
       "      <td>0</td>\n",
       "      <td>0</td>\n",
       "      <td>0</td>\n",
       "      <td>0</td>\n",
       "      <td>...</td>\n",
       "      <td>0</td>\n",
       "      <td>0</td>\n",
       "      <td>0</td>\n",
       "      <td>0</td>\n",
       "      <td>0</td>\n",
       "      <td>0</td>\n",
       "      <td>0</td>\n",
       "      <td>0</td>\n",
       "      <td>0</td>\n",
       "      <td>0</td>\n",
       "    </tr>\n",
       "    <tr>\n",
       "      <th>1988</th>\n",
       "      <td>2</td>\n",
       "      <td>0</td>\n",
       "      <td>0</td>\n",
       "      <td>0</td>\n",
       "      <td>0</td>\n",
       "      <td>1</td>\n",
       "      <td>0</td>\n",
       "      <td>0</td>\n",
       "      <td>0</td>\n",
       "      <td>0</td>\n",
       "      <td>...</td>\n",
       "      <td>0</td>\n",
       "      <td>0</td>\n",
       "      <td>0</td>\n",
       "      <td>0</td>\n",
       "      <td>0</td>\n",
       "      <td>0</td>\n",
       "      <td>0</td>\n",
       "      <td>0</td>\n",
       "      <td>0</td>\n",
       "      <td>0</td>\n",
       "    </tr>\n",
       "    <tr>\n",
       "      <th>1989</th>\n",
       "      <td>2</td>\n",
       "      <td>0</td>\n",
       "      <td>0</td>\n",
       "      <td>0</td>\n",
       "      <td>0</td>\n",
       "      <td>10</td>\n",
       "      <td>0</td>\n",
       "      <td>0</td>\n",
       "      <td>0</td>\n",
       "      <td>0</td>\n",
       "      <td>...</td>\n",
       "      <td>0</td>\n",
       "      <td>0</td>\n",
       "      <td>0</td>\n",
       "      <td>0</td>\n",
       "      <td>0</td>\n",
       "      <td>0</td>\n",
       "      <td>0</td>\n",
       "      <td>0</td>\n",
       "      <td>0</td>\n",
       "      <td>0</td>\n",
       "    </tr>\n",
       "    <tr>\n",
       "      <th>1990</th>\n",
       "      <td>0</td>\n",
       "      <td>0</td>\n",
       "      <td>0</td>\n",
       "      <td>0</td>\n",
       "      <td>0</td>\n",
       "      <td>3</td>\n",
       "      <td>0</td>\n",
       "      <td>0</td>\n",
       "      <td>1</td>\n",
       "      <td>0</td>\n",
       "      <td>...</td>\n",
       "      <td>0</td>\n",
       "      <td>0</td>\n",
       "      <td>4</td>\n",
       "      <td>0</td>\n",
       "      <td>0</td>\n",
       "      <td>0</td>\n",
       "      <td>0</td>\n",
       "      <td>0</td>\n",
       "      <td>0</td>\n",
       "      <td>0</td>\n",
       "    </tr>\n",
       "    <tr>\n",
       "      <th>1991</th>\n",
       "      <td>0</td>\n",
       "      <td>0</td>\n",
       "      <td>0</td>\n",
       "      <td>0</td>\n",
       "      <td>0</td>\n",
       "      <td>9</td>\n",
       "      <td>0</td>\n",
       "      <td>0</td>\n",
       "      <td>1</td>\n",
       "      <td>0</td>\n",
       "      <td>...</td>\n",
       "      <td>0</td>\n",
       "      <td>0</td>\n",
       "      <td>24</td>\n",
       "      <td>0</td>\n",
       "      <td>0</td>\n",
       "      <td>0</td>\n",
       "      <td>0</td>\n",
       "      <td>0</td>\n",
       "      <td>0</td>\n",
       "      <td>0</td>\n",
       "    </tr>\n",
       "    <tr>\n",
       "      <th>1992</th>\n",
       "      <td>0</td>\n",
       "      <td>0</td>\n",
       "      <td>0</td>\n",
       "      <td>0</td>\n",
       "      <td>0</td>\n",
       "      <td>7</td>\n",
       "      <td>0</td>\n",
       "      <td>0</td>\n",
       "      <td>6</td>\n",
       "      <td>1</td>\n",
       "      <td>...</td>\n",
       "      <td>0</td>\n",
       "      <td>0</td>\n",
       "      <td>21</td>\n",
       "      <td>0</td>\n",
       "      <td>0</td>\n",
       "      <td>0</td>\n",
       "      <td>0</td>\n",
       "      <td>0</td>\n",
       "      <td>0</td>\n",
       "      <td>0</td>\n",
       "    </tr>\n",
       "    <tr>\n",
       "      <th>1993</th>\n",
       "      <td>0</td>\n",
       "      <td>0</td>\n",
       "      <td>0</td>\n",
       "      <td>0</td>\n",
       "      <td>0</td>\n",
       "      <td>0</td>\n",
       "      <td>0</td>\n",
       "      <td>0</td>\n",
       "      <td>7</td>\n",
       "      <td>0</td>\n",
       "      <td>...</td>\n",
       "      <td>0</td>\n",
       "      <td>1</td>\n",
       "      <td>46</td>\n",
       "      <td>0</td>\n",
       "      <td>0</td>\n",
       "      <td>0</td>\n",
       "      <td>0</td>\n",
       "      <td>0</td>\n",
       "      <td>0</td>\n",
       "      <td>0</td>\n",
       "    </tr>\n",
       "    <tr>\n",
       "      <th>1994</th>\n",
       "      <td>0</td>\n",
       "      <td>1</td>\n",
       "      <td>0</td>\n",
       "      <td>0</td>\n",
       "      <td>0</td>\n",
       "      <td>3</td>\n",
       "      <td>0</td>\n",
       "      <td>0</td>\n",
       "      <td>12</td>\n",
       "      <td>0</td>\n",
       "      <td>...</td>\n",
       "      <td>19</td>\n",
       "      <td>5</td>\n",
       "      <td>53</td>\n",
       "      <td>0</td>\n",
       "      <td>0</td>\n",
       "      <td>0</td>\n",
       "      <td>0</td>\n",
       "      <td>0</td>\n",
       "      <td>0</td>\n",
       "      <td>0</td>\n",
       "    </tr>\n",
       "    <tr>\n",
       "      <th>1995</th>\n",
       "      <td>0</td>\n",
       "      <td>2</td>\n",
       "      <td>0</td>\n",
       "      <td>0</td>\n",
       "      <td>0</td>\n",
       "      <td>4</td>\n",
       "      <td>0</td>\n",
       "      <td>0</td>\n",
       "      <td>0</td>\n",
       "      <td>0</td>\n",
       "      <td>...</td>\n",
       "      <td>52</td>\n",
       "      <td>0</td>\n",
       "      <td>54</td>\n",
       "      <td>2</td>\n",
       "      <td>0</td>\n",
       "      <td>0</td>\n",
       "      <td>0</td>\n",
       "      <td>0</td>\n",
       "      <td>0</td>\n",
       "      <td>0</td>\n",
       "    </tr>\n",
       "    <tr>\n",
       "      <th>1996</th>\n",
       "      <td>0</td>\n",
       "      <td>0</td>\n",
       "      <td>0</td>\n",
       "      <td>0</td>\n",
       "      <td>0</td>\n",
       "      <td>6</td>\n",
       "      <td>0</td>\n",
       "      <td>0</td>\n",
       "      <td>0</td>\n",
       "      <td>0</td>\n",
       "      <td>...</td>\n",
       "      <td>38</td>\n",
       "      <td>0</td>\n",
       "      <td>30</td>\n",
       "      <td>0</td>\n",
       "      <td>0</td>\n",
       "      <td>0</td>\n",
       "      <td>0</td>\n",
       "      <td>0</td>\n",
       "      <td>0</td>\n",
       "      <td>0</td>\n",
       "    </tr>\n",
       "    <tr>\n",
       "      <th>1997</th>\n",
       "      <td>0</td>\n",
       "      <td>0</td>\n",
       "      <td>0</td>\n",
       "      <td>0</td>\n",
       "      <td>0</td>\n",
       "      <td>8</td>\n",
       "      <td>0</td>\n",
       "      <td>0</td>\n",
       "      <td>0</td>\n",
       "      <td>0</td>\n",
       "      <td>...</td>\n",
       "      <td>34</td>\n",
       "      <td>0</td>\n",
       "      <td>4</td>\n",
       "      <td>0</td>\n",
       "      <td>0</td>\n",
       "      <td>0</td>\n",
       "      <td>0</td>\n",
       "      <td>0</td>\n",
       "      <td>0</td>\n",
       "      <td>0</td>\n",
       "    </tr>\n",
       "    <tr>\n",
       "      <th>1998</th>\n",
       "      <td>0</td>\n",
       "      <td>0</td>\n",
       "      <td>0</td>\n",
       "      <td>7</td>\n",
       "      <td>0</td>\n",
       "      <td>8</td>\n",
       "      <td>0</td>\n",
       "      <td>0</td>\n",
       "      <td>0</td>\n",
       "      <td>0</td>\n",
       "      <td>...</td>\n",
       "      <td>29</td>\n",
       "      <td>0</td>\n",
       "      <td>2</td>\n",
       "      <td>0</td>\n",
       "      <td>0</td>\n",
       "      <td>0</td>\n",
       "      <td>0</td>\n",
       "      <td>0</td>\n",
       "      <td>0</td>\n",
       "      <td>0</td>\n",
       "    </tr>\n",
       "    <tr>\n",
       "      <th>1999</th>\n",
       "      <td>0</td>\n",
       "      <td>0</td>\n",
       "      <td>0</td>\n",
       "      <td>14</td>\n",
       "      <td>0</td>\n",
       "      <td>11</td>\n",
       "      <td>0</td>\n",
       "      <td>0</td>\n",
       "      <td>0</td>\n",
       "      <td>0</td>\n",
       "      <td>...</td>\n",
       "      <td>1</td>\n",
       "      <td>0</td>\n",
       "      <td>1</td>\n",
       "      <td>0</td>\n",
       "      <td>2</td>\n",
       "      <td>0</td>\n",
       "      <td>0</td>\n",
       "      <td>0</td>\n",
       "      <td>0</td>\n",
       "      <td>0</td>\n",
       "    </tr>\n",
       "    <tr>\n",
       "      <th>2000</th>\n",
       "      <td>0</td>\n",
       "      <td>0</td>\n",
       "      <td>0</td>\n",
       "      <td>20</td>\n",
       "      <td>0</td>\n",
       "      <td>17</td>\n",
       "      <td>1</td>\n",
       "      <td>0</td>\n",
       "      <td>0</td>\n",
       "      <td>0</td>\n",
       "      <td>...</td>\n",
       "      <td>0</td>\n",
       "      <td>0</td>\n",
       "      <td>0</td>\n",
       "      <td>0</td>\n",
       "      <td>2</td>\n",
       "      <td>0</td>\n",
       "      <td>0</td>\n",
       "      <td>0</td>\n",
       "      <td>1</td>\n",
       "      <td>0</td>\n",
       "    </tr>\n",
       "    <tr>\n",
       "      <th>2001</th>\n",
       "      <td>0</td>\n",
       "      <td>0</td>\n",
       "      <td>0</td>\n",
       "      <td>8</td>\n",
       "      <td>0</td>\n",
       "      <td>10</td>\n",
       "      <td>107</td>\n",
       "      <td>22</td>\n",
       "      <td>0</td>\n",
       "      <td>0</td>\n",
       "      <td>...</td>\n",
       "      <td>0</td>\n",
       "      <td>0</td>\n",
       "      <td>0</td>\n",
       "      <td>0</td>\n",
       "      <td>2</td>\n",
       "      <td>0</td>\n",
       "      <td>0</td>\n",
       "      <td>0</td>\n",
       "      <td>33</td>\n",
       "      <td>0</td>\n",
       "    </tr>\n",
       "    <tr>\n",
       "      <th>2002</th>\n",
       "      <td>0</td>\n",
       "      <td>0</td>\n",
       "      <td>0</td>\n",
       "      <td>1</td>\n",
       "      <td>0</td>\n",
       "      <td>0</td>\n",
       "      <td>198</td>\n",
       "      <td>152</td>\n",
       "      <td>0</td>\n",
       "      <td>0</td>\n",
       "      <td>...</td>\n",
       "      <td>0</td>\n",
       "      <td>0</td>\n",
       "      <td>0</td>\n",
       "      <td>0</td>\n",
       "      <td>0</td>\n",
       "      <td>0</td>\n",
       "      <td>0</td>\n",
       "      <td>0</td>\n",
       "      <td>158</td>\n",
       "      <td>0</td>\n",
       "    </tr>\n",
       "    <tr>\n",
       "      <th>2003</th>\n",
       "      <td>0</td>\n",
       "      <td>0</td>\n",
       "      <td>0</td>\n",
       "      <td>0</td>\n",
       "      <td>0</td>\n",
       "      <td>0</td>\n",
       "      <td>150</td>\n",
       "      <td>144</td>\n",
       "      <td>0</td>\n",
       "      <td>0</td>\n",
       "      <td>...</td>\n",
       "      <td>0</td>\n",
       "      <td>0</td>\n",
       "      <td>0</td>\n",
       "      <td>0</td>\n",
       "      <td>0</td>\n",
       "      <td>0</td>\n",
       "      <td>0</td>\n",
       "      <td>0</td>\n",
       "      <td>189</td>\n",
       "      <td>0</td>\n",
       "    </tr>\n",
       "    <tr>\n",
       "      <th>2004</th>\n",
       "      <td>0</td>\n",
       "      <td>0</td>\n",
       "      <td>0</td>\n",
       "      <td>0</td>\n",
       "      <td>23</td>\n",
       "      <td>0</td>\n",
       "      <td>175</td>\n",
       "      <td>83</td>\n",
       "      <td>0</td>\n",
       "      <td>0</td>\n",
       "      <td>...</td>\n",
       "      <td>0</td>\n",
       "      <td>0</td>\n",
       "      <td>0</td>\n",
       "      <td>0</td>\n",
       "      <td>0</td>\n",
       "      <td>0</td>\n",
       "      <td>0</td>\n",
       "      <td>0</td>\n",
       "      <td>177</td>\n",
       "      <td>0</td>\n",
       "    </tr>\n",
       "    <tr>\n",
       "      <th>2005</th>\n",
       "      <td>0</td>\n",
       "      <td>0</td>\n",
       "      <td>0</td>\n",
       "      <td>0</td>\n",
       "      <td>118</td>\n",
       "      <td>0</td>\n",
       "      <td>135</td>\n",
       "      <td>97</td>\n",
       "      <td>0</td>\n",
       "      <td>0</td>\n",
       "      <td>...</td>\n",
       "      <td>0</td>\n",
       "      <td>0</td>\n",
       "      <td>0</td>\n",
       "      <td>0</td>\n",
       "      <td>0</td>\n",
       "      <td>0</td>\n",
       "      <td>0</td>\n",
       "      <td>18</td>\n",
       "      <td>179</td>\n",
       "      <td>0</td>\n",
       "    </tr>\n",
       "    <tr>\n",
       "      <th>2006</th>\n",
       "      <td>0</td>\n",
       "      <td>0</td>\n",
       "      <td>0</td>\n",
       "      <td>0</td>\n",
       "      <td>201</td>\n",
       "      <td>0</td>\n",
       "      <td>39</td>\n",
       "      <td>40</td>\n",
       "      <td>0</td>\n",
       "      <td>0</td>\n",
       "      <td>...</td>\n",
       "      <td>0</td>\n",
       "      <td>0</td>\n",
       "      <td>0</td>\n",
       "      <td>0</td>\n",
       "      <td>0</td>\n",
       "      <td>44</td>\n",
       "      <td>0</td>\n",
       "      <td>93</td>\n",
       "      <td>62</td>\n",
       "      <td>0</td>\n",
       "    </tr>\n",
       "    <tr>\n",
       "      <th>2007</th>\n",
       "      <td>0</td>\n",
       "      <td>0</td>\n",
       "      <td>0</td>\n",
       "      <td>1</td>\n",
       "      <td>376</td>\n",
       "      <td>0</td>\n",
       "      <td>6</td>\n",
       "      <td>4</td>\n",
       "      <td>0</td>\n",
       "      <td>0</td>\n",
       "      <td>...</td>\n",
       "      <td>0</td>\n",
       "      <td>0</td>\n",
       "      <td>0</td>\n",
       "      <td>0</td>\n",
       "      <td>0</td>\n",
       "      <td>185</td>\n",
       "      <td>0</td>\n",
       "      <td>123</td>\n",
       "      <td>3</td>\n",
       "      <td>0</td>\n",
       "    </tr>\n",
       "    <tr>\n",
       "      <th>2008</th>\n",
       "      <td>0</td>\n",
       "      <td>0</td>\n",
       "      <td>0</td>\n",
       "      <td>1</td>\n",
       "      <td>492</td>\n",
       "      <td>0</td>\n",
       "      <td>0</td>\n",
       "      <td>0</td>\n",
       "      <td>0</td>\n",
       "      <td>0</td>\n",
       "      <td>...</td>\n",
       "      <td>0</td>\n",
       "      <td>0</td>\n",
       "      <td>0</td>\n",
       "      <td>0</td>\n",
       "      <td>0</td>\n",
       "      <td>282</td>\n",
       "      <td>0</td>\n",
       "      <td>146</td>\n",
       "      <td>1</td>\n",
       "      <td>0</td>\n",
       "    </tr>\n",
       "    <tr>\n",
       "      <th>2009</th>\n",
       "      <td>0</td>\n",
       "      <td>0</td>\n",
       "      <td>0</td>\n",
       "      <td>0</td>\n",
       "      <td>403</td>\n",
       "      <td>0</td>\n",
       "      <td>0</td>\n",
       "      <td>0</td>\n",
       "      <td>0</td>\n",
       "      <td>0</td>\n",
       "      <td>...</td>\n",
       "      <td>0</td>\n",
       "      <td>0</td>\n",
       "      <td>0</td>\n",
       "      <td>0</td>\n",
       "      <td>0</td>\n",
       "      <td>325</td>\n",
       "      <td>0</td>\n",
       "      <td>172</td>\n",
       "      <td>0</td>\n",
       "      <td>0</td>\n",
       "    </tr>\n",
       "    <tr>\n",
       "      <th>2010</th>\n",
       "      <td>0</td>\n",
       "      <td>0</td>\n",
       "      <td>0</td>\n",
       "      <td>0</td>\n",
       "      <td>323</td>\n",
       "      <td>0</td>\n",
       "      <td>0</td>\n",
       "      <td>0</td>\n",
       "      <td>0</td>\n",
       "      <td>0</td>\n",
       "      <td>...</td>\n",
       "      <td>0</td>\n",
       "      <td>0</td>\n",
       "      <td>0</td>\n",
       "      <td>0</td>\n",
       "      <td>0</td>\n",
       "      <td>253</td>\n",
       "      <td>0</td>\n",
       "      <td>182</td>\n",
       "      <td>0</td>\n",
       "      <td>0</td>\n",
       "    </tr>\n",
       "    <tr>\n",
       "      <th>2011</th>\n",
       "      <td>0</td>\n",
       "      <td>0</td>\n",
       "      <td>116</td>\n",
       "      <td>0</td>\n",
       "      <td>153</td>\n",
       "      <td>0</td>\n",
       "      <td>0</td>\n",
       "      <td>0</td>\n",
       "      <td>0</td>\n",
       "      <td>0</td>\n",
       "      <td>...</td>\n",
       "      <td>0</td>\n",
       "      <td>0</td>\n",
       "      <td>0</td>\n",
       "      <td>0</td>\n",
       "      <td>0</td>\n",
       "      <td>143</td>\n",
       "      <td>0</td>\n",
       "      <td>206</td>\n",
       "      <td>0</td>\n",
       "      <td>0</td>\n",
       "    </tr>\n",
       "    <tr>\n",
       "      <th>2012</th>\n",
       "      <td>0</td>\n",
       "      <td>0</td>\n",
       "      <td>93</td>\n",
       "      <td>0</td>\n",
       "      <td>23</td>\n",
       "      <td>0</td>\n",
       "      <td>0</td>\n",
       "      <td>0</td>\n",
       "      <td>0</td>\n",
       "      <td>0</td>\n",
       "      <td>...</td>\n",
       "      <td>0</td>\n",
       "      <td>0</td>\n",
       "      <td>0</td>\n",
       "      <td>0</td>\n",
       "      <td>0</td>\n",
       "      <td>31</td>\n",
       "      <td>32</td>\n",
       "      <td>106</td>\n",
       "      <td>0</td>\n",
       "      <td>0</td>\n",
       "    </tr>\n",
       "    <tr>\n",
       "      <th>2013</th>\n",
       "      <td>0</td>\n",
       "      <td>0</td>\n",
       "      <td>91</td>\n",
       "      <td>0</td>\n",
       "      <td>8</td>\n",
       "      <td>0</td>\n",
       "      <td>0</td>\n",
       "      <td>0</td>\n",
       "      <td>0</td>\n",
       "      <td>0</td>\n",
       "      <td>...</td>\n",
       "      <td>0</td>\n",
       "      <td>0</td>\n",
       "      <td>0</td>\n",
       "      <td>0</td>\n",
       "      <td>0</td>\n",
       "      <td>12</td>\n",
       "      <td>42</td>\n",
       "      <td>75</td>\n",
       "      <td>0</td>\n",
       "      <td>19</td>\n",
       "    </tr>\n",
       "    <tr>\n",
       "      <th>2014</th>\n",
       "      <td>0</td>\n",
       "      <td>0</td>\n",
       "      <td>80</td>\n",
       "      <td>0</td>\n",
       "      <td>0</td>\n",
       "      <td>0</td>\n",
       "      <td>0</td>\n",
       "      <td>0</td>\n",
       "      <td>0</td>\n",
       "      <td>0</td>\n",
       "      <td>...</td>\n",
       "      <td>0</td>\n",
       "      <td>0</td>\n",
       "      <td>0</td>\n",
       "      <td>0</td>\n",
       "      <td>0</td>\n",
       "      <td>6</td>\n",
       "      <td>31</td>\n",
       "      <td>63</td>\n",
       "      <td>0</td>\n",
       "      <td>61</td>\n",
       "    </tr>\n",
       "    <tr>\n",
       "      <th>2015</th>\n",
       "      <td>0</td>\n",
       "      <td>0</td>\n",
       "      <td>86</td>\n",
       "      <td>0</td>\n",
       "      <td>0</td>\n",
       "      <td>0</td>\n",
       "      <td>0</td>\n",
       "      <td>0</td>\n",
       "      <td>0</td>\n",
       "      <td>0</td>\n",
       "      <td>...</td>\n",
       "      <td>0</td>\n",
       "      <td>0</td>\n",
       "      <td>0</td>\n",
       "      <td>0</td>\n",
       "      <td>0</td>\n",
       "      <td>4</td>\n",
       "      <td>28</td>\n",
       "      <td>35</td>\n",
       "      <td>0</td>\n",
       "      <td>80</td>\n",
       "    </tr>\n",
       "    <tr>\n",
       "      <th>2016</th>\n",
       "      <td>0</td>\n",
       "      <td>0</td>\n",
       "      <td>46</td>\n",
       "      <td>0</td>\n",
       "      <td>0</td>\n",
       "      <td>0</td>\n",
       "      <td>0</td>\n",
       "      <td>0</td>\n",
       "      <td>0</td>\n",
       "      <td>0</td>\n",
       "      <td>...</td>\n",
       "      <td>0</td>\n",
       "      <td>0</td>\n",
       "      <td>0</td>\n",
       "      <td>0</td>\n",
       "      <td>0</td>\n",
       "      <td>1</td>\n",
       "      <td>14</td>\n",
       "      <td>13</td>\n",
       "      <td>0</td>\n",
       "      <td>87</td>\n",
       "    </tr>\n",
       "  </tbody>\n",
       "</table>\n",
       "<p>37 rows × 31 columns</p>\n",
       "</div>"
      ],
      "text/plain": [
       "                      count                                         ...      \\\n",
       "                total_sales                                         ...       \n",
       "platform               2600 3DO  3DS  DC   DS  GB  GBA   GC GEN GG  ... SAT   \n",
       "year_of_release                                                     ...       \n",
       "1980                      9   0    0   0    0   0    0    0   0  0  ...   0   \n",
       "1981                     46   0    0   0    0   0    0    0   0  0  ...   0   \n",
       "1982                     36   0    0   0    0   0    0    0   0  0  ...   0   \n",
       "1983                     11   0    0   0    0   0    0    0   0  0  ...   0   \n",
       "1984                      1   0    0   0    0   0    0    0   0  0  ...   0   \n",
       "1985                      1   0    0   0    1   0    0    0   0  0  ...   0   \n",
       "1986                      2   0    0   0    0   0    0    0   0  0  ...   0   \n",
       "1987                      6   0    0   0    0   0    0    0   0  0  ...   0   \n",
       "1988                      2   0    0   0    0   1    0    0   0  0  ...   0   \n",
       "1989                      2   0    0   0    0  10    0    0   0  0  ...   0   \n",
       "1990                      0   0    0   0    0   3    0    0   1  0  ...   0   \n",
       "1991                      0   0    0   0    0   9    0    0   1  0  ...   0   \n",
       "1992                      0   0    0   0    0   7    0    0   6  1  ...   0   \n",
       "1993                      0   0    0   0    0   0    0    0   7  0  ...   0   \n",
       "1994                      0   1    0   0    0   3    0    0  12  0  ...  19   \n",
       "1995                      0   2    0   0    0   4    0    0   0  0  ...  52   \n",
       "1996                      0   0    0   0    0   6    0    0   0  0  ...  38   \n",
       "1997                      0   0    0   0    0   8    0    0   0  0  ...  34   \n",
       "1998                      0   0    0   7    0   8    0    0   0  0  ...  29   \n",
       "1999                      0   0    0  14    0  11    0    0   0  0  ...   1   \n",
       "2000                      0   0    0  20    0  17    1    0   0  0  ...   0   \n",
       "2001                      0   0    0   8    0  10  107   22   0  0  ...   0   \n",
       "2002                      0   0    0   1    0   0  198  152   0  0  ...   0   \n",
       "2003                      0   0    0   0    0   0  150  144   0  0  ...   0   \n",
       "2004                      0   0    0   0   23   0  175   83   0  0  ...   0   \n",
       "2005                      0   0    0   0  118   0  135   97   0  0  ...   0   \n",
       "2006                      0   0    0   0  201   0   39   40   0  0  ...   0   \n",
       "2007                      0   0    0   1  376   0    6    4   0  0  ...   0   \n",
       "2008                      0   0    0   1  492   0    0    0   0  0  ...   0   \n",
       "2009                      0   0    0   0  403   0    0    0   0  0  ...   0   \n",
       "2010                      0   0    0   0  323   0    0    0   0  0  ...   0   \n",
       "2011                      0   0  116   0  153   0    0    0   0  0  ...   0   \n",
       "2012                      0   0   93   0   23   0    0    0   0  0  ...   0   \n",
       "2013                      0   0   91   0    8   0    0    0   0  0  ...   0   \n",
       "2014                      0   0   80   0    0   0    0    0   0  0  ...   0   \n",
       "2015                      0   0   86   0    0   0    0    0   0  0  ...   0   \n",
       "2016                      0   0   46   0    0   0    0    0   0  0  ...   0   \n",
       "\n",
       "                                                           \n",
       "                                                           \n",
       "platform        SCD SNES TG16 WS  Wii WiiU X360   XB XOne  \n",
       "year_of_release                                            \n",
       "1980              0    0    0  0    0    0    0    0    0  \n",
       "1981              0    0    0  0    0    0    0    0    0  \n",
       "1982              0    0    0  0    0    0    0    0    0  \n",
       "1983              0    0    0  0    0    0    0    0    0  \n",
       "1984              0    0    0  0    0    0    0    0    0  \n",
       "1985              0    0    0  0    0    0    0    0    0  \n",
       "1986              0    0    0  0    0    0    0    0    0  \n",
       "1987              0    0    0  0    0    0    0    0    0  \n",
       "1988              0    0    0  0    0    0    0    0    0  \n",
       "1989              0    0    0  0    0    0    0    0    0  \n",
       "1990              0    4    0  0    0    0    0    0    0  \n",
       "1991              0   24    0  0    0    0    0    0    0  \n",
       "1992              0   21    0  0    0    0    0    0    0  \n",
       "1993              1   46    0  0    0    0    0    0    0  \n",
       "1994              5   53    0  0    0    0    0    0    0  \n",
       "1995              0   54    2  0    0    0    0    0    0  \n",
       "1996              0   30    0  0    0    0    0    0    0  \n",
       "1997              0    4    0  0    0    0    0    0    0  \n",
       "1998              0    2    0  0    0    0    0    0    0  \n",
       "1999              0    1    0  2    0    0    0    0    0  \n",
       "2000              0    0    0  2    0    0    0    1    0  \n",
       "2001              0    0    0  2    0    0    0   33    0  \n",
       "2002              0    0    0  0    0    0    0  158    0  \n",
       "2003              0    0    0  0    0    0    0  189    0  \n",
       "2004              0    0    0  0    0    0    0  177    0  \n",
       "2005              0    0    0  0    0    0   18  179    0  \n",
       "2006              0    0    0  0   44    0   93   62    0  \n",
       "2007              0    0    0  0  185    0  123    3    0  \n",
       "2008              0    0    0  0  282    0  146    1    0  \n",
       "2009              0    0    0  0  325    0  172    0    0  \n",
       "2010              0    0    0  0  253    0  182    0    0  \n",
       "2011              0    0    0  0  143    0  206    0    0  \n",
       "2012              0    0    0  0   31   32  106    0    0  \n",
       "2013              0    0    0  0   12   42   75    0   19  \n",
       "2014              0    0    0  0    6   31   63    0   61  \n",
       "2015              0    0    0  0    4   28   35    0   80  \n",
       "2016              0    0    0  0    1   14   13    0   87  \n",
       "\n",
       "[37 rows x 31 columns]"
      ]
     },
     "execution_count": 32,
     "metadata": {},
     "output_type": "execute_result"
    }
   ],
   "source": [
    "# Platforms Sales count per year pivot table\n",
    "pivot_years_c = pd.pivot_table(df, index='year_of_release', columns='platform', values=['total_sales'], \n",
    "                    aggfunc=['count'],fill_value=0).astype(int)\n",
    "pivot_years_c"
   ]
  },
  {
   "cell_type": "code",
   "execution_count": 33,
   "id": "ec77677a",
   "metadata": {
    "scrolled": false
   },
   "outputs": [
    {
     "data": {
      "text/html": [
       "<div>\n",
       "<style scoped>\n",
       "    .dataframe tbody tr th:only-of-type {\n",
       "        vertical-align: middle;\n",
       "    }\n",
       "\n",
       "    .dataframe tbody tr th {\n",
       "        vertical-align: top;\n",
       "    }\n",
       "\n",
       "    .dataframe thead tr th {\n",
       "        text-align: left;\n",
       "    }\n",
       "\n",
       "    .dataframe thead tr:last-of-type th {\n",
       "        text-align: right;\n",
       "    }\n",
       "</style>\n",
       "<table border=\"1\" class=\"dataframe\">\n",
       "  <thead>\n",
       "    <tr>\n",
       "      <th></th>\n",
       "      <th colspan=\"21\" halign=\"left\">sum</th>\n",
       "    </tr>\n",
       "    <tr>\n",
       "      <th></th>\n",
       "      <th colspan=\"21\" halign=\"left\">total_sales</th>\n",
       "    </tr>\n",
       "    <tr>\n",
       "      <th>platform</th>\n",
       "      <th>2600</th>\n",
       "      <th>3DO</th>\n",
       "      <th>3DS</th>\n",
       "      <th>DC</th>\n",
       "      <th>DS</th>\n",
       "      <th>GB</th>\n",
       "      <th>GBA</th>\n",
       "      <th>GC</th>\n",
       "      <th>GEN</th>\n",
       "      <th>GG</th>\n",
       "      <th>...</th>\n",
       "      <th>SAT</th>\n",
       "      <th>SCD</th>\n",
       "      <th>SNES</th>\n",
       "      <th>TG16</th>\n",
       "      <th>WS</th>\n",
       "      <th>Wii</th>\n",
       "      <th>WiiU</th>\n",
       "      <th>X360</th>\n",
       "      <th>XB</th>\n",
       "      <th>XOne</th>\n",
       "    </tr>\n",
       "    <tr>\n",
       "      <th>year_of_release</th>\n",
       "      <th></th>\n",
       "      <th></th>\n",
       "      <th></th>\n",
       "      <th></th>\n",
       "      <th></th>\n",
       "      <th></th>\n",
       "      <th></th>\n",
       "      <th></th>\n",
       "      <th></th>\n",
       "      <th></th>\n",
       "      <th></th>\n",
       "      <th></th>\n",
       "      <th></th>\n",
       "      <th></th>\n",
       "      <th></th>\n",
       "      <th></th>\n",
       "      <th></th>\n",
       "      <th></th>\n",
       "      <th></th>\n",
       "      <th></th>\n",
       "      <th></th>\n",
       "    </tr>\n",
       "  </thead>\n",
       "  <tbody>\n",
       "    <tr>\n",
       "      <th>1980</th>\n",
       "      <td>11</td>\n",
       "      <td>0</td>\n",
       "      <td>0</td>\n",
       "      <td>0</td>\n",
       "      <td>0</td>\n",
       "      <td>0</td>\n",
       "      <td>0</td>\n",
       "      <td>0</td>\n",
       "      <td>0</td>\n",
       "      <td>0</td>\n",
       "      <td>...</td>\n",
       "      <td>0</td>\n",
       "      <td>0</td>\n",
       "      <td>0</td>\n",
       "      <td>0</td>\n",
       "      <td>0</td>\n",
       "      <td>0</td>\n",
       "      <td>0</td>\n",
       "      <td>0</td>\n",
       "      <td>0</td>\n",
       "      <td>0</td>\n",
       "    </tr>\n",
       "    <tr>\n",
       "      <th>1981</th>\n",
       "      <td>35</td>\n",
       "      <td>0</td>\n",
       "      <td>0</td>\n",
       "      <td>0</td>\n",
       "      <td>0</td>\n",
       "      <td>0</td>\n",
       "      <td>0</td>\n",
       "      <td>0</td>\n",
       "      <td>0</td>\n",
       "      <td>0</td>\n",
       "      <td>...</td>\n",
       "      <td>0</td>\n",
       "      <td>0</td>\n",
       "      <td>0</td>\n",
       "      <td>0</td>\n",
       "      <td>0</td>\n",
       "      <td>0</td>\n",
       "      <td>0</td>\n",
       "      <td>0</td>\n",
       "      <td>0</td>\n",
       "      <td>0</td>\n",
       "    </tr>\n",
       "    <tr>\n",
       "      <th>1982</th>\n",
       "      <td>28</td>\n",
       "      <td>0</td>\n",
       "      <td>0</td>\n",
       "      <td>0</td>\n",
       "      <td>0</td>\n",
       "      <td>0</td>\n",
       "      <td>0</td>\n",
       "      <td>0</td>\n",
       "      <td>0</td>\n",
       "      <td>0</td>\n",
       "      <td>...</td>\n",
       "      <td>0</td>\n",
       "      <td>0</td>\n",
       "      <td>0</td>\n",
       "      <td>0</td>\n",
       "      <td>0</td>\n",
       "      <td>0</td>\n",
       "      <td>0</td>\n",
       "      <td>0</td>\n",
       "      <td>0</td>\n",
       "      <td>0</td>\n",
       "    </tr>\n",
       "    <tr>\n",
       "      <th>1983</th>\n",
       "      <td>5</td>\n",
       "      <td>0</td>\n",
       "      <td>0</td>\n",
       "      <td>0</td>\n",
       "      <td>0</td>\n",
       "      <td>0</td>\n",
       "      <td>0</td>\n",
       "      <td>0</td>\n",
       "      <td>0</td>\n",
       "      <td>0</td>\n",
       "      <td>...</td>\n",
       "      <td>0</td>\n",
       "      <td>0</td>\n",
       "      <td>0</td>\n",
       "      <td>0</td>\n",
       "      <td>0</td>\n",
       "      <td>0</td>\n",
       "      <td>0</td>\n",
       "      <td>0</td>\n",
       "      <td>0</td>\n",
       "      <td>0</td>\n",
       "    </tr>\n",
       "    <tr>\n",
       "      <th>1984</th>\n",
       "      <td>0</td>\n",
       "      <td>0</td>\n",
       "      <td>0</td>\n",
       "      <td>0</td>\n",
       "      <td>0</td>\n",
       "      <td>0</td>\n",
       "      <td>0</td>\n",
       "      <td>0</td>\n",
       "      <td>0</td>\n",
       "      <td>0</td>\n",
       "      <td>...</td>\n",
       "      <td>0</td>\n",
       "      <td>0</td>\n",
       "      <td>0</td>\n",
       "      <td>0</td>\n",
       "      <td>0</td>\n",
       "      <td>0</td>\n",
       "      <td>0</td>\n",
       "      <td>0</td>\n",
       "      <td>0</td>\n",
       "      <td>0</td>\n",
       "    </tr>\n",
       "    <tr>\n",
       "      <th>1985</th>\n",
       "      <td>0</td>\n",
       "      <td>0</td>\n",
       "      <td>0</td>\n",
       "      <td>0</td>\n",
       "      <td>0</td>\n",
       "      <td>0</td>\n",
       "      <td>0</td>\n",
       "      <td>0</td>\n",
       "      <td>0</td>\n",
       "      <td>0</td>\n",
       "      <td>...</td>\n",
       "      <td>0</td>\n",
       "      <td>0</td>\n",
       "      <td>0</td>\n",
       "      <td>0</td>\n",
       "      <td>0</td>\n",
       "      <td>0</td>\n",
       "      <td>0</td>\n",
       "      <td>0</td>\n",
       "      <td>0</td>\n",
       "      <td>0</td>\n",
       "    </tr>\n",
       "    <tr>\n",
       "      <th>1986</th>\n",
       "      <td>0</td>\n",
       "      <td>0</td>\n",
       "      <td>0</td>\n",
       "      <td>0</td>\n",
       "      <td>0</td>\n",
       "      <td>0</td>\n",
       "      <td>0</td>\n",
       "      <td>0</td>\n",
       "      <td>0</td>\n",
       "      <td>0</td>\n",
       "      <td>...</td>\n",
       "      <td>0</td>\n",
       "      <td>0</td>\n",
       "      <td>0</td>\n",
       "      <td>0</td>\n",
       "      <td>0</td>\n",
       "      <td>0</td>\n",
       "      <td>0</td>\n",
       "      <td>0</td>\n",
       "      <td>0</td>\n",
       "      <td>0</td>\n",
       "    </tr>\n",
       "    <tr>\n",
       "      <th>1987</th>\n",
       "      <td>1</td>\n",
       "      <td>0</td>\n",
       "      <td>0</td>\n",
       "      <td>0</td>\n",
       "      <td>0</td>\n",
       "      <td>0</td>\n",
       "      <td>0</td>\n",
       "      <td>0</td>\n",
       "      <td>0</td>\n",
       "      <td>0</td>\n",
       "      <td>...</td>\n",
       "      <td>0</td>\n",
       "      <td>0</td>\n",
       "      <td>0</td>\n",
       "      <td>0</td>\n",
       "      <td>0</td>\n",
       "      <td>0</td>\n",
       "      <td>0</td>\n",
       "      <td>0</td>\n",
       "      <td>0</td>\n",
       "      <td>0</td>\n",
       "    </tr>\n",
       "    <tr>\n",
       "      <th>1988</th>\n",
       "      <td>0</td>\n",
       "      <td>0</td>\n",
       "      <td>0</td>\n",
       "      <td>0</td>\n",
       "      <td>0</td>\n",
       "      <td>1</td>\n",
       "      <td>0</td>\n",
       "      <td>0</td>\n",
       "      <td>0</td>\n",
       "      <td>0</td>\n",
       "      <td>...</td>\n",
       "      <td>0</td>\n",
       "      <td>0</td>\n",
       "      <td>0</td>\n",
       "      <td>0</td>\n",
       "      <td>0</td>\n",
       "      <td>0</td>\n",
       "      <td>0</td>\n",
       "      <td>0</td>\n",
       "      <td>0</td>\n",
       "      <td>0</td>\n",
       "    </tr>\n",
       "    <tr>\n",
       "      <th>1989</th>\n",
       "      <td>0</td>\n",
       "      <td>0</td>\n",
       "      <td>0</td>\n",
       "      <td>0</td>\n",
       "      <td>0</td>\n",
       "      <td>64</td>\n",
       "      <td>0</td>\n",
       "      <td>0</td>\n",
       "      <td>0</td>\n",
       "      <td>0</td>\n",
       "      <td>...</td>\n",
       "      <td>0</td>\n",
       "      <td>0</td>\n",
       "      <td>0</td>\n",
       "      <td>0</td>\n",
       "      <td>0</td>\n",
       "      <td>0</td>\n",
       "      <td>0</td>\n",
       "      <td>0</td>\n",
       "      <td>0</td>\n",
       "      <td>0</td>\n",
       "    </tr>\n",
       "    <tr>\n",
       "      <th>1990</th>\n",
       "      <td>0</td>\n",
       "      <td>0</td>\n",
       "      <td>0</td>\n",
       "      <td>0</td>\n",
       "      <td>0</td>\n",
       "      <td>4</td>\n",
       "      <td>0</td>\n",
       "      <td>0</td>\n",
       "      <td>2</td>\n",
       "      <td>0</td>\n",
       "      <td>...</td>\n",
       "      <td>0</td>\n",
       "      <td>0</td>\n",
       "      <td>26</td>\n",
       "      <td>0</td>\n",
       "      <td>0</td>\n",
       "      <td>0</td>\n",
       "      <td>0</td>\n",
       "      <td>0</td>\n",
       "      <td>0</td>\n",
       "      <td>0</td>\n",
       "    </tr>\n",
       "    <tr>\n",
       "      <th>1991</th>\n",
       "      <td>0</td>\n",
       "      <td>0</td>\n",
       "      <td>0</td>\n",
       "      <td>0</td>\n",
       "      <td>0</td>\n",
       "      <td>5</td>\n",
       "      <td>0</td>\n",
       "      <td>0</td>\n",
       "      <td>4</td>\n",
       "      <td>0</td>\n",
       "      <td>...</td>\n",
       "      <td>0</td>\n",
       "      <td>0</td>\n",
       "      <td>16</td>\n",
       "      <td>0</td>\n",
       "      <td>0</td>\n",
       "      <td>0</td>\n",
       "      <td>0</td>\n",
       "      <td>0</td>\n",
       "      <td>0</td>\n",
       "      <td>0</td>\n",
       "    </tr>\n",
       "    <tr>\n",
       "      <th>1992</th>\n",
       "      <td>0</td>\n",
       "      <td>0</td>\n",
       "      <td>0</td>\n",
       "      <td>0</td>\n",
       "      <td>0</td>\n",
       "      <td>25</td>\n",
       "      <td>0</td>\n",
       "      <td>0</td>\n",
       "      <td>12</td>\n",
       "      <td>0</td>\n",
       "      <td>...</td>\n",
       "      <td>0</td>\n",
       "      <td>0</td>\n",
       "      <td>32</td>\n",
       "      <td>0</td>\n",
       "      <td>0</td>\n",
       "      <td>0</td>\n",
       "      <td>0</td>\n",
       "      <td>0</td>\n",
       "      <td>0</td>\n",
       "      <td>0</td>\n",
       "    </tr>\n",
       "    <tr>\n",
       "      <th>1993</th>\n",
       "      <td>0</td>\n",
       "      <td>0</td>\n",
       "      <td>0</td>\n",
       "      <td>0</td>\n",
       "      <td>0</td>\n",
       "      <td>0</td>\n",
       "      <td>0</td>\n",
       "      <td>0</td>\n",
       "      <td>0</td>\n",
       "      <td>0</td>\n",
       "      <td>...</td>\n",
       "      <td>0</td>\n",
       "      <td>1</td>\n",
       "      <td>40</td>\n",
       "      <td>0</td>\n",
       "      <td>0</td>\n",
       "      <td>0</td>\n",
       "      <td>0</td>\n",
       "      <td>0</td>\n",
       "      <td>0</td>\n",
       "      <td>0</td>\n",
       "    </tr>\n",
       "    <tr>\n",
       "      <th>1994</th>\n",
       "      <td>0</td>\n",
       "      <td>0</td>\n",
       "      <td>0</td>\n",
       "      <td>0</td>\n",
       "      <td>0</td>\n",
       "      <td>12</td>\n",
       "      <td>0</td>\n",
       "      <td>0</td>\n",
       "      <td>8</td>\n",
       "      <td>0</td>\n",
       "      <td>...</td>\n",
       "      <td>3</td>\n",
       "      <td>0</td>\n",
       "      <td>35</td>\n",
       "      <td>0</td>\n",
       "      <td>0</td>\n",
       "      <td>0</td>\n",
       "      <td>0</td>\n",
       "      <td>0</td>\n",
       "      <td>0</td>\n",
       "      <td>0</td>\n",
       "    </tr>\n",
       "    <tr>\n",
       "      <th>1995</th>\n",
       "      <td>0</td>\n",
       "      <td>0</td>\n",
       "      <td>0</td>\n",
       "      <td>0</td>\n",
       "      <td>0</td>\n",
       "      <td>3</td>\n",
       "      <td>0</td>\n",
       "      <td>0</td>\n",
       "      <td>0</td>\n",
       "      <td>0</td>\n",
       "      <td>...</td>\n",
       "      <td>11</td>\n",
       "      <td>0</td>\n",
       "      <td>32</td>\n",
       "      <td>0</td>\n",
       "      <td>0</td>\n",
       "      <td>0</td>\n",
       "      <td>0</td>\n",
       "      <td>0</td>\n",
       "      <td>0</td>\n",
       "      <td>0</td>\n",
       "    </tr>\n",
       "    <tr>\n",
       "      <th>1996</th>\n",
       "      <td>0</td>\n",
       "      <td>0</td>\n",
       "      <td>0</td>\n",
       "      <td>0</td>\n",
       "      <td>0</td>\n",
       "      <td>36</td>\n",
       "      <td>0</td>\n",
       "      <td>0</td>\n",
       "      <td>0</td>\n",
       "      <td>0</td>\n",
       "      <td>...</td>\n",
       "      <td>7</td>\n",
       "      <td>0</td>\n",
       "      <td>15</td>\n",
       "      <td>0</td>\n",
       "      <td>0</td>\n",
       "      <td>0</td>\n",
       "      <td>0</td>\n",
       "      <td>0</td>\n",
       "      <td>0</td>\n",
       "      <td>0</td>\n",
       "    </tr>\n",
       "    <tr>\n",
       "      <th>1997</th>\n",
       "      <td>0</td>\n",
       "      <td>0</td>\n",
       "      <td>0</td>\n",
       "      <td>0</td>\n",
       "      <td>0</td>\n",
       "      <td>6</td>\n",
       "      <td>0</td>\n",
       "      <td>0</td>\n",
       "      <td>0</td>\n",
       "      <td>0</td>\n",
       "      <td>...</td>\n",
       "      <td>6</td>\n",
       "      <td>0</td>\n",
       "      <td>0</td>\n",
       "      <td>0</td>\n",
       "      <td>0</td>\n",
       "      <td>0</td>\n",
       "      <td>0</td>\n",
       "      <td>0</td>\n",
       "      <td>0</td>\n",
       "      <td>0</td>\n",
       "    </tr>\n",
       "    <tr>\n",
       "      <th>1998</th>\n",
       "      <td>0</td>\n",
       "      <td>0</td>\n",
       "      <td>0</td>\n",
       "      <td>3</td>\n",
       "      <td>0</td>\n",
       "      <td>26</td>\n",
       "      <td>0</td>\n",
       "      <td>0</td>\n",
       "      <td>0</td>\n",
       "      <td>0</td>\n",
       "      <td>...</td>\n",
       "      <td>3</td>\n",
       "      <td>0</td>\n",
       "      <td>0</td>\n",
       "      <td>0</td>\n",
       "      <td>0</td>\n",
       "      <td>0</td>\n",
       "      <td>0</td>\n",
       "      <td>0</td>\n",
       "      <td>0</td>\n",
       "      <td>0</td>\n",
       "    </tr>\n",
       "    <tr>\n",
       "      <th>1999</th>\n",
       "      <td>0</td>\n",
       "      <td>0</td>\n",
       "      <td>0</td>\n",
       "      <td>5</td>\n",
       "      <td>0</td>\n",
       "      <td>38</td>\n",
       "      <td>0</td>\n",
       "      <td>0</td>\n",
       "      <td>0</td>\n",
       "      <td>0</td>\n",
       "      <td>...</td>\n",
       "      <td>0</td>\n",
       "      <td>0</td>\n",
       "      <td>0</td>\n",
       "      <td>0</td>\n",
       "      <td>0</td>\n",
       "      <td>0</td>\n",
       "      <td>0</td>\n",
       "      <td>0</td>\n",
       "      <td>0</td>\n",
       "      <td>0</td>\n",
       "    </tr>\n",
       "    <tr>\n",
       "      <th>2000</th>\n",
       "      <td>0</td>\n",
       "      <td>0</td>\n",
       "      <td>0</td>\n",
       "      <td>5</td>\n",
       "      <td>0</td>\n",
       "      <td>19</td>\n",
       "      <td>0</td>\n",
       "      <td>0</td>\n",
       "      <td>0</td>\n",
       "      <td>0</td>\n",
       "      <td>...</td>\n",
       "      <td>0</td>\n",
       "      <td>0</td>\n",
       "      <td>0</td>\n",
       "      <td>0</td>\n",
       "      <td>0</td>\n",
       "      <td>0</td>\n",
       "      <td>0</td>\n",
       "      <td>0</td>\n",
       "      <td>0</td>\n",
       "      <td>0</td>\n",
       "    </tr>\n",
       "    <tr>\n",
       "      <th>2001</th>\n",
       "      <td>0</td>\n",
       "      <td>0</td>\n",
       "      <td>0</td>\n",
       "      <td>1</td>\n",
       "      <td>0</td>\n",
       "      <td>9</td>\n",
       "      <td>61</td>\n",
       "      <td>26</td>\n",
       "      <td>0</td>\n",
       "      <td>0</td>\n",
       "      <td>...</td>\n",
       "      <td>0</td>\n",
       "      <td>0</td>\n",
       "      <td>0</td>\n",
       "      <td>0</td>\n",
       "      <td>0</td>\n",
       "      <td>0</td>\n",
       "      <td>0</td>\n",
       "      <td>0</td>\n",
       "      <td>22</td>\n",
       "      <td>0</td>\n",
       "    </tr>\n",
       "    <tr>\n",
       "      <th>2002</th>\n",
       "      <td>0</td>\n",
       "      <td>0</td>\n",
       "      <td>0</td>\n",
       "      <td>0</td>\n",
       "      <td>0</td>\n",
       "      <td>0</td>\n",
       "      <td>74</td>\n",
       "      <td>51</td>\n",
       "      <td>0</td>\n",
       "      <td>0</td>\n",
       "      <td>...</td>\n",
       "      <td>0</td>\n",
       "      <td>0</td>\n",
       "      <td>0</td>\n",
       "      <td>0</td>\n",
       "      <td>0</td>\n",
       "      <td>0</td>\n",
       "      <td>0</td>\n",
       "      <td>0</td>\n",
       "      <td>48</td>\n",
       "      <td>0</td>\n",
       "    </tr>\n",
       "    <tr>\n",
       "      <th>2003</th>\n",
       "      <td>0</td>\n",
       "      <td>0</td>\n",
       "      <td>0</td>\n",
       "      <td>0</td>\n",
       "      <td>0</td>\n",
       "      <td>0</td>\n",
       "      <td>56</td>\n",
       "      <td>50</td>\n",
       "      <td>0</td>\n",
       "      <td>0</td>\n",
       "      <td>...</td>\n",
       "      <td>0</td>\n",
       "      <td>0</td>\n",
       "      <td>0</td>\n",
       "      <td>0</td>\n",
       "      <td>0</td>\n",
       "      <td>0</td>\n",
       "      <td>0</td>\n",
       "      <td>0</td>\n",
       "      <td>55</td>\n",
       "      <td>0</td>\n",
       "    </tr>\n",
       "    <tr>\n",
       "      <th>2004</th>\n",
       "      <td>0</td>\n",
       "      <td>0</td>\n",
       "      <td>0</td>\n",
       "      <td>0</td>\n",
       "      <td>17</td>\n",
       "      <td>0</td>\n",
       "      <td>77</td>\n",
       "      <td>28</td>\n",
       "      <td>0</td>\n",
       "      <td>0</td>\n",
       "      <td>...</td>\n",
       "      <td>0</td>\n",
       "      <td>0</td>\n",
       "      <td>0</td>\n",
       "      <td>0</td>\n",
       "      <td>0</td>\n",
       "      <td>0</td>\n",
       "      <td>0</td>\n",
       "      <td>0</td>\n",
       "      <td>65</td>\n",
       "      <td>0</td>\n",
       "    </tr>\n",
       "    <tr>\n",
       "      <th>2005</th>\n",
       "      <td>0</td>\n",
       "      <td>0</td>\n",
       "      <td>0</td>\n",
       "      <td>0</td>\n",
       "      <td>130</td>\n",
       "      <td>0</td>\n",
       "      <td>33</td>\n",
       "      <td>27</td>\n",
       "      <td>0</td>\n",
       "      <td>0</td>\n",
       "      <td>...</td>\n",
       "      <td>0</td>\n",
       "      <td>0</td>\n",
       "      <td>0</td>\n",
       "      <td>0</td>\n",
       "      <td>0</td>\n",
       "      <td>0</td>\n",
       "      <td>0</td>\n",
       "      <td>8</td>\n",
       "      <td>49</td>\n",
       "      <td>0</td>\n",
       "    </tr>\n",
       "    <tr>\n",
       "      <th>2006</th>\n",
       "      <td>0</td>\n",
       "      <td>0</td>\n",
       "      <td>0</td>\n",
       "      <td>0</td>\n",
       "      <td>119</td>\n",
       "      <td>0</td>\n",
       "      <td>5</td>\n",
       "      <td>11</td>\n",
       "      <td>0</td>\n",
       "      <td>0</td>\n",
       "      <td>...</td>\n",
       "      <td>0</td>\n",
       "      <td>0</td>\n",
       "      <td>0</td>\n",
       "      <td>0</td>\n",
       "      <td>0</td>\n",
       "      <td>137</td>\n",
       "      <td>0</td>\n",
       "      <td>51</td>\n",
       "      <td>10</td>\n",
       "      <td>0</td>\n",
       "    </tr>\n",
       "    <tr>\n",
       "      <th>2007</th>\n",
       "      <td>0</td>\n",
       "      <td>0</td>\n",
       "      <td>0</td>\n",
       "      <td>0</td>\n",
       "      <td>146</td>\n",
       "      <td>0</td>\n",
       "      <td>3</td>\n",
       "      <td>0</td>\n",
       "      <td>0</td>\n",
       "      <td>0</td>\n",
       "      <td>...</td>\n",
       "      <td>0</td>\n",
       "      <td>0</td>\n",
       "      <td>0</td>\n",
       "      <td>0</td>\n",
       "      <td>0</td>\n",
       "      <td>152</td>\n",
       "      <td>0</td>\n",
       "      <td>95</td>\n",
       "      <td>0</td>\n",
       "      <td>0</td>\n",
       "    </tr>\n",
       "    <tr>\n",
       "      <th>2008</th>\n",
       "      <td>0</td>\n",
       "      <td>0</td>\n",
       "      <td>0</td>\n",
       "      <td>0</td>\n",
       "      <td>145</td>\n",
       "      <td>0</td>\n",
       "      <td>0</td>\n",
       "      <td>0</td>\n",
       "      <td>0</td>\n",
       "      <td>0</td>\n",
       "      <td>...</td>\n",
       "      <td>0</td>\n",
       "      <td>0</td>\n",
       "      <td>0</td>\n",
       "      <td>0</td>\n",
       "      <td>0</td>\n",
       "      <td>171</td>\n",
       "      <td>0</td>\n",
       "      <td>135</td>\n",
       "      <td>0</td>\n",
       "      <td>0</td>\n",
       "    </tr>\n",
       "    <tr>\n",
       "      <th>2009</th>\n",
       "      <td>0</td>\n",
       "      <td>0</td>\n",
       "      <td>0</td>\n",
       "      <td>0</td>\n",
       "      <td>119</td>\n",
       "      <td>0</td>\n",
       "      <td>0</td>\n",
       "      <td>0</td>\n",
       "      <td>0</td>\n",
       "      <td>0</td>\n",
       "      <td>...</td>\n",
       "      <td>0</td>\n",
       "      <td>0</td>\n",
       "      <td>0</td>\n",
       "      <td>0</td>\n",
       "      <td>0</td>\n",
       "      <td>206</td>\n",
       "      <td>0</td>\n",
       "      <td>120</td>\n",
       "      <td>0</td>\n",
       "      <td>0</td>\n",
       "    </tr>\n",
       "    <tr>\n",
       "      <th>2010</th>\n",
       "      <td>0</td>\n",
       "      <td>0</td>\n",
       "      <td>0</td>\n",
       "      <td>0</td>\n",
       "      <td>85</td>\n",
       "      <td>0</td>\n",
       "      <td>0</td>\n",
       "      <td>0</td>\n",
       "      <td>0</td>\n",
       "      <td>0</td>\n",
       "      <td>...</td>\n",
       "      <td>0</td>\n",
       "      <td>0</td>\n",
       "      <td>0</td>\n",
       "      <td>0</td>\n",
       "      <td>0</td>\n",
       "      <td>127</td>\n",
       "      <td>0</td>\n",
       "      <td>170</td>\n",
       "      <td>0</td>\n",
       "      <td>0</td>\n",
       "    </tr>\n",
       "    <tr>\n",
       "      <th>2011</th>\n",
       "      <td>0</td>\n",
       "      <td>0</td>\n",
       "      <td>63</td>\n",
       "      <td>0</td>\n",
       "      <td>26</td>\n",
       "      <td>0</td>\n",
       "      <td>0</td>\n",
       "      <td>0</td>\n",
       "      <td>0</td>\n",
       "      <td>0</td>\n",
       "      <td>...</td>\n",
       "      <td>0</td>\n",
       "      <td>0</td>\n",
       "      <td>0</td>\n",
       "      <td>0</td>\n",
       "      <td>0</td>\n",
       "      <td>59</td>\n",
       "      <td>0</td>\n",
       "      <td>143</td>\n",
       "      <td>0</td>\n",
       "      <td>0</td>\n",
       "    </tr>\n",
       "    <tr>\n",
       "      <th>2012</th>\n",
       "      <td>0</td>\n",
       "      <td>0</td>\n",
       "      <td>51</td>\n",
       "      <td>0</td>\n",
       "      <td>11</td>\n",
       "      <td>0</td>\n",
       "      <td>0</td>\n",
       "      <td>0</td>\n",
       "      <td>0</td>\n",
       "      <td>0</td>\n",
       "      <td>...</td>\n",
       "      <td>0</td>\n",
       "      <td>0</td>\n",
       "      <td>0</td>\n",
       "      <td>0</td>\n",
       "      <td>0</td>\n",
       "      <td>21</td>\n",
       "      <td>17</td>\n",
       "      <td>99</td>\n",
       "      <td>0</td>\n",
       "      <td>0</td>\n",
       "    </tr>\n",
       "    <tr>\n",
       "      <th>2013</th>\n",
       "      <td>0</td>\n",
       "      <td>0</td>\n",
       "      <td>56</td>\n",
       "      <td>0</td>\n",
       "      <td>1</td>\n",
       "      <td>0</td>\n",
       "      <td>0</td>\n",
       "      <td>0</td>\n",
       "      <td>0</td>\n",
       "      <td>0</td>\n",
       "      <td>...</td>\n",
       "      <td>0</td>\n",
       "      <td>0</td>\n",
       "      <td>0</td>\n",
       "      <td>0</td>\n",
       "      <td>0</td>\n",
       "      <td>8</td>\n",
       "      <td>21</td>\n",
       "      <td>88</td>\n",
       "      <td>0</td>\n",
       "      <td>18</td>\n",
       "    </tr>\n",
       "    <tr>\n",
       "      <th>2014</th>\n",
       "      <td>0</td>\n",
       "      <td>0</td>\n",
       "      <td>43</td>\n",
       "      <td>0</td>\n",
       "      <td>0</td>\n",
       "      <td>0</td>\n",
       "      <td>0</td>\n",
       "      <td>0</td>\n",
       "      <td>0</td>\n",
       "      <td>0</td>\n",
       "      <td>...</td>\n",
       "      <td>0</td>\n",
       "      <td>0</td>\n",
       "      <td>0</td>\n",
       "      <td>0</td>\n",
       "      <td>0</td>\n",
       "      <td>3</td>\n",
       "      <td>22</td>\n",
       "      <td>34</td>\n",
       "      <td>0</td>\n",
       "      <td>54</td>\n",
       "    </tr>\n",
       "    <tr>\n",
       "      <th>2015</th>\n",
       "      <td>0</td>\n",
       "      <td>0</td>\n",
       "      <td>27</td>\n",
       "      <td>0</td>\n",
       "      <td>0</td>\n",
       "      <td>0</td>\n",
       "      <td>0</td>\n",
       "      <td>0</td>\n",
       "      <td>0</td>\n",
       "      <td>0</td>\n",
       "      <td>...</td>\n",
       "      <td>0</td>\n",
       "      <td>0</td>\n",
       "      <td>0</td>\n",
       "      <td>0</td>\n",
       "      <td>0</td>\n",
       "      <td>1</td>\n",
       "      <td>16</td>\n",
       "      <td>11</td>\n",
       "      <td>0</td>\n",
       "      <td>60</td>\n",
       "    </tr>\n",
       "    <tr>\n",
       "      <th>2016</th>\n",
       "      <td>0</td>\n",
       "      <td>0</td>\n",
       "      <td>15</td>\n",
       "      <td>0</td>\n",
       "      <td>0</td>\n",
       "      <td>0</td>\n",
       "      <td>0</td>\n",
       "      <td>0</td>\n",
       "      <td>0</td>\n",
       "      <td>0</td>\n",
       "      <td>...</td>\n",
       "      <td>0</td>\n",
       "      <td>0</td>\n",
       "      <td>0</td>\n",
       "      <td>0</td>\n",
       "      <td>0</td>\n",
       "      <td>0</td>\n",
       "      <td>4</td>\n",
       "      <td>1</td>\n",
       "      <td>0</td>\n",
       "      <td>26</td>\n",
       "    </tr>\n",
       "  </tbody>\n",
       "</table>\n",
       "<p>37 rows × 31 columns</p>\n",
       "</div>"
      ],
      "text/plain": [
       "                        sum                                     ...          \\\n",
       "                total_sales                                     ...           \n",
       "platform               2600 3DO 3DS DC   DS  GB GBA  GC GEN GG  ... SAT SCD   \n",
       "year_of_release                                                 ...           \n",
       "1980                     11   0   0  0    0   0   0   0   0  0  ...   0   0   \n",
       "1981                     35   0   0  0    0   0   0   0   0  0  ...   0   0   \n",
       "1982                     28   0   0  0    0   0   0   0   0  0  ...   0   0   \n",
       "1983                      5   0   0  0    0   0   0   0   0  0  ...   0   0   \n",
       "1984                      0   0   0  0    0   0   0   0   0  0  ...   0   0   \n",
       "1985                      0   0   0  0    0   0   0   0   0  0  ...   0   0   \n",
       "1986                      0   0   0  0    0   0   0   0   0  0  ...   0   0   \n",
       "1987                      1   0   0  0    0   0   0   0   0  0  ...   0   0   \n",
       "1988                      0   0   0  0    0   1   0   0   0  0  ...   0   0   \n",
       "1989                      0   0   0  0    0  64   0   0   0  0  ...   0   0   \n",
       "1990                      0   0   0  0    0   4   0   0   2  0  ...   0   0   \n",
       "1991                      0   0   0  0    0   5   0   0   4  0  ...   0   0   \n",
       "1992                      0   0   0  0    0  25   0   0  12  0  ...   0   0   \n",
       "1993                      0   0   0  0    0   0   0   0   0  0  ...   0   1   \n",
       "1994                      0   0   0  0    0  12   0   0   8  0  ...   3   0   \n",
       "1995                      0   0   0  0    0   3   0   0   0  0  ...  11   0   \n",
       "1996                      0   0   0  0    0  36   0   0   0  0  ...   7   0   \n",
       "1997                      0   0   0  0    0   6   0   0   0  0  ...   6   0   \n",
       "1998                      0   0   0  3    0  26   0   0   0  0  ...   3   0   \n",
       "1999                      0   0   0  5    0  38   0   0   0  0  ...   0   0   \n",
       "2000                      0   0   0  5    0  19   0   0   0  0  ...   0   0   \n",
       "2001                      0   0   0  1    0   9  61  26   0  0  ...   0   0   \n",
       "2002                      0   0   0  0    0   0  74  51   0  0  ...   0   0   \n",
       "2003                      0   0   0  0    0   0  56  50   0  0  ...   0   0   \n",
       "2004                      0   0   0  0   17   0  77  28   0  0  ...   0   0   \n",
       "2005                      0   0   0  0  130   0  33  27   0  0  ...   0   0   \n",
       "2006                      0   0   0  0  119   0   5  11   0  0  ...   0   0   \n",
       "2007                      0   0   0  0  146   0   3   0   0  0  ...   0   0   \n",
       "2008                      0   0   0  0  145   0   0   0   0  0  ...   0   0   \n",
       "2009                      0   0   0  0  119   0   0   0   0  0  ...   0   0   \n",
       "2010                      0   0   0  0   85   0   0   0   0  0  ...   0   0   \n",
       "2011                      0   0  63  0   26   0   0   0   0  0  ...   0   0   \n",
       "2012                      0   0  51  0   11   0   0   0   0  0  ...   0   0   \n",
       "2013                      0   0  56  0    1   0   0   0   0  0  ...   0   0   \n",
       "2014                      0   0  43  0    0   0   0   0   0  0  ...   0   0   \n",
       "2015                      0   0  27  0    0   0   0   0   0  0  ...   0   0   \n",
       "2016                      0   0  15  0    0   0   0   0   0  0  ...   0   0   \n",
       "\n",
       "                                                      \n",
       "                                                      \n",
       "platform        SNES TG16 WS  Wii WiiU X360  XB XOne  \n",
       "year_of_release                                       \n",
       "1980               0    0  0    0    0    0   0    0  \n",
       "1981               0    0  0    0    0    0   0    0  \n",
       "1982               0    0  0    0    0    0   0    0  \n",
       "1983               0    0  0    0    0    0   0    0  \n",
       "1984               0    0  0    0    0    0   0    0  \n",
       "1985               0    0  0    0    0    0   0    0  \n",
       "1986               0    0  0    0    0    0   0    0  \n",
       "1987               0    0  0    0    0    0   0    0  \n",
       "1988               0    0  0    0    0    0   0    0  \n",
       "1989               0    0  0    0    0    0   0    0  \n",
       "1990              26    0  0    0    0    0   0    0  \n",
       "1991              16    0  0    0    0    0   0    0  \n",
       "1992              32    0  0    0    0    0   0    0  \n",
       "1993              40    0  0    0    0    0   0    0  \n",
       "1994              35    0  0    0    0    0   0    0  \n",
       "1995              32    0  0    0    0    0   0    0  \n",
       "1996              15    0  0    0    0    0   0    0  \n",
       "1997               0    0  0    0    0    0   0    0  \n",
       "1998               0    0  0    0    0    0   0    0  \n",
       "1999               0    0  0    0    0    0   0    0  \n",
       "2000               0    0  0    0    0    0   0    0  \n",
       "2001               0    0  0    0    0    0  22    0  \n",
       "2002               0    0  0    0    0    0  48    0  \n",
       "2003               0    0  0    0    0    0  55    0  \n",
       "2004               0    0  0    0    0    0  65    0  \n",
       "2005               0    0  0    0    0    8  49    0  \n",
       "2006               0    0  0  137    0   51  10    0  \n",
       "2007               0    0  0  152    0   95   0    0  \n",
       "2008               0    0  0  171    0  135   0    0  \n",
       "2009               0    0  0  206    0  120   0    0  \n",
       "2010               0    0  0  127    0  170   0    0  \n",
       "2011               0    0  0   59    0  143   0    0  \n",
       "2012               0    0  0   21   17   99   0    0  \n",
       "2013               0    0  0    8   21   88   0   18  \n",
       "2014               0    0  0    3   22   34   0   54  \n",
       "2015               0    0  0    1   16   11   0   60  \n",
       "2016               0    0  0    0    4    1   0   26  \n",
       "\n",
       "[37 rows x 31 columns]"
      ]
     },
     "execution_count": 33,
     "metadata": {},
     "output_type": "execute_result"
    }
   ],
   "source": [
    "# Platforms Total Sales per year pivot table\n",
    "pivot_years_p = pd.pivot_table(df, index='year_of_release', columns='platform', values=['total_sales'], \n",
    "                    aggfunc=['sum'],fill_value=0).astype('int')\n",
    "pivot_years_p"
   ]
  },
  {
   "cell_type": "code",
   "execution_count": 34,
   "id": "8d9d28ed",
   "metadata": {},
   "outputs": [
    {
     "data": {
      "image/png": "[encoded data removed]",
      "text/plain": [
       "<Figure size 1080x720 with 1 Axes>"
      ]
     },
     "metadata": {
      "needs_background": "light"
     },
     "output_type": "display_data"
    }
   ],
   "source": [
    "# Platform games sales after 2000\n",
    "temp1=df.query('year_of_release>2000')\n",
    "plt.subplots(figsize=(15,10))\n",
    "sns.kdeplot(data=temp1,x=\"year_of_release\",hue='platform').set(title='Platforms Distribution After Year 2000');"
   ]
  },
  {
   "cell_type": "markdown",
   "id": "703b01cb",
   "metadata": {},
   "source": [
    "**Slicing/Focused Data Analysis for Forecasting**\n",
    "\n",
    "\n",
    "Pivot table and KDE plot above showed the platforms trend over the years. Majority of the platforms showed similar trend, they peaked at the 3rd year of release, and then started to decline with new platforms emerged to the market. Typical platforms lost relevance within 3-4 years, maximum 5 years. The final year of this dataset is 2016, so the best practice would be using the data with maximum of 5 years range from 2017 for analysis to get better forecasting result."
   ]
  },
  {
   "cell_type": "markdown",
   "id": "180780bc",
   "metadata": {},
   "source": [
    "### Working with Outliers"
   ]
  },
  {
   "cell_type": "code",
   "execution_count": 35,
   "id": "f6d76810",
   "metadata": {},
   "outputs": [],
   "source": [
    "# Getting rid of upper outliers.\n",
    "column = np.zeros(len(df), dtype=bool) + True\n",
    "for outliers in ['na_sales',\n",
    "                 'eu_sales',\n",
    "                 'jp_sales',\n",
    "                 'other_sales',\n",
    "                 'critic_score','total_sales']:\n",
    "    Q1 = df[outliers].quantile(0.25)\n",
    "    Q3 = df[outliers].quantile(0.75)\n",
    "    IQR = Q3-Q1\n",
    "    upper_outliers = Q3+1.5*IQR \n",
    "    column[np.where(df[outliers]>upper_outliers)]=False"
   ]
  },
  {
   "cell_type": "code",
   "execution_count": 36,
   "id": "2e733c75",
   "metadata": {},
   "outputs": [],
   "source": [
    "# df2 as dataframe without upper outliers\n",
    "df2 = df[column]\n",
    "df2.reset_index(drop=True, inplace=True);"
   ]
  },
  {
   "cell_type": "code",
   "execution_count": 37,
   "id": "bff862cf",
   "metadata": {},
   "outputs": [],
   "source": [
    "df2 = df2.query('year_of_release>2011')"
   ]
  },
  {
   "cell_type": "code",
   "execution_count": 38,
   "id": "31e1d321",
   "metadata": {},
   "outputs": [
    {
     "data": {
      "text/html": [
       "<div>\n",
       "<style scoped>\n",
       "    .dataframe tbody tr th:only-of-type {\n",
       "        vertical-align: middle;\n",
       "    }\n",
       "\n",
       "    .dataframe tbody tr th {\n",
       "        vertical-align: top;\n",
       "    }\n",
       "\n",
       "    .dataframe thead th {\n",
       "        text-align: right;\n",
       "    }\n",
       "</style>\n",
       "<table border=\"1\" class=\"dataframe\">\n",
       "  <thead>\n",
       "    <tr style=\"text-align: right;\">\n",
       "      <th></th>\n",
       "      <th>name</th>\n",
       "      <th>platform</th>\n",
       "      <th>year_of_release</th>\n",
       "      <th>genre</th>\n",
       "      <th>na_sales</th>\n",
       "      <th>eu_sales</th>\n",
       "      <th>jp_sales</th>\n",
       "      <th>other_sales</th>\n",
       "      <th>critic_score</th>\n",
       "      <th>user_score</th>\n",
       "      <th>rating</th>\n",
       "      <th>total_sales</th>\n",
       "    </tr>\n",
       "  </thead>\n",
       "  <tbody>\n",
       "    <tr>\n",
       "      <th>1</th>\n",
       "      <td>Kingdoms of Amalur: Reckoning</td>\n",
       "      <td>X360</td>\n",
       "      <td>2012</td>\n",
       "      <td>Role-Playing</td>\n",
       "      <td>0.55</td>\n",
       "      <td>0.24</td>\n",
       "      <td>0.01</td>\n",
       "      <td>0.07</td>\n",
       "      <td>80.0</td>\n",
       "      <td>7.7</td>\n",
       "      <td>M</td>\n",
       "      <td>0.87</td>\n",
       "    </tr>\n",
       "    <tr>\n",
       "      <th>11</th>\n",
       "      <td>Dance Central 3</td>\n",
       "      <td>X360</td>\n",
       "      <td>2012</td>\n",
       "      <td>Misc</td>\n",
       "      <td>0.57</td>\n",
       "      <td>0.18</td>\n",
       "      <td>0.00</td>\n",
       "      <td>0.06</td>\n",
       "      <td>86.0</td>\n",
       "      <td>8.0</td>\n",
       "      <td>T</td>\n",
       "      <td>0.81</td>\n",
       "    </tr>\n",
       "    <tr>\n",
       "      <th>15</th>\n",
       "      <td>Darksiders II</td>\n",
       "      <td>X360</td>\n",
       "      <td>2012</td>\n",
       "      <td>Action</td>\n",
       "      <td>0.45</td>\n",
       "      <td>0.27</td>\n",
       "      <td>0.00</td>\n",
       "      <td>0.07</td>\n",
       "      <td>83.0</td>\n",
       "      <td>8.0</td>\n",
       "      <td>M</td>\n",
       "      <td>0.79</td>\n",
       "    </tr>\n",
       "    <tr>\n",
       "      <th>16</th>\n",
       "      <td>[Prototype 2]</td>\n",
       "      <td>X360</td>\n",
       "      <td>2012</td>\n",
       "      <td>Action</td>\n",
       "      <td>0.48</td>\n",
       "      <td>0.24</td>\n",
       "      <td>0.00</td>\n",
       "      <td>0.07</td>\n",
       "      <td>74.0</td>\n",
       "      <td>7.0</td>\n",
       "      <td>M</td>\n",
       "      <td>0.79</td>\n",
       "    </tr>\n",
       "    <tr>\n",
       "      <th>17</th>\n",
       "      <td>Dragon's Dogma</td>\n",
       "      <td>X360</td>\n",
       "      <td>2012</td>\n",
       "      <td>Role-Playing</td>\n",
       "      <td>0.42</td>\n",
       "      <td>0.23</td>\n",
       "      <td>0.07</td>\n",
       "      <td>0.06</td>\n",
       "      <td>75.0</td>\n",
       "      <td>7.8</td>\n",
       "      <td>M</td>\n",
       "      <td>0.78</td>\n",
       "    </tr>\n",
       "  </tbody>\n",
       "</table>\n",
       "</div>"
      ],
      "text/plain": [
       "                             name platform  year_of_release         genre  \\\n",
       "1   Kingdoms of Amalur: Reckoning     X360             2012  Role-Playing   \n",
       "11                Dance Central 3     X360             2012          Misc   \n",
       "15                  Darksiders II     X360             2012        Action   \n",
       "16                  [Prototype 2]     X360             2012        Action   \n",
       "17                 Dragon's Dogma     X360             2012  Role-Playing   \n",
       "\n",
       "    na_sales  eu_sales  jp_sales  other_sales  critic_score  user_score  \\\n",
       "1       0.55      0.24      0.01         0.07          80.0         7.7   \n",
       "11      0.57      0.18      0.00         0.06          86.0         8.0   \n",
       "15      0.45      0.27      0.00         0.07          83.0         8.0   \n",
       "16      0.48      0.24      0.00         0.07          74.0         7.0   \n",
       "17      0.42      0.23      0.07         0.06          75.0         7.8   \n",
       "\n",
       "   rating  total_sales  \n",
       "1       M         0.87  \n",
       "11      T         0.81  \n",
       "15      M         0.79  \n",
       "16      M         0.79  \n",
       "17      M         0.78  "
      ]
     },
     "execution_count": 38,
     "metadata": {},
     "output_type": "execute_result"
    }
   ],
   "source": [
    "df2.head(5)"
   ]
  },
  {
   "cell_type": "markdown",
   "id": "9ef719ff",
   "metadata": {},
   "source": [
    "### Pivot Data"
   ]
  },
  {
   "cell_type": "markdown",
   "id": "104b34ba",
   "metadata": {},
   "source": [
    "#### North America Region"
   ]
  },
  {
   "cell_type": "code",
   "execution_count": 39,
   "id": "74850f5f",
   "metadata": {},
   "outputs": [
    {
     "data": {
      "text/html": [
       "<div>\n",
       "<style scoped>\n",
       "    .dataframe tbody tr th:only-of-type {\n",
       "        vertical-align: middle;\n",
       "    }\n",
       "\n",
       "    .dataframe tbody tr th {\n",
       "        vertical-align: top;\n",
       "    }\n",
       "\n",
       "    .dataframe thead th {\n",
       "        text-align: right;\n",
       "    }\n",
       "</style>\n",
       "<table border=\"1\" class=\"dataframe\">\n",
       "  <thead>\n",
       "    <tr style=\"text-align: right;\">\n",
       "      <th></th>\n",
       "      <th>count</th>\n",
       "      <th>sales</th>\n",
       "    </tr>\n",
       "    <tr>\n",
       "      <th>platform</th>\n",
       "      <th></th>\n",
       "      <th></th>\n",
       "    </tr>\n",
       "  </thead>\n",
       "  <tbody>\n",
       "    <tr>\n",
       "      <th>X360</th>\n",
       "      <td>210</td>\n",
       "      <td>29.83</td>\n",
       "    </tr>\n",
       "    <tr>\n",
       "      <th>XOne</th>\n",
       "      <td>187</td>\n",
       "      <td>21.58</td>\n",
       "    </tr>\n",
       "    <tr>\n",
       "      <th>PS3</th>\n",
       "      <td>284</td>\n",
       "      <td>11.76</td>\n",
       "    </tr>\n",
       "    <tr>\n",
       "      <th>WiiU</th>\n",
       "      <td>111</td>\n",
       "      <td>11.29</td>\n",
       "    </tr>\n",
       "    <tr>\n",
       "      <th>PS4</th>\n",
       "      <td>254</td>\n",
       "      <td>10.55</td>\n",
       "    </tr>\n",
       "  </tbody>\n",
       "</table>\n",
       "</div>"
      ],
      "text/plain": [
       "          count  sales\n",
       "platform              \n",
       "X360        210  29.83\n",
       "XOne        187  21.58\n",
       "PS3         284  11.76\n",
       "WiiU        111  11.29\n",
       "PS4         254  10.55"
      ]
     },
     "execution_count": 39,
     "metadata": {},
     "output_type": "execute_result"
    }
   ],
   "source": [
    "# NA sales by platform pivot table (year>2011)\n",
    "na_platform = pd.pivot_table(df2, index='platform',values=['na_sales'], \n",
    "                    aggfunc=['count','sum'])\n",
    "na_platform.columns=['count','sales']\n",
    "na_platform.sort_values(by='sales',ascending=False).head(5)"
   ]
  },
  {
   "cell_type": "code",
   "execution_count": 40,
   "id": "e073961e",
   "metadata": {},
   "outputs": [
    {
     "data": {
      "text/html": [
       "<div>\n",
       "<style scoped>\n",
       "    .dataframe tbody tr th:only-of-type {\n",
       "        vertical-align: middle;\n",
       "    }\n",
       "\n",
       "    .dataframe tbody tr th {\n",
       "        vertical-align: top;\n",
       "    }\n",
       "\n",
       "    .dataframe thead th {\n",
       "        text-align: right;\n",
       "    }\n",
       "</style>\n",
       "<table border=\"1\" class=\"dataframe\">\n",
       "  <thead>\n",
       "    <tr style=\"text-align: right;\">\n",
       "      <th></th>\n",
       "      <th>count</th>\n",
       "      <th>sales</th>\n",
       "    </tr>\n",
       "    <tr>\n",
       "      <th>genre</th>\n",
       "      <th></th>\n",
       "      <th></th>\n",
       "    </tr>\n",
       "  </thead>\n",
       "  <tbody>\n",
       "    <tr>\n",
       "      <th>Action</th>\n",
       "      <td>754</td>\n",
       "      <td>41.15</td>\n",
       "    </tr>\n",
       "    <tr>\n",
       "      <th>Shooter</th>\n",
       "      <td>130</td>\n",
       "      <td>12.91</td>\n",
       "    </tr>\n",
       "    <tr>\n",
       "      <th>Sports</th>\n",
       "      <td>151</td>\n",
       "      <td>12.72</td>\n",
       "    </tr>\n",
       "    <tr>\n",
       "      <th>Misc</th>\n",
       "      <td>141</td>\n",
       "      <td>9.43</td>\n",
       "    </tr>\n",
       "    <tr>\n",
       "      <th>Role-Playing</th>\n",
       "      <td>232</td>\n",
       "      <td>9.26</td>\n",
       "    </tr>\n",
       "  </tbody>\n",
       "</table>\n",
       "</div>"
      ],
      "text/plain": [
       "              count  sales\n",
       "genre                     \n",
       "Action          754  41.15\n",
       "Shooter         130  12.91\n",
       "Sports          151  12.72\n",
       "Misc            141   9.43\n",
       "Role-Playing    232   9.26"
      ]
     },
     "execution_count": 40,
     "metadata": {},
     "output_type": "execute_result"
    }
   ],
   "source": [
    "# NA sales by genre pivot table (year>2011)\n",
    "na_genre = pd.pivot_table(df2, index='genre',values=['na_sales'], \n",
    "                    aggfunc=['count','sum'])\n",
    "na_genre.columns=['count','sales']\n",
    "na_genre.sort_values(by='sales',ascending=False).head(5)"
   ]
  },
  {
   "cell_type": "markdown",
   "id": "cd7afaa7",
   "metadata": {},
   "source": [
    "#### Japan Region"
   ]
  },
  {
   "cell_type": "code",
   "execution_count": 41,
   "id": "8658bfcc",
   "metadata": {},
   "outputs": [
    {
     "data": {
      "text/html": [
       "<div>\n",
       "<style scoped>\n",
       "    .dataframe tbody tr th:only-of-type {\n",
       "        vertical-align: middle;\n",
       "    }\n",
       "\n",
       "    .dataframe tbody tr th {\n",
       "        vertical-align: top;\n",
       "    }\n",
       "\n",
       "    .dataframe thead th {\n",
       "        text-align: right;\n",
       "    }\n",
       "</style>\n",
       "<table border=\"1\" class=\"dataframe\">\n",
       "  <thead>\n",
       "    <tr style=\"text-align: right;\">\n",
       "      <th></th>\n",
       "      <th>count</th>\n",
       "      <th>sales</th>\n",
       "    </tr>\n",
       "    <tr>\n",
       "      <th>platform</th>\n",
       "      <th></th>\n",
       "      <th></th>\n",
       "    </tr>\n",
       "  </thead>\n",
       "  <tbody>\n",
       "    <tr>\n",
       "      <th>PSV</th>\n",
       "      <td>344</td>\n",
       "      <td>10.85</td>\n",
       "    </tr>\n",
       "    <tr>\n",
       "      <th>3DS</th>\n",
       "      <td>254</td>\n",
       "      <td>8.13</td>\n",
       "    </tr>\n",
       "    <tr>\n",
       "      <th>PS3</th>\n",
       "      <td>284</td>\n",
       "      <td>6.79</td>\n",
       "    </tr>\n",
       "    <tr>\n",
       "      <th>PS4</th>\n",
       "      <td>254</td>\n",
       "      <td>4.67</td>\n",
       "    </tr>\n",
       "    <tr>\n",
       "      <th>PSP</th>\n",
       "      <td>138</td>\n",
       "      <td>4.56</td>\n",
       "    </tr>\n",
       "  </tbody>\n",
       "</table>\n",
       "</div>"
      ],
      "text/plain": [
       "          count  sales\n",
       "platform              \n",
       "PSV         344  10.85\n",
       "3DS         254   8.13\n",
       "PS3         284   6.79\n",
       "PS4         254   4.67\n",
       "PSP         138   4.56"
      ]
     },
     "execution_count": 41,
     "metadata": {},
     "output_type": "execute_result"
    }
   ],
   "source": [
    "# JP sales by platform pivot table (year>2011)\n",
    "jp_platform = pd.pivot_table(df2, index='platform',values=['jp_sales'], \n",
    "                    aggfunc=['count','sum'])\n",
    "jp_platform.columns=['count','sales']\n",
    "jp_platform.sort_values(by='sales',ascending=False).head(5)"
   ]
  },
  {
   "cell_type": "code",
   "execution_count": 42,
   "id": "808ea0cf",
   "metadata": {},
   "outputs": [
    {
     "data": {
      "text/html": [
       "<div>\n",
       "<style scoped>\n",
       "    .dataframe tbody tr th:only-of-type {\n",
       "        vertical-align: middle;\n",
       "    }\n",
       "\n",
       "    .dataframe tbody tr th {\n",
       "        vertical-align: top;\n",
       "    }\n",
       "\n",
       "    .dataframe thead th {\n",
       "        text-align: right;\n",
       "    }\n",
       "</style>\n",
       "<table border=\"1\" class=\"dataframe\">\n",
       "  <thead>\n",
       "    <tr style=\"text-align: right;\">\n",
       "      <th></th>\n",
       "      <th>count</th>\n",
       "      <th>sales</th>\n",
       "    </tr>\n",
       "    <tr>\n",
       "      <th>genre</th>\n",
       "      <th></th>\n",
       "      <th></th>\n",
       "    </tr>\n",
       "  </thead>\n",
       "  <tbody>\n",
       "    <tr>\n",
       "      <th>Action</th>\n",
       "      <td>754</td>\n",
       "      <td>13.26</td>\n",
       "    </tr>\n",
       "    <tr>\n",
       "      <th>Role-Playing</th>\n",
       "      <td>232</td>\n",
       "      <td>8.79</td>\n",
       "    </tr>\n",
       "    <tr>\n",
       "      <th>Adventure</th>\n",
       "      <td>284</td>\n",
       "      <td>5.49</td>\n",
       "    </tr>\n",
       "    <tr>\n",
       "      <th>Misc</th>\n",
       "      <td>141</td>\n",
       "      <td>3.05</td>\n",
       "    </tr>\n",
       "    <tr>\n",
       "      <th>Fighting</th>\n",
       "      <td>78</td>\n",
       "      <td>1.96</td>\n",
       "    </tr>\n",
       "  </tbody>\n",
       "</table>\n",
       "</div>"
      ],
      "text/plain": [
       "              count  sales\n",
       "genre                     \n",
       "Action          754  13.26\n",
       "Role-Playing    232   8.79\n",
       "Adventure       284   5.49\n",
       "Misc            141   3.05\n",
       "Fighting         78   1.96"
      ]
     },
     "execution_count": 42,
     "metadata": {},
     "output_type": "execute_result"
    }
   ],
   "source": [
    "# JP sales by genre pivot table (year>2011)\n",
    "jp_genre = pd.pivot_table(df2, index='genre',values=['jp_sales'], \n",
    "                    aggfunc=['count','sum'])\n",
    "jp_genre.columns=['count','sales']\n",
    "jp_genre.sort_values(by='sales',ascending=False).head(5)"
   ]
  },
  {
   "cell_type": "markdown",
   "id": "707b1ff6",
   "metadata": {},
   "source": [
    "#### Europe Region"
   ]
  },
  {
   "cell_type": "code",
   "execution_count": 43,
   "id": "02cdb5e2",
   "metadata": {},
   "outputs": [
    {
     "data": {
      "text/html": [
       "<div>\n",
       "<style scoped>\n",
       "    .dataframe tbody tr th:only-of-type {\n",
       "        vertical-align: middle;\n",
       "    }\n",
       "\n",
       "    .dataframe tbody tr th {\n",
       "        vertical-align: top;\n",
       "    }\n",
       "\n",
       "    .dataframe thead th {\n",
       "        text-align: right;\n",
       "    }\n",
       "</style>\n",
       "<table border=\"1\" class=\"dataframe\">\n",
       "  <thead>\n",
       "    <tr style=\"text-align: right;\">\n",
       "      <th></th>\n",
       "      <th>count</th>\n",
       "      <th>sales</th>\n",
       "    </tr>\n",
       "    <tr>\n",
       "      <th>platform</th>\n",
       "      <th></th>\n",
       "      <th></th>\n",
       "    </tr>\n",
       "  </thead>\n",
       "  <tbody>\n",
       "    <tr>\n",
       "      <th>X360</th>\n",
       "      <td>210</td>\n",
       "      <td>15.80</td>\n",
       "    </tr>\n",
       "    <tr>\n",
       "      <th>PC</th>\n",
       "      <td>211</td>\n",
       "      <td>14.11</td>\n",
       "    </tr>\n",
       "    <tr>\n",
       "      <th>PS4</th>\n",
       "      <td>254</td>\n",
       "      <td>13.23</td>\n",
       "    </tr>\n",
       "    <tr>\n",
       "      <th>XOne</th>\n",
       "      <td>187</td>\n",
       "      <td>12.46</td>\n",
       "    </tr>\n",
       "    <tr>\n",
       "      <th>PS3</th>\n",
       "      <td>284</td>\n",
       "      <td>10.12</td>\n",
       "    </tr>\n",
       "  </tbody>\n",
       "</table>\n",
       "</div>"
      ],
      "text/plain": [
       "          count  sales\n",
       "platform              \n",
       "X360        210  15.80\n",
       "PC          211  14.11\n",
       "PS4         254  13.23\n",
       "XOne        187  12.46\n",
       "PS3         284  10.12"
      ]
     },
     "execution_count": 43,
     "metadata": {},
     "output_type": "execute_result"
    }
   ],
   "source": [
    "# eu sales by platform pivot table (year>2011)\n",
    "eu_platform = pd.pivot_table(df2, index='platform',values=['eu_sales'], \n",
    "                    aggfunc=['count','sum'])\n",
    "eu_platform.columns=['count','sales']\n",
    "eu_platform.sort_values(by='sales',ascending=False).head(5)"
   ]
  },
  {
   "cell_type": "code",
   "execution_count": 44,
   "id": "e3a74458",
   "metadata": {},
   "outputs": [
    {
     "data": {
      "text/html": [
       "<div>\n",
       "<style scoped>\n",
       "    .dataframe tbody tr th:only-of-type {\n",
       "        vertical-align: middle;\n",
       "    }\n",
       "\n",
       "    .dataframe tbody tr th {\n",
       "        vertical-align: top;\n",
       "    }\n",
       "\n",
       "    .dataframe thead th {\n",
       "        text-align: right;\n",
       "    }\n",
       "</style>\n",
       "<table border=\"1\" class=\"dataframe\">\n",
       "  <thead>\n",
       "    <tr style=\"text-align: right;\">\n",
       "      <th></th>\n",
       "      <th>count</th>\n",
       "      <th>sales</th>\n",
       "    </tr>\n",
       "    <tr>\n",
       "      <th>genre</th>\n",
       "      <th></th>\n",
       "      <th></th>\n",
       "    </tr>\n",
       "  </thead>\n",
       "  <tbody>\n",
       "    <tr>\n",
       "      <th>Action</th>\n",
       "      <td>754</td>\n",
       "      <td>32.85</td>\n",
       "    </tr>\n",
       "    <tr>\n",
       "      <th>Shooter</th>\n",
       "      <td>130</td>\n",
       "      <td>10.81</td>\n",
       "    </tr>\n",
       "    <tr>\n",
       "      <th>Sports</th>\n",
       "      <td>151</td>\n",
       "      <td>7.53</td>\n",
       "    </tr>\n",
       "    <tr>\n",
       "      <th>Role-Playing</th>\n",
       "      <td>232</td>\n",
       "      <td>6.66</td>\n",
       "    </tr>\n",
       "    <tr>\n",
       "      <th>Racing</th>\n",
       "      <td>86</td>\n",
       "      <td>5.96</td>\n",
       "    </tr>\n",
       "  </tbody>\n",
       "</table>\n",
       "</div>"
      ],
      "text/plain": [
       "              count  sales\n",
       "genre                     \n",
       "Action          754  32.85\n",
       "Shooter         130  10.81\n",
       "Sports          151   7.53\n",
       "Role-Playing    232   6.66\n",
       "Racing           86   5.96"
      ]
     },
     "execution_count": 44,
     "metadata": {},
     "output_type": "execute_result"
    }
   ],
   "source": [
    "# eu sales by genre pivot table (year>2011)\n",
    "eu_genre = pd.pivot_table(df2, index='genre',values=['eu_sales'], \n",
    "                    aggfunc=['count','sum'])\n",
    "eu_genre.columns=['count','sales']\n",
    "eu_genre.sort_values(by='sales',ascending=False).head(5)"
   ]
  },
  {
   "cell_type": "markdown",
   "id": "5f977661",
   "metadata": {},
   "source": [
    "#### Global Region\n"
   ]
  },
  {
   "cell_type": "code",
   "execution_count": 45,
   "id": "4260e3aa",
   "metadata": {},
   "outputs": [
    {
     "data": {
      "text/html": [
       "<div>\n",
       "<style scoped>\n",
       "    .dataframe tbody tr th:only-of-type {\n",
       "        vertical-align: middle;\n",
       "    }\n",
       "\n",
       "    .dataframe tbody tr th {\n",
       "        vertical-align: top;\n",
       "    }\n",
       "\n",
       "    .dataframe thead th {\n",
       "        text-align: right;\n",
       "    }\n",
       "</style>\n",
       "<table border=\"1\" class=\"dataframe\">\n",
       "  <thead>\n",
       "    <tr style=\"text-align: right;\">\n",
       "      <th></th>\n",
       "      <th>count</th>\n",
       "      <th>sales</th>\n",
       "    </tr>\n",
       "    <tr>\n",
       "      <th>platform</th>\n",
       "      <th></th>\n",
       "      <th></th>\n",
       "    </tr>\n",
       "  </thead>\n",
       "  <tbody>\n",
       "    <tr>\n",
       "      <th>X360</th>\n",
       "      <td>210</td>\n",
       "      <td>50.68</td>\n",
       "    </tr>\n",
       "    <tr>\n",
       "      <th>XOne</th>\n",
       "      <td>187</td>\n",
       "      <td>37.37</td>\n",
       "    </tr>\n",
       "    <tr>\n",
       "      <th>PS4</th>\n",
       "      <td>254</td>\n",
       "      <td>33.04</td>\n",
       "    </tr>\n",
       "    <tr>\n",
       "      <th>PS3</th>\n",
       "      <td>284</td>\n",
       "      <td>33.00</td>\n",
       "    </tr>\n",
       "    <tr>\n",
       "      <th>3DS</th>\n",
       "      <td>254</td>\n",
       "      <td>24.58</td>\n",
       "    </tr>\n",
       "  </tbody>\n",
       "</table>\n",
       "</div>"
      ],
      "text/plain": [
       "          count  sales\n",
       "platform              \n",
       "X360        210  50.68\n",
       "XOne        187  37.37\n",
       "PS4         254  33.04\n",
       "PS3         284  33.00\n",
       "3DS         254  24.58"
      ]
     },
     "execution_count": 45,
     "metadata": {},
     "output_type": "execute_result"
    }
   ],
   "source": [
    "# total sales by platform pivot table (year>2011)\n",
    "total_platform = pd.pivot_table(df2, index='platform',values=['total_sales'], \n",
    "                    aggfunc=['count','sum'])\n",
    "total_platform.columns=['count','sales']\n",
    "total_platform.sort_values(by='sales',ascending=False).head(5)"
   ]
  },
  {
   "cell_type": "code",
   "execution_count": 46,
   "id": "3c32d491",
   "metadata": {},
   "outputs": [
    {
     "data": {
      "text/html": [
       "<div>\n",
       "<style scoped>\n",
       "    .dataframe tbody tr th:only-of-type {\n",
       "        vertical-align: middle;\n",
       "    }\n",
       "\n",
       "    .dataframe tbody tr th {\n",
       "        vertical-align: top;\n",
       "    }\n",
       "\n",
       "    .dataframe thead th {\n",
       "        text-align: right;\n",
       "    }\n",
       "</style>\n",
       "<table border=\"1\" class=\"dataframe\">\n",
       "  <thead>\n",
       "    <tr style=\"text-align: right;\">\n",
       "      <th></th>\n",
       "      <th>count</th>\n",
       "      <th>sales</th>\n",
       "    </tr>\n",
       "    <tr>\n",
       "      <th>genre</th>\n",
       "      <th></th>\n",
       "      <th></th>\n",
       "    </tr>\n",
       "  </thead>\n",
       "  <tbody>\n",
       "    <tr>\n",
       "      <th>Action</th>\n",
       "      <td>754</td>\n",
       "      <td>96.24</td>\n",
       "    </tr>\n",
       "    <tr>\n",
       "      <th>Shooter</th>\n",
       "      <td>130</td>\n",
       "      <td>27.51</td>\n",
       "    </tr>\n",
       "    <tr>\n",
       "      <th>Role-Playing</th>\n",
       "      <td>232</td>\n",
       "      <td>26.95</td>\n",
       "    </tr>\n",
       "    <tr>\n",
       "      <th>Sports</th>\n",
       "      <td>151</td>\n",
       "      <td>23.79</td>\n",
       "    </tr>\n",
       "    <tr>\n",
       "      <th>Misc</th>\n",
       "      <td>141</td>\n",
       "      <td>19.88</td>\n",
       "    </tr>\n",
       "  </tbody>\n",
       "</table>\n",
       "</div>"
      ],
      "text/plain": [
       "              count  sales\n",
       "genre                     \n",
       "Action          754  96.24\n",
       "Shooter         130  27.51\n",
       "Role-Playing    232  26.95\n",
       "Sports          151  23.79\n",
       "Misc            141  19.88"
      ]
     },
     "execution_count": 46,
     "metadata": {},
     "output_type": "execute_result"
    }
   ],
   "source": [
    "# total sales by genre pivot table (year>2011)\n",
    "total_genre = pd.pivot_table(df2, index='genre',values=['total_sales'], \n",
    "                    aggfunc=['count','sum'])\n",
    "total_genre.columns=['count','sales']\n",
    "total_genre.sort_values(by='sales',ascending=False).head(5)"
   ]
  },
  {
   "cell_type": "code",
   "execution_count": 47,
   "id": "390107ea",
   "metadata": {},
   "outputs": [
    {
     "data": {
      "text/html": [
       "<div>\n",
       "<style scoped>\n",
       "    .dataframe tbody tr th:only-of-type {\n",
       "        vertical-align: middle;\n",
       "    }\n",
       "\n",
       "    .dataframe tbody tr th {\n",
       "        vertical-align: top;\n",
       "    }\n",
       "\n",
       "    .dataframe thead th {\n",
       "        text-align: right;\n",
       "    }\n",
       "</style>\n",
       "<table border=\"1\" class=\"dataframe\">\n",
       "  <thead>\n",
       "    <tr style=\"text-align: right;\">\n",
       "      <th></th>\n",
       "      <th>count</th>\n",
       "      <th>sales</th>\n",
       "    </tr>\n",
       "    <tr>\n",
       "      <th>rating</th>\n",
       "      <th></th>\n",
       "      <th></th>\n",
       "    </tr>\n",
       "  </thead>\n",
       "  <tbody>\n",
       "    <tr>\n",
       "      <th>M</th>\n",
       "      <td>335</td>\n",
       "      <td>68.93</td>\n",
       "    </tr>\n",
       "    <tr>\n",
       "      <th>unknown</th>\n",
       "      <td>893</td>\n",
       "      <td>56.58</td>\n",
       "    </tr>\n",
       "    <tr>\n",
       "      <th>E10+</th>\n",
       "      <td>233</td>\n",
       "      <td>50.63</td>\n",
       "    </tr>\n",
       "    <tr>\n",
       "      <th>T</th>\n",
       "      <td>329</td>\n",
       "      <td>46.47</td>\n",
       "    </tr>\n",
       "    <tr>\n",
       "      <th>E</th>\n",
       "      <td>266</td>\n",
       "      <td>33.75</td>\n",
       "    </tr>\n",
       "  </tbody>\n",
       "</table>\n",
       "</div>"
      ],
      "text/plain": [
       "         count  sales\n",
       "rating               \n",
       "M          335  68.93\n",
       "unknown    893  56.58\n",
       "E10+       233  50.63\n",
       "T          329  46.47\n",
       "E          266  33.75"
      ]
     },
     "execution_count": 47,
     "metadata": {},
     "output_type": "execute_result"
    }
   ],
   "source": [
    "# total sales by rating pivot table (year>2011)\n",
    "total_rating = pd.pivot_table(df2, index='rating',values=['total_sales'], \n",
    "                    aggfunc=['count','sum'])\n",
    "total_rating.columns=['count','sales']\n",
    "total_rating.sort_values(by='sales',ascending=False).head(5)"
   ]
  },
  {
   "cell_type": "code",
   "execution_count": 48,
   "id": "7b94d895",
   "metadata": {},
   "outputs": [
    {
     "data": {
      "text/html": [
       "<div>\n",
       "<style scoped>\n",
       "    .dataframe tbody tr th:only-of-type {\n",
       "        vertical-align: middle;\n",
       "    }\n",
       "\n",
       "    .dataframe tbody tr th {\n",
       "        vertical-align: top;\n",
       "    }\n",
       "\n",
       "    .dataframe thead th {\n",
       "        text-align: right;\n",
       "    }\n",
       "</style>\n",
       "<table border=\"1\" class=\"dataframe\">\n",
       "  <thead>\n",
       "    <tr style=\"text-align: right;\">\n",
       "      <th></th>\n",
       "      <th>count</th>\n",
       "      <th>sales</th>\n",
       "    </tr>\n",
       "    <tr>\n",
       "      <th>platform</th>\n",
       "      <th></th>\n",
       "      <th></th>\n",
       "    </tr>\n",
       "  </thead>\n",
       "  <tbody>\n",
       "    <tr>\n",
       "      <th>PSV</th>\n",
       "      <td>344</td>\n",
       "      <td>21.93</td>\n",
       "    </tr>\n",
       "    <tr>\n",
       "      <th>PS3</th>\n",
       "      <td>284</td>\n",
       "      <td>33.00</td>\n",
       "    </tr>\n",
       "    <tr>\n",
       "      <th>3DS</th>\n",
       "      <td>254</td>\n",
       "      <td>24.58</td>\n",
       "    </tr>\n",
       "    <tr>\n",
       "      <th>PS4</th>\n",
       "      <td>254</td>\n",
       "      <td>33.04</td>\n",
       "    </tr>\n",
       "    <tr>\n",
       "      <th>PC</th>\n",
       "      <td>211</td>\n",
       "      <td>21.79</td>\n",
       "    </tr>\n",
       "  </tbody>\n",
       "</table>\n",
       "</div>"
      ],
      "text/plain": [
       "          count  sales\n",
       "platform              \n",
       "PSV         344  21.93\n",
       "PS3         284  33.00\n",
       "3DS         254  24.58\n",
       "PS4         254  33.04\n",
       "PC          211  21.79"
      ]
     },
     "execution_count": 48,
     "metadata": {},
     "output_type": "execute_result"
    }
   ],
   "source": [
    "# total sales by user score 'to be determined' pivot table (year>2011)\n",
    "tbd = df2.query('user_score==-5')\n",
    "tbd_pivot = pd.pivot_table(df2, index='platform',values=['total_sales'], \n",
    "                    aggfunc=['count','sum'])\n",
    "tbd_pivot.columns=['count','sales']\n",
    "tbd_pivot.sort_values(by='count',ascending=False).head(5) "
   ]
  },
  {
   "cell_type": "markdown",
   "id": "2af7eafa",
   "metadata": {},
   "source": [
    "**Pivot Table Data**\n",
    "\n",
    "Pivot tables above showed the total sales and count (from year 2012-2016) per platform on each region, North American, Japan, Europe, and Others. Each tabales region are followed by total sales and count per Games genre pivot table to determined how genre affect the sales for each region. The last group of tables showed the overall sales and count per platform and per genre from all regions. "
   ]
  },
  {
   "cell_type": "markdown",
   "id": "bf151630",
   "metadata": {},
   "source": [
    "#### Pivot Data Plot"
   ]
  },
  {
   "cell_type": "code",
   "execution_count": 49,
   "id": "18ef94e6",
   "metadata": {},
   "outputs": [],
   "source": [
    "# Get dataframe name\n",
    "def retrieve_name(var):\n",
    "        \"\"\"\n",
    "        Gets the name of var. Does it from the out most frame inner-wards.\n",
    "        :param var: variable to get name from.\n",
    "        :return: string\n",
    "        \"\"\"\n",
    "        for fi in reversed(inspect.stack()):\n",
    "            names = [var_name for var_name, var_val in fi.frame.f_locals.items() if var_val is var]\n",
    "            if len(names) > 0:\n",
    "                return names[0]"
   ]
  },
  {
   "cell_type": "code",
   "execution_count": 50,
   "id": "2dad66db",
   "metadata": {
    "scrolled": false
   },
   "outputs": [
    {
     "data": {
      "image/png": "[encoded data removed]",
      "text/plain": [
       "<Figure size 576x504 with 1 Axes>"
      ]
     },
     "metadata": {
      "needs_background": "light"
     },
     "output_type": "display_data"
    },
    {
     "data": {
      "image/png": "[encoded data removed]",
      "text/plain": [
       "<Figure size 576x504 with 1 Axes>"
      ]
     },
     "metadata": {
      "needs_background": "light"
     },
     "output_type": "display_data"
    },
    {
     "data": {
      "image/png": "[encoded data removed]",
      "text/plain": [
       "<Figure size 576x504 with 1 Axes>"
      ]
     },
     "metadata": {
      "needs_background": "light"
     },
     "output_type": "display_data"
    },
    {
     "data": {
      "image/png": "[encoded data removed]",
      "text/plain": [
       "<Figure size 576x504 with 1 Axes>"
      ]
     },
     "metadata": {
      "needs_background": "light"
     },
     "output_type": "display_data"
    },
    {
     "data": {
      "image/png": "[encoded data removed]",
      "text/plain": [
       "<Figure size 576x504 with 1 Axes>"
      ]
     },
     "metadata": {
      "needs_background": "light"
     },
     "output_type": "display_data"
    },
    {
     "data": {
      "image/png": "[encoded data removed]",
      "text/plain": [
       "<Figure size 576x504 with 1 Axes>"
      ]
     },
     "metadata": {
      "needs_background": "light"
     },
     "output_type": "display_data"
    },
    {
     "data": {
      "image/png": "[encoded data removed]",
      "text/plain": [
       "<Figure size 576x504 with 1 Axes>"
      ]
     },
     "metadata": {
      "needs_background": "light"
     },
     "output_type": "display_data"
    },
    {
     "data": {
      "image/png": "[encoded data removed]",
      "text/plain": [
       "<Figure size 576x504 with 1 Axes>"
      ]
     },
     "metadata": {
      "needs_background": "light"
     },
     "output_type": "display_data"
    }
   ],
   "source": [
    "# Pivot table sales ranking bar plot\n",
    "pivotlist=[na_platform,na_genre,jp_platform,jp_genre,eu_platform,eu_genre,total_platform,total_genre]\n",
    "for i in pivotlist:\n",
    "    plt.subplots(figsize=(8,7))\n",
    "    sns.barplot(x=i.index, order=i.sort_values('sales',ascending=False).index\n",
    "                ,y=\"sales\", data=i).set(title=f'{retrieve_name(i).upper()} Sales Rank Distribution')\n",
    "    plt.xticks(rotation=90)"
   ]
  },
  {
   "cell_type": "markdown",
   "id": "b5c64528",
   "metadata": {},
   "source": [
    "**Pivot Data Plot**\n",
    "\n",
    "Bar plot above are data from pivot tables to provide better visualization on each pivot tables. They are total sales from from each region per platforms, totals per genre from each region, overall data from all regions which are North America, Japan, Europe, and others. \n",
    "\n",
    "Both Xbox platforms games are popular in North America region, with Action genre games followed by shooter and sports genre game. \n",
    "\n",
    "Japan region showed different outcome on platforms, they have PSV and Nitendo 3DS top the platform charts, with Action genre games followed by role playing genre games.\n",
    "\n",
    "Europe region are more popular Xbox 360 followed by PC platforms. Europe games genre of choice are very similar to North America which is Action games follow by shooter and sports games. \n",
    "\n",
    "Overall total sales Xbox 360 topped the chart due to the data sliced from 2012 to 2016. Action genre games still the most favorable choice on every regions. "
   ]
  },
  {
   "cell_type": "markdown",
   "id": "f99ca02a",
   "metadata": {},
   "source": [
    "### Top Platforms"
   ]
  },
  {
   "cell_type": "code",
   "execution_count": 51,
   "id": "6f10ccfa",
   "metadata": {
    "scrolled": false
   },
   "outputs": [],
   "source": [
    "# Dataframe for individual platform from df2\n",
    "x360 = df2.query('platform==\"X360\"')\n",
    "ps3 = df2.query('platform==\"PS3\"')\n",
    "xone = df2.query('platform==\"XOne\"')\n",
    "ps4 = df2.query('platform==\"PS4\"')\n",
    "df_platforms=df[df.platform.isin(['PS2', 'X360','PS3'])]"
   ]
  },
  {
   "cell_type": "code",
   "execution_count": 52,
   "id": "5e2c27e9",
   "metadata": {
    "scrolled": false
   },
   "outputs": [
    {
     "data": {
      "image/png": "[encoded data removed]",
      "text/plain": [
       "<Figure size 576x504 with 1 Axes>"
      ]
     },
     "metadata": {
      "needs_background": "light"
     },
     "output_type": "display_data"
    },
    {
     "data": {
      "image/png": "[encoded data removed]",
      "text/plain": [
       "<Figure size 576x504 with 1 Axes>"
      ]
     },
     "metadata": {
      "needs_background": "light"
     },
     "output_type": "display_data"
    },
    {
     "data": {
      "image/png": "[encoded data removed]",
      "text/plain": [
       "<Figure size 576x504 with 1 Axes>"
      ]
     },
     "metadata": {
      "needs_background": "light"
     },
     "output_type": "display_data"
    },
    {
     "data": {
      "image/png": "[encoded data removed]",
      "text/plain": [
       "<Figure size 576x504 with 1 Axes>"
      ]
     },
     "metadata": {
      "needs_background": "light"
     },
     "output_type": "display_data"
    }
   ],
   "source": [
    "# Years of release games per platform histogram\n",
    "histlist=[x360,ps3,xone,ps4]\n",
    "for j in histlist:\n",
    "    plt.subplots(figsize=(8,7))\n",
    "    sns.histplot(data=j,x='year_of_release',bins=5).set(title=f'{retrieve_name(j).upper()} Sales per Year');"
   ]
  },
  {
   "cell_type": "code",
   "execution_count": 53,
   "id": "bffb04da",
   "metadata": {},
   "outputs": [
    {
     "data": {
      "image/png": "[encoded data removed]",
      "text/plain": [
       "<Figure size 576x504 with 1 Axes>"
      ]
     },
     "metadata": {
      "needs_background": "light"
     },
     "output_type": "display_data"
    }
   ],
   "source": [
    "# Histogram for top 3 sales platform per year\n",
    "df_platforms=df2[df2.platform.isin(['X360','PS3','XOne','PS4'])]\n",
    "plt.subplots(figsize=(8,7))\n",
    "sns.kdeplot(data=df_platforms, x=\"year_of_release\",hue='platform').set(title='Top Platforms from Year 2012 to 2016');"
   ]
  },
  {
   "cell_type": "markdown",
   "id": "7c0e9516",
   "metadata": {},
   "source": [
    "**Top Platforms**\n",
    "\n",
    "Above charts present distribution of top performing platforms per year from each and ovrall regions. The top performing platforms are Xbox 360, Xbox One, Playstation 3 and Playstation 4. \n",
    "\n",
    "The histograme showed how olderr platform games (Xbox 360 and PS3) sales declines as newer platform games (PS4 and Xbox ONE) emerged to the market. This showed how the relevancy of platform games only lasted 3-4years. \n",
    "\n",
    "The last KDE chart showed how those platform perform per year. Most of them peak on the third year of release and started to decline as newer platform emerged to the market (PS4, XOne)"
   ]
  },
  {
   "cell_type": "markdown",
   "id": "4c2568af",
   "metadata": {},
   "source": [
    "### Boxplot distribution"
   ]
  },
  {
   "cell_type": "code",
   "execution_count": 54,
   "id": "53a99dde",
   "metadata": {
    "scrolled": false
   },
   "outputs": [
    {
     "data": {
      "image/png": "[encoded data removed]",
      "text/plain": [
       "<Figure size 576x504 with 1 Axes>"
      ]
     },
     "metadata": {
      "needs_background": "light"
     },
     "output_type": "display_data"
    },
    {
     "data": {
      "image/png": "[encoded data removed]",
      "text/plain": [
       "<Figure size 576x504 with 1 Axes>"
      ]
     },
     "metadata": {
      "needs_background": "light"
     },
     "output_type": "display_data"
    },
    {
     "data": {
      "image/png": "[encoded data removed]",
      "text/plain": [
       "<Figure size 576x504 with 1 Axes>"
      ]
     },
     "metadata": {
      "needs_background": "light"
     },
     "output_type": "display_data"
    }
   ],
   "source": [
    "# Box plot distribution from df2\n",
    "boxplotlist=['platform','genre','rating']\n",
    "for k in boxplotlist:\n",
    "    plt.figure(figsize=(8,7))\n",
    "    sns.boxplot(x=k, y='total_sales',data=df2).set(title=f'{k.capitalize()} Boxplot Global Sales')\n",
    "    plt.xticks(rotation=90)"
   ]
  },
  {
   "cell_type": "markdown",
   "id": "ed4cc63e",
   "metadata": {},
   "source": [
    "**Boxplot Distribution**\n",
    "\n",
    "Boxplot distribution above showed the total sales data for each platform, genre, and rating from year 2012 to 2016. Xbox 360 has the highest mean sales followed by Xbox one and Wii Ultimate compared to other platforms. Older platform like PSP, nitendo DS, and Wii average sales are around the bottom during 2012 to 2016 year period.\n",
    "\n",
    "Second boxplot distribution showed Action genre games has the highes average sales in 2012 to 2016 year period, puzzle and adventure games are at the bottom of the distribution.\n",
    "\n",
    "Third boxplot distribution showed rating M and E10+ have very similar distribution, and rating T and E in another similar distribution."
   ]
  },
  {
   "cell_type": "markdown",
   "id": "4346841e",
   "metadata": {},
   "source": [
    "<font color='#32cd32'><b><u> Reviewer Comment. v. 2 </u></b></font>\n",
    "\n",
    "<div class=\"alert alert-success\" >\n",
    "    \n",
    "    \n",
    "**Success:** \n",
    "    \n",
    "Okay, good charts and findings!\n",
    "\n",
    "</div>"
   ]
  },
  {
   "cell_type": "markdown",
   "id": "e875e6ca",
   "metadata": {},
   "source": [
    "### Scatterplot distribution"
   ]
  },
  {
   "cell_type": "code",
   "execution_count": 55,
   "id": "3cebcf75",
   "metadata": {
    "scrolled": false
   },
   "outputs": [
    {
     "data": {
      "image/png": "[encoded data removed]",
      "text/plain": [
       "<Figure size 576x504 with 1 Axes>"
      ]
     },
     "metadata": {
      "needs_background": "light"
     },
     "output_type": "display_data"
    }
   ],
   "source": [
    "# User rating vs Total sales scatter plot\n",
    "scatter_us=df2.query('user_score>0')\n",
    "plt.figure(figsize=(8,7))\n",
    "sns.scatterplot(data=scatter_us,x='user_score', y='total_sales', alpha=.75).set(title='Scatterplot between user_score vs total_sales');"
   ]
  },
  {
   "cell_type": "code",
   "execution_count": 56,
   "id": "c62fd46c",
   "metadata": {
    "scrolled": false
   },
   "outputs": [
    {
     "data": {
      "image/png": "[encoded data removed]",
      "text/plain": [
       "<Figure size 576x504 with 1 Axes>"
      ]
     },
     "metadata": {
      "needs_background": "light"
     },
     "output_type": "display_data"
    }
   ],
   "source": [
    "# Critic score vs Total Sales scatter plot\n",
    "scatter_cs=df2.query('critic_score>0')\n",
    "plt.figure(figsize=(8,7))\n",
    "sns.scatterplot(data=scatter_cs,x='critic_score', y='total_sales', alpha=.75).set(title='Scatterplot between critic_score vs total_sales');"
   ]
  },
  {
   "cell_type": "markdown",
   "id": "012135cd",
   "metadata": {},
   "source": [
    "**Scatterplot Distribution**\n",
    "\n",
    "Scatterplot showed that average sales of the games concerntrated between rating 6 to 8. The distribution seems pretty scatter, and non relevant. It showed hardly any correlation between the two. \n",
    "\n",
    "Simlar with critic score vs total sales scatter plot. Most of the games sales have the Critic score concerntrated between 60 to 80. The distribution seems scatter, and non relevant. It showed hardly any correlation between the two. "
   ]
  },
  {
   "cell_type": "markdown",
   "id": "ec40dbc9",
   "metadata": {},
   "source": [
    "## Statistical Data Analysis"
   ]
  },
  {
   "cell_type": "markdown",
   "id": "1393ed44",
   "metadata": {},
   "source": [
    "### Xbox one and PC Platforms"
   ]
  },
  {
   "cell_type": "markdown",
   "id": "9500dfc9",
   "metadata": {},
   "source": [
    "- **H0:** Average user ratings of the Xbox One and PC platforms are the same.\n",
    "- **H1:** Average user ratings of the Xbox One and PC platforms are not the same."
   ]
  },
  {
   "cell_type": "code",
   "execution_count": 57,
   "id": "d4792312",
   "metadata": {},
   "outputs": [
    {
     "data": {
      "text/html": [
       "<div>\n",
       "<style scoped>\n",
       "    .dataframe tbody tr th:only-of-type {\n",
       "        vertical-align: middle;\n",
       "    }\n",
       "\n",
       "    .dataframe tbody tr th {\n",
       "        vertical-align: top;\n",
       "    }\n",
       "\n",
       "    .dataframe thead th {\n",
       "        text-align: right;\n",
       "    }\n",
       "</style>\n",
       "<table border=\"1\" class=\"dataframe\">\n",
       "  <thead>\n",
       "    <tr style=\"text-align: right;\">\n",
       "      <th>platform</th>\n",
       "      <th>PC</th>\n",
       "      <th>XOne</th>\n",
       "    </tr>\n",
       "  </thead>\n",
       "  <tbody>\n",
       "    <tr>\n",
       "      <th>year_of_release</th>\n",
       "      <td>2014.12</td>\n",
       "      <td>2015.11</td>\n",
       "    </tr>\n",
       "    <tr>\n",
       "      <th>na_sales</th>\n",
       "      <td>0.03</td>\n",
       "      <td>0.12</td>\n",
       "    </tr>\n",
       "    <tr>\n",
       "      <th>eu_sales</th>\n",
       "      <td>0.07</td>\n",
       "      <td>0.07</td>\n",
       "    </tr>\n",
       "    <tr>\n",
       "      <th>jp_sales</th>\n",
       "      <td>0.00</td>\n",
       "      <td>0.00</td>\n",
       "    </tr>\n",
       "    <tr>\n",
       "      <th>other_sales</th>\n",
       "      <td>0.01</td>\n",
       "      <td>0.02</td>\n",
       "    </tr>\n",
       "    <tr>\n",
       "      <th>critic_score</th>\n",
       "      <td>70.55</td>\n",
       "      <td>61.53</td>\n",
       "    </tr>\n",
       "    <tr>\n",
       "      <th>user_score</th>\n",
       "      <td>6.45</td>\n",
       "      <td>6.55</td>\n",
       "    </tr>\n",
       "    <tr>\n",
       "      <th>total_sales</th>\n",
       "      <td>0.11</td>\n",
       "      <td>0.21</td>\n",
       "    </tr>\n",
       "  </tbody>\n",
       "</table>\n",
       "</div>"
      ],
      "text/plain": [
       "platform              PC     XOne\n",
       "year_of_release  2014.12  2015.11\n",
       "na_sales            0.03     0.12\n",
       "eu_sales            0.07     0.07\n",
       "jp_sales            0.00     0.00\n",
       "other_sales         0.01     0.02\n",
       "critic_score       70.55    61.53\n",
       "user_score          6.45     6.55\n",
       "total_sales         0.11     0.21"
      ]
     },
     "execution_count": 57,
     "metadata": {},
     "output_type": "execute_result"
    }
   ],
   "source": [
    "# PC and XOne Dataframe\n",
    "df_x1_pc=df2[df2.platform.isin(['XOne', 'PC'])].query('user_score>0')\n",
    "# Descriptive Statistics\n",
    "df_x1_pc.groupby(['platform']).mean().T.round(2)"
   ]
  },
  {
   "cell_type": "code",
   "execution_count": 58,
   "id": "92e4a3e5",
   "metadata": {},
   "outputs": [],
   "source": [
    "# Creating xone and pc samples for hypotheses testing\n",
    "x1=df2.query('platform==\"XOne\"')\n",
    "pc=df2.query('platform==\"PC\"')\n",
    "s1_x1=x1['user_score'][x1['user_score']>0]\n",
    "s1_pc=pc['user_score'][pc['user_score']>0]"
   ]
  },
  {
   "cell_type": "code",
   "execution_count": 59,
   "id": "24e8b713",
   "metadata": {},
   "outputs": [],
   "source": [
    "# T test function for null hypotheses testing.\n",
    "def t_test(sample1,sample2,alpha= 0.05):\n",
    "    p_value=st.ttest_ind(sample1, sample2,nan_policy='omit').pvalue\n",
    "    print('p_value =',p_value)\n",
    "    if p_value<alpha:\n",
    "        print('Reject H0: average of sample 1 is not equal to average of sample 2')\n",
    "    else:\n",
    "        print( \"Accept H0: We don't have enough evidence to say that averages of sample 1 and\\\n",
    " sample 2 are not the same\")"
   ]
  },
  {
   "cell_type": "code",
   "execution_count": 60,
   "id": "bdd465c2",
   "metadata": {},
   "outputs": [
    {
     "name": "stdout",
     "output_type": "stream",
     "text": [
      "p_value = 0.5887185361317411\n",
      "Accept H0: We don't have enough evidence to say that averages of sample 1 and sample 2 are not the same\n"
     ]
    }
   ],
   "source": [
    "# User's rating T test\n",
    "t_test(s1_x1,s1_pc,alpha=0.05)"
   ]
  },
  {
   "cell_type": "markdown",
   "id": "edd166f5",
   "metadata": {},
   "source": [
    "- **H0:** Average critic score of the Xbox One and PC platforms are the same.\n",
    "- **H1:** Average critic score of the Xbox One and PC platforms are not the same."
   ]
  },
  {
   "cell_type": "code",
   "execution_count": 61,
   "id": "64c4697f",
   "metadata": {},
   "outputs": [
    {
     "name": "stdout",
     "output_type": "stream",
     "text": [
      "p_value = 0.0006688672125790443\n",
      "Reject H0: average of sample 1 is not equal to average of sample 2\n"
     ]
    }
   ],
   "source": [
    "# Critic's score sample for hypotheses testing\n",
    "s2_x1=x1['critic_score'][x1['critic_score']>0]\n",
    "s2_pc=pc['critic_score'][pc['critic_score']>0]\n",
    "t_test(s2_x1,s2_pc,alpha=0.05)"
   ]
  },
  {
   "cell_type": "markdown",
   "id": "c75814d8",
   "metadata": {},
   "source": [
    "### Actions and Sports Genre"
   ]
  },
  {
   "cell_type": "markdown",
   "id": "97d59181",
   "metadata": {},
   "source": [
    "- **H0:** Average user ratings of the Action and Sports genres are the same.\n",
    "- **H1:** Average user ratings for the Action and Sports genres are different."
   ]
  },
  {
   "cell_type": "code",
   "execution_count": 62,
   "id": "d2676d92",
   "metadata": {},
   "outputs": [
    {
     "data": {
      "text/html": [
       "<div>\n",
       "<style scoped>\n",
       "    .dataframe tbody tr th:only-of-type {\n",
       "        vertical-align: middle;\n",
       "    }\n",
       "\n",
       "    .dataframe tbody tr th {\n",
       "        vertical-align: top;\n",
       "    }\n",
       "\n",
       "    .dataframe thead th {\n",
       "        text-align: right;\n",
       "    }\n",
       "</style>\n",
       "<table border=\"1\" class=\"dataframe\">\n",
       "  <thead>\n",
       "    <tr style=\"text-align: right;\">\n",
       "      <th>genre</th>\n",
       "      <th>Action</th>\n",
       "      <th>Sports</th>\n",
       "    </tr>\n",
       "  </thead>\n",
       "  <tbody>\n",
       "    <tr>\n",
       "      <th>year_of_release</th>\n",
       "      <td>2014.10</td>\n",
       "      <td>2014.26</td>\n",
       "    </tr>\n",
       "    <tr>\n",
       "      <th>na_sales</th>\n",
       "      <td>0.09</td>\n",
       "      <td>0.11</td>\n",
       "    </tr>\n",
       "    <tr>\n",
       "      <th>eu_sales</th>\n",
       "      <td>0.07</td>\n",
       "      <td>0.06</td>\n",
       "    </tr>\n",
       "    <tr>\n",
       "      <th>jp_sales</th>\n",
       "      <td>0.01</td>\n",
       "      <td>0.00</td>\n",
       "    </tr>\n",
       "    <tr>\n",
       "      <th>other_sales</th>\n",
       "      <td>0.02</td>\n",
       "      <td>0.02</td>\n",
       "    </tr>\n",
       "    <tr>\n",
       "      <th>critic_score</th>\n",
       "      <td>55.12</td>\n",
       "      <td>46.07</td>\n",
       "    </tr>\n",
       "    <tr>\n",
       "      <th>user_score</th>\n",
       "      <td>6.76</td>\n",
       "      <td>5.28</td>\n",
       "    </tr>\n",
       "    <tr>\n",
       "      <th>total_sales</th>\n",
       "      <td>0.19</td>\n",
       "      <td>0.20</td>\n",
       "    </tr>\n",
       "  </tbody>\n",
       "</table>\n",
       "</div>"
      ],
      "text/plain": [
       "genre             Action   Sports\n",
       "year_of_release  2014.10  2014.26\n",
       "na_sales            0.09     0.11\n",
       "eu_sales            0.07     0.06\n",
       "jp_sales            0.01     0.00\n",
       "other_sales         0.02     0.02\n",
       "critic_score       55.12    46.07\n",
       "user_score          6.76     5.28\n",
       "total_sales         0.19     0.20"
      ]
     },
     "execution_count": 62,
     "metadata": {},
     "output_type": "execute_result"
    }
   ],
   "source": [
    "# Action and Sports Dataframe\n",
    "action_sport=df2[df2.genre.isin(['Action', 'Sports'])].query('user_score>0')\n",
    "action_sport.groupby(['genre']).mean().T.round(2)"
   ]
  },
  {
   "cell_type": "code",
   "execution_count": 63,
   "id": "6b2ce58d",
   "metadata": {},
   "outputs": [
    {
     "name": "stdout",
     "output_type": "stream",
     "text": [
      "p_value = 5.294156090284762e-17\n",
      "Reject H0: average of sample 1 is not equal to average of sample 2\n"
     ]
    }
   ],
   "source": [
    "# Action and Sports infividual dataframe for Null Hypotheses testing on user's rating\n",
    "action=df2.query('genre==\"Action\"')\n",
    "sports=df2.query('genre==\"Sports\"')\n",
    "s1_action=action['user_score'][action['user_score']>0]\n",
    "s1_sports=sports['user_score'][sports['user_score']>0]\n",
    "t_test(s1_action,s1_sports,alpha=0.05)"
   ]
  },
  {
   "cell_type": "markdown",
   "id": "51e34856",
   "metadata": {},
   "source": [
    "- **H0:** Average critic score of the Xbox One and PC platforms are the same.\n",
    "- **H1:** Average critic score for the Action and Sports genres are different."
   ]
  },
  {
   "cell_type": "code",
   "execution_count": 64,
   "id": "63ed23ee",
   "metadata": {},
   "outputs": [
    {
     "name": "stdout",
     "output_type": "stream",
     "text": [
      "p_value = 0.1470791773136354\n",
      "Accept H0: We don't have enough evidence to say that averages of sample 1 and sample 2 are not the same\n"
     ]
    }
   ],
   "source": [
    "# Null Hypotheses testing on Critic score\n",
    "s2_action=action['critic_score'][action['critic_score']>0]\n",
    "s2_sports=sports['critic_score'][sports['critic_score']>0]\n",
    "t_test(s2_action,s2_sports,alpha=0.05)"
   ]
  },
  {
   "cell_type": "markdown",
   "id": "288f0abb",
   "metadata": {},
   "source": [
    "**Statistical Data Analysis:**\n",
    "   - Average user_score and critic_score showed variance between platform XOne and PC.\n",
    "   - User_score: Ttest results Accept H0: Average user ratings of the Xbox One and PC platforms are close to the same.\n",
    "   - Critic_score: Ttest results rejects H0: Average critic ratings of the Xbox One and PC platforms are not the same.\n",
    "   \n",
    "   \n",
    "   - Average user_score show little variancve between action and sports genre games.\n",
    "   - User_score: Ttest results Reject H0: Average user ratings of the Action and Sports genres are not the same.\n",
    "   - Critic_score: Ttest results Accept H0: Average critic ratings of the Action and Sports genres are close the same."
   ]
  },
  {
   "cell_type": "markdown",
   "id": "2ba19d2c",
   "metadata": {},
   "source": [
    "## General Conclusions"
   ]
  },
  {
   "cell_type": "markdown",
   "id": "c395df7a",
   "metadata": {},
   "source": [
    "**Data Analysis:**\n",
    "   - Platform distribution plot showed that PS2 and Nitendo DS have the highest count in overall dataframe.\n",
    "   - Action games have the highest count in overall distribution follow by sports game.\n",
    "   - Games release peaked between year 2008 and 2009.\n",
    "   - In the data correlation, North America ranked the highest correlation to total_sales follow by sales from europe, other, then lastly, japan.\n",
    "   \n",
    "  \n",
    "   *Data Analysis below are from year period 2012 to 2016:*\n",
    "   \n",
    "   - Both Xbox platforms and action games genre showed the highest sales in North American region.\n",
    "   - Japan region showed different results, which most of the sales are from handheld console, PSV and 3DS, with Action and Role playing genre games top the sales.\n",
    "   - Europe region sales showed pretty simlar results to North American region, platforms topped with X360 and genre top with Action and followed by shooter games. PC games platform seem very popular in Europe region compared to all other gaming platforms at other region.\n",
    "   - Action games have the highest sales from all regions.\n",
    "   - PS2 games release peak at year 2002 through 2006, after year 2006, it started to lower due to the released of new platforms to the market which PS3 and X360. \n",
    "   - Both PS3 and X360 have similar distribution on years release. Both PS3 and X360 peaked at 2011 and 2012, and then started to decline.\n",
    "   - Both PS4 and XOne have similar distribution on years peaking at 2016.\n",
    "   - In boxplot distribution, platform X360 showed the highest mean/average total sales among all the platforms followed by platforms XOne and WiiU.\n",
    "   - Action genre games no doubt showed the highest mean/average total sales compared to other genre games.\n",
    "   - Muture (M) and Everyone 10+(E10+)rating games showed the highest average in total sales from boxplot distribution."
   ]
  },
  {
   "cell_type": "markdown",
   "id": "3a6a414e",
   "metadata": {},
   "source": [
    "**Conlusion**\n",
    "\n",
    "Overall, for 2017 advertising campaigns plan, I would suggest ICE Online store to have different advertising campaigns on different between different regions. I would suggest focus advertising campaigns on Xbox One and Playstation 4 platforms games on North American Regions with Action and Shooter genre games. Handheld console game like Nitendo switch (coming soon), PSV, and 3DS with Action and Role playing genre games. For Europe region I would focus advertising PC, Xbox, and  Playstaion platform games with Actions and Shooter genre game. \n",
    "\n",
    "Typical console market last about 3-4 years before it gets outsales by newer emerged gaming platforms, so ICE should always focus their advertising campaign on newer console like Xbox One, Playstaion 4, or Nitendo Switch, and always plan ahead for advertising campaigns on upcoming newer console before it gets release to the market."
   ]
  }
 ],
 "metadata": {
  "ExecuteTimeLog": [
   {
    "duration": 91,
    "start_time": "2022-01-09T08:52:39.431Z"
   },
   {
    "duration": 302,
    "start_time": "2022-01-09T08:52:48.706Z"
   },
   {
    "duration": 410,
    "start_time": "2022-01-12T05:08:45.723Z"
   },
   {
    "duration": 4724,
    "start_time": "2022-01-12T05:08:52.661Z"
   },
   {
    "duration": 1400,
    "start_time": "2022-01-12T05:08:57.388Z"
   },
   {
    "duration": 285,
    "start_time": "2022-01-12T05:08:58.791Z"
   },
   {
    "duration": 22,
    "start_time": "2022-01-12T05:08:59.078Z"
   },
   {
    "duration": 4,
    "start_time": "2022-01-12T05:08:59.103Z"
   },
   {
    "duration": 15,
    "start_time": "2022-01-12T05:08:59.109Z"
   },
   {
    "duration": 62,
    "start_time": "2022-01-12T05:08:59.127Z"
   },
   {
    "duration": 11,
    "start_time": "2022-01-12T05:08:59.193Z"
   },
   {
    "duration": 52,
    "start_time": "2022-01-12T05:08:59.207Z"
   },
   {
    "duration": 11,
    "start_time": "2022-01-12T05:08:59.261Z"
   },
   {
    "duration": 6024,
    "start_time": "2022-01-12T05:08:59.275Z"
   },
   {
    "duration": 6,
    "start_time": "2022-01-12T05:09:05.302Z"
   },
   {
    "duration": 17,
    "start_time": "2022-01-12T05:09:05.310Z"
   },
   {
    "duration": 34,
    "start_time": "2022-01-12T05:09:05.330Z"
   },
   {
    "duration": 8946,
    "start_time": "2022-01-12T05:09:05.367Z"
   },
   {
    "duration": 7,
    "start_time": "2022-01-12T05:09:14.315Z"
   },
   {
    "duration": 7,
    "start_time": "2022-01-12T05:09:14.324Z"
   },
   {
    "duration": 44,
    "start_time": "2022-01-12T05:09:14.333Z"
   },
   {
    "duration": 4,
    "start_time": "2022-01-12T05:09:14.380Z"
   },
   {
    "duration": 11,
    "start_time": "2022-01-12T05:09:14.387Z"
   },
   {
    "duration": 8,
    "start_time": "2022-01-12T05:09:14.401Z"
   },
   {
    "duration": 10,
    "start_time": "2022-01-12T05:09:14.411Z"
   },
   {
    "duration": 12,
    "start_time": "2022-01-12T05:09:14.460Z"
   },
   {
    "duration": 18,
    "start_time": "2022-01-12T05:09:14.475Z"
   },
   {
    "duration": 12,
    "start_time": "2022-01-12T05:09:14.496Z"
   },
   {
    "duration": 61,
    "start_time": "2022-01-12T05:09:14.510Z"
   },
   {
    "duration": 571,
    "start_time": "2022-01-12T05:09:14.574Z"
   },
   {
    "duration": 391,
    "start_time": "2022-01-12T05:09:15.148Z"
   },
   {
    "duration": 527,
    "start_time": "2022-01-12T05:09:15.542Z"
   },
   {
    "duration": 354,
    "start_time": "2022-01-12T05:09:16.072Z"
   },
   {
    "duration": 6,
    "start_time": "2022-01-12T05:09:16.429Z"
   },
   {
    "duration": 985,
    "start_time": "2022-01-12T05:09:16.439Z"
   },
   {
    "duration": 91,
    "start_time": "2022-01-12T05:09:17.428Z"
   },
   {
    "duration": 91,
    "start_time": "2022-01-12T05:09:17.522Z"
   },
   {
    "duration": 981,
    "start_time": "2022-01-12T05:09:17.616Z"
   },
   {
    "duration": 23,
    "start_time": "2022-01-12T05:09:18.599Z"
   },
   {
    "duration": 6,
    "start_time": "2022-01-12T05:09:18.624Z"
   },
   {
    "duration": 8,
    "start_time": "2022-01-12T05:09:18.659Z"
   },
   {
    "duration": 21,
    "start_time": "2022-01-12T05:09:18.669Z"
   },
   {
    "duration": 29,
    "start_time": "2022-01-12T05:09:18.692Z"
   },
   {
    "duration": 61,
    "start_time": "2022-01-12T05:09:18.723Z"
   },
   {
    "duration": 27,
    "start_time": "2022-01-12T05:09:18.787Z"
   },
   {
    "duration": 58,
    "start_time": "2022-01-12T05:09:18.816Z"
   },
   {
    "duration": 27,
    "start_time": "2022-01-12T05:09:18.876Z"
   },
   {
    "duration": 58,
    "start_time": "2022-01-12T05:09:18.906Z"
   },
   {
    "duration": 31,
    "start_time": "2022-01-12T05:09:18.967Z"
   },
   {
    "duration": 27,
    "start_time": "2022-01-12T05:09:19.000Z"
   },
   {
    "duration": 57,
    "start_time": "2022-01-12T05:09:19.029Z"
   },
   {
    "duration": 32,
    "start_time": "2022-01-12T05:09:19.089Z"
   },
   {
    "duration": 9,
    "start_time": "2022-01-12T05:09:19.123Z"
   },
   {
    "duration": 10067,
    "start_time": "2022-01-12T05:09:19.160Z"
   },
   {
    "duration": 31,
    "start_time": "2022-01-12T05:09:29.230Z"
   },
   {
    "duration": 4703,
    "start_time": "2022-01-12T05:09:29.263Z"
   },
   {
    "duration": 512,
    "start_time": "2022-01-12T05:09:33.968Z"
   },
   {
    "duration": 1631,
    "start_time": "2022-01-12T05:09:34.482Z"
   },
   {
    "duration": 503,
    "start_time": "2022-01-12T05:09:36.115Z"
   },
   {
    "duration": 485,
    "start_time": "2022-01-12T05:09:36.620Z"
   },
   {
    "duration": 22,
    "start_time": "2022-01-12T05:09:37.107Z"
   },
   {
    "duration": 34,
    "start_time": "2022-01-12T05:09:37.132Z"
   },
   {
    "duration": 10,
    "start_time": "2022-01-12T05:09:37.168Z"
   },
   {
    "duration": 17,
    "start_time": "2022-01-12T05:09:37.180Z"
   },
   {
    "duration": 11,
    "start_time": "2022-01-12T05:09:37.200Z"
   },
   {
    "duration": 163,
    "start_time": "2022-01-12T05:09:37.213Z"
   },
   {
    "duration": 16,
    "start_time": "2022-01-12T05:09:37.379Z"
   },
   {
    "duration": 30,
    "start_time": "2022-01-12T05:09:37.397Z"
   },
   {
    "duration": 978,
    "start_time": "2022-01-12T05:10:54.685Z"
   },
   {
    "duration": 995,
    "start_time": "2022-01-12T05:11:45.722Z"
   },
   {
    "duration": 1109,
    "start_time": "2022-01-12T05:12:20.060Z"
   },
   {
    "duration": 1082,
    "start_time": "2022-01-12T05:12:55.142Z"
   },
   {
    "duration": 7,
    "start_time": "2022-01-12T05:14:04.344Z"
   },
   {
    "duration": 24,
    "start_time": "2022-01-12T05:14:06.368Z"
   },
   {
    "duration": 592,
    "start_time": "2022-01-12T05:14:12.356Z"
   },
   {
    "duration": 378,
    "start_time": "2022-01-12T05:14:12.950Z"
   },
   {
    "duration": 462,
    "start_time": "2022-01-12T05:14:13.332Z"
   },
   {
    "duration": 338,
    "start_time": "2022-01-12T05:14:13.796Z"
   },
   {
    "duration": 5,
    "start_time": "2022-01-12T05:14:14.136Z"
   },
   {
    "duration": 1095,
    "start_time": "2022-01-12T05:14:14.143Z"
   },
   {
    "duration": 83,
    "start_time": "2022-01-12T05:14:15.240Z"
   },
   {
    "duration": 96,
    "start_time": "2022-01-12T05:14:15.327Z"
   },
   {
    "duration": 1150,
    "start_time": "2022-01-12T05:14:15.426Z"
   },
   {
    "duration": 33,
    "start_time": "2022-01-12T05:14:16.579Z"
   },
   {
    "duration": 7,
    "start_time": "2022-01-12T05:14:16.615Z"
   },
   {
    "duration": 40,
    "start_time": "2022-01-12T05:14:16.625Z"
   },
   {
    "duration": 20,
    "start_time": "2022-01-12T05:14:16.668Z"
   },
   {
    "duration": 27,
    "start_time": "2022-01-12T05:14:16.691Z"
   },
   {
    "duration": 57,
    "start_time": "2022-01-12T05:14:16.720Z"
   },
   {
    "duration": 29,
    "start_time": "2022-01-12T05:14:16.779Z"
   },
   {
    "duration": 61,
    "start_time": "2022-01-12T05:14:16.810Z"
   },
   {
    "duration": 28,
    "start_time": "2022-01-12T05:14:16.873Z"
   },
   {
    "duration": 29,
    "start_time": "2022-01-12T05:14:16.904Z"
   },
   {
    "duration": 49,
    "start_time": "2022-01-12T05:14:16.936Z"
   },
   {
    "duration": 29,
    "start_time": "2022-01-12T05:14:16.988Z"
   },
   {
    "duration": 66,
    "start_time": "2022-01-12T05:14:17.019Z"
   },
   {
    "duration": 32,
    "start_time": "2022-01-12T05:14:17.090Z"
   },
   {
    "duration": 4,
    "start_time": "2022-01-12T05:14:17.125Z"
   },
   {
    "duration": 9371,
    "start_time": "2022-01-12T05:14:17.159Z"
   },
   {
    "duration": 29,
    "start_time": "2022-01-12T05:14:26.533Z"
   },
   {
    "duration": 4361,
    "start_time": "2022-01-12T05:14:26.565Z"
   },
   {
    "duration": 594,
    "start_time": "2022-01-12T05:14:30.928Z"
   },
   {
    "duration": 1538,
    "start_time": "2022-01-12T05:14:31.524Z"
   },
   {
    "duration": 439,
    "start_time": "2022-01-12T05:14:33.064Z"
   },
   {
    "duration": 468,
    "start_time": "2022-01-12T05:14:33.505Z"
   },
   {
    "duration": 22,
    "start_time": "2022-01-12T05:14:33.975Z"
   },
   {
    "duration": 14,
    "start_time": "2022-01-12T05:14:33.999Z"
   },
   {
    "duration": 13,
    "start_time": "2022-01-12T05:14:34.015Z"
   },
   {
    "duration": 30,
    "start_time": "2022-01-12T05:14:34.031Z"
   },
   {
    "duration": 9,
    "start_time": "2022-01-12T05:14:34.063Z"
   },
   {
    "duration": 21,
    "start_time": "2022-01-12T05:14:34.074Z"
   },
   {
    "duration": 16,
    "start_time": "2022-01-12T05:14:34.097Z"
   },
   {
    "duration": 46,
    "start_time": "2022-01-12T05:14:34.116Z"
   },
   {
    "duration": 6,
    "start_time": "2022-01-12T05:14:43.300Z"
   },
   {
    "duration": 427,
    "start_time": "2022-01-12T05:31:21.993Z"
   },
   {
    "duration": 478,
    "start_time": "2022-01-12T05:32:31.962Z"
   },
   {
    "duration": 197,
    "start_time": "2022-01-12T05:32:55.356Z"
   },
   {
    "duration": 517,
    "start_time": "2022-01-12T05:33:18.797Z"
   },
   {
    "duration": 452,
    "start_time": "2022-01-12T05:33:37.853Z"
   },
   {
    "duration": 430,
    "start_time": "2022-01-12T05:34:08.287Z"
   },
   {
    "duration": 3843,
    "start_time": "2022-01-12T05:38:05.878Z"
   },
   {
    "duration": 1469,
    "start_time": "2022-01-12T05:38:09.724Z"
   },
   {
    "duration": 284,
    "start_time": "2022-01-12T05:38:11.196Z"
   },
   {
    "duration": 23,
    "start_time": "2022-01-12T05:38:11.483Z"
   },
   {
    "duration": 8,
    "start_time": "2022-01-12T05:38:11.508Z"
   },
   {
    "duration": 13,
    "start_time": "2022-01-12T05:38:11.519Z"
   },
   {
    "duration": 62,
    "start_time": "2022-01-12T05:38:11.534Z"
   },
   {
    "duration": 11,
    "start_time": "2022-01-12T05:38:11.600Z"
   },
   {
    "duration": 55,
    "start_time": "2022-01-12T05:38:11.614Z"
   },
   {
    "duration": 10,
    "start_time": "2022-01-12T05:38:11.672Z"
   },
   {
    "duration": 6256,
    "start_time": "2022-01-12T05:38:11.684Z"
   },
   {
    "duration": 6,
    "start_time": "2022-01-12T05:38:17.942Z"
   },
   {
    "duration": 16,
    "start_time": "2022-01-12T05:38:17.951Z"
   },
   {
    "duration": 18,
    "start_time": "2022-01-12T05:38:17.969Z"
   },
   {
    "duration": 8773,
    "start_time": "2022-01-12T05:38:17.989Z"
   },
   {
    "duration": 7,
    "start_time": "2022-01-12T05:38:26.764Z"
   },
   {
    "duration": 9,
    "start_time": "2022-01-12T05:38:26.773Z"
   },
   {
    "duration": 26,
    "start_time": "2022-01-12T05:38:26.784Z"
   },
   {
    "duration": 5,
    "start_time": "2022-01-12T05:38:26.812Z"
   },
   {
    "duration": 43,
    "start_time": "2022-01-12T05:38:26.819Z"
   },
   {
    "duration": 9,
    "start_time": "2022-01-12T05:38:26.865Z"
   },
   {
    "duration": 8,
    "start_time": "2022-01-12T05:38:26.876Z"
   },
   {
    "duration": 12,
    "start_time": "2022-01-12T05:38:26.891Z"
   },
   {
    "duration": 54,
    "start_time": "2022-01-12T05:38:26.907Z"
   },
   {
    "duration": 7,
    "start_time": "2022-01-12T05:38:26.964Z"
   },
   {
    "duration": 26,
    "start_time": "2022-01-12T05:38:26.973Z"
   },
   {
    "duration": 604,
    "start_time": "2022-01-12T05:38:27.001Z"
   },
   {
    "duration": 443,
    "start_time": "2022-01-12T05:38:27.608Z"
   },
   {
    "duration": 526,
    "start_time": "2022-01-12T05:38:28.059Z"
   },
   {
    "duration": 343,
    "start_time": "2022-01-12T05:38:28.587Z"
   },
   {
    "duration": 5,
    "start_time": "2022-01-12T05:38:28.932Z"
   },
   {
    "duration": 1001,
    "start_time": "2022-01-12T05:38:28.939Z"
   },
   {
    "duration": 82,
    "start_time": "2022-01-12T05:38:29.942Z"
   },
   {
    "duration": 94,
    "start_time": "2022-01-12T05:38:30.027Z"
   },
   {
    "duration": 990,
    "start_time": "2022-01-12T05:38:30.123Z"
   },
   {
    "duration": 45,
    "start_time": "2022-01-12T05:38:31.115Z"
   },
   {
    "duration": 7,
    "start_time": "2022-01-12T05:38:31.162Z"
   },
   {
    "duration": 14,
    "start_time": "2022-01-12T05:38:31.172Z"
   },
   {
    "duration": 33,
    "start_time": "2022-01-12T05:38:31.188Z"
   },
   {
    "duration": 57,
    "start_time": "2022-01-12T05:38:31.224Z"
   },
   {
    "duration": 33,
    "start_time": "2022-01-12T05:38:31.283Z"
   },
   {
    "duration": 57,
    "start_time": "2022-01-12T05:38:31.318Z"
   },
   {
    "duration": 33,
    "start_time": "2022-01-12T05:38:31.378Z"
   },
   {
    "duration": 64,
    "start_time": "2022-01-12T05:38:31.413Z"
   },
   {
    "duration": 30,
    "start_time": "2022-01-12T05:38:31.479Z"
   },
   {
    "duration": 55,
    "start_time": "2022-01-12T05:38:31.512Z"
   },
   {
    "duration": 31,
    "start_time": "2022-01-12T05:38:31.570Z"
   },
   {
    "duration": 58,
    "start_time": "2022-01-12T05:38:31.603Z"
   },
   {
    "duration": 35,
    "start_time": "2022-01-12T05:38:31.663Z"
   },
   {
    "duration": 6,
    "start_time": "2022-01-12T05:38:31.701Z"
   },
   {
    "duration": 9413,
    "start_time": "2022-01-12T05:38:31.709Z"
   },
   {
    "duration": 34,
    "start_time": "2022-01-12T05:38:41.125Z"
   },
   {
    "duration": 4738,
    "start_time": "2022-01-12T05:38:41.162Z"
   },
   {
    "duration": 463,
    "start_time": "2022-01-12T05:38:45.902Z"
   },
   {
    "duration": 1592,
    "start_time": "2022-01-12T05:38:46.367Z"
   },
   {
    "duration": 455,
    "start_time": "2022-01-12T05:38:47.961Z"
   },
   {
    "duration": 472,
    "start_time": "2022-01-12T05:38:48.418Z"
   },
   {
    "duration": 24,
    "start_time": "2022-01-12T05:38:48.893Z"
   },
   {
    "duration": 39,
    "start_time": "2022-01-12T05:38:48.920Z"
   },
   {
    "duration": 7,
    "start_time": "2022-01-12T05:38:48.962Z"
   },
   {
    "duration": 9,
    "start_time": "2022-01-12T05:38:48.971Z"
   },
   {
    "duration": 11,
    "start_time": "2022-01-12T05:38:48.983Z"
   },
   {
    "duration": 177,
    "start_time": "2022-01-12T05:38:48.997Z"
   },
   {
    "duration": 18,
    "start_time": "2022-01-12T05:38:49.177Z"
   },
   {
    "duration": 10,
    "start_time": "2022-01-12T05:38:49.197Z"
   },
   {
    "duration": 1082,
    "start_time": "2022-01-12T05:42:52.727Z"
   },
   {
    "duration": 4046,
    "start_time": "2022-01-12T05:47:18.505Z"
   },
   {
    "duration": 1523,
    "start_time": "2022-01-12T05:47:22.554Z"
   },
   {
    "duration": 277,
    "start_time": "2022-01-12T05:47:24.080Z"
   },
   {
    "duration": 24,
    "start_time": "2022-01-12T05:47:24.360Z"
   },
   {
    "duration": 9,
    "start_time": "2022-01-12T05:47:24.387Z"
   },
   {
    "duration": 15,
    "start_time": "2022-01-12T05:47:24.399Z"
   },
   {
    "duration": 80,
    "start_time": "2022-01-12T05:47:24.418Z"
   },
   {
    "duration": 13,
    "start_time": "2022-01-12T05:47:24.504Z"
   },
   {
    "duration": 53,
    "start_time": "2022-01-12T05:47:24.520Z"
   },
   {
    "duration": 10,
    "start_time": "2022-01-12T05:47:24.575Z"
   },
   {
    "duration": 6332,
    "start_time": "2022-01-12T05:47:24.588Z"
   },
   {
    "duration": 8,
    "start_time": "2022-01-12T05:47:30.923Z"
   },
   {
    "duration": 33,
    "start_time": "2022-01-12T05:47:30.934Z"
   },
   {
    "duration": 25,
    "start_time": "2022-01-12T05:47:30.970Z"
   },
   {
    "duration": 13003,
    "start_time": "2022-01-12T05:47:30.998Z"
   },
   {
    "duration": 9,
    "start_time": "2022-01-12T05:47:44.004Z"
   },
   {
    "duration": 12,
    "start_time": "2022-01-12T05:47:44.017Z"
   },
   {
    "duration": 56,
    "start_time": "2022-01-12T05:47:44.032Z"
   },
   {
    "duration": 5,
    "start_time": "2022-01-12T05:47:44.091Z"
   },
   {
    "duration": 13,
    "start_time": "2022-01-12T05:47:44.099Z"
   },
   {
    "duration": 6,
    "start_time": "2022-01-12T05:47:44.114Z"
   },
   {
    "duration": 40,
    "start_time": "2022-01-12T05:47:44.122Z"
   },
   {
    "duration": 14,
    "start_time": "2022-01-12T05:47:44.169Z"
   },
   {
    "duration": 20,
    "start_time": "2022-01-12T05:47:44.187Z"
   },
   {
    "duration": 9,
    "start_time": "2022-01-12T05:47:44.210Z"
   },
   {
    "duration": 63,
    "start_time": "2022-01-12T05:47:44.222Z"
   },
   {
    "duration": 664,
    "start_time": "2022-01-12T05:47:44.288Z"
   },
   {
    "duration": 410,
    "start_time": "2022-01-12T05:47:44.955Z"
   },
   {
    "duration": 645,
    "start_time": "2022-01-12T05:47:45.369Z"
   },
   {
    "duration": 357,
    "start_time": "2022-01-12T05:47:46.016Z"
   },
   {
    "duration": 5,
    "start_time": "2022-01-12T05:47:46.376Z"
   },
   {
    "duration": 1008,
    "start_time": "2022-01-12T05:47:46.384Z"
   },
   {
    "duration": 92,
    "start_time": "2022-01-12T05:47:47.394Z"
   },
   {
    "duration": 88,
    "start_time": "2022-01-12T05:47:47.489Z"
   },
   {
    "duration": 1011,
    "start_time": "2022-01-12T05:47:47.579Z"
   },
   {
    "duration": 29,
    "start_time": "2022-01-12T05:47:48.592Z"
   },
   {
    "duration": 8,
    "start_time": "2022-01-12T05:47:48.624Z"
   },
   {
    "duration": 10,
    "start_time": "2022-01-12T05:47:48.659Z"
   },
   {
    "duration": 27,
    "start_time": "2022-01-12T05:47:48.672Z"
   },
   {
    "duration": 61,
    "start_time": "2022-01-12T05:47:48.702Z"
   },
   {
    "duration": 31,
    "start_time": "2022-01-12T05:47:48.765Z"
   },
   {
    "duration": 60,
    "start_time": "2022-01-12T05:47:48.799Z"
   },
   {
    "duration": 33,
    "start_time": "2022-01-12T05:47:48.862Z"
   },
   {
    "duration": 31,
    "start_time": "2022-01-12T05:47:48.897Z"
   },
   {
    "duration": 33,
    "start_time": "2022-01-12T05:47:48.959Z"
   },
   {
    "duration": 47,
    "start_time": "2022-01-12T05:47:48.995Z"
   },
   {
    "duration": 43,
    "start_time": "2022-01-12T05:47:49.045Z"
   },
   {
    "duration": 32,
    "start_time": "2022-01-12T05:47:49.091Z"
   },
   {
    "duration": 36,
    "start_time": "2022-01-12T05:47:49.158Z"
   },
   {
    "duration": 6,
    "start_time": "2022-01-12T05:47:49.197Z"
   },
   {
    "duration": 9526,
    "start_time": "2022-01-12T05:47:49.207Z"
   },
   {
    "duration": 28,
    "start_time": "2022-01-12T05:47:58.736Z"
   },
   {
    "duration": 4551,
    "start_time": "2022-01-12T05:47:58.767Z"
   },
   {
    "duration": 457,
    "start_time": "2022-01-12T05:48:03.320Z"
   },
   {
    "duration": 1540,
    "start_time": "2022-01-12T05:48:03.779Z"
   },
   {
    "duration": 480,
    "start_time": "2022-01-12T05:48:05.321Z"
   },
   {
    "duration": 495,
    "start_time": "2022-01-12T05:48:05.804Z"
   },
   {
    "duration": 25,
    "start_time": "2022-01-12T05:48:06.301Z"
   },
   {
    "duration": 37,
    "start_time": "2022-01-12T05:48:06.328Z"
   },
   {
    "duration": 7,
    "start_time": "2022-01-12T05:48:06.368Z"
   },
   {
    "duration": 8,
    "start_time": "2022-01-12T05:48:06.379Z"
   },
   {
    "duration": 10,
    "start_time": "2022-01-12T05:48:06.390Z"
   },
   {
    "duration": 191,
    "start_time": "2022-01-12T05:48:06.403Z"
   },
   {
    "duration": 16,
    "start_time": "2022-01-12T05:48:06.597Z"
   },
   {
    "duration": 13,
    "start_time": "2022-01-12T05:48:06.616Z"
   }
  ],
  "kernelspec": {
   "display_name": "Python 3",
   "language": "python",
   "name": "python3"
  },
  "language_info": {
   "codemirror_mode": {
    "name": "ipython",
    "version": 3
   },
   "file_extension": ".py",
   "mimetype": "text/x-python",
   "name": "python",
   "nbconvert_exporter": "python",
   "pygments_lexer": "ipython3",
   "version": "3.7.12"
  },
  "toc": {
   "base_numbering": 1,
   "nav_menu": {},
   "number_sections": true,
   "sideBar": true,
   "skip_h1_title": false,
   "title_cell": "Table of Contents",
   "title_sidebar": "Contents",
   "toc_cell": true,
   "toc_position": {
    "height": "calc(100% - 180px)",
    "left": "10px",
    "top": "150px",
    "width": "322px"
   },
   "toc_section_display": true,
   "toc_window_display": true
  }
 },
 "nbformat": 4,
 "nbformat_minor": 5
}
