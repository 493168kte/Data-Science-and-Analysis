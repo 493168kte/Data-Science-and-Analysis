{
 "cells": [
  {
   "cell_type": "markdown",
   "metadata": {},
   "source": [
    "# What sells a car?\n",
    "\n",
    "This project aims to determine which factors influence the price of the vehicle the most. The analysis of the project will help the client who posted their advertisements for their vehicle be on the right track when pricing their vehicle for sale. \n"
   ]
  },
  {
   "cell_type": "markdown",
   "metadata": {},
   "source": [
    "## Initialization"
   ]
  },
  {
   "cell_type": "code",
   "execution_count": 1,
   "metadata": {},
   "outputs": [
    {
     "name": "stderr",
     "output_type": "stream",
     "text": [
      "\n",
      "Bad key text.latex.preview in file C:\\Users\\x\\anaconda3\\envs\\praktikum_env\\lib\\site-packages\\matplotlib\\mpl-data\\stylelib\\_classic_test.mplstyle, line 123 ('text.latex.preview : False')\n",
      "You probably need to get an updated matplotlibrc file from\n",
      "https://github.com/matplotlib/matplotlib/blob/v3.5.1/matplotlibrc.template\n",
      "or from the matplotlib source distribution\n",
      "\n",
      "Bad key mathtext.fallback_to_cm in file C:\\Users\\x\\anaconda3\\envs\\praktikum_env\\lib\\site-packages\\matplotlib\\mpl-data\\stylelib\\_classic_test.mplstyle, line 155 ('mathtext.fallback_to_cm : True  # When True, use symbols from the Computer Modern')\n",
      "You probably need to get an updated matplotlibrc file from\n",
      "https://github.com/matplotlib/matplotlib/blob/v3.5.1/matplotlibrc.template\n",
      "or from the matplotlib source distribution\n",
      "\n",
      "Bad key savefig.jpeg_quality in file C:\\Users\\x\\anaconda3\\envs\\praktikum_env\\lib\\site-packages\\matplotlib\\mpl-data\\stylelib\\_classic_test.mplstyle, line 418 ('savefig.jpeg_quality: 95       # when a jpeg is saved, the default quality parameter.')\n",
      "You probably need to get an updated matplotlibrc file from\n",
      "https://github.com/matplotlib/matplotlib/blob/v3.5.1/matplotlibrc.template\n",
      "or from the matplotlib source distribution\n",
      "\n",
      "Bad key keymap.all_axes in file C:\\Users\\x\\anaconda3\\envs\\praktikum_env\\lib\\site-packages\\matplotlib\\mpl-data\\stylelib\\_classic_test.mplstyle, line 466 ('keymap.all_axes : a                 # enable all axes')\n",
      "You probably need to get an updated matplotlibrc file from\n",
      "https://github.com/matplotlib/matplotlib/blob/v3.5.1/matplotlibrc.template\n",
      "or from the matplotlib source distribution\n",
      "\n",
      "Bad key animation.avconv_path in file C:\\Users\\x\\anaconda3\\envs\\praktikum_env\\lib\\site-packages\\matplotlib\\mpl-data\\stylelib\\_classic_test.mplstyle, line 477 ('animation.avconv_path: avconv     # Path to avconv binary. Without full path')\n",
      "You probably need to get an updated matplotlibrc file from\n",
      "https://github.com/matplotlib/matplotlib/blob/v3.5.1/matplotlibrc.template\n",
      "or from the matplotlib source distribution\n",
      "\n",
      "Bad key animation.avconv_args in file C:\\Users\\x\\anaconda3\\envs\\praktikum_env\\lib\\site-packages\\matplotlib\\mpl-data\\stylelib\\_classic_test.mplstyle, line 479 ('animation.avconv_args:            # Additional arguments to pass to avconv')\n",
      "You probably need to get an updated matplotlibrc file from\n",
      "https://github.com/matplotlib/matplotlib/blob/v3.5.1/matplotlibrc.template\n",
      "or from the matplotlib source distribution\n"
     ]
    }
   ],
   "source": [
    "# Loading all the libraries\n",
    "import pandas as pd\n",
    "import matplotlib.pyplot as plt\n",
    "import numpy as np\n",
    "import seaborn as sns\n",
    "%matplotlib inline\n",
    "import warnings\n",
    "warnings.filterwarnings(\"ignore\")"
   ]
  },
  {
   "cell_type": "code",
   "execution_count": 2,
   "metadata": {},
   "outputs": [
    {
     "ename": "FileNotFoundError",
     "evalue": "[Errno 2] No such file or directory: '/datasets/vehicles_us.csv'",
     "output_type": "error",
     "traceback": [
      "\u001b[1;31m---------------------------------------------------------------------------\u001b[0m",
      "\u001b[1;31mFileNotFoundError\u001b[0m                         Traceback (most recent call last)",
      "\u001b[1;32m<ipython-input-2-1dc33a1f47e5>\u001b[0m in \u001b[0;36m<module>\u001b[1;34m\u001b[0m\n\u001b[0;32m      2\u001b[0m \u001b[1;32mtry\u001b[0m\u001b[1;33m:\u001b[0m\u001b[1;33m\u001b[0m\u001b[1;33m\u001b[0m\u001b[0m\n\u001b[1;32m----> 3\u001b[1;33m     \u001b[0mdf\u001b[0m \u001b[1;33m=\u001b[0m \u001b[0mpd\u001b[0m\u001b[1;33m.\u001b[0m\u001b[0mread_csv\u001b[0m\u001b[1;33m(\u001b[0m\u001b[1;34m'vehicles_us.csv'\u001b[0m\u001b[1;33m)\u001b[0m\u001b[1;33m\u001b[0m\u001b[1;33m\u001b[0m\u001b[0m\n\u001b[0m\u001b[0;32m      4\u001b[0m \u001b[1;32mexcept\u001b[0m\u001b[1;33m:\u001b[0m\u001b[1;33m\u001b[0m\u001b[1;33m\u001b[0m\u001b[0m\n",
      "\u001b[1;32m~\\anaconda3\\envs\\praktikum_env\\lib\\site-packages\\pandas\\io\\parsers.py\u001b[0m in \u001b[0;36mread_csv\u001b[1;34m(filepath_or_buffer, sep, delimiter, header, names, index_col, usecols, squeeze, prefix, mangle_dupe_cols, dtype, engine, converters, true_values, false_values, skipinitialspace, skiprows, skipfooter, nrows, na_values, keep_default_na, na_filter, verbose, skip_blank_lines, parse_dates, infer_datetime_format, keep_date_col, date_parser, dayfirst, cache_dates, iterator, chunksize, compression, thousands, decimal, lineterminator, quotechar, quoting, doublequote, escapechar, comment, encoding, dialect, error_bad_lines, warn_bad_lines, delim_whitespace, low_memory, memory_map, float_precision, storage_options)\u001b[0m\n\u001b[0;32m    609\u001b[0m \u001b[1;33m\u001b[0m\u001b[0m\n\u001b[1;32m--> 610\u001b[1;33m     \u001b[1;32mreturn\u001b[0m \u001b[0m_read\u001b[0m\u001b[1;33m(\u001b[0m\u001b[0mfilepath_or_buffer\u001b[0m\u001b[1;33m,\u001b[0m \u001b[0mkwds\u001b[0m\u001b[1;33m)\u001b[0m\u001b[1;33m\u001b[0m\u001b[1;33m\u001b[0m\u001b[0m\n\u001b[0m\u001b[0;32m    611\u001b[0m \u001b[1;33m\u001b[0m\u001b[0m\n",
      "\u001b[1;32m~\\anaconda3\\envs\\praktikum_env\\lib\\site-packages\\pandas\\io\\parsers.py\u001b[0m in \u001b[0;36m_read\u001b[1;34m(filepath_or_buffer, kwds)\u001b[0m\n\u001b[0;32m    461\u001b[0m     \u001b[1;31m# Create the parser.\u001b[0m\u001b[1;33m\u001b[0m\u001b[1;33m\u001b[0m\u001b[1;33m\u001b[0m\u001b[0m\n\u001b[1;32m--> 462\u001b[1;33m     \u001b[0mparser\u001b[0m \u001b[1;33m=\u001b[0m \u001b[0mTextFileReader\u001b[0m\u001b[1;33m(\u001b[0m\u001b[0mfilepath_or_buffer\u001b[0m\u001b[1;33m,\u001b[0m \u001b[1;33m**\u001b[0m\u001b[0mkwds\u001b[0m\u001b[1;33m)\u001b[0m\u001b[1;33m\u001b[0m\u001b[1;33m\u001b[0m\u001b[0m\n\u001b[0m\u001b[0;32m    463\u001b[0m \u001b[1;33m\u001b[0m\u001b[0m\n",
      "\u001b[1;32m~\\anaconda3\\envs\\praktikum_env\\lib\\site-packages\\pandas\\io\\parsers.py\u001b[0m in \u001b[0;36m__init__\u001b[1;34m(self, f, engine, **kwds)\u001b[0m\n\u001b[0;32m    818\u001b[0m \u001b[1;33m\u001b[0m\u001b[0m\n\u001b[1;32m--> 819\u001b[1;33m         \u001b[0mself\u001b[0m\u001b[1;33m.\u001b[0m\u001b[0m_engine\u001b[0m \u001b[1;33m=\u001b[0m \u001b[0mself\u001b[0m\u001b[1;33m.\u001b[0m\u001b[0m_make_engine\u001b[0m\u001b[1;33m(\u001b[0m\u001b[0mself\u001b[0m\u001b[1;33m.\u001b[0m\u001b[0mengine\u001b[0m\u001b[1;33m)\u001b[0m\u001b[1;33m\u001b[0m\u001b[1;33m\u001b[0m\u001b[0m\n\u001b[0m\u001b[0;32m    820\u001b[0m \u001b[1;33m\u001b[0m\u001b[0m\n",
      "\u001b[1;32m~\\anaconda3\\envs\\praktikum_env\\lib\\site-packages\\pandas\\io\\parsers.py\u001b[0m in \u001b[0;36m_make_engine\u001b[1;34m(self, engine)\u001b[0m\n\u001b[0;32m   1049\u001b[0m         \u001b[1;31m# error: Too many arguments for \"ParserBase\"\u001b[0m\u001b[1;33m\u001b[0m\u001b[1;33m\u001b[0m\u001b[1;33m\u001b[0m\u001b[0m\n\u001b[1;32m-> 1050\u001b[1;33m         \u001b[1;32mreturn\u001b[0m \u001b[0mmapping\u001b[0m\u001b[1;33m[\u001b[0m\u001b[0mengine\u001b[0m\u001b[1;33m]\u001b[0m\u001b[1;33m(\u001b[0m\u001b[0mself\u001b[0m\u001b[1;33m.\u001b[0m\u001b[0mf\u001b[0m\u001b[1;33m,\u001b[0m \u001b[1;33m**\u001b[0m\u001b[0mself\u001b[0m\u001b[1;33m.\u001b[0m\u001b[0moptions\u001b[0m\u001b[1;33m)\u001b[0m  \u001b[1;31m# type: ignore[call-arg]\u001b[0m\u001b[1;33m\u001b[0m\u001b[1;33m\u001b[0m\u001b[0m\n\u001b[0m\u001b[0;32m   1051\u001b[0m \u001b[1;33m\u001b[0m\u001b[0m\n",
      "\u001b[1;32m~\\anaconda3\\envs\\praktikum_env\\lib\\site-packages\\pandas\\io\\parsers.py\u001b[0m in \u001b[0;36m__init__\u001b[1;34m(self, src, **kwds)\u001b[0m\n\u001b[0;32m   1866\u001b[0m         \u001b[1;31m# open handles\u001b[0m\u001b[1;33m\u001b[0m\u001b[1;33m\u001b[0m\u001b[1;33m\u001b[0m\u001b[0m\n\u001b[1;32m-> 1867\u001b[1;33m         \u001b[0mself\u001b[0m\u001b[1;33m.\u001b[0m\u001b[0m_open_handles\u001b[0m\u001b[1;33m(\u001b[0m\u001b[0msrc\u001b[0m\u001b[1;33m,\u001b[0m \u001b[0mkwds\u001b[0m\u001b[1;33m)\u001b[0m\u001b[1;33m\u001b[0m\u001b[1;33m\u001b[0m\u001b[0m\n\u001b[0m\u001b[0;32m   1868\u001b[0m         \u001b[1;32massert\u001b[0m \u001b[0mself\u001b[0m\u001b[1;33m.\u001b[0m\u001b[0mhandles\u001b[0m \u001b[1;32mis\u001b[0m \u001b[1;32mnot\u001b[0m \u001b[1;32mNone\u001b[0m\u001b[1;33m\u001b[0m\u001b[1;33m\u001b[0m\u001b[0m\n",
      "\u001b[1;32m~\\anaconda3\\envs\\praktikum_env\\lib\\site-packages\\pandas\\io\\parsers.py\u001b[0m in \u001b[0;36m_open_handles\u001b[1;34m(self, src, kwds)\u001b[0m\n\u001b[0;32m   1367\u001b[0m             \u001b[0mmemory_map\u001b[0m\u001b[1;33m=\u001b[0m\u001b[0mkwds\u001b[0m\u001b[1;33m.\u001b[0m\u001b[0mget\u001b[0m\u001b[1;33m(\u001b[0m\u001b[1;34m\"memory_map\"\u001b[0m\u001b[1;33m,\u001b[0m \u001b[1;32mFalse\u001b[0m\u001b[1;33m)\u001b[0m\u001b[1;33m,\u001b[0m\u001b[1;33m\u001b[0m\u001b[1;33m\u001b[0m\u001b[0m\n\u001b[1;32m-> 1368\u001b[1;33m             \u001b[0mstorage_options\u001b[0m\u001b[1;33m=\u001b[0m\u001b[0mkwds\u001b[0m\u001b[1;33m.\u001b[0m\u001b[0mget\u001b[0m\u001b[1;33m(\u001b[0m\u001b[1;34m\"storage_options\"\u001b[0m\u001b[1;33m,\u001b[0m \u001b[1;32mNone\u001b[0m\u001b[1;33m)\u001b[0m\u001b[1;33m,\u001b[0m\u001b[1;33m\u001b[0m\u001b[1;33m\u001b[0m\u001b[0m\n\u001b[0m\u001b[0;32m   1369\u001b[0m         )\n",
      "\u001b[1;32m~\\anaconda3\\envs\\praktikum_env\\lib\\site-packages\\pandas\\io\\common.py\u001b[0m in \u001b[0;36mget_handle\u001b[1;34m(path_or_buf, mode, encoding, compression, memory_map, is_text, errors, storage_options)\u001b[0m\n\u001b[0;32m    646\u001b[0m                 \u001b[0merrors\u001b[0m\u001b[1;33m=\u001b[0m\u001b[0merrors\u001b[0m\u001b[1;33m,\u001b[0m\u001b[1;33m\u001b[0m\u001b[1;33m\u001b[0m\u001b[0m\n\u001b[1;32m--> 647\u001b[1;33m                 \u001b[0mnewline\u001b[0m\u001b[1;33m=\u001b[0m\u001b[1;34m\"\"\u001b[0m\u001b[1;33m,\u001b[0m\u001b[1;33m\u001b[0m\u001b[1;33m\u001b[0m\u001b[0m\n\u001b[0m\u001b[0;32m    648\u001b[0m             )\n",
      "\u001b[1;31mFileNotFoundError\u001b[0m: [Errno 2] No such file or directory: 'vehicles_us.csv'",
      "\nDuring handling of the above exception, another exception occurred:\n",
      "\u001b[1;31mFileNotFoundError\u001b[0m                         Traceback (most recent call last)",
      "\u001b[1;32m<ipython-input-2-1dc33a1f47e5>\u001b[0m in \u001b[0;36m<module>\u001b[1;34m\u001b[0m\n\u001b[0;32m      3\u001b[0m     \u001b[0mdf\u001b[0m \u001b[1;33m=\u001b[0m \u001b[0mpd\u001b[0m\u001b[1;33m.\u001b[0m\u001b[0mread_csv\u001b[0m\u001b[1;33m(\u001b[0m\u001b[1;34m'vehicles_us.csv'\u001b[0m\u001b[1;33m)\u001b[0m\u001b[1;33m\u001b[0m\u001b[1;33m\u001b[0m\u001b[0m\n\u001b[0;32m      4\u001b[0m \u001b[1;32mexcept\u001b[0m\u001b[1;33m:\u001b[0m\u001b[1;33m\u001b[0m\u001b[1;33m\u001b[0m\u001b[0m\n\u001b[1;32m----> 5\u001b[1;33m     \u001b[0mdf\u001b[0m \u001b[1;33m=\u001b[0m \u001b[0mpd\u001b[0m\u001b[1;33m.\u001b[0m\u001b[0mread_csv\u001b[0m\u001b[1;33m(\u001b[0m\u001b[1;34m'/datasets/vehicles_us.csv'\u001b[0m\u001b[1;33m)\u001b[0m\u001b[1;33m\u001b[0m\u001b[1;33m\u001b[0m\u001b[0m\n\u001b[0m",
      "\u001b[1;32m~\\anaconda3\\envs\\praktikum_env\\lib\\site-packages\\pandas\\io\\parsers.py\u001b[0m in \u001b[0;36mread_csv\u001b[1;34m(filepath_or_buffer, sep, delimiter, header, names, index_col, usecols, squeeze, prefix, mangle_dupe_cols, dtype, engine, converters, true_values, false_values, skipinitialspace, skiprows, skipfooter, nrows, na_values, keep_default_na, na_filter, verbose, skip_blank_lines, parse_dates, infer_datetime_format, keep_date_col, date_parser, dayfirst, cache_dates, iterator, chunksize, compression, thousands, decimal, lineterminator, quotechar, quoting, doublequote, escapechar, comment, encoding, dialect, error_bad_lines, warn_bad_lines, delim_whitespace, low_memory, memory_map, float_precision, storage_options)\u001b[0m\n\u001b[0;32m    608\u001b[0m     \u001b[0mkwds\u001b[0m\u001b[1;33m.\u001b[0m\u001b[0mupdate\u001b[0m\u001b[1;33m(\u001b[0m\u001b[0mkwds_defaults\u001b[0m\u001b[1;33m)\u001b[0m\u001b[1;33m\u001b[0m\u001b[1;33m\u001b[0m\u001b[0m\n\u001b[0;32m    609\u001b[0m \u001b[1;33m\u001b[0m\u001b[0m\n\u001b[1;32m--> 610\u001b[1;33m     \u001b[1;32mreturn\u001b[0m \u001b[0m_read\u001b[0m\u001b[1;33m(\u001b[0m\u001b[0mfilepath_or_buffer\u001b[0m\u001b[1;33m,\u001b[0m \u001b[0mkwds\u001b[0m\u001b[1;33m)\u001b[0m\u001b[1;33m\u001b[0m\u001b[1;33m\u001b[0m\u001b[0m\n\u001b[0m\u001b[0;32m    611\u001b[0m \u001b[1;33m\u001b[0m\u001b[0m\n\u001b[0;32m    612\u001b[0m \u001b[1;33m\u001b[0m\u001b[0m\n",
      "\u001b[1;32m~\\anaconda3\\envs\\praktikum_env\\lib\\site-packages\\pandas\\io\\parsers.py\u001b[0m in \u001b[0;36m_read\u001b[1;34m(filepath_or_buffer, kwds)\u001b[0m\n\u001b[0;32m    460\u001b[0m \u001b[1;33m\u001b[0m\u001b[0m\n\u001b[0;32m    461\u001b[0m     \u001b[1;31m# Create the parser.\u001b[0m\u001b[1;33m\u001b[0m\u001b[1;33m\u001b[0m\u001b[1;33m\u001b[0m\u001b[0m\n\u001b[1;32m--> 462\u001b[1;33m     \u001b[0mparser\u001b[0m \u001b[1;33m=\u001b[0m \u001b[0mTextFileReader\u001b[0m\u001b[1;33m(\u001b[0m\u001b[0mfilepath_or_buffer\u001b[0m\u001b[1;33m,\u001b[0m \u001b[1;33m**\u001b[0m\u001b[0mkwds\u001b[0m\u001b[1;33m)\u001b[0m\u001b[1;33m\u001b[0m\u001b[1;33m\u001b[0m\u001b[0m\n\u001b[0m\u001b[0;32m    463\u001b[0m \u001b[1;33m\u001b[0m\u001b[0m\n\u001b[0;32m    464\u001b[0m     \u001b[1;32mif\u001b[0m \u001b[0mchunksize\u001b[0m \u001b[1;32mor\u001b[0m \u001b[0miterator\u001b[0m\u001b[1;33m:\u001b[0m\u001b[1;33m\u001b[0m\u001b[1;33m\u001b[0m\u001b[0m\n",
      "\u001b[1;32m~\\anaconda3\\envs\\praktikum_env\\lib\\site-packages\\pandas\\io\\parsers.py\u001b[0m in \u001b[0;36m__init__\u001b[1;34m(self, f, engine, **kwds)\u001b[0m\n\u001b[0;32m    817\u001b[0m             \u001b[0mself\u001b[0m\u001b[1;33m.\u001b[0m\u001b[0moptions\u001b[0m\u001b[1;33m[\u001b[0m\u001b[1;34m\"has_index_names\"\u001b[0m\u001b[1;33m]\u001b[0m \u001b[1;33m=\u001b[0m \u001b[0mkwds\u001b[0m\u001b[1;33m[\u001b[0m\u001b[1;34m\"has_index_names\"\u001b[0m\u001b[1;33m]\u001b[0m\u001b[1;33m\u001b[0m\u001b[1;33m\u001b[0m\u001b[0m\n\u001b[0;32m    818\u001b[0m \u001b[1;33m\u001b[0m\u001b[0m\n\u001b[1;32m--> 819\u001b[1;33m         \u001b[0mself\u001b[0m\u001b[1;33m.\u001b[0m\u001b[0m_engine\u001b[0m \u001b[1;33m=\u001b[0m \u001b[0mself\u001b[0m\u001b[1;33m.\u001b[0m\u001b[0m_make_engine\u001b[0m\u001b[1;33m(\u001b[0m\u001b[0mself\u001b[0m\u001b[1;33m.\u001b[0m\u001b[0mengine\u001b[0m\u001b[1;33m)\u001b[0m\u001b[1;33m\u001b[0m\u001b[1;33m\u001b[0m\u001b[0m\n\u001b[0m\u001b[0;32m    820\u001b[0m \u001b[1;33m\u001b[0m\u001b[0m\n\u001b[0;32m    821\u001b[0m     \u001b[1;32mdef\u001b[0m \u001b[0mclose\u001b[0m\u001b[1;33m(\u001b[0m\u001b[0mself\u001b[0m\u001b[1;33m)\u001b[0m\u001b[1;33m:\u001b[0m\u001b[1;33m\u001b[0m\u001b[1;33m\u001b[0m\u001b[0m\n",
      "\u001b[1;32m~\\anaconda3\\envs\\praktikum_env\\lib\\site-packages\\pandas\\io\\parsers.py\u001b[0m in \u001b[0;36m_make_engine\u001b[1;34m(self, engine)\u001b[0m\n\u001b[0;32m   1048\u001b[0m             )\n\u001b[0;32m   1049\u001b[0m         \u001b[1;31m# error: Too many arguments for \"ParserBase\"\u001b[0m\u001b[1;33m\u001b[0m\u001b[1;33m\u001b[0m\u001b[1;33m\u001b[0m\u001b[0m\n\u001b[1;32m-> 1050\u001b[1;33m         \u001b[1;32mreturn\u001b[0m \u001b[0mmapping\u001b[0m\u001b[1;33m[\u001b[0m\u001b[0mengine\u001b[0m\u001b[1;33m]\u001b[0m\u001b[1;33m(\u001b[0m\u001b[0mself\u001b[0m\u001b[1;33m.\u001b[0m\u001b[0mf\u001b[0m\u001b[1;33m,\u001b[0m \u001b[1;33m**\u001b[0m\u001b[0mself\u001b[0m\u001b[1;33m.\u001b[0m\u001b[0moptions\u001b[0m\u001b[1;33m)\u001b[0m  \u001b[1;31m# type: ignore[call-arg]\u001b[0m\u001b[1;33m\u001b[0m\u001b[1;33m\u001b[0m\u001b[0m\n\u001b[0m\u001b[0;32m   1051\u001b[0m \u001b[1;33m\u001b[0m\u001b[0m\n\u001b[0;32m   1052\u001b[0m     \u001b[1;32mdef\u001b[0m \u001b[0m_failover_to_python\u001b[0m\u001b[1;33m(\u001b[0m\u001b[0mself\u001b[0m\u001b[1;33m)\u001b[0m\u001b[1;33m:\u001b[0m\u001b[1;33m\u001b[0m\u001b[1;33m\u001b[0m\u001b[0m\n",
      "\u001b[1;32m~\\anaconda3\\envs\\praktikum_env\\lib\\site-packages\\pandas\\io\\parsers.py\u001b[0m in \u001b[0;36m__init__\u001b[1;34m(self, src, **kwds)\u001b[0m\n\u001b[0;32m   1865\u001b[0m \u001b[1;33m\u001b[0m\u001b[0m\n\u001b[0;32m   1866\u001b[0m         \u001b[1;31m# open handles\u001b[0m\u001b[1;33m\u001b[0m\u001b[1;33m\u001b[0m\u001b[1;33m\u001b[0m\u001b[0m\n\u001b[1;32m-> 1867\u001b[1;33m         \u001b[0mself\u001b[0m\u001b[1;33m.\u001b[0m\u001b[0m_open_handles\u001b[0m\u001b[1;33m(\u001b[0m\u001b[0msrc\u001b[0m\u001b[1;33m,\u001b[0m \u001b[0mkwds\u001b[0m\u001b[1;33m)\u001b[0m\u001b[1;33m\u001b[0m\u001b[1;33m\u001b[0m\u001b[0m\n\u001b[0m\u001b[0;32m   1868\u001b[0m         \u001b[1;32massert\u001b[0m \u001b[0mself\u001b[0m\u001b[1;33m.\u001b[0m\u001b[0mhandles\u001b[0m \u001b[1;32mis\u001b[0m \u001b[1;32mnot\u001b[0m \u001b[1;32mNone\u001b[0m\u001b[1;33m\u001b[0m\u001b[1;33m\u001b[0m\u001b[0m\n\u001b[0;32m   1869\u001b[0m         \u001b[1;32mfor\u001b[0m \u001b[0mkey\u001b[0m \u001b[1;32min\u001b[0m \u001b[1;33m(\u001b[0m\u001b[1;34m\"storage_options\"\u001b[0m\u001b[1;33m,\u001b[0m \u001b[1;34m\"encoding\"\u001b[0m\u001b[1;33m,\u001b[0m \u001b[1;34m\"memory_map\"\u001b[0m\u001b[1;33m,\u001b[0m \u001b[1;34m\"compression\"\u001b[0m\u001b[1;33m)\u001b[0m\u001b[1;33m:\u001b[0m\u001b[1;33m\u001b[0m\u001b[1;33m\u001b[0m\u001b[0m\n",
      "\u001b[1;32m~\\anaconda3\\envs\\praktikum_env\\lib\\site-packages\\pandas\\io\\parsers.py\u001b[0m in \u001b[0;36m_open_handles\u001b[1;34m(self, src, kwds)\u001b[0m\n\u001b[0;32m   1366\u001b[0m             \u001b[0mcompression\u001b[0m\u001b[1;33m=\u001b[0m\u001b[0mkwds\u001b[0m\u001b[1;33m.\u001b[0m\u001b[0mget\u001b[0m\u001b[1;33m(\u001b[0m\u001b[1;34m\"compression\"\u001b[0m\u001b[1;33m,\u001b[0m \u001b[1;32mNone\u001b[0m\u001b[1;33m)\u001b[0m\u001b[1;33m,\u001b[0m\u001b[1;33m\u001b[0m\u001b[1;33m\u001b[0m\u001b[0m\n\u001b[0;32m   1367\u001b[0m             \u001b[0mmemory_map\u001b[0m\u001b[1;33m=\u001b[0m\u001b[0mkwds\u001b[0m\u001b[1;33m.\u001b[0m\u001b[0mget\u001b[0m\u001b[1;33m(\u001b[0m\u001b[1;34m\"memory_map\"\u001b[0m\u001b[1;33m,\u001b[0m \u001b[1;32mFalse\u001b[0m\u001b[1;33m)\u001b[0m\u001b[1;33m,\u001b[0m\u001b[1;33m\u001b[0m\u001b[1;33m\u001b[0m\u001b[0m\n\u001b[1;32m-> 1368\u001b[1;33m             \u001b[0mstorage_options\u001b[0m\u001b[1;33m=\u001b[0m\u001b[0mkwds\u001b[0m\u001b[1;33m.\u001b[0m\u001b[0mget\u001b[0m\u001b[1;33m(\u001b[0m\u001b[1;34m\"storage_options\"\u001b[0m\u001b[1;33m,\u001b[0m \u001b[1;32mNone\u001b[0m\u001b[1;33m)\u001b[0m\u001b[1;33m,\u001b[0m\u001b[1;33m\u001b[0m\u001b[1;33m\u001b[0m\u001b[0m\n\u001b[0m\u001b[0;32m   1369\u001b[0m         )\n\u001b[0;32m   1370\u001b[0m \u001b[1;33m\u001b[0m\u001b[0m\n",
      "\u001b[1;32m~\\anaconda3\\envs\\praktikum_env\\lib\\site-packages\\pandas\\io\\common.py\u001b[0m in \u001b[0;36mget_handle\u001b[1;34m(path_or_buf, mode, encoding, compression, memory_map, is_text, errors, storage_options)\u001b[0m\n\u001b[0;32m    645\u001b[0m                 \u001b[0mencoding\u001b[0m\u001b[1;33m=\u001b[0m\u001b[0mioargs\u001b[0m\u001b[1;33m.\u001b[0m\u001b[0mencoding\u001b[0m\u001b[1;33m,\u001b[0m\u001b[1;33m\u001b[0m\u001b[1;33m\u001b[0m\u001b[0m\n\u001b[0;32m    646\u001b[0m                 \u001b[0merrors\u001b[0m\u001b[1;33m=\u001b[0m\u001b[0merrors\u001b[0m\u001b[1;33m,\u001b[0m\u001b[1;33m\u001b[0m\u001b[1;33m\u001b[0m\u001b[0m\n\u001b[1;32m--> 647\u001b[1;33m                 \u001b[0mnewline\u001b[0m\u001b[1;33m=\u001b[0m\u001b[1;34m\"\"\u001b[0m\u001b[1;33m,\u001b[0m\u001b[1;33m\u001b[0m\u001b[1;33m\u001b[0m\u001b[0m\n\u001b[0m\u001b[0;32m    648\u001b[0m             )\n\u001b[0;32m    649\u001b[0m         \u001b[1;32melse\u001b[0m\u001b[1;33m:\u001b[0m\u001b[1;33m\u001b[0m\u001b[1;33m\u001b[0m\u001b[0m\n",
      "\u001b[1;31mFileNotFoundError\u001b[0m: [Errno 2] No such file or directory: '/datasets/vehicles_us.csv'"
     ]
    }
   ],
   "source": [
    "# Load the data file into a DataFrame\n",
    "try:\n",
    "    df = pd.read_csv('vehicles_us.csv')\n",
    "except:\n",
    "    df = pd.read_csv('/datasets/vehicles_us.csv')"
   ]
  },
  {
   "cell_type": "code",
   "execution_count": null,
   "metadata": {},
   "outputs": [],
   "source": [
    "# Dataframe info\n",
    "df.info()"
   ]
  },
  {
   "cell_type": "code",
   "execution_count": null,
   "metadata": {},
   "outputs": [],
   "source": [
    "# Size of the dataframe\n",
    "df.shape"
   ]
  },
  {
   "cell_type": "markdown",
   "metadata": {},
   "source": [
    "### Explore initial data"
   ]
  },
  {
   "cell_type": "markdown",
   "metadata": {},
   "source": [
    "The dataset contains the following fields:\n",
    "- `price` — price listed on ads.\n",
    "- `model_year` — vehicle model year.\n",
    "- `model` — vehicle model.\n",
    "- `condition` — conditions of the vehicle.\n",
    "- `cylinders` — number of cylinders.\n",
    "- `fuel` — fuel type.\n",
    "- `odometer` — the vehicle's mileage when the ad was published\n",
    "- `transmission` — transmission.\n",
    "- `paint_color` — color of the vehicle.\n",
    "- `is_4wd` — whether the vehicle has 4-wheel drive (Boolean type).\n",
    "- `date_posted` — the date the ad was published.\n",
    "- `days_listed` — from publication to removal.\n"
   ]
  },
  {
   "cell_type": "code",
   "execution_count": null,
   "metadata": {},
   "outputs": [],
   "source": [
    "# Statistic of the dataframe\n",
    "df.describe(include='all')"
   ]
  },
  {
   "cell_type": "code",
   "execution_count": null,
   "metadata": {},
   "outputs": [],
   "source": [
    "# print a sample of data\n",
    "df.sample(5)"
   ]
  },
  {
   "cell_type": "code",
   "execution_count": null,
   "metadata": {},
   "outputs": [],
   "source": [
    "# missing values of the dataframe\n",
    "df.isna().sum()"
   ]
  },
  {
   "cell_type": "code",
   "execution_count": null,
   "metadata": {},
   "outputs": [],
   "source": [
    "# percentage missing values of the dataframe\n",
    "df[['model_year','cylinders','odometer','paint_color','is_4wd']].isna().sum()/len(df)"
   ]
  },
  {
   "cell_type": "code",
   "execution_count": null,
   "metadata": {
    "scrolled": true
   },
   "outputs": [],
   "source": [
    "# initial data correlation \n",
    "df.corr()"
   ]
  },
  {
   "cell_type": "markdown",
   "metadata": {},
   "source": [
    "#### Initialized Data\n",
    "- total 5 columns missing data.\n",
    "- with `is_4wd` column missing the most data which is up to 50%.\n",
    "- `date_posted` should be in datetime datatype."
   ]
  },
  {
   "cell_type": "markdown",
   "metadata": {},
   "source": [
    "## Data preprocessing"
   ]
  },
  {
   "cell_type": "markdown",
   "metadata": {},
   "source": [
    "### date_posted"
   ]
  },
  {
   "cell_type": "code",
   "execution_count": null,
   "metadata": {},
   "outputs": [],
   "source": [
    "# Change date_posted to datetime formate\n",
    "df['date_posted']= pd.to_datetime(df['date_posted'])"
   ]
  },
  {
   "cell_type": "markdown",
   "metadata": {},
   "source": [
    "### model_year"
   ]
  },
  {
   "cell_type": "code",
   "execution_count": null,
   "metadata": {},
   "outputs": [],
   "source": [
    "# Create years_posted from date_posted column\n",
    "df['years_posted']=df['date_posted'].dt.year"
   ]
  },
  {
   "cell_type": "code",
   "execution_count": null,
   "metadata": {},
   "outputs": [],
   "source": [
    "# Fill missing model_year with median of years different from year_posted and model_year.\n",
    "df['model_year'].fillna(df['years_posted']-((df['years_posted']-df['model_year']).median()),inplace=True)\n",
    "df['model_year'].isna().sum()"
   ]
  },
  {
   "cell_type": "code",
   "execution_count": null,
   "metadata": {},
   "outputs": [],
   "source": [
    "# Change model_year dtype to int64\n",
    "df['model_year']=df['model_year'].astype('int64')"
   ]
  },
  {
   "cell_type": "code",
   "execution_count": null,
   "metadata": {},
   "outputs": [],
   "source": [
    "# Drop temporary created column\n",
    "df = df.drop(['years_posted'], axis=1)"
   ]
  },
  {
   "cell_type": "markdown",
   "metadata": {},
   "source": [
    "### is_4wd"
   ]
  },
  {
   "cell_type": "code",
   "execution_count": null,
   "metadata": {},
   "outputs": [],
   "source": [
    "# Fill missing values in is_4wd assuming they are all 0 (false)\n",
    "df['is_4wd'].fillna(0,inplace=True)"
   ]
  },
  {
   "cell_type": "code",
   "execution_count": null,
   "metadata": {},
   "outputs": [],
   "source": [
    "# Change is_4wd dtype to int64\n",
    "df['is_4wd']=df['is_4wd'].astype('int64')"
   ]
  },
  {
   "cell_type": "markdown",
   "metadata": {},
   "source": [
    "### cylinder"
   ]
  },
  {
   "cell_type": "code",
   "execution_count": null,
   "metadata": {},
   "outputs": [],
   "source": [
    "# Fill missing values of cylinder groupby type and model median\n",
    "df['cylinders'] = df.groupby(['type','model'])['cylinders'].apply(lambda x: x.fillna(x.median()))\n",
    "df['cylinders'].isna().sum()"
   ]
  },
  {
   "cell_type": "code",
   "execution_count": null,
   "metadata": {},
   "outputs": [],
   "source": [
    "# Missing values still exist\n",
    "df[df['cylinders'].isna()].head()"
   ]
  },
  {
   "cell_type": "code",
   "execution_count": null,
   "metadata": {},
   "outputs": [],
   "source": [
    "# Drop left over missing values\n",
    "df.dropna(subset=['cylinders'], inplace=True)"
   ]
  },
  {
   "cell_type": "code",
   "execution_count": null,
   "metadata": {},
   "outputs": [],
   "source": [
    "# Change cylinders dtype to int64\n",
    "df['cylinders']=df['cylinders'].astype('int64')"
   ]
  },
  {
   "cell_type": "markdown",
   "metadata": {},
   "source": [
    "### odometer"
   ]
  },
  {
   "cell_type": "code",
   "execution_count": null,
   "metadata": {},
   "outputs": [],
   "source": [
    "# Print 0 millage vehicle\n",
    "df[df['odometer']==0].head()"
   ]
  },
  {
   "cell_type": "code",
   "execution_count": null,
   "metadata": {},
   "outputs": [],
   "source": [
    "# Print missing values odometer\n",
    "df[df['odometer'].isna()].head()"
   ]
  },
  {
   "cell_type": "code",
   "execution_count": null,
   "metadata": {},
   "outputs": [],
   "source": [
    "# Calculate total missing values of odometer\n",
    "df['odometer'].isna().sum()"
   ]
  },
  {
   "cell_type": "code",
   "execution_count": null,
   "metadata": {},
   "outputs": [],
   "source": [
    "# Replace 0 odometer vales with NaN\n",
    "df['odometer'].replace(0,np.nan,inplace=True)"
   ]
  },
  {
   "cell_type": "code",
   "execution_count": null,
   "metadata": {},
   "outputs": [],
   "source": [
    "# Fill odometer missing values group by model_year\n",
    "df['odometer'] = df.groupby(['model_year'])['odometer'].apply(lambda x: x.fillna(x.median()))\n",
    "df['odometer'].isna().sum()"
   ]
  },
  {
   "cell_type": "code",
   "execution_count": null,
   "metadata": {},
   "outputs": [],
   "source": [
    "# Drop the 1 left over missing value\n",
    "df.dropna(subset=['odometer'], inplace=True)"
   ]
  },
  {
   "cell_type": "code",
   "execution_count": null,
   "metadata": {},
   "outputs": [],
   "source": [
    "# Convert Odometer dtype to int64\n",
    "df['odometer']=df['odometer'].astype('int64')"
   ]
  },
  {
   "cell_type": "markdown",
   "metadata": {},
   "source": [
    "### paint_color"
   ]
  },
  {
   "cell_type": "code",
   "execution_count": null,
   "metadata": {},
   "outputs": [],
   "source": [
    "# List paint_color values\n",
    "df['paint_color'].value_counts()"
   ]
  },
  {
   "cell_type": "code",
   "execution_count": null,
   "metadata": {},
   "outputs": [],
   "source": [
    "# Fill missing values with most common color\n",
    "df['paint_color'].fillna('Others',inplace=True)\n",
    "# Recheck missing value\n",
    "df['paint_color'].isna().sum()"
   ]
  },
  {
   "cell_type": "markdown",
   "metadata": {},
   "source": [
    "### price"
   ]
  },
  {
   "cell_type": "code",
   "execution_count": null,
   "metadata": {},
   "outputs": [],
   "source": [
    "# Print lenght of price listed lower than 100\n",
    "len(df[df['price'] < 100])"
   ]
  },
  {
   "cell_type": "code",
   "execution_count": null,
   "metadata": {
    "scrolled": false
   },
   "outputs": [],
   "source": [
    "# Sample of price lower than 100\n",
    "df.query('price<100').sample(5)"
   ]
  },
  {
   "cell_type": "code",
   "execution_count": null,
   "metadata": {},
   "outputs": [],
   "source": [
    "# Replace price <100 with NaN\n",
    "for row in df['price']:\n",
    "    if row < 100:\n",
    "        df['price'].replace(row,np.nan,inplace=True)"
   ]
  },
  {
   "cell_type": "code",
   "execution_count": null,
   "metadata": {},
   "outputs": [],
   "source": [
    "# Filled those NaN groupby model and type median\n",
    "df['price'] = df.groupby(['model','type'])['price'].apply(lambda x: x.fillna(x.median()))\n",
    "df['price'].isna().sum()"
   ]
  },
  {
   "cell_type": "code",
   "execution_count": null,
   "metadata": {},
   "outputs": [],
   "source": [
    "# Drop the 1 left over Null value\n",
    "df.dropna(subset=['price'], inplace=True)"
   ]
  },
  {
   "cell_type": "code",
   "execution_count": null,
   "metadata": {},
   "outputs": [],
   "source": [
    "# Reset Index\n",
    "df.reset_index(drop=True, inplace=True)"
   ]
  },
  {
   "cell_type": "code",
   "execution_count": null,
   "metadata": {},
   "outputs": [],
   "source": [
    "# Recheck for dataframe null values\n",
    "df.isna().sum()"
   ]
  },
  {
   "cell_type": "code",
   "execution_count": null,
   "metadata": {},
   "outputs": [],
   "source": [
    "# Check for dataframe duplicates\n",
    "df.duplicated().sum()"
   ]
  },
  {
   "cell_type": "code",
   "execution_count": null,
   "metadata": {},
   "outputs": [],
   "source": [
    "# print the general/summary information about the DataFrame\n",
    "df.info()"
   ]
  },
  {
   "cell_type": "markdown",
   "metadata": {},
   "source": [
    "**Data preprocessing summarized conclusion**\n",
    "\n",
    "- Missing values of the model ear are filled with a median of years different from the year posted and model year.\n",
    "- Missing values of the cylinder are filled group by type and model median.\n",
    "- Leftover values of the cylinder are dropped because there are only 15 of them.\n",
    "- Odometer 0 is probably an error. Even brand new cars have some mileage due to transportation from manufacturer to car dealer. Both 0 and missing values are filled group by the model-year median.\n",
    "- Missing values in paint colour are filled with the most common colour, white.\n",
    "- Prices lower than 100 are being replaced with groupby model and type median because cars with prices lower than 100 are probably errors during data entry.\n",
    "- Dataframe has no duplicates at all.\n",
    "- Model year,is_4wd, odometer, and cylinders datatype changed to Int64.\n"
   ]
  },
  {
   "cell_type": "markdown",
   "metadata": {},
   "source": [
    "### Enrich data"
   ]
  },
  {
   "cell_type": "code",
   "execution_count": null,
   "metadata": {},
   "outputs": [],
   "source": [
    "# Create month_posted column from date_posted's months\n",
    "df['month_posted'] = df['date_posted'].dt.month\n",
    "# Create days_posted column from date_posted's days\n",
    "df['days_posted'] = df['date_posted'].dt.dayofweek"
   ]
  },
  {
   "cell_type": "code",
   "execution_count": null,
   "metadata": {},
   "outputs": [],
   "source": [
    "# Add the vehicle's age when the ad was placed\n",
    "df['car_age'] = ((df['date_posted'] - pd.to_datetime(df.model_year, format='%Y'))/ np.timedelta64(1, 'Y'))+1\n",
    "# Print car_age statistic\n",
    "df['car_age'].describe()"
   ]
  },
  {
   "cell_type": "code",
   "execution_count": null,
   "metadata": {},
   "outputs": [],
   "source": [
    "# Add the vehicle's average mileage per year\n",
    "df['avg_mil']=(df['odometer']/df['car_age'])\n",
    "# Print average mile statistic\n",
    "df['avg_mil'].describe().round()"
   ]
  },
  {
   "cell_type": "code",
   "execution_count": null,
   "metadata": {},
   "outputs": [],
   "source": [
    "# List condition values\n",
    "df['condition'].value_counts()"
   ]
  },
  {
   "cell_type": "code",
   "execution_count": null,
   "metadata": {},
   "outputs": [],
   "source": [
    "# Assign condition id to each conditions\n",
    "def df_condition_id(condition):\n",
    "    if condition == 'new':\n",
    "        return 5\n",
    "    if condition == 'like new':\n",
    "        return 4\n",
    "    if condition == 'excellent':\n",
    "        return 3\n",
    "    if condition == 'good':\n",
    "        return 2\n",
    "    if condition == 'fair':\n",
    "        return 1\n",
    "    if condition == 'salvage':\n",
    "        return 0\n",
    "\n",
    "df['condition_id']=df['condition'].apply(df_condition_id).astype('int64')"
   ]
  },
  {
   "cell_type": "code",
   "execution_count": null,
   "metadata": {},
   "outputs": [],
   "source": [
    "# Check condition_id\n",
    "df['condition_id'].value_counts()"
   ]
  },
  {
   "cell_type": "markdown",
   "metadata": {},
   "source": [
    "## Exploratory Data Analysis (EDA)\n",
    "Listed are the main parameters that will be used to study the price factorization.\n",
    "- Price\n",
    "- The vehicle's age when the ad was placed\n",
    "- Mileage\n",
    "- Number of cylinders\n",
    "- Condition"
   ]
  },
  {
   "cell_type": "code",
   "execution_count": null,
   "metadata": {},
   "outputs": [],
   "source": [
    "# print a sample of data\n",
    "df.sample(5)"
   ]
  },
  {
   "cell_type": "code",
   "execution_count": null,
   "metadata": {
    "scrolled": true
   },
   "outputs": [],
   "source": [
    "# Price statistic\n",
    "df['price'].describe()"
   ]
  },
  {
   "cell_type": "code",
   "execution_count": null,
   "metadata": {},
   "outputs": [],
   "source": [
    "# Price distribution histogram\n",
    "sns.histplot(data=df, x=\"price\",bins=50,binrange=(0,50000)).set(title=\"Price distribution\");"
   ]
  },
  {
   "cell_type": "code",
   "execution_count": null,
   "metadata": {},
   "outputs": [],
   "source": [
    "# Vehicles' age distribution histogram\n",
    "sns.histplot(data=df, x=\"car_age\",bins=20,binrange=(0,40)).set(title=\"Vehicles' age distribution\");"
   ]
  },
  {
   "cell_type": "code",
   "execution_count": null,
   "metadata": {
    "scrolled": true
   },
   "outputs": [],
   "source": [
    "# Odometer distribution histogram\n",
    "sns.histplot(data=df, x=\"odometer\",bins=20,binrange=(0,400000)).set(title=\"Millage distribution\");"
   ]
  },
  {
   "cell_type": "code",
   "execution_count": null,
   "metadata": {},
   "outputs": [],
   "source": [
    "# Average mileage distribution histogram\n",
    "sns.histplot(data=df, x=\"avg_mil\",bins=40,binrange=(0,80000)).set(title=\"Average mileage distribution\");"
   ]
  },
  {
   "cell_type": "code",
   "execution_count": null,
   "metadata": {},
   "outputs": [],
   "source": [
    "# Condition distribution bar plot\n",
    "sns.countplot(x ='condition', data = df\n",
    "              ,order = df['condition'].value_counts().index).set(title=\"Vehicle's condition distribution\");"
   ]
  },
  {
   "cell_type": "code",
   "execution_count": null,
   "metadata": {},
   "outputs": [],
   "source": [
    "# Cylinders distribution bar plot\n",
    "sns.countplot(x ='cylinders', data = df\n",
    "              ,order = df['cylinders'].value_counts().index).set(title=\"Vehicle's cylinders distribution\");"
   ]
  },
  {
   "cell_type": "code",
   "execution_count": null,
   "metadata": {},
   "outputs": [],
   "source": [
    "# Vehicle type distribution bar plot\n",
    "sns.countplot(x ='type', data = df\n",
    "              ,order = df['type'].value_counts().index).set(title=\"Vehicle's type distribution\")\n",
    "plt.xticks(rotation=90);"
   ]
  },
  {
   "cell_type": "code",
   "execution_count": null,
   "metadata": {},
   "outputs": [],
   "source": [
    "# Vehicle Fuel type distribution bar plot\n",
    "sns.countplot(x ='fuel', data = df\n",
    "              ,order = df['fuel'].value_counts().index).set(title=\"Vehicle's cylinders distribution\");"
   ]
  },
  {
   "cell_type": "code",
   "execution_count": null,
   "metadata": {},
   "outputs": [],
   "source": [
    "# Vehicle 4WD distribution bar plot\n",
    "sns.countplot(x ='is_4wd', data = df\n",
    "              ,order = df['is_4wd'].value_counts().index).set(title=\"Vehicle 4WD distribution\");"
   ]
  },
  {
   "cell_type": "code",
   "execution_count": null,
   "metadata": {
    "scrolled": false
   },
   "outputs": [],
   "source": [
    "# Various boxplot distribution on price, vehicle's age, and Days listed.\n",
    "# plt.figure(figsize=(9,7))\n",
    "# sns.boxplot(x='paint_color', y='price',data=df).set(title=\"Color vs Price distribution:boxplot\");\n",
    "# plt.figure(figsize=(9,7))\n",
    "# sns.boxplot(x='paint_color', y='car_age',data=df).set(title=\"Vehicles' Age vs Price distribution:boxplot\");\n",
    "# plt.figure(figsize=(9,7))\n",
    "# sns.boxplot(x='paint_color', y='days_listed',data=df).set(title=\"Color vs days listed distribution:boxplot\");\n",
    "# plt.figure(figsize=(9,7))\n",
    "# sns.boxplot(x='type', y='price',data=df).set(title=\"Type vs price distribution:boxplot\");\n",
    "# plt.xticks(rotation=90);\n",
    "# plt.figure(figsize=(9,7))\n",
    "# sns.boxplot(x='condition_id', y='price',data=df).set(title=\"Condition vs price distribution:boxplot\");\n",
    "# plt.figure(figsize=(9,7))\n",
    "# sns.boxplot(x='condition_id', y='car_age',data=df).set(title=\"Condition vs Vehicles' age distribution:boxplot\");\n",
    "# plt.figure(figsize=(9,7))\n",
    "# sns.boxplot(x='fuel', y='price',data=df).set(title=\"Fuel type vs price distribution:boxplot\")\n",
    "# plt.figure(figsize=(9,7))\n",
    "# sns.boxplot(x='is_4wd', y='price',data=df).set(title=\"4WD vs price distribution:boxplot\");"
   ]
  },
  {
   "cell_type": "markdown",
   "metadata": {},
   "source": [
    "### EDA summarized conclusion\n",
    "- Boxplot showed a great number of outliers. \n",
    "- Outliers need to be eliminated to get normal and better distribution.\n",
    "- Most vehicle price above 5000 to 12000.\n",
    "- Most vehicle listed is seven years old.\n",
    "- Mileage distribution peaked between 100k and 150k miles\n",
    "- Average mileage is around 10k to 15k.\n",
    "- Most cars listed are in excellent and good shape.\n",
    "- Most cars listed have 4 to 8 cylinders.\n",
    "- Most popular car types are SUVs, trucks, and sedans.\n",
    "- Majority of the vehicle fuel type is gas.\n",
    "- The 4WD distribution is pretty much even across the DataFrame.\n"
   ]
  },
  {
   "cell_type": "markdown",
   "metadata": {},
   "source": [
    "### Filtered dataframe without outliers"
   ]
  },
  {
   "cell_type": "code",
   "execution_count": null,
   "metadata": {},
   "outputs": [],
   "source": [
    "# Create column list with int64 and float64 datatype\n",
    "intlist = []\n",
    "for col in df.columns:\n",
    "    if df[col].dtype == np.int64 and np.float64:\n",
    "        intlist.append(col)"
   ]
  },
  {
   "cell_type": "code",
   "execution_count": null,
   "metadata": {},
   "outputs": [],
   "source": [
    "# Getting rid of upper outliers.\n",
    "filter = np.zeros(len(df), dtype=bool) + True\n",
    "for outliers in ['car_age','odometer','days_listed','price','avg_mil']:\n",
    "    Q1 = df[outliers].quantile(0.25)\n",
    "    Q3 = df[outliers].quantile(0.75)\n",
    "    IQR = Q3-Q1\n",
    "    upper_outliers = Q3+1.5*IQR \n",
    "    filter[np.where(df[outliers]>upper_outliers)]=False"
   ]
  },
  {
   "cell_type": "code",
   "execution_count": null,
   "metadata": {},
   "outputs": [],
   "source": [
    "# df2 as filtered dataframe without upper outliers\n",
    "df2 = df[filter]\n",
    "df2.reset_index(drop=True, inplace=True);"
   ]
  },
  {
   "cell_type": "code",
   "execution_count": null,
   "metadata": {
    "scrolled": false
   },
   "outputs": [],
   "source": [
    "# Correlation Matrix of dataframe\n",
    "corr_matrix = df[intlist].corr().abs()\n",
    "\n",
    "plt.subplots(figsize=(13, 9))\n",
    "sns.heatmap(corr_matrix,annot=True,fmt='.3g')\n",
    "\n",
    "# Mask unimportant features\n",
    "sns.heatmap(corr_matrix, mask=corr_matrix < 1, cbar=False)\n",
    "plt.show()"
   ]
  },
  {
   "cell_type": "code",
   "execution_count": null,
   "metadata": {},
   "outputs": [],
   "source": [
    "sns.histplot(data=df2,x='car_age',bins=20).set(title='Vehicles age distribution(df2)');"
   ]
  },
  {
   "cell_type": "code",
   "execution_count": null,
   "metadata": {},
   "outputs": [],
   "source": [
    "sns.histplot(data=df2,x='odometer',bins=25).set(title='Odometer distribution(df2)');"
   ]
  },
  {
   "cell_type": "code",
   "execution_count": null,
   "metadata": {},
   "outputs": [],
   "source": [
    "sns.histplot(data=df2,x='price',bins=35).set(title='Price distribution(df2)');"
   ]
  },
  {
   "cell_type": "code",
   "execution_count": null,
   "metadata": {},
   "outputs": [],
   "source": [
    "sns.histplot(data=df2,x='avg_mil',bins=30).set(title='Average mileage distribution(df2)');"
   ]
  },
  {
   "cell_type": "code",
   "execution_count": null,
   "metadata": {},
   "outputs": [],
   "source": [
    "sns.histplot(data=df2,x='model_year',bins=20).set(title='Model year distribution(df2)');"
   ]
  },
  {
   "cell_type": "code",
   "execution_count": null,
   "metadata": {
    "scrolled": true
   },
   "outputs": [],
   "source": [
    "sns.histplot(data=df2,x='days_listed',bins=25).set(title='Days listed distribution(df2)');"
   ]
  },
  {
   "cell_type": "code",
   "execution_count": null,
   "metadata": {
    "scrolled": false
   },
   "outputs": [],
   "source": [
    "# New filtered outliers dataframe (df2) Various boxplot distribution on price, vehicle's age, and Days listed.\n",
    "plt.figure(figsize=(9,7))\n",
    "sns.boxplot(x='paint_color', y='price',data=df2).set(title=\"Color vs Price distribution:boxplot\");\n",
    "plt.figure(figsize=(9,7))\n",
    "sns.boxplot(x='paint_color', y='car_age',data=df2).set(title=\"Vehicles' Age vs Price distribution:boxplot\");\n",
    "plt.figure(figsize=(9,7))\n",
    "sns.boxplot(x='paint_color', y='days_listed',data=df2).set(title=\"Color vs days listed distribution:boxplot\");\n",
    "plt.figure(figsize=(9,7))\n",
    "sns.boxplot(x='type', y='days_listed',data=df2).set(title=\"Type vs days listed distribution:boxplot\");\n",
    "plt.figure(figsize=(9,7))\n",
    "plt.xticks(rotation=90);\n",
    "sns.boxplot(x='type', y='price',data=df2).set(title=\"Type vs price distribution:boxplot\");\n",
    "plt.xticks(rotation=90);\n",
    "plt.figure(figsize=(9,7))\n",
    "sns.boxplot(x='condition_id', y='price',data=df2).set(title=\"Condition vs price distribution:boxplot\");\n",
    "plt.figure(figsize=(9,7))\n",
    "sns.boxplot(x='condition_id', y='car_age',data=df2).set(title=\"Condition vs Vehicles' age distribution:boxplot\");\n",
    "plt.figure(figsize=(9,7))\n",
    "sns.boxplot(x='fuel', y='price',data=df2).set(title=\"Fuel type vs price distribution:boxplot\")\n",
    "plt.figure(figsize=(9,7))\n",
    "sns.boxplot(x='is_4wd', y='price',data=df2).set(title=\"4WD vs price distribution:boxplot\")\n",
    "plt.figure(figsize=(9,7))\n",
    "sns.boxplot(x='is_4wd', y='cylinders',data=df2).set(title=\"4WD vs cylinders distribution:boxplot\");"
   ]
  },
  {
   "cell_type": "code",
   "execution_count": null,
   "metadata": {
    "scrolled": false
   },
   "outputs": [],
   "source": [
    "# Vehicles age vs price scatterplot\n",
    "sns.scatterplot(data=df2,x='car_age', y='price', alpha=.01).set(title='Vehicles age vs price');"
   ]
  },
  {
   "cell_type": "code",
   "execution_count": null,
   "metadata": {},
   "outputs": [],
   "source": [
    "# Average millage vs price scatterplot\n",
    "sns.scatterplot(data=df2,x='avg_mil', y='price', alpha=.01).set(title='Average millage vs price');"
   ]
  },
  {
   "cell_type": "code",
   "execution_count": null,
   "metadata": {},
   "outputs": [],
   "source": [
    "# Odometer vs price scatterplot\n",
    "sns.scatterplot(data=df2,x='odometer', y='price', alpha=.01).set(title='Odometer vs price');"
   ]
  },
  {
   "cell_type": "code",
   "execution_count": null,
   "metadata": {},
   "outputs": [],
   "source": [
    "# Model_year vs price scatterplot\n",
    "sns.scatterplot(data=df2,x='model_year', y='price', alpha=.01).set(title='Model_year vs price');"
   ]
  },
  {
   "cell_type": "code",
   "execution_count": null,
   "metadata": {},
   "outputs": [],
   "source": [
    "# Days_listed vs price scatterplot\n",
    "sns.scatterplot(data=df2,x='price', y='days_listed', alpha=.01).set(title='Model_year vs price');"
   ]
  },
  {
   "cell_type": "code",
   "execution_count": null,
   "metadata": {
    "scrolled": false
   },
   "outputs": [],
   "source": [
    "# SUV, Sedan, and Truck: Vehicle type vs price scatterplot\n",
    "plt.figure(figsize=(9, 7))\n",
    "sns.scatterplot(data=df2[df2['type'].isin(['SUV', 'sedan','truck'])],\n",
    "                x='car_age', y='price', alpha=.075,hue='type').set(title='Vehicle age of SUV,Sedan,Truck type vs price');"
   ]
  },
  {
   "cell_type": "code",
   "execution_count": null,
   "metadata": {},
   "outputs": [],
   "source": [
    "# SUV, Sedan, and Truck (type):Vehicle's age vs price hexplot\n",
    "df2.plot(x='car_age', y='days_listed', kind='hexbin', gridsize=20, figsize=(9, 7), sharex=False, grid=True)\n",
    "plt.title('Vehicle age of SUV,Sedan,Truck type vs Price:hexplot');"
   ]
  },
  {
   "cell_type": "code",
   "execution_count": null,
   "metadata": {},
   "outputs": [],
   "source": [
    "# SUV, Sedan, and Truck (type):Vehicle's age vs price hexplot\n",
    "df2.plot(x='car_age', y='price', kind='hexbin', gridsize=20, figsize=(9, 7), sharex=False, grid=True)\n",
    "plt.title('Vehicle age of SUV,Sedan,Truck type vs Price:hexplot');"
   ]
  },
  {
   "cell_type": "code",
   "execution_count": null,
   "metadata": {},
   "outputs": [],
   "source": [
    "# SUV, Sedan, and Truck (type):Vehicle's age vs price hexplot\n",
    "df2.plot(x='days_listed', y='price', kind='hexbin', gridsize=20, figsize=(9, 7), sharex=False, grid=True)\n",
    "plt.title('Days_listed of SUV,Sedan,Truck type vs Price:hexplot');"
   ]
  },
  {
   "cell_type": "code",
   "execution_count": null,
   "metadata": {},
   "outputs": [],
   "source": [
    "# Median and mean value of Days_listed on vechicle type pivot table.\n",
    "df2.pivot_table(index='type', values='days_listed', aggfunc=('mean', 'median')).round(2)"
   ]
  },
  {
   "cell_type": "markdown",
   "metadata": {},
   "source": [
    "**Summarized New Dataframe without Outliers**\n",
    "\n",
    "- Correlation matrix showed `model year` and `odometer` has the highest value correlation. Which makes sense because the higher value `odometer` tend to be produced from older vehicles. 4WD and cylinders have high correlation as well, data showed 4WD car has at least more than 6 cylinders. \n",
    "\n",
    "- Majority of the vehicle age is approximately 7 years. Green and purple `color` vehicle higher age distribution than majority of the `color`s. Majority of the lower average vehicle age are in better `condition`. Surprisingly, vehicle age of fair `condition` vehicle are higher than vehicle with salvage `condition`. \n",
    "\n",
    "- Vehicle `color` orange and yellow showed higher median price compared to the rest of the color. \n",
    "\n",
    "- `odometer` distribution looks normal after getting rid of the outliers, peaking at 125k miles. Based on `odometer` vs `price` scatter plot, 75k to 175k miles vehicle are listed around 2500 to 10000 `price` range. \n",
    "\n",
    "- Peak distribution of the `price` of the vehicle listed are in range of 5000 to 7500. \n",
    "\n",
    "- Majority of the `model year` posted are in year 2011 to 2012. `price` range on later `model year` car tend to be wider and higher compared to car `model year` before 2011. \n",
    "\n",
    "- Based on days listed distribution histogram, most of the ads are listed for 30 to 33 days (about 1 month). Distribution seems normal across all the `colors` of the vehicle on day listed. `color` does not have any impact on the days listed. However, the type of the bus has longer day listed on ad vs every other type of the vehicle, median days listed are approximately 50days (about 1 and a half months) based on 'type vs days listed distribution' boxplot. Most of the data listed between 0 to 40 days (about 1 and a half months), in the `price` range of 2500 to 10000. \n",
    "\n",
    "- Pickup, Truck, convertible, coupe, and off-road type vehicle showed higher `price` range, approximately 15000. The rest of the `vehicle type` has median `price` lower than 10000. \n",
    "\n",
    "- SUV, Sedan, and Truck showed as the most common vehicle listed on the ads. Scatter plot showed that sedan has lowest `price` range among the three types, and truck has the highest `price` range among three `vehicle type`s. \n",
    "\n",
    "- Majority SUV, Sedan, and Truck listed are 7 years old, and typical listed days ranged between 25 to 38 days (about 1 month 1 week) with `price` range of 4500 to 9000. \n",
    "\n",
    "- `condition` vs `price` distribution boxplot showed new, new, excellent has higher `price` range. \n",
    "\n",
    "- Diesel and 'other' `fuel` type showed a higher price` range at 17000 compared to gas, hybrid, and electric `fuel` type vehicle which is the median below 10000. "
   ]
  },
  {
   "cell_type": "markdown",
   "metadata": {},
   "source": [
    "### Price factors\n",
    "Newer or later `model year` vehicle have higher price range. `type` of vehicle are the price factor as well. Vehicle `color` orange and yellow seems to be the price factor as well, purple color lowers the price tag. Vehicle `type` pickup, truck, coupe, offroad, and convertible are the listed at higher price range. Besides that, new, new, excellent `condition` listed at a higher price as well. Lastly, the vehicle `fuel` `type` with Diesel and other `fuel` `type` has a higher price range compared to the rest of the `fuel` `type` vehicle. "
   ]
  },
  {
   "cell_type": "markdown",
   "metadata": {},
   "source": [
    "## General conclusion\n",
    "- Data preprocessing: \n",
    "\n",
    "    - Missing values of the `model` year filled with median of years difference from year posted and model year. \n",
    "\n",
    "    - Missing values of the `cylinder` filled with group by type and model median. \n",
    "\n",
    "    - 15 Left over values of `cylinder` are dropped. \n",
    "\n",
    "    - Both 0 and missing values on `odometer` are filled group by model year median. \n",
    "\n",
    "    - Missing values in `paint color` are replaced with `'others'` \n",
    "\n",
    "    - `Price` lower than 100 are being replaced with group by model and type median. \n",
    "\n",
    "    - Dataframe has no duplicates at all. \n",
    "\n",
    "    - Model `year, is_4wd, odometer, and cylinders` datatype changed to `Int64`. \n",
    "\n",
    "     \n",
    "\n",
    "     \n",
    "\n",
    "- My analysis shows these factors have the most impact on vehicle prices: \n",
    "\n",
    "    - `color: Yellow or Orange, NOT purple` \n",
    "\n",
    "    - `model_year: above 2010` \n",
    "\n",
    "    - `vehicle type: pickup, truck, coupe, convertible, or offroad` \n",
    "\n",
    "    - `condition: new, like new, or excellent` \n",
    "\n",
    "    - `fuel type: diesel or other` \n",
    "\n",
    "     \n",
    "\n",
    "**I recommend we create a quiz or filtered base listing to auto-generated price range for the client who posted their ad on Crankshaft List based on their vehicle's data to list their vehicle within the correct price range, which can help increase their vehicle sales.** "
   ]
  }
 ],
 "metadata": {
  "ExecuteTimeLog": [
   {
    "duration": 828,
    "start_time": "2021-11-16T09:21:11.304Z"
   },
   {
    "duration": 893,
    "start_time": "2021-11-16T09:21:17.728Z"
   },
   {
    "duration": 1150,
    "start_time": "2021-11-16T09:21:29.568Z"
   },
   {
    "duration": 3,
    "start_time": "2021-11-16T09:24:14.495Z"
   },
   {
    "duration": 120,
    "start_time": "2021-11-16T09:24:46.630Z"
   },
   {
    "duration": 3,
    "start_time": "2021-11-16T09:28:27.882Z"
   },
   {
    "duration": 4,
    "start_time": "2021-11-16T09:29:54.281Z"
   },
   {
    "duration": 3,
    "start_time": "2021-11-16T09:30:45.936Z"
   },
   {
    "duration": 4,
    "start_time": "2021-11-16T09:31:06.300Z"
   },
   {
    "duration": 113,
    "start_time": "2021-11-16T09:31:37.208Z"
   },
   {
    "duration": 143,
    "start_time": "2021-11-16T09:31:48.656Z"
   },
   {
    "duration": 98,
    "start_time": "2021-11-16T09:31:55.678Z"
   },
   {
    "duration": 3,
    "start_time": "2021-11-16T09:32:08.535Z"
   },
   {
    "duration": 111,
    "start_time": "2021-11-16T09:32:10.120Z"
   },
   {
    "duration": 3,
    "start_time": "2021-11-16T09:32:15.732Z"
   },
   {
    "duration": 4,
    "start_time": "2021-11-16T09:32:29.423Z"
   },
   {
    "duration": 3,
    "start_time": "2021-11-16T10:03:03.074Z"
   },
   {
    "duration": 3,
    "start_time": "2021-11-16T10:10:01.288Z"
   },
   {
    "duration": 3,
    "start_time": "2021-11-16T10:10:46.923Z"
   },
   {
    "duration": 121,
    "start_time": "2021-11-16T10:37:46.494Z"
   },
   {
    "duration": 125,
    "start_time": "2021-11-16T10:38:20.632Z"
   },
   {
    "duration": 112,
    "start_time": "2021-11-16T10:46:53.001Z"
   },
   {
    "duration": 110,
    "start_time": "2021-11-16T10:48:25.775Z"
   },
   {
    "duration": 3,
    "start_time": "2021-11-16T10:50:18.720Z"
   },
   {
    "duration": 4,
    "start_time": "2021-11-16T10:50:37.649Z"
   },
   {
    "duration": 2,
    "start_time": "2021-11-16T10:50:51.884Z"
   },
   {
    "duration": 3,
    "start_time": "2021-11-16T10:51:56.237Z"
   },
   {
    "duration": 101,
    "start_time": "2021-11-16T10:53:13.791Z"
   },
   {
    "duration": 3,
    "start_time": "2021-11-16T10:55:59.186Z"
   },
   {
    "duration": 3,
    "start_time": "2021-11-16T10:56:10.751Z"
   },
   {
    "duration": 3,
    "start_time": "2021-11-16T10:56:49.038Z"
   },
   {
    "duration": 3,
    "start_time": "2021-11-16T10:56:49.174Z"
   },
   {
    "duration": 4,
    "start_time": "2021-11-16T10:56:49.414Z"
   },
   {
    "duration": 3,
    "start_time": "2021-11-16T10:56:49.680Z"
   },
   {
    "duration": 3,
    "start_time": "2021-11-16T10:56:50.370Z"
   },
   {
    "duration": 114,
    "start_time": "2021-11-16T10:59:34.518Z"
   },
   {
    "duration": 3,
    "start_time": "2021-11-16T11:01:41.201Z"
   },
   {
    "duration": 116,
    "start_time": "2021-11-16T11:01:48.754Z"
   },
   {
    "duration": 3,
    "start_time": "2021-11-16T11:02:16.685Z"
   },
   {
    "duration": 3,
    "start_time": "2021-11-16T11:02:19.479Z"
   },
   {
    "duration": 3,
    "start_time": "2021-11-16T11:02:47.067Z"
   },
   {
    "duration": 3,
    "start_time": "2021-11-16T11:02:49.353Z"
   },
   {
    "duration": 3,
    "start_time": "2021-11-16T11:03:07.835Z"
   },
   {
    "duration": 3,
    "start_time": "2021-11-16T11:03:07.953Z"
   },
   {
    "duration": 112,
    "start_time": "2021-11-16T11:07:52.072Z"
   },
   {
    "duration": 187,
    "start_time": "2021-11-16T11:09:23.468Z"
   },
   {
    "duration": 4,
    "start_time": "2021-11-16T11:10:01.455Z"
   },
   {
    "duration": 3,
    "start_time": "2021-11-16T11:10:05.069Z"
   },
   {
    "duration": 4,
    "start_time": "2021-11-16T11:10:13.376Z"
   },
   {
    "duration": 3,
    "start_time": "2021-11-16T11:10:14.434Z"
   },
   {
    "duration": 3,
    "start_time": "2021-11-16T11:10:22.853Z"
   },
   {
    "duration": 4,
    "start_time": "2021-11-16T11:27:29.279Z"
   },
   {
    "duration": 4,
    "start_time": "2021-11-16T11:29:08.919Z"
   },
   {
    "duration": 118,
    "start_time": "2021-11-16T11:29:46.703Z"
   },
   {
    "duration": 437,
    "start_time": "2021-11-16T11:36:02.181Z"
   },
   {
    "duration": 157,
    "start_time": "2021-11-16T11:36:14.388Z"
   },
   {
    "duration": 207,
    "start_time": "2021-11-16T11:47:15.898Z"
   },
   {
    "duration": 3,
    "start_time": "2021-11-16T11:53:52.092Z"
   },
   {
    "duration": 3,
    "start_time": "2021-11-16T11:53:52.236Z"
   },
   {
    "duration": 3,
    "start_time": "2021-11-16T11:59:12.005Z"
   },
   {
    "duration": 112,
    "start_time": "2021-11-16T12:00:33.446Z"
   },
   {
    "duration": 3,
    "start_time": "2021-11-16T12:02:14.453Z"
   },
   {
    "duration": 3,
    "start_time": "2021-11-16T12:02:39.512Z"
   },
   {
    "duration": 106,
    "start_time": "2021-11-16T12:03:03.460Z"
   },
   {
    "duration": 1558,
    "start_time": "2021-12-12T19:57:30.969Z"
   },
   {
    "duration": 312,
    "start_time": "2021-12-12T19:57:32.530Z"
   },
   {
    "duration": 36,
    "start_time": "2021-12-12T19:57:32.846Z"
   },
   {
    "duration": 7,
    "start_time": "2021-12-12T19:57:32.885Z"
   },
   {
    "duration": 148,
    "start_time": "2021-12-12T19:57:32.895Z"
   },
   {
    "duration": 31,
    "start_time": "2021-12-12T19:57:33.046Z"
   },
   {
    "duration": 24,
    "start_time": "2021-12-12T19:57:33.079Z"
   },
   {
    "duration": 19,
    "start_time": "2021-12-12T19:57:33.107Z"
   },
   {
    "duration": 51,
    "start_time": "2021-12-12T19:57:33.129Z"
   },
   {
    "duration": 16,
    "start_time": "2021-12-12T19:57:33.182Z"
   },
   {
    "duration": 11,
    "start_time": "2021-12-12T19:57:33.200Z"
   },
   {
    "duration": 46,
    "start_time": "2021-12-12T19:57:33.213Z"
   },
   {
    "duration": 5,
    "start_time": "2021-12-12T19:57:33.262Z"
   },
   {
    "duration": 14,
    "start_time": "2021-12-12T19:57:33.269Z"
   },
   {
    "duration": 4,
    "start_time": "2021-12-12T19:57:33.285Z"
   },
   {
    "duration": 4,
    "start_time": "2021-12-12T19:57:33.292Z"
   },
   {
    "duration": 403,
    "start_time": "2021-12-12T19:57:33.299Z"
   },
   {
    "duration": 21,
    "start_time": "2021-12-12T19:57:33.704Z"
   },
   {
    "duration": 39,
    "start_time": "2021-12-12T19:57:33.728Z"
   },
   {
    "duration": 5,
    "start_time": "2021-12-12T19:57:33.770Z"
   },
   {
    "duration": 22,
    "start_time": "2021-12-12T19:57:33.777Z"
   },
   {
    "duration": 21,
    "start_time": "2021-12-12T19:57:33.801Z"
   },
   {
    "duration": 7,
    "start_time": "2021-12-12T19:57:33.861Z"
   },
   {
    "duration": 4,
    "start_time": "2021-12-12T19:57:33.874Z"
   },
   {
    "duration": 96,
    "start_time": "2021-12-12T19:57:33.881Z"
   },
   {
    "duration": 15,
    "start_time": "2021-12-12T19:57:33.980Z"
   },
   {
    "duration": 5,
    "start_time": "2021-12-12T19:57:33.997Z"
   },
   {
    "duration": 17,
    "start_time": "2021-12-12T19:57:34.005Z"
   },
   {
    "duration": 54,
    "start_time": "2021-12-12T19:57:34.024Z"
   },
   {
    "duration": 10,
    "start_time": "2021-12-12T19:57:34.081Z"
   },
   {
    "duration": 23,
    "start_time": "2021-12-12T19:57:34.093Z"
   },
   {
    "duration": 396,
    "start_time": "2021-12-12T19:57:34.118Z"
   },
   {
    "duration": 374,
    "start_time": "2021-12-12T19:57:34.517Z"
   },
   {
    "duration": 19,
    "start_time": "2021-12-12T19:57:34.894Z"
   },
   {
    "duration": 7,
    "start_time": "2021-12-12T19:57:34.915Z"
   },
   {
    "duration": 52,
    "start_time": "2021-12-12T19:57:34.925Z"
   },
   {
    "duration": 54,
    "start_time": "2021-12-12T19:57:34.979Z"
   },
   {
    "duration": 42,
    "start_time": "2021-12-12T19:57:35.036Z"
   },
   {
    "duration": 27,
    "start_time": "2021-12-12T19:57:35.080Z"
   },
   {
    "duration": 51,
    "start_time": "2021-12-12T19:57:35.110Z"
   },
   {
    "duration": 17,
    "start_time": "2021-12-12T19:57:35.164Z"
   },
   {
    "duration": 12,
    "start_time": "2021-12-12T19:57:35.183Z"
   },
   {
    "duration": 64,
    "start_time": "2021-12-12T19:57:35.198Z"
   },
   {
    "duration": 7,
    "start_time": "2021-12-12T19:57:35.264Z"
   },
   {
    "duration": 31,
    "start_time": "2021-12-12T19:57:35.274Z"
   },
   {
    "duration": 14,
    "start_time": "2021-12-12T19:57:35.307Z"
   },
   {
    "duration": 440,
    "start_time": "2021-12-12T19:57:35.359Z"
   },
   {
    "duration": 25,
    "start_time": "2021-12-12T19:57:35.777Z"
   },
   {
    "duration": -32,
    "start_time": "2021-12-12T19:57:35.835Z"
   },
   {
    "duration": -35,
    "start_time": "2021-12-12T19:57:35.840Z"
   },
   {
    "duration": -39,
    "start_time": "2021-12-12T19:57:35.845Z"
   },
   {
    "duration": -42,
    "start_time": "2021-12-12T19:57:35.849Z"
   },
   {
    "duration": -45,
    "start_time": "2021-12-12T19:57:35.854Z"
   },
   {
    "duration": -48,
    "start_time": "2021-12-12T19:57:35.858Z"
   },
   {
    "duration": -74,
    "start_time": "2021-12-12T19:57:35.886Z"
   },
   {
    "duration": -80,
    "start_time": "2021-12-12T19:57:35.893Z"
   },
   {
    "duration": -84,
    "start_time": "2021-12-12T19:57:35.898Z"
   },
   {
    "duration": -87,
    "start_time": "2021-12-12T19:57:35.903Z"
   },
   {
    "duration": -91,
    "start_time": "2021-12-12T19:57:35.908Z"
   },
   {
    "duration": -93,
    "start_time": "2021-12-12T19:57:35.912Z"
   },
   {
    "duration": -96,
    "start_time": "2021-12-12T19:57:35.917Z"
   },
   {
    "duration": -99,
    "start_time": "2021-12-12T19:57:35.921Z"
   },
   {
    "duration": -121,
    "start_time": "2021-12-12T19:57:35.944Z"
   },
   {
    "duration": -123,
    "start_time": "2021-12-12T19:57:35.948Z"
   },
   {
    "duration": -127,
    "start_time": "2021-12-12T19:57:35.953Z"
   },
   {
    "duration": -129,
    "start_time": "2021-12-12T19:57:35.956Z"
   },
   {
    "duration": -132,
    "start_time": "2021-12-12T19:57:35.960Z"
   },
   {
    "duration": -133,
    "start_time": "2021-12-12T19:57:35.963Z"
   },
   {
    "duration": -137,
    "start_time": "2021-12-12T19:57:35.968Z"
   },
   {
    "duration": -139,
    "start_time": "2021-12-12T19:57:35.971Z"
   },
   {
    "duration": -142,
    "start_time": "2021-12-12T19:57:35.975Z"
   },
   {
    "duration": -144,
    "start_time": "2021-12-12T19:57:35.978Z"
   },
   {
    "duration": -146,
    "start_time": "2021-12-12T19:57:35.981Z"
   },
   {
    "duration": -149,
    "start_time": "2021-12-12T19:57:35.985Z"
   },
   {
    "duration": -150,
    "start_time": "2021-12-12T19:57:35.988Z"
   },
   {
    "duration": -132,
    "start_time": "2021-12-12T19:57:35.991Z"
   },
   {
    "duration": -133,
    "start_time": "2021-12-12T19:57:35.994Z"
   },
   {
    "duration": 4937,
    "start_time": "2021-12-12T20:01:22.314Z"
   },
   {
    "duration": 4118,
    "start_time": "2021-12-12T20:01:44.835Z"
   },
   {
    "duration": 1535,
    "start_time": "2021-12-12T20:01:48.956Z"
   },
   {
    "duration": 561,
    "start_time": "2021-12-12T20:01:50.499Z"
   },
   {
    "duration": 28,
    "start_time": "2021-12-12T20:01:51.063Z"
   },
   {
    "duration": 9,
    "start_time": "2021-12-12T20:01:51.094Z"
   },
   {
    "duration": 159,
    "start_time": "2021-12-12T20:01:51.106Z"
   },
   {
    "duration": 31,
    "start_time": "2021-12-12T20:01:51.268Z"
   },
   {
    "duration": 62,
    "start_time": "2021-12-12T20:01:51.305Z"
   },
   {
    "duration": 24,
    "start_time": "2021-12-12T20:01:51.371Z"
   },
   {
    "duration": 33,
    "start_time": "2021-12-12T20:01:51.398Z"
   },
   {
    "duration": 40,
    "start_time": "2021-12-12T20:01:51.434Z"
   },
   {
    "duration": 13,
    "start_time": "2021-12-12T20:01:51.477Z"
   },
   {
    "duration": 13,
    "start_time": "2021-12-12T20:01:51.493Z"
   },
   {
    "duration": 7,
    "start_time": "2021-12-12T20:01:51.509Z"
   },
   {
    "duration": 55,
    "start_time": "2021-12-12T20:01:51.519Z"
   },
   {
    "duration": 5,
    "start_time": "2021-12-12T20:01:51.577Z"
   },
   {
    "duration": 6,
    "start_time": "2021-12-12T20:01:51.585Z"
   },
   {
    "duration": 396,
    "start_time": "2021-12-12T20:01:51.594Z"
   },
   {
    "duration": 31,
    "start_time": "2021-12-12T20:01:51.993Z"
   },
   {
    "duration": 41,
    "start_time": "2021-12-12T20:01:52.027Z"
   },
   {
    "duration": 4,
    "start_time": "2021-12-12T20:01:52.071Z"
   },
   {
    "duration": 25,
    "start_time": "2021-12-12T20:01:52.077Z"
   },
   {
    "duration": 55,
    "start_time": "2021-12-12T20:01:52.110Z"
   },
   {
    "duration": 7,
    "start_time": "2021-12-12T20:01:52.171Z"
   },
   {
    "duration": 4,
    "start_time": "2021-12-12T20:01:52.181Z"
   },
   {
    "duration": 91,
    "start_time": "2021-12-12T20:01:52.187Z"
   },
   {
    "duration": 15,
    "start_time": "2021-12-12T20:01:52.280Z"
   },
   {
    "duration": 4,
    "start_time": "2021-12-12T20:01:52.297Z"
   },
   {
    "duration": 13,
    "start_time": "2021-12-12T20:01:52.304Z"
   },
   {
    "duration": 47,
    "start_time": "2021-12-12T20:01:52.320Z"
   },
   {
    "duration": 9,
    "start_time": "2021-12-12T20:01:52.370Z"
   },
   {
    "duration": 24,
    "start_time": "2021-12-12T20:01:52.382Z"
   },
   {
    "duration": 411,
    "start_time": "2021-12-12T20:01:52.410Z"
   },
   {
    "duration": 353,
    "start_time": "2021-12-12T20:01:52.824Z"
   },
   {
    "duration": 17,
    "start_time": "2021-12-12T20:01:53.180Z"
   },
   {
    "duration": 4,
    "start_time": "2021-12-12T20:01:53.199Z"
   },
   {
    "duration": 26,
    "start_time": "2021-12-12T20:01:53.205Z"
   },
   {
    "duration": 44,
    "start_time": "2021-12-12T20:01:53.258Z"
   },
   {
    "duration": 22,
    "start_time": "2021-12-12T20:01:53.304Z"
   },
   {
    "duration": 46,
    "start_time": "2021-12-12T20:01:53.328Z"
   },
   {
    "duration": 20,
    "start_time": "2021-12-12T20:01:53.377Z"
   },
   {
    "duration": 14,
    "start_time": "2021-12-12T20:01:53.399Z"
   },
   {
    "duration": 44,
    "start_time": "2021-12-12T20:01:53.415Z"
   },
   {
    "duration": 34,
    "start_time": "2021-12-12T20:01:53.461Z"
   },
   {
    "duration": 10,
    "start_time": "2021-12-12T20:01:53.497Z"
   },
   {
    "duration": 57,
    "start_time": "2021-12-12T20:01:53.509Z"
   },
   {
    "duration": 14,
    "start_time": "2021-12-12T20:01:53.568Z"
   },
   {
    "duration": 555,
    "start_time": "2021-12-12T20:01:53.585Z"
   },
   {
    "duration": 403,
    "start_time": "2021-12-12T20:01:54.143Z"
   },
   {
    "duration": 423,
    "start_time": "2021-12-12T20:01:54.549Z"
   },
   {
    "duration": 480,
    "start_time": "2021-12-12T20:01:54.975Z"
   },
   {
    "duration": 303,
    "start_time": "2021-12-12T20:01:55.459Z"
   },
   {
    "duration": 440,
    "start_time": "2021-12-12T20:01:55.764Z"
   },
   {
    "duration": 414,
    "start_time": "2021-12-12T20:01:56.207Z"
   },
   {
    "duration": 285,
    "start_time": "2021-12-12T20:01:56.623Z"
   },
   {
    "duration": 225,
    "start_time": "2021-12-12T20:01:56.911Z"
   },
   {
    "duration": 4753,
    "start_time": "2021-12-12T20:01:57.138Z"
   },
   {
    "duration": 5,
    "start_time": "2021-12-12T20:02:01.893Z"
   },
   {
    "duration": 32,
    "start_time": "2021-12-12T20:02:01.900Z"
   },
   {
    "duration": 33,
    "start_time": "2021-12-12T20:02:01.935Z"
   },
   {
    "duration": 1174,
    "start_time": "2021-12-12T20:02:01.971Z"
   },
   {
    "duration": 390,
    "start_time": "2021-12-12T20:02:03.147Z"
   },
   {
    "duration": 477,
    "start_time": "2021-12-12T20:02:03.540Z"
   },
   {
    "duration": 465,
    "start_time": "2021-12-12T20:02:04.019Z"
   },
   {
    "duration": 443,
    "start_time": "2021-12-12T20:02:04.487Z"
   },
   {
    "duration": 436,
    "start_time": "2021-12-12T20:02:04.933Z"
   },
   {
    "duration": 422,
    "start_time": "2021-12-12T20:02:05.372Z"
   },
   {
    "duration": 5818,
    "start_time": "2021-12-12T20:02:05.802Z"
   },
   {
    "duration": 1194,
    "start_time": "2021-12-12T20:02:11.623Z"
   },
   {
    "duration": 1252,
    "start_time": "2021-12-12T20:02:12.819Z"
   },
   {
    "duration": 1255,
    "start_time": "2021-12-12T20:02:14.074Z"
   },
   {
    "duration": 1158,
    "start_time": "2021-12-12T20:02:15.332Z"
   },
   {
    "duration": 1198,
    "start_time": "2021-12-12T20:02:16.493Z"
   },
   {
    "duration": 3593,
    "start_time": "2021-12-12T20:02:17.693Z"
   },
   {
    "duration": 649,
    "start_time": "2021-12-12T20:02:21.289Z"
   },
   {
    "duration": 645,
    "start_time": "2021-12-12T20:02:21.941Z"
   },
   {
    "duration": 647,
    "start_time": "2021-12-12T20:02:22.589Z"
   },
   {
    "duration": 43,
    "start_time": "2021-12-12T20:02:23.238Z"
   },
   {
    "duration": 134,
    "start_time": "2021-12-12T20:08:18.571Z"
   },
   {
    "duration": 1165,
    "start_time": "2021-12-14T06:08:42.006Z"
   },
   {
    "duration": 352,
    "start_time": "2021-12-14T06:08:43.189Z"
   },
   {
    "duration": 20,
    "start_time": "2021-12-14T06:08:43.542Z"
   },
   {
    "duration": 8,
    "start_time": "2021-12-14T06:08:45.015Z"
   },
   {
    "duration": 86,
    "start_time": "2021-12-14T06:08:46.973Z"
   },
   {
    "duration": 15,
    "start_time": "2021-12-14T06:08:47.329Z"
   },
   {
    "duration": 18,
    "start_time": "2021-12-14T06:08:48.211Z"
   },
   {
    "duration": 14,
    "start_time": "2021-12-14T06:08:48.653Z"
   },
   {
    "duration": 16,
    "start_time": "2021-12-14T06:08:50.599Z"
   },
   {
    "duration": 13,
    "start_time": "2021-12-14T06:08:52.502Z"
   },
   {
    "duration": 9,
    "start_time": "2021-12-14T06:08:53.152Z"
   },
   {
    "duration": 9,
    "start_time": "2021-12-14T06:08:53.501Z"
   },
   {
    "duration": 5,
    "start_time": "2021-12-14T06:08:53.879Z"
   },
   {
    "duration": 10,
    "start_time": "2021-12-14T06:08:54.275Z"
   },
   {
    "duration": 4,
    "start_time": "2021-12-14T06:08:55.676Z"
   },
   {
    "duration": 4,
    "start_time": "2021-12-14T06:08:56.164Z"
   },
   {
    "duration": 207,
    "start_time": "2021-12-14T06:08:59.921Z"
   },
   {
    "duration": 14,
    "start_time": "2021-12-14T06:09:15.435Z"
   },
   {
    "duration": 10,
    "start_time": "2021-12-14T06:09:15.806Z"
   },
   {
    "duration": 4,
    "start_time": "2021-12-14T06:09:16.030Z"
   },
   {
    "duration": 14,
    "start_time": "2021-12-14T06:09:16.686Z"
   },
   {
    "duration": 15,
    "start_time": "2021-12-14T06:09:16.976Z"
   },
   {
    "duration": 5,
    "start_time": "2021-12-14T06:09:17.342Z"
   },
   {
    "duration": 4,
    "start_time": "2021-12-14T06:09:17.720Z"
   },
   {
    "duration": 39,
    "start_time": "2021-12-14T06:09:18.103Z"
   },
   {
    "duration": 14,
    "start_time": "2021-12-14T06:09:18.421Z"
   },
   {
    "duration": 4,
    "start_time": "2021-12-14T06:09:18.766Z"
   },
   {
    "duration": 9,
    "start_time": "2021-12-14T06:09:20.008Z"
   },
   {
    "duration": 12,
    "start_time": "2021-12-14T06:09:20.409Z"
   },
   {
    "duration": 3,
    "start_time": "2021-12-14T06:09:53.655Z"
   },
   {
    "duration": 1391,
    "start_time": "2021-12-14T06:09:53.665Z"
   },
   {
    "duration": 318,
    "start_time": "2021-12-14T06:09:55.058Z"
   },
   {
    "duration": 28,
    "start_time": "2021-12-14T06:09:55.378Z"
   },
   {
    "duration": 5,
    "start_time": "2021-12-14T06:09:55.408Z"
   },
   {
    "duration": 104,
    "start_time": "2021-12-14T06:09:55.415Z"
   },
   {
    "duration": 16,
    "start_time": "2021-12-14T06:09:55.520Z"
   },
   {
    "duration": 33,
    "start_time": "2021-12-14T06:09:55.538Z"
   },
   {
    "duration": 15,
    "start_time": "2021-12-14T06:09:55.573Z"
   },
   {
    "duration": 25,
    "start_time": "2021-12-14T06:09:55.609Z"
   },
   {
    "duration": 17,
    "start_time": "2021-12-14T06:09:55.637Z"
   },
   {
    "duration": 10,
    "start_time": "2021-12-14T06:09:55.656Z"
   },
   {
    "duration": 52,
    "start_time": "2021-12-14T06:09:55.668Z"
   },
   {
    "duration": 10,
    "start_time": "2021-12-14T06:09:55.722Z"
   },
   {
    "duration": 12,
    "start_time": "2021-12-14T06:09:55.734Z"
   },
   {
    "duration": 4,
    "start_time": "2021-12-14T06:09:55.748Z"
   },
   {
    "duration": 7,
    "start_time": "2021-12-14T06:09:55.754Z"
   },
   {
    "duration": 371,
    "start_time": "2021-12-14T06:09:55.763Z"
   },
   {
    "duration": 23,
    "start_time": "2021-12-14T06:09:56.136Z"
   },
   {
    "duration": 17,
    "start_time": "2021-12-14T06:09:56.162Z"
   },
   {
    "duration": 25,
    "start_time": "2021-12-14T06:09:56.182Z"
   },
   {
    "duration": 23,
    "start_time": "2021-12-14T06:09:56.209Z"
   },
   {
    "duration": 22,
    "start_time": "2021-12-14T06:09:56.235Z"
   },
   {
    "duration": 6,
    "start_time": "2021-12-14T06:09:56.259Z"
   },
   {
    "duration": 4,
    "start_time": "2021-12-14T06:09:56.267Z"
   },
   {
    "duration": 99,
    "start_time": "2021-12-14T06:09:56.273Z"
   },
   {
    "duration": 12,
    "start_time": "2021-12-14T06:09:56.374Z"
   },
   {
    "duration": 5,
    "start_time": "2021-12-14T06:09:56.407Z"
   },
   {
    "duration": 15,
    "start_time": "2021-12-14T06:09:56.414Z"
   },
   {
    "duration": 9,
    "start_time": "2021-12-14T06:09:57.943Z"
   },
   {
    "duration": 9,
    "start_time": "2021-12-14T06:10:00.174Z"
   },
   {
    "duration": 9,
    "start_time": "2021-12-14T06:10:21.457Z"
   },
   {
    "duration": 7,
    "start_time": "2021-12-14T06:10:27.503Z"
   },
   {
    "duration": 15,
    "start_time": "2021-12-14T06:10:28.155Z"
   },
   {
    "duration": 225,
    "start_time": "2021-12-14T06:10:28.592Z"
   },
   {
    "duration": 195,
    "start_time": "2021-12-14T06:10:29.161Z"
   },
   {
    "duration": 12,
    "start_time": "2021-12-14T06:10:29.615Z"
   },
   {
    "duration": 2,
    "start_time": "2021-12-14T06:10:30.356Z"
   },
   {
    "duration": 17,
    "start_time": "2021-12-14T06:10:30.966Z"
   },
   {
    "duration": 29,
    "start_time": "2021-12-14T06:10:31.610Z"
   },
   {
    "duration": 17,
    "start_time": "2021-12-14T06:10:32.060Z"
   },
   {
    "duration": 15,
    "start_time": "2021-12-14T06:10:33.630Z"
   },
   {
    "duration": 14,
    "start_time": "2021-12-14T06:10:33.999Z"
   },
   {
    "duration": 3,
    "start_time": "2021-12-14T06:11:32.304Z"
   },
   {
    "duration": 1154,
    "start_time": "2021-12-14T06:11:32.311Z"
   },
   {
    "duration": 319,
    "start_time": "2021-12-14T06:11:33.467Z"
   },
   {
    "duration": 19,
    "start_time": "2021-12-14T06:11:33.788Z"
   },
   {
    "duration": 5,
    "start_time": "2021-12-14T06:11:33.809Z"
   },
   {
    "duration": 98,
    "start_time": "2021-12-14T06:11:33.815Z"
   },
   {
    "duration": 13,
    "start_time": "2021-12-14T06:11:33.915Z"
   },
   {
    "duration": 19,
    "start_time": "2021-12-14T06:11:33.930Z"
   },
   {
    "duration": 10,
    "start_time": "2021-12-14T06:11:33.952Z"
   },
   {
    "duration": 44,
    "start_time": "2021-12-14T06:11:33.964Z"
   },
   {
    "duration": 13,
    "start_time": "2021-12-14T06:11:34.009Z"
   },
   {
    "duration": 9,
    "start_time": "2021-12-14T06:11:34.023Z"
   },
   {
    "duration": 8,
    "start_time": "2021-12-14T06:11:34.033Z"
   },
   {
    "duration": 5,
    "start_time": "2021-12-14T06:11:34.042Z"
   },
   {
    "duration": 9,
    "start_time": "2021-12-14T06:11:34.048Z"
   },
   {
    "duration": 3,
    "start_time": "2021-12-14T06:11:34.059Z"
   },
   {
    "duration": 5,
    "start_time": "2021-12-14T06:11:34.063Z"
   },
   {
    "duration": 237,
    "start_time": "2021-12-14T06:11:34.070Z"
   },
   {
    "duration": 13,
    "start_time": "2021-12-14T06:11:34.309Z"
   },
   {
    "duration": 11,
    "start_time": "2021-12-14T06:11:34.324Z"
   },
   {
    "duration": 4,
    "start_time": "2021-12-14T06:11:34.337Z"
   },
   {
    "duration": 16,
    "start_time": "2021-12-14T06:11:34.342Z"
   },
   {
    "duration": 14,
    "start_time": "2021-12-14T06:11:34.360Z"
   },
   {
    "duration": 33,
    "start_time": "2021-12-14T06:11:34.377Z"
   },
   {
    "duration": 5,
    "start_time": "2021-12-14T06:11:34.412Z"
   },
   {
    "duration": 41,
    "start_time": "2021-12-14T06:11:34.418Z"
   },
   {
    "duration": 9,
    "start_time": "2021-12-14T06:11:34.460Z"
   },
   {
    "duration": 3,
    "start_time": "2021-12-14T06:11:34.471Z"
   },
   {
    "duration": 34,
    "start_time": "2021-12-14T06:11:34.475Z"
   },
   {
    "duration": 10,
    "start_time": "2021-12-14T06:11:34.511Z"
   },
   {
    "duration": 9,
    "start_time": "2021-12-14T06:11:34.523Z"
   },
   {
    "duration": 14,
    "start_time": "2021-12-14T06:11:34.534Z"
   },
   {
    "duration": 247,
    "start_time": "2021-12-14T06:11:34.550Z"
   },
   {
    "duration": 194,
    "start_time": "2021-12-14T06:11:34.799Z"
   },
   {
    "duration": 16,
    "start_time": "2021-12-14T06:11:34.995Z"
   },
   {
    "duration": 3,
    "start_time": "2021-12-14T06:11:35.012Z"
   },
   {
    "duration": 20,
    "start_time": "2021-12-14T06:11:35.016Z"
   },
   {
    "duration": 29,
    "start_time": "2021-12-14T06:11:35.037Z"
   },
   {
    "duration": 38,
    "start_time": "2021-12-14T06:11:35.068Z"
   },
   {
    "duration": 14,
    "start_time": "2021-12-14T06:11:35.108Z"
   },
   {
    "duration": 15,
    "start_time": "2021-12-14T06:11:38.441Z"
   },
   {
    "duration": 15,
    "start_time": "2021-12-14T06:11:39.236Z"
   },
   {
    "duration": 10,
    "start_time": "2021-12-14T06:11:43.696Z"
   },
   {
    "duration": 3,
    "start_time": "2021-12-14T06:12:53.254Z"
   },
   {
    "duration": 1147,
    "start_time": "2021-12-14T06:12:53.261Z"
   },
   {
    "duration": 309,
    "start_time": "2021-12-14T06:12:54.410Z"
   },
   {
    "duration": 22,
    "start_time": "2021-12-14T06:12:54.722Z"
   },
   {
    "duration": 6,
    "start_time": "2021-12-14T06:12:54.747Z"
   },
   {
    "duration": 105,
    "start_time": "2021-12-14T06:12:54.755Z"
   },
   {
    "duration": 17,
    "start_time": "2021-12-14T06:12:54.863Z"
   },
   {
    "duration": 37,
    "start_time": "2021-12-14T06:12:54.882Z"
   },
   {
    "duration": 12,
    "start_time": "2021-12-14T06:12:54.922Z"
   },
   {
    "duration": 19,
    "start_time": "2021-12-14T06:12:54.937Z"
   },
   {
    "duration": 13,
    "start_time": "2021-12-14T06:12:54.958Z"
   },
   {
    "duration": 44,
    "start_time": "2021-12-14T06:12:54.972Z"
   },
   {
    "duration": 10,
    "start_time": "2021-12-14T06:12:55.017Z"
   },
   {
    "duration": 6,
    "start_time": "2021-12-14T06:12:55.029Z"
   },
   {
    "duration": 14,
    "start_time": "2021-12-14T06:12:55.036Z"
   },
   {
    "duration": 4,
    "start_time": "2021-12-14T06:12:55.051Z"
   },
   {
    "duration": 6,
    "start_time": "2021-12-14T06:12:55.057Z"
   },
   {
    "duration": 246,
    "start_time": "2021-12-14T06:12:55.064Z"
   },
   {
    "duration": 15,
    "start_time": "2021-12-14T06:12:55.312Z"
   },
   {
    "duration": 12,
    "start_time": "2021-12-14T06:12:55.329Z"
   },
   {
    "duration": 4,
    "start_time": "2021-12-14T06:12:55.343Z"
   },
   {
    "duration": 16,
    "start_time": "2021-12-14T06:12:55.349Z"
   },
   {
    "duration": 53,
    "start_time": "2021-12-14T06:12:55.367Z"
   },
   {
    "duration": 5,
    "start_time": "2021-12-14T06:12:55.424Z"
   },
   {
    "duration": 4,
    "start_time": "2021-12-14T06:12:55.432Z"
   },
   {
    "duration": 70,
    "start_time": "2021-12-14T06:12:55.438Z"
   },
   {
    "duration": 11,
    "start_time": "2021-12-14T06:12:55.510Z"
   },
   {
    "duration": 3,
    "start_time": "2021-12-14T06:12:55.523Z"
   },
   {
    "duration": 21,
    "start_time": "2021-12-14T06:12:55.528Z"
   },
   {
    "duration": 10,
    "start_time": "2021-12-14T06:12:55.551Z"
   },
   {
    "duration": 17,
    "start_time": "2021-12-14T06:12:55.563Z"
   },
   {
    "duration": 30,
    "start_time": "2021-12-14T06:12:55.582Z"
   },
   {
    "duration": 238,
    "start_time": "2021-12-14T06:12:55.613Z"
   },
   {
    "duration": 207,
    "start_time": "2021-12-14T06:12:55.853Z"
   },
   {
    "duration": 21,
    "start_time": "2021-12-14T06:12:56.079Z"
   },
   {
    "duration": 3,
    "start_time": "2021-12-14T06:12:56.102Z"
   },
   {
    "duration": 25,
    "start_time": "2021-12-14T06:12:56.107Z"
   },
   {
    "duration": 40,
    "start_time": "2021-12-14T06:12:56.135Z"
   },
   {
    "duration": 44,
    "start_time": "2021-12-14T06:12:56.177Z"
   },
   {
    "duration": 15,
    "start_time": "2021-12-14T06:12:56.223Z"
   },
   {
    "duration": 14,
    "start_time": "2021-12-14T06:12:59.313Z"
   },
   {
    "duration": 421,
    "start_time": "2021-12-14T06:12:59.800Z"
   },
   {
    "duration": 355,
    "start_time": "2021-12-14T06:13:19.180Z"
   },
   {
    "duration": 350,
    "start_time": "2021-12-14T06:13:35.804Z"
   },
   {
    "duration": 14,
    "start_time": "2021-12-14T06:13:50.755Z"
   },
   {
    "duration": 11,
    "start_time": "2021-12-14T06:13:55.546Z"
   },
   {
    "duration": 9,
    "start_time": "2021-12-14T06:13:58.413Z"
   },
   {
    "duration": 21,
    "start_time": "2021-12-14T06:13:59.900Z"
   },
   {
    "duration": 7,
    "start_time": "2021-12-14T06:14:01.038Z"
   },
   {
    "duration": 22,
    "start_time": "2021-12-14T06:14:02.510Z"
   },
   {
    "duration": 12,
    "start_time": "2021-12-14T06:14:03.014Z"
   },
   {
    "duration": 358,
    "start_time": "2021-12-14T06:14:04.000Z"
   },
   {
    "duration": 347,
    "start_time": "2021-12-14T06:14:04.525Z"
   },
   {
    "duration": 4276,
    "start_time": "2021-12-14T06:14:22.836Z"
   },
   {
    "duration": 2599,
    "start_time": "2021-12-14T06:14:38.511Z"
   },
   {
    "duration": 1127,
    "start_time": "2021-12-14T06:14:44.302Z"
   },
   {
    "duration": 303,
    "start_time": "2021-12-14T06:14:45.431Z"
   },
   {
    "duration": 19,
    "start_time": "2021-12-14T06:14:45.736Z"
   },
   {
    "duration": 5,
    "start_time": "2021-12-14T06:14:45.757Z"
   },
   {
    "duration": 86,
    "start_time": "2021-12-14T06:14:46.530Z"
   },
   {
    "duration": 14,
    "start_time": "2021-12-14T06:14:46.907Z"
   },
   {
    "duration": 18,
    "start_time": "2021-12-14T06:14:47.247Z"
   },
   {
    "duration": 14,
    "start_time": "2021-12-14T06:14:47.565Z"
   },
   {
    "duration": 17,
    "start_time": "2021-12-14T06:14:47.907Z"
   },
   {
    "duration": 12,
    "start_time": "2021-12-14T06:14:49.311Z"
   },
   {
    "duration": 9,
    "start_time": "2021-12-14T06:14:49.677Z"
   },
   {
    "duration": 7,
    "start_time": "2021-12-14T06:14:49.874Z"
   },
   {
    "duration": 5,
    "start_time": "2021-12-14T06:14:50.571Z"
   },
   {
    "duration": 10,
    "start_time": "2021-12-14T06:14:51.002Z"
   },
   {
    "duration": 4,
    "start_time": "2021-12-14T06:14:52.450Z"
   },
   {
    "duration": 5,
    "start_time": "2021-12-14T06:14:52.923Z"
   },
   {
    "duration": 210,
    "start_time": "2021-12-14T06:15:03.686Z"
   },
   {
    "duration": 15,
    "start_time": "2021-12-14T06:15:06.444Z"
   },
   {
    "duration": 11,
    "start_time": "2021-12-14T06:15:06.910Z"
   },
   {
    "duration": 4,
    "start_time": "2021-12-14T06:15:07.348Z"
   },
   {
    "duration": 16,
    "start_time": "2021-12-14T06:15:08.425Z"
   },
   {
    "duration": 14,
    "start_time": "2021-12-14T06:15:08.830Z"
   },
   {
    "duration": 5,
    "start_time": "2021-12-14T06:15:09.274Z"
   },
   {
    "duration": 3,
    "start_time": "2021-12-14T06:15:09.852Z"
   },
   {
    "duration": 40,
    "start_time": "2021-12-14T06:15:10.260Z"
   },
   {
    "duration": 10,
    "start_time": "2021-12-14T06:15:10.643Z"
   },
   {
    "duration": 5,
    "start_time": "2021-12-14T06:15:11.043Z"
   },
   {
    "duration": 9,
    "start_time": "2021-12-14T06:15:12.380Z"
   },
   {
    "duration": 9,
    "start_time": "2021-12-14T06:15:12.859Z"
   },
   {
    "duration": 9,
    "start_time": "2021-12-14T06:15:14.854Z"
   },
   {
    "duration": 15,
    "start_time": "2021-12-14T06:15:15.317Z"
   },
   {
    "duration": 217,
    "start_time": "2021-12-14T06:15:15.787Z"
   },
   {
    "duration": 189,
    "start_time": "2021-12-14T06:15:16.438Z"
   },
   {
    "duration": 10,
    "start_time": "2021-12-14T06:15:16.982Z"
   },
   {
    "duration": 3,
    "start_time": "2021-12-14T06:15:17.498Z"
   },
   {
    "duration": 17,
    "start_time": "2021-12-14T06:15:18.083Z"
   },
   {
    "duration": 28,
    "start_time": "2021-12-14T06:15:18.584Z"
   },
   {
    "duration": 17,
    "start_time": "2021-12-14T06:15:19.133Z"
   },
   {
    "duration": 16,
    "start_time": "2021-12-14T06:15:20.988Z"
   },
   {
    "duration": 15,
    "start_time": "2021-12-14T06:15:21.815Z"
   },
   {
    "duration": 11,
    "start_time": "2021-12-14T06:15:23.685Z"
   },
   {
    "duration": 9,
    "start_time": "2021-12-14T06:15:24.286Z"
   },
   {
    "duration": 22,
    "start_time": "2021-12-14T06:15:24.797Z"
   },
   {
    "duration": 6,
    "start_time": "2021-12-14T06:15:25.518Z"
   },
   {
    "duration": 20,
    "start_time": "2021-12-14T06:15:26.654Z"
   },
   {
    "duration": 10,
    "start_time": "2021-12-14T06:15:27.181Z"
   },
   {
    "duration": 291,
    "start_time": "2021-12-14T06:15:28.579Z"
   },
   {
    "duration": 232,
    "start_time": "2021-12-14T06:15:29.698Z"
   },
   {
    "duration": 253,
    "start_time": "2021-12-14T06:15:30.256Z"
   },
   {
    "duration": 291,
    "start_time": "2021-12-14T06:15:31.228Z"
   },
   {
    "duration": 181,
    "start_time": "2021-12-14T06:15:32.311Z"
   },
   {
    "duration": 239,
    "start_time": "2021-12-14T06:15:33.150Z"
   },
   {
    "duration": 237,
    "start_time": "2021-12-14T06:15:33.918Z"
   },
   {
    "duration": 169,
    "start_time": "2021-12-14T06:15:34.479Z"
   },
   {
    "duration": 141,
    "start_time": "2021-12-14T06:15:35.311Z"
   },
   {
    "duration": 3054,
    "start_time": "2021-12-14T06:15:36.889Z"
   },
   {
    "duration": 4,
    "start_time": "2021-12-14T06:15:45.224Z"
   },
   {
    "duration": 21,
    "start_time": "2021-12-14T06:15:45.936Z"
   },
   {
    "duration": 10,
    "start_time": "2021-12-14T06:15:46.393Z"
   },
   {
    "duration": 736,
    "start_time": "2021-12-14T06:15:47.152Z"
   },
   {
    "duration": 225,
    "start_time": "2021-12-14T06:15:49.595Z"
   },
   {
    "duration": 245,
    "start_time": "2021-12-14T06:15:50.365Z"
   },
   {
    "duration": 273,
    "start_time": "2021-12-14T06:15:51.327Z"
   },
   {
    "duration": 247,
    "start_time": "2021-12-14T06:15:52.365Z"
   },
   {
    "duration": 233,
    "start_time": "2021-12-14T06:15:53.363Z"
   },
   {
    "duration": 250,
    "start_time": "2021-12-14T06:15:54.346Z"
   },
   {
    "duration": 3602,
    "start_time": "2021-12-14T06:15:55.393Z"
   },
   {
    "duration": 849,
    "start_time": "2021-12-14T06:16:12.518Z"
   },
   {
    "duration": 913,
    "start_time": "2021-12-14T06:16:14.698Z"
   },
   {
    "duration": 808,
    "start_time": "2021-12-14T06:16:16.852Z"
   },
   {
    "duration": 788,
    "start_time": "2021-12-14T06:16:18.910Z"
   },
   {
    "duration": 878,
    "start_time": "2021-12-14T06:16:23.029Z"
   },
   {
    "duration": 2489,
    "start_time": "2021-12-14T06:16:27.723Z"
   },
   {
    "duration": 395,
    "start_time": "2021-12-14T06:16:32.499Z"
   },
   {
    "duration": 409,
    "start_time": "2021-12-14T06:16:36.156Z"
   },
   {
    "duration": 413,
    "start_time": "2021-12-14T06:16:37.911Z"
   },
   {
    "duration": 23,
    "start_time": "2021-12-14T06:16:39.952Z"
   },
   {
    "duration": 3260,
    "start_time": "2021-12-14T06:37:03.701Z"
   },
   {
    "duration": 1124,
    "start_time": "2021-12-14T06:37:06.963Z"
   },
   {
    "duration": 339,
    "start_time": "2021-12-14T06:37:08.089Z"
   },
   {
    "duration": 23,
    "start_time": "2021-12-14T06:37:08.430Z"
   },
   {
    "duration": 5,
    "start_time": "2021-12-14T06:37:08.455Z"
   },
   {
    "duration": 104,
    "start_time": "2021-12-14T06:37:08.462Z"
   },
   {
    "duration": 16,
    "start_time": "2021-12-14T06:37:08.568Z"
   },
   {
    "duration": 32,
    "start_time": "2021-12-14T06:37:08.587Z"
   },
   {
    "duration": 12,
    "start_time": "2021-12-14T06:37:08.622Z"
   },
   {
    "duration": 19,
    "start_time": "2021-12-14T06:37:08.636Z"
   },
   {
    "duration": 13,
    "start_time": "2021-12-14T06:37:08.657Z"
   },
   {
    "duration": 10,
    "start_time": "2021-12-14T06:37:08.707Z"
   },
   {
    "duration": 10,
    "start_time": "2021-12-14T06:37:08.719Z"
   },
   {
    "duration": 5,
    "start_time": "2021-12-14T06:37:08.731Z"
   },
   {
    "duration": 12,
    "start_time": "2021-12-14T06:37:08.738Z"
   },
   {
    "duration": 4,
    "start_time": "2021-12-14T06:37:08.752Z"
   },
   {
    "duration": 4,
    "start_time": "2021-12-14T06:37:08.758Z"
   },
   {
    "duration": 259,
    "start_time": "2021-12-14T06:37:08.763Z"
   },
   {
    "duration": 14,
    "start_time": "2021-12-14T06:37:09.023Z"
   },
   {
    "duration": 10,
    "start_time": "2021-12-14T06:37:09.039Z"
   },
   {
    "duration": 4,
    "start_time": "2021-12-14T06:37:09.051Z"
   },
   {
    "duration": 15,
    "start_time": "2021-12-14T06:37:09.057Z"
   },
   {
    "duration": 44,
    "start_time": "2021-12-14T06:37:09.076Z"
   },
   {
    "duration": 5,
    "start_time": "2021-12-14T06:37:09.122Z"
   },
   {
    "duration": 5,
    "start_time": "2021-12-14T06:37:09.128Z"
   },
   {
    "duration": 42,
    "start_time": "2021-12-14T06:37:09.135Z"
   },
   {
    "duration": 10,
    "start_time": "2021-12-14T06:37:09.206Z"
   },
   {
    "duration": 4,
    "start_time": "2021-12-14T06:37:09.218Z"
   },
   {
    "duration": 15,
    "start_time": "2021-12-14T06:37:09.223Z"
   },
   {
    "duration": 9,
    "start_time": "2021-12-14T06:37:09.240Z"
   },
   {
    "duration": 7,
    "start_time": "2021-12-14T06:37:09.251Z"
   },
   {
    "duration": 15,
    "start_time": "2021-12-14T06:37:09.260Z"
   },
   {
    "duration": 270,
    "start_time": "2021-12-14T06:37:09.277Z"
   },
   {
    "duration": 208,
    "start_time": "2021-12-14T06:37:09.549Z"
   },
   {
    "duration": 12,
    "start_time": "2021-12-14T06:37:09.758Z"
   },
   {
    "duration": 3,
    "start_time": "2021-12-14T06:37:09.771Z"
   },
   {
    "duration": 37,
    "start_time": "2021-12-14T06:37:09.775Z"
   },
   {
    "duration": 30,
    "start_time": "2021-12-14T06:37:09.814Z"
   },
   {
    "duration": 19,
    "start_time": "2021-12-14T06:37:09.845Z"
   },
   {
    "duration": 40,
    "start_time": "2021-12-14T06:37:09.866Z"
   },
   {
    "duration": 17,
    "start_time": "2021-12-14T06:37:09.908Z"
   },
   {
    "duration": 13,
    "start_time": "2021-12-14T06:37:09.927Z"
   },
   {
    "duration": 9,
    "start_time": "2021-12-14T06:37:09.942Z"
   },
   {
    "duration": 55,
    "start_time": "2021-12-14T06:37:09.953Z"
   },
   {
    "duration": 6,
    "start_time": "2021-12-14T06:37:10.011Z"
   },
   {
    "duration": 25,
    "start_time": "2021-12-14T06:37:10.019Z"
   },
   {
    "duration": 15,
    "start_time": "2021-12-14T06:37:10.045Z"
   },
   {
    "duration": 338,
    "start_time": "2021-12-14T06:37:10.061Z"
   },
   {
    "duration": 252,
    "start_time": "2021-12-14T06:37:10.401Z"
   },
   {
    "duration": 261,
    "start_time": "2021-12-14T06:37:10.655Z"
   },
   {
    "duration": 323,
    "start_time": "2021-12-14T06:37:10.918Z"
   },
   {
    "duration": 202,
    "start_time": "2021-12-14T06:37:11.244Z"
   },
   {
    "duration": 262,
    "start_time": "2021-12-14T06:37:11.448Z"
   },
   {
    "duration": 243,
    "start_time": "2021-12-14T06:37:11.712Z"
   },
   {
    "duration": 183,
    "start_time": "2021-12-14T06:37:11.957Z"
   },
   {
    "duration": 143,
    "start_time": "2021-12-14T06:37:12.142Z"
   },
   {
    "duration": 3140,
    "start_time": "2021-12-14T06:37:12.287Z"
   },
   {
    "duration": 3,
    "start_time": "2021-12-14T06:37:15.429Z"
   },
   {
    "duration": 24,
    "start_time": "2021-12-14T06:37:15.434Z"
   },
   {
    "duration": 10,
    "start_time": "2021-12-14T06:37:15.459Z"
   },
   {
    "duration": 799,
    "start_time": "2021-12-14T06:37:15.471Z"
   },
   {
    "duration": 344,
    "start_time": "2021-12-14T06:37:16.271Z"
   },
   {
    "duration": 258,
    "start_time": "2021-12-14T06:37:16.617Z"
   },
   {
    "duration": 290,
    "start_time": "2021-12-14T06:37:16.877Z"
   },
   {
    "duration": 277,
    "start_time": "2021-12-14T06:37:17.169Z"
   },
   {
    "duration": 246,
    "start_time": "2021-12-14T06:37:17.448Z"
   },
   {
    "duration": 269,
    "start_time": "2021-12-14T06:37:17.696Z"
   },
   {
    "duration": 3722,
    "start_time": "2021-12-14T06:37:17.970Z"
   },
   {
    "duration": 817,
    "start_time": "2021-12-14T06:37:21.694Z"
   },
   {
    "duration": 1058,
    "start_time": "2021-12-14T06:37:22.512Z"
   },
   {
    "duration": 858,
    "start_time": "2021-12-14T06:37:23.572Z"
   },
   {
    "duration": 814,
    "start_time": "2021-12-14T06:37:24.432Z"
   },
   {
    "duration": 890,
    "start_time": "2021-12-14T06:37:25.247Z"
   },
   {
    "duration": 2582,
    "start_time": "2021-12-14T06:37:26.139Z"
   },
   {
    "duration": 427,
    "start_time": "2021-12-14T06:37:28.722Z"
   },
   {
    "duration": 536,
    "start_time": "2021-12-14T06:37:29.151Z"
   },
   {
    "duration": 443,
    "start_time": "2021-12-14T06:37:29.690Z"
   },
   {
    "duration": 24,
    "start_time": "2021-12-14T06:37:30.135Z"
   },
   {
    "duration": 5,
    "start_time": "2022-03-28T05:01:25.954Z"
   }
  ],
  "kernelspec": {
   "display_name": "Python 3",
   "language": "python",
   "name": "python3"
  },
  "language_info": {
   "codemirror_mode": {
    "name": "ipython",
    "version": 3
   },
   "file_extension": ".py",
   "mimetype": "text/x-python",
   "name": "python",
   "nbconvert_exporter": "python",
   "pygments_lexer": "ipython3",
   "version": "3.7.13"
  },
  "toc": {
   "base_numbering": 1,
   "nav_menu": {},
   "number_sections": true,
   "sideBar": true,
   "skip_h1_title": true,
   "title_cell": "Table of Contents",
   "title_sidebar": "Contents",
   "toc_cell": false,
   "toc_position": {
    "height": "calc(100% - 180px)",
    "left": "10px",
    "top": "150px",
    "width": "366.391px"
   },
   "toc_section_display": true,
   "toc_window_display": true
  }
 },
 "nbformat": 4,
 "nbformat_minor": 2
}
