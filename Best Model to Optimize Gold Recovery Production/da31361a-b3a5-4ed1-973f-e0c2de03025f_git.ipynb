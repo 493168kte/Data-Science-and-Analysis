{
 "cells": [
  {
   "cell_type": "markdown",
   "id": "f2acdb6d",
   "metadata": {},
   "source": [
    "# Best Model to optimize Gold Recovery Production"
   ]
  },
  {
   "cell_type": "markdown",
   "id": "67e371e6",
   "metadata": {},
   "source": [
    "The goal of this project is to prepare a prototype of a machine learning model to help to optimize production and eliminate unprofitable parameters gold concentration recovery from gold ore for gold mining company, Zyfra. The data analysis and machine learning will be performed with existing data on extraction and purification. "
   ]
  },
  {
   "cell_type": "markdown",
   "id": "efee1e50",
   "metadata": {
    "toc": true
   },
   "source": [
    "<h1>Table of Contents<span class=\"tocSkip\"></span></h1>\n",
    "<div class=\"toc\"><ul class=\"toc-item\"><li><span><a href=\"#Best-Model-to-optimize-Gold-Recovery-Production\" data-toc-modified-id=\"Best-Model-to-optimize-Gold-Recovery-Production-1\"><span class=\"toc-item-num\">1&nbsp;&nbsp;</span>Best Model to optimize Gold Recovery Production</a></span><ul class=\"toc-item\"><li><span><a href=\"#Initialization\" data-toc-modified-id=\"Initialization-1.1\"><span class=\"toc-item-num\">1.1&nbsp;&nbsp;</span>Initialization</a></span></li><li><span><a href=\"#Data-Exploration\" data-toc-modified-id=\"Data-Exploration-1.2\"><span class=\"toc-item-num\">1.2&nbsp;&nbsp;</span>Data Exploration</a></span></li><li><span><a href=\"#Gold-Recovery-Simulation/Calculation\" data-toc-modified-id=\"Gold-Recovery-Simulation/Calculation-1.3\"><span class=\"toc-item-num\">1.3&nbsp;&nbsp;</span>Gold Recovery Simulation/Calculation</a></span></li><li><span><a href=\"#Preprocessing-Data\" data-toc-modified-id=\"Preprocessing-Data-1.4\"><span class=\"toc-item-num\">1.4&nbsp;&nbsp;</span>Preprocessing Data</a></span></li><li><span><a href=\"#EDA\" data-toc-modified-id=\"EDA-1.5\"><span class=\"toc-item-num\">1.5&nbsp;&nbsp;</span>EDA</a></span><ul class=\"toc-item\"><li><span><a href=\"#Metals-Purification-Stage-and-Concentration\" data-toc-modified-id=\"Metals-Purification-Stage-and-Concentration-1.5.1\"><span class=\"toc-item-num\">1.5.1&nbsp;&nbsp;</span>Metals Purification Stage and Concentration</a></span></li><li><span><a href=\"#Eliminate-Abnormalities-on-Metal-Purification-Distribution\" data-toc-modified-id=\"Eliminate-Abnormalities-on-Metal-Purification-Distribution-1.5.2\"><span class=\"toc-item-num\">1.5.2&nbsp;&nbsp;</span>Eliminate Abnormalities on Metal Purification Distribution</a></span></li><li><span><a href=\"#Feed-Particle-Size-Distributions\" data-toc-modified-id=\"Feed-Particle-Size-Distributions-1.5.3\"><span class=\"toc-item-num\">1.5.3&nbsp;&nbsp;</span>Feed Particle Size Distributions</a></span></li></ul></li><li><span><a href=\"#Choosing-the-Best-Model-with-sMAPE\" data-toc-modified-id=\"Choosing-the-Best-Model-with-sMAPE-1.6\"><span class=\"toc-item-num\">1.6&nbsp;&nbsp;</span>Choosing the Best Model with sMAPE</a></span><ul class=\"toc-item\"><li><span><a href=\"#Features-and-Target-for-Train-and-Test-set\" data-toc-modified-id=\"Features-and-Target-for-Train-and-Test-set-1.6.1\"><span class=\"toc-item-num\">1.6.1&nbsp;&nbsp;</span>Features and Target for Train and Test set</a></span></li><li><span><a href=\"#Data-scaling\" data-toc-modified-id=\"Data-scaling-1.6.2\"><span class=\"toc-item-num\">1.6.2&nbsp;&nbsp;</span>Data scaling</a></span></li><li><span><a href=\"#Models-evaluation-by-sMAPE-score\" data-toc-modified-id=\"Models-evaluation-by-sMAPE-score-1.6.3\"><span class=\"toc-item-num\">1.6.3&nbsp;&nbsp;</span>Models evaluation by sMAPE score</a></span><ul class=\"toc-item\"><li><span><a href=\"#Hyperparameter-tuning-on-RF\" data-toc-modified-id=\"Hyperparameter-tuning-on-RF-1.6.3.1\"><span class=\"toc-item-num\">1.6.3.1&nbsp;&nbsp;</span>Hyperparameter tuning on RF</a></span></li></ul></li><li><span><a href=\"#Features-selection-to-Eliminate-Unprofitable-Parameters\" data-toc-modified-id=\"Features-selection-to-Eliminate-Unprofitable-Parameters-1.6.4\"><span class=\"toc-item-num\">1.6.4&nbsp;&nbsp;</span>Features selection to Eliminate Unprofitable Parameters</a></span></li></ul></li><li><span><a href=\"#Conclusion\" data-toc-modified-id=\"Conclusion-1.7\"><span class=\"toc-item-num\">1.7&nbsp;&nbsp;</span>Conclusion</a></span></li></ul></li></ul></div>"
   ]
  },
  {
   "cell_type": "markdown",
   "id": "f223d5f8",
   "metadata": {},
   "source": [
    "**Data description**\n",
    "- Technological process\n",
    "\n",
    "    - `Rougher feed` — raw material\n",
    "    - `Rougher additions (or reagent additions)` — flotation reagents: Xanthate, Sulphate, Depressant\n",
    "    - `Xanthate` — promoter or flotation activator;\n",
    "    - `Sulphate` — sodium sulphide for this particular process;\n",
    "    - `Depressant` — sodium silicate.\n",
    "    - `Rougher process` — flotation\n",
    "    - `Rougher tails` — product residues\n",
    "    - `Float banks` — flotation unit\n",
    "    - `Cleaner process` — purification\n",
    "    - `Rougher Au` — rougher gold concentrate\n",
    "    - `Final Au` — final gold concentrate\n",
    "- Parameters of stages\n",
    "\n",
    "    - `air amount` — volume of air\n",
    "    - `fluid levels`\n",
    "    - `feed size` — feed particle size\n",
    "    - `feed rate`\n",
    "    \n",
    "    \n",
    "\n",
    "**Feature naming**\n",
    "\n",
    "Here's how you name the features:\n",
    "- `[stage].[parameter_type].[parameter_name]`\n",
    "- Example: `rougher.input.feed_ag`\n",
    "- Possible values for [stage]:\n",
    "    - `rougher` — flotation\n",
    "    - `primary_cleaner` — primary purification\n",
    "    - `secondary_cleaner` — secondary purification\n",
    "    - `final` — final characteristics\n",
    "- Possible values for [parameter_type]:\n",
    "    - `input` — raw material parameters\n",
    "    - `output` — product parameters\n",
    "    - `state` — parameters characterizing the current state of the stage\n",
    "    - `calculation` — calculation characteristics"
   ]
  },
  {
   "cell_type": "markdown",
   "id": "0b2867cf",
   "metadata": {},
   "source": [
    "## Initialization"
   ]
  },
  {
   "cell_type": "code",
   "execution_count": 1,
   "id": "7bec15fb",
   "metadata": {},
   "outputs": [],
   "source": [
    "# pip install -U seaborn"
   ]
  },
  {
   "cell_type": "code",
   "execution_count": 2,
   "id": "0b556940",
   "metadata": {},
   "outputs": [],
   "source": [
    "#Loading Libraries\n",
    "import pandas as pd\n",
    "import matplotlib.pyplot as plt\n",
    "import numpy as np\n",
    "import seaborn as sns\n",
    "from sklearn.linear_model import LinearRegression\n",
    "from sklearn.dummy import DummyRegressor\n",
    "from sklearn.tree import DecisionTreeRegressor\n",
    "from sklearn.ensemble import RandomForestRegressor\n",
    "from sklearn.preprocessing import StandardScaler\n",
    "from sklearn.metrics import make_scorer\n",
    "from IPython.display import Image\n",
    "from IPython.core.display import HTML \n",
    "import inspect, re\n",
    "from sklearn.model_selection import cross_val_score,cross_val_predict\n",
    "import warnings\n",
    "warnings.filterwarnings(\"ignore\")"
   ]
  },
  {
   "cell_type": "code",
   "execution_count": 3,
   "id": "d40ff10f",
   "metadata": {
    "scrolled": false
   },
   "outputs": [],
   "source": [
    "# Dataframe for region 0,1,and 2\n",
    "try:\n",
    "    train = pd.read_csv('gold_recovery_train.csv')\n",
    "    test = pd.read_csv('gold_recovery_test.csv')\n",
    "    full = pd.read_csv('gold_recovery_full.csv')\n",
    "except:\n",
    "    train = pd.read_csv('/datasets/gold_recovery_train.csv')\n",
    "    test = pd.read_csv('/datasets/gold_recovery_test.csv')\n",
    "    full = pd.read_csv('/datasets/gold_recovery_full.csv')  "
   ]
  },
  {
   "cell_type": "markdown",
   "id": "915e5da6",
   "metadata": {},
   "source": [
    "## Data Exploration"
   ]
  },
  {
   "cell_type": "code",
   "execution_count": 4,
   "id": "e64ac82b",
   "metadata": {},
   "outputs": [
    {
     "data": {
      "text/html": [
       "<div>\n",
       "<style scoped>\n",
       "    .dataframe tbody tr th:only-of-type {\n",
       "        vertical-align: middle;\n",
       "    }\n",
       "\n",
       "    .dataframe tbody tr th {\n",
       "        vertical-align: top;\n",
       "    }\n",
       "\n",
       "    .dataframe thead th {\n",
       "        text-align: right;\n",
       "    }\n",
       "</style>\n",
       "<table border=\"1\" class=\"dataframe\">\n",
       "  <thead>\n",
       "    <tr style=\"text-align: right;\">\n",
       "      <th></th>\n",
       "      <th>date</th>\n",
       "      <th>final.output.concentrate_ag</th>\n",
       "      <th>final.output.concentrate_pb</th>\n",
       "      <th>final.output.concentrate_sol</th>\n",
       "      <th>final.output.concentrate_au</th>\n",
       "      <th>final.output.recovery</th>\n",
       "      <th>final.output.tail_ag</th>\n",
       "      <th>final.output.tail_pb</th>\n",
       "      <th>final.output.tail_sol</th>\n",
       "      <th>final.output.tail_au</th>\n",
       "      <th>...</th>\n",
       "      <th>secondary_cleaner.state.floatbank4_a_air</th>\n",
       "      <th>secondary_cleaner.state.floatbank4_a_level</th>\n",
       "      <th>secondary_cleaner.state.floatbank4_b_air</th>\n",
       "      <th>secondary_cleaner.state.floatbank4_b_level</th>\n",
       "      <th>secondary_cleaner.state.floatbank5_a_air</th>\n",
       "      <th>secondary_cleaner.state.floatbank5_a_level</th>\n",
       "      <th>secondary_cleaner.state.floatbank5_b_air</th>\n",
       "      <th>secondary_cleaner.state.floatbank5_b_level</th>\n",
       "      <th>secondary_cleaner.state.floatbank6_a_air</th>\n",
       "      <th>secondary_cleaner.state.floatbank6_a_level</th>\n",
       "    </tr>\n",
       "  </thead>\n",
       "  <tbody>\n",
       "    <tr>\n",
       "      <th>0</th>\n",
       "      <td>2016-01-15 00:00:00</td>\n",
       "      <td>6.055403</td>\n",
       "      <td>9.889648</td>\n",
       "      <td>5.507324</td>\n",
       "      <td>42.192020</td>\n",
       "      <td>70.541216</td>\n",
       "      <td>10.411962</td>\n",
       "      <td>0.895447</td>\n",
       "      <td>16.904297</td>\n",
       "      <td>2.143149</td>\n",
       "      <td>...</td>\n",
       "      <td>14.016835</td>\n",
       "      <td>-502.488007</td>\n",
       "      <td>12.099931</td>\n",
       "      <td>-504.715942</td>\n",
       "      <td>9.925633</td>\n",
       "      <td>-498.310211</td>\n",
       "      <td>8.079666</td>\n",
       "      <td>-500.470978</td>\n",
       "      <td>14.151341</td>\n",
       "      <td>-605.841980</td>\n",
       "    </tr>\n",
       "    <tr>\n",
       "      <th>1</th>\n",
       "      <td>2016-01-15 01:00:00</td>\n",
       "      <td>6.029369</td>\n",
       "      <td>9.968944</td>\n",
       "      <td>5.257781</td>\n",
       "      <td>42.701629</td>\n",
       "      <td>69.266198</td>\n",
       "      <td>10.462676</td>\n",
       "      <td>0.927452</td>\n",
       "      <td>16.634514</td>\n",
       "      <td>2.224930</td>\n",
       "      <td>...</td>\n",
       "      <td>13.992281</td>\n",
       "      <td>-505.503262</td>\n",
       "      <td>11.950531</td>\n",
       "      <td>-501.331529</td>\n",
       "      <td>10.039245</td>\n",
       "      <td>-500.169983</td>\n",
       "      <td>7.984757</td>\n",
       "      <td>-500.582168</td>\n",
       "      <td>13.998353</td>\n",
       "      <td>-599.787184</td>\n",
       "    </tr>\n",
       "    <tr>\n",
       "      <th>2</th>\n",
       "      <td>2016-01-15 02:00:00</td>\n",
       "      <td>6.055926</td>\n",
       "      <td>10.213995</td>\n",
       "      <td>5.383759</td>\n",
       "      <td>42.657501</td>\n",
       "      <td>68.116445</td>\n",
       "      <td>10.507046</td>\n",
       "      <td>0.953716</td>\n",
       "      <td>16.208849</td>\n",
       "      <td>2.257889</td>\n",
       "      <td>...</td>\n",
       "      <td>14.015015</td>\n",
       "      <td>-502.520901</td>\n",
       "      <td>11.912783</td>\n",
       "      <td>-501.133383</td>\n",
       "      <td>10.070913</td>\n",
       "      <td>-500.129135</td>\n",
       "      <td>8.013877</td>\n",
       "      <td>-500.517572</td>\n",
       "      <td>14.028663</td>\n",
       "      <td>-601.427363</td>\n",
       "    </tr>\n",
       "    <tr>\n",
       "      <th>3</th>\n",
       "      <td>2016-01-15 03:00:00</td>\n",
       "      <td>6.047977</td>\n",
       "      <td>9.977019</td>\n",
       "      <td>4.858634</td>\n",
       "      <td>42.689819</td>\n",
       "      <td>68.347543</td>\n",
       "      <td>10.422762</td>\n",
       "      <td>0.883763</td>\n",
       "      <td>16.532835</td>\n",
       "      <td>2.146849</td>\n",
       "      <td>...</td>\n",
       "      <td>14.036510</td>\n",
       "      <td>-500.857308</td>\n",
       "      <td>11.999550</td>\n",
       "      <td>-501.193686</td>\n",
       "      <td>9.970366</td>\n",
       "      <td>-499.201640</td>\n",
       "      <td>7.977324</td>\n",
       "      <td>-500.255908</td>\n",
       "      <td>14.005551</td>\n",
       "      <td>-599.996129</td>\n",
       "    </tr>\n",
       "    <tr>\n",
       "      <th>4</th>\n",
       "      <td>2016-01-15 04:00:00</td>\n",
       "      <td>6.148599</td>\n",
       "      <td>10.142511</td>\n",
       "      <td>4.939416</td>\n",
       "      <td>42.774141</td>\n",
       "      <td>66.927016</td>\n",
       "      <td>10.360302</td>\n",
       "      <td>0.792826</td>\n",
       "      <td>16.525686</td>\n",
       "      <td>2.055292</td>\n",
       "      <td>...</td>\n",
       "      <td>14.027298</td>\n",
       "      <td>-499.838632</td>\n",
       "      <td>11.953070</td>\n",
       "      <td>-501.053894</td>\n",
       "      <td>9.925709</td>\n",
       "      <td>-501.686727</td>\n",
       "      <td>7.894242</td>\n",
       "      <td>-500.356035</td>\n",
       "      <td>13.996647</td>\n",
       "      <td>-601.496691</td>\n",
       "    </tr>\n",
       "  </tbody>\n",
       "</table>\n",
       "<p>5 rows × 87 columns</p>\n",
       "</div>"
      ],
      "text/plain": [
       "                  date  final.output.concentrate_ag  \\\n",
       "0  2016-01-15 00:00:00                     6.055403   \n",
       "1  2016-01-15 01:00:00                     6.029369   \n",
       "2  2016-01-15 02:00:00                     6.055926   \n",
       "3  2016-01-15 03:00:00                     6.047977   \n",
       "4  2016-01-15 04:00:00                     6.148599   \n",
       "\n",
       "   final.output.concentrate_pb  final.output.concentrate_sol  \\\n",
       "0                     9.889648                      5.507324   \n",
       "1                     9.968944                      5.257781   \n",
       "2                    10.213995                      5.383759   \n",
       "3                     9.977019                      4.858634   \n",
       "4                    10.142511                      4.939416   \n",
       "\n",
       "   final.output.concentrate_au  final.output.recovery  final.output.tail_ag  \\\n",
       "0                    42.192020              70.541216             10.411962   \n",
       "1                    42.701629              69.266198             10.462676   \n",
       "2                    42.657501              68.116445             10.507046   \n",
       "3                    42.689819              68.347543             10.422762   \n",
       "4                    42.774141              66.927016             10.360302   \n",
       "\n",
       "   final.output.tail_pb  final.output.tail_sol  final.output.tail_au  ...  \\\n",
       "0              0.895447              16.904297              2.143149  ...   \n",
       "1              0.927452              16.634514              2.224930  ...   \n",
       "2              0.953716              16.208849              2.257889  ...   \n",
       "3              0.883763              16.532835              2.146849  ...   \n",
       "4              0.792826              16.525686              2.055292  ...   \n",
       "\n",
       "   secondary_cleaner.state.floatbank4_a_air  \\\n",
       "0                                 14.016835   \n",
       "1                                 13.992281   \n",
       "2                                 14.015015   \n",
       "3                                 14.036510   \n",
       "4                                 14.027298   \n",
       "\n",
       "   secondary_cleaner.state.floatbank4_a_level  \\\n",
       "0                                 -502.488007   \n",
       "1                                 -505.503262   \n",
       "2                                 -502.520901   \n",
       "3                                 -500.857308   \n",
       "4                                 -499.838632   \n",
       "\n",
       "   secondary_cleaner.state.floatbank4_b_air  \\\n",
       "0                                 12.099931   \n",
       "1                                 11.950531   \n",
       "2                                 11.912783   \n",
       "3                                 11.999550   \n",
       "4                                 11.953070   \n",
       "\n",
       "   secondary_cleaner.state.floatbank4_b_level  \\\n",
       "0                                 -504.715942   \n",
       "1                                 -501.331529   \n",
       "2                                 -501.133383   \n",
       "3                                 -501.193686   \n",
       "4                                 -501.053894   \n",
       "\n",
       "   secondary_cleaner.state.floatbank5_a_air  \\\n",
       "0                                  9.925633   \n",
       "1                                 10.039245   \n",
       "2                                 10.070913   \n",
       "3                                  9.970366   \n",
       "4                                  9.925709   \n",
       "\n",
       "   secondary_cleaner.state.floatbank5_a_level  \\\n",
       "0                                 -498.310211   \n",
       "1                                 -500.169983   \n",
       "2                                 -500.129135   \n",
       "3                                 -499.201640   \n",
       "4                                 -501.686727   \n",
       "\n",
       "   secondary_cleaner.state.floatbank5_b_air  \\\n",
       "0                                  8.079666   \n",
       "1                                  7.984757   \n",
       "2                                  8.013877   \n",
       "3                                  7.977324   \n",
       "4                                  7.894242   \n",
       "\n",
       "   secondary_cleaner.state.floatbank5_b_level  \\\n",
       "0                                 -500.470978   \n",
       "1                                 -500.582168   \n",
       "2                                 -500.517572   \n",
       "3                                 -500.255908   \n",
       "4                                 -500.356035   \n",
       "\n",
       "   secondary_cleaner.state.floatbank6_a_air  \\\n",
       "0                                 14.151341   \n",
       "1                                 13.998353   \n",
       "2                                 14.028663   \n",
       "3                                 14.005551   \n",
       "4                                 13.996647   \n",
       "\n",
       "   secondary_cleaner.state.floatbank6_a_level  \n",
       "0                                 -605.841980  \n",
       "1                                 -599.787184  \n",
       "2                                 -601.427363  \n",
       "3                                 -599.996129  \n",
       "4                                 -601.496691  \n",
       "\n",
       "[5 rows x 87 columns]"
      ]
     },
     "execution_count": 4,
     "metadata": {},
     "output_type": "execute_result"
    }
   ],
   "source": [
    "# Training set\n",
    "train.head()"
   ]
  },
  {
   "cell_type": "code",
   "execution_count": 5,
   "id": "97a0fd28",
   "metadata": {},
   "outputs": [
    {
     "data": {
      "text/html": [
       "<div>\n",
       "<style scoped>\n",
       "    .dataframe tbody tr th:only-of-type {\n",
       "        vertical-align: middle;\n",
       "    }\n",
       "\n",
       "    .dataframe tbody tr th {\n",
       "        vertical-align: top;\n",
       "    }\n",
       "\n",
       "    .dataframe thead th {\n",
       "        text-align: right;\n",
       "    }\n",
       "</style>\n",
       "<table border=\"1\" class=\"dataframe\">\n",
       "  <thead>\n",
       "    <tr style=\"text-align: right;\">\n",
       "      <th></th>\n",
       "      <th>date</th>\n",
       "      <th>primary_cleaner.input.sulfate</th>\n",
       "      <th>primary_cleaner.input.depressant</th>\n",
       "      <th>primary_cleaner.input.feed_size</th>\n",
       "      <th>primary_cleaner.input.xanthate</th>\n",
       "      <th>primary_cleaner.state.floatbank8_a_air</th>\n",
       "      <th>primary_cleaner.state.floatbank8_a_level</th>\n",
       "      <th>primary_cleaner.state.floatbank8_b_air</th>\n",
       "      <th>primary_cleaner.state.floatbank8_b_level</th>\n",
       "      <th>primary_cleaner.state.floatbank8_c_air</th>\n",
       "      <th>...</th>\n",
       "      <th>secondary_cleaner.state.floatbank4_a_air</th>\n",
       "      <th>secondary_cleaner.state.floatbank4_a_level</th>\n",
       "      <th>secondary_cleaner.state.floatbank4_b_air</th>\n",
       "      <th>secondary_cleaner.state.floatbank4_b_level</th>\n",
       "      <th>secondary_cleaner.state.floatbank5_a_air</th>\n",
       "      <th>secondary_cleaner.state.floatbank5_a_level</th>\n",
       "      <th>secondary_cleaner.state.floatbank5_b_air</th>\n",
       "      <th>secondary_cleaner.state.floatbank5_b_level</th>\n",
       "      <th>secondary_cleaner.state.floatbank6_a_air</th>\n",
       "      <th>secondary_cleaner.state.floatbank6_a_level</th>\n",
       "    </tr>\n",
       "  </thead>\n",
       "  <tbody>\n",
       "    <tr>\n",
       "      <th>0</th>\n",
       "      <td>2016-09-01 00:59:59</td>\n",
       "      <td>210.800909</td>\n",
       "      <td>14.993118</td>\n",
       "      <td>8.080000</td>\n",
       "      <td>1.005021</td>\n",
       "      <td>1398.981301</td>\n",
       "      <td>-500.225577</td>\n",
       "      <td>1399.144926</td>\n",
       "      <td>-499.919735</td>\n",
       "      <td>1400.102998</td>\n",
       "      <td>...</td>\n",
       "      <td>12.023554</td>\n",
       "      <td>-497.795834</td>\n",
       "      <td>8.016656</td>\n",
       "      <td>-501.289139</td>\n",
       "      <td>7.946562</td>\n",
       "      <td>-432.317850</td>\n",
       "      <td>4.872511</td>\n",
       "      <td>-500.037437</td>\n",
       "      <td>26.705889</td>\n",
       "      <td>-499.709414</td>\n",
       "    </tr>\n",
       "    <tr>\n",
       "      <th>1</th>\n",
       "      <td>2016-09-01 01:59:59</td>\n",
       "      <td>215.392455</td>\n",
       "      <td>14.987471</td>\n",
       "      <td>8.080000</td>\n",
       "      <td>0.990469</td>\n",
       "      <td>1398.777912</td>\n",
       "      <td>-500.057435</td>\n",
       "      <td>1398.055362</td>\n",
       "      <td>-499.778182</td>\n",
       "      <td>1396.151033</td>\n",
       "      <td>...</td>\n",
       "      <td>12.058140</td>\n",
       "      <td>-498.695773</td>\n",
       "      <td>8.130979</td>\n",
       "      <td>-499.634209</td>\n",
       "      <td>7.958270</td>\n",
       "      <td>-525.839648</td>\n",
       "      <td>4.878850</td>\n",
       "      <td>-500.162375</td>\n",
       "      <td>25.019940</td>\n",
       "      <td>-499.819438</td>\n",
       "    </tr>\n",
       "    <tr>\n",
       "      <th>2</th>\n",
       "      <td>2016-09-01 02:59:59</td>\n",
       "      <td>215.259946</td>\n",
       "      <td>12.884934</td>\n",
       "      <td>7.786667</td>\n",
       "      <td>0.996043</td>\n",
       "      <td>1398.493666</td>\n",
       "      <td>-500.868360</td>\n",
       "      <td>1398.860436</td>\n",
       "      <td>-499.764529</td>\n",
       "      <td>1398.075709</td>\n",
       "      <td>...</td>\n",
       "      <td>11.962366</td>\n",
       "      <td>-498.767484</td>\n",
       "      <td>8.096893</td>\n",
       "      <td>-500.827423</td>\n",
       "      <td>8.071056</td>\n",
       "      <td>-500.801673</td>\n",
       "      <td>4.905125</td>\n",
       "      <td>-499.828510</td>\n",
       "      <td>24.994862</td>\n",
       "      <td>-500.622559</td>\n",
       "    </tr>\n",
       "    <tr>\n",
       "      <th>3</th>\n",
       "      <td>2016-09-01 03:59:59</td>\n",
       "      <td>215.336236</td>\n",
       "      <td>12.006805</td>\n",
       "      <td>7.640000</td>\n",
       "      <td>0.863514</td>\n",
       "      <td>1399.618111</td>\n",
       "      <td>-498.863574</td>\n",
       "      <td>1397.440120</td>\n",
       "      <td>-499.211024</td>\n",
       "      <td>1400.129303</td>\n",
       "      <td>...</td>\n",
       "      <td>12.033091</td>\n",
       "      <td>-498.350935</td>\n",
       "      <td>8.074946</td>\n",
       "      <td>-499.474407</td>\n",
       "      <td>7.897085</td>\n",
       "      <td>-500.868509</td>\n",
       "      <td>4.931400</td>\n",
       "      <td>-499.963623</td>\n",
       "      <td>24.948919</td>\n",
       "      <td>-498.709987</td>\n",
       "    </tr>\n",
       "    <tr>\n",
       "      <th>4</th>\n",
       "      <td>2016-09-01 04:59:59</td>\n",
       "      <td>199.099327</td>\n",
       "      <td>10.682530</td>\n",
       "      <td>7.530000</td>\n",
       "      <td>0.805575</td>\n",
       "      <td>1401.268123</td>\n",
       "      <td>-500.808305</td>\n",
       "      <td>1398.128818</td>\n",
       "      <td>-499.504543</td>\n",
       "      <td>1402.172226</td>\n",
       "      <td>...</td>\n",
       "      <td>12.025367</td>\n",
       "      <td>-500.786497</td>\n",
       "      <td>8.054678</td>\n",
       "      <td>-500.397500</td>\n",
       "      <td>8.107890</td>\n",
       "      <td>-509.526725</td>\n",
       "      <td>4.957674</td>\n",
       "      <td>-500.360026</td>\n",
       "      <td>25.003331</td>\n",
       "      <td>-500.856333</td>\n",
       "    </tr>\n",
       "  </tbody>\n",
       "</table>\n",
       "<p>5 rows × 53 columns</p>\n",
       "</div>"
      ],
      "text/plain": [
       "                  date  primary_cleaner.input.sulfate  \\\n",
       "0  2016-09-01 00:59:59                     210.800909   \n",
       "1  2016-09-01 01:59:59                     215.392455   \n",
       "2  2016-09-01 02:59:59                     215.259946   \n",
       "3  2016-09-01 03:59:59                     215.336236   \n",
       "4  2016-09-01 04:59:59                     199.099327   \n",
       "\n",
       "   primary_cleaner.input.depressant  primary_cleaner.input.feed_size  \\\n",
       "0                         14.993118                         8.080000   \n",
       "1                         14.987471                         8.080000   \n",
       "2                         12.884934                         7.786667   \n",
       "3                         12.006805                         7.640000   \n",
       "4                         10.682530                         7.530000   \n",
       "\n",
       "   primary_cleaner.input.xanthate  primary_cleaner.state.floatbank8_a_air  \\\n",
       "0                        1.005021                             1398.981301   \n",
       "1                        0.990469                             1398.777912   \n",
       "2                        0.996043                             1398.493666   \n",
       "3                        0.863514                             1399.618111   \n",
       "4                        0.805575                             1401.268123   \n",
       "\n",
       "   primary_cleaner.state.floatbank8_a_level  \\\n",
       "0                               -500.225577   \n",
       "1                               -500.057435   \n",
       "2                               -500.868360   \n",
       "3                               -498.863574   \n",
       "4                               -500.808305   \n",
       "\n",
       "   primary_cleaner.state.floatbank8_b_air  \\\n",
       "0                             1399.144926   \n",
       "1                             1398.055362   \n",
       "2                             1398.860436   \n",
       "3                             1397.440120   \n",
       "4                             1398.128818   \n",
       "\n",
       "   primary_cleaner.state.floatbank8_b_level  \\\n",
       "0                               -499.919735   \n",
       "1                               -499.778182   \n",
       "2                               -499.764529   \n",
       "3                               -499.211024   \n",
       "4                               -499.504543   \n",
       "\n",
       "   primary_cleaner.state.floatbank8_c_air  ...  \\\n",
       "0                             1400.102998  ...   \n",
       "1                             1396.151033  ...   \n",
       "2                             1398.075709  ...   \n",
       "3                             1400.129303  ...   \n",
       "4                             1402.172226  ...   \n",
       "\n",
       "   secondary_cleaner.state.floatbank4_a_air  \\\n",
       "0                                 12.023554   \n",
       "1                                 12.058140   \n",
       "2                                 11.962366   \n",
       "3                                 12.033091   \n",
       "4                                 12.025367   \n",
       "\n",
       "   secondary_cleaner.state.floatbank4_a_level  \\\n",
       "0                                 -497.795834   \n",
       "1                                 -498.695773   \n",
       "2                                 -498.767484   \n",
       "3                                 -498.350935   \n",
       "4                                 -500.786497   \n",
       "\n",
       "   secondary_cleaner.state.floatbank4_b_air  \\\n",
       "0                                  8.016656   \n",
       "1                                  8.130979   \n",
       "2                                  8.096893   \n",
       "3                                  8.074946   \n",
       "4                                  8.054678   \n",
       "\n",
       "   secondary_cleaner.state.floatbank4_b_level  \\\n",
       "0                                 -501.289139   \n",
       "1                                 -499.634209   \n",
       "2                                 -500.827423   \n",
       "3                                 -499.474407   \n",
       "4                                 -500.397500   \n",
       "\n",
       "   secondary_cleaner.state.floatbank5_a_air  \\\n",
       "0                                  7.946562   \n",
       "1                                  7.958270   \n",
       "2                                  8.071056   \n",
       "3                                  7.897085   \n",
       "4                                  8.107890   \n",
       "\n",
       "   secondary_cleaner.state.floatbank5_a_level  \\\n",
       "0                                 -432.317850   \n",
       "1                                 -525.839648   \n",
       "2                                 -500.801673   \n",
       "3                                 -500.868509   \n",
       "4                                 -509.526725   \n",
       "\n",
       "   secondary_cleaner.state.floatbank5_b_air  \\\n",
       "0                                  4.872511   \n",
       "1                                  4.878850   \n",
       "2                                  4.905125   \n",
       "3                                  4.931400   \n",
       "4                                  4.957674   \n",
       "\n",
       "   secondary_cleaner.state.floatbank5_b_level  \\\n",
       "0                                 -500.037437   \n",
       "1                                 -500.162375   \n",
       "2                                 -499.828510   \n",
       "3                                 -499.963623   \n",
       "4                                 -500.360026   \n",
       "\n",
       "   secondary_cleaner.state.floatbank6_a_air  \\\n",
       "0                                 26.705889   \n",
       "1                                 25.019940   \n",
       "2                                 24.994862   \n",
       "3                                 24.948919   \n",
       "4                                 25.003331   \n",
       "\n",
       "   secondary_cleaner.state.floatbank6_a_level  \n",
       "0                                 -499.709414  \n",
       "1                                 -499.819438  \n",
       "2                                 -500.622559  \n",
       "3                                 -498.709987  \n",
       "4                                 -500.856333  \n",
       "\n",
       "[5 rows x 53 columns]"
      ]
     },
     "execution_count": 5,
     "metadata": {},
     "output_type": "execute_result"
    }
   ],
   "source": [
    "# Test set\n",
    "test.head()"
   ]
  },
  {
   "cell_type": "code",
   "execution_count": 6,
   "id": "5138389d",
   "metadata": {},
   "outputs": [
    {
     "data": {
      "text/html": [
       "<div>\n",
       "<style scoped>\n",
       "    .dataframe tbody tr th:only-of-type {\n",
       "        vertical-align: middle;\n",
       "    }\n",
       "\n",
       "    .dataframe tbody tr th {\n",
       "        vertical-align: top;\n",
       "    }\n",
       "\n",
       "    .dataframe thead th {\n",
       "        text-align: right;\n",
       "    }\n",
       "</style>\n",
       "<table border=\"1\" class=\"dataframe\">\n",
       "  <thead>\n",
       "    <tr style=\"text-align: right;\">\n",
       "      <th></th>\n",
       "      <th>date</th>\n",
       "      <th>final.output.concentrate_ag</th>\n",
       "      <th>final.output.concentrate_pb</th>\n",
       "      <th>final.output.concentrate_sol</th>\n",
       "      <th>final.output.concentrate_au</th>\n",
       "      <th>final.output.recovery</th>\n",
       "      <th>final.output.tail_ag</th>\n",
       "      <th>final.output.tail_pb</th>\n",
       "      <th>final.output.tail_sol</th>\n",
       "      <th>final.output.tail_au</th>\n",
       "      <th>...</th>\n",
       "      <th>secondary_cleaner.state.floatbank4_a_air</th>\n",
       "      <th>secondary_cleaner.state.floatbank4_a_level</th>\n",
       "      <th>secondary_cleaner.state.floatbank4_b_air</th>\n",
       "      <th>secondary_cleaner.state.floatbank4_b_level</th>\n",
       "      <th>secondary_cleaner.state.floatbank5_a_air</th>\n",
       "      <th>secondary_cleaner.state.floatbank5_a_level</th>\n",
       "      <th>secondary_cleaner.state.floatbank5_b_air</th>\n",
       "      <th>secondary_cleaner.state.floatbank5_b_level</th>\n",
       "      <th>secondary_cleaner.state.floatbank6_a_air</th>\n",
       "      <th>secondary_cleaner.state.floatbank6_a_level</th>\n",
       "    </tr>\n",
       "  </thead>\n",
       "  <tbody>\n",
       "    <tr>\n",
       "      <th>0</th>\n",
       "      <td>2016-01-15 00:00:00</td>\n",
       "      <td>6.055403</td>\n",
       "      <td>9.889648</td>\n",
       "      <td>5.507324</td>\n",
       "      <td>42.192020</td>\n",
       "      <td>70.541216</td>\n",
       "      <td>10.411962</td>\n",
       "      <td>0.895447</td>\n",
       "      <td>16.904297</td>\n",
       "      <td>2.143149</td>\n",
       "      <td>...</td>\n",
       "      <td>14.016835</td>\n",
       "      <td>-502.488007</td>\n",
       "      <td>12.099931</td>\n",
       "      <td>-504.715942</td>\n",
       "      <td>9.925633</td>\n",
       "      <td>-498.310211</td>\n",
       "      <td>8.079666</td>\n",
       "      <td>-500.470978</td>\n",
       "      <td>14.151341</td>\n",
       "      <td>-605.841980</td>\n",
       "    </tr>\n",
       "    <tr>\n",
       "      <th>1</th>\n",
       "      <td>2016-01-15 01:00:00</td>\n",
       "      <td>6.029369</td>\n",
       "      <td>9.968944</td>\n",
       "      <td>5.257781</td>\n",
       "      <td>42.701629</td>\n",
       "      <td>69.266198</td>\n",
       "      <td>10.462676</td>\n",
       "      <td>0.927452</td>\n",
       "      <td>16.634514</td>\n",
       "      <td>2.224930</td>\n",
       "      <td>...</td>\n",
       "      <td>13.992281</td>\n",
       "      <td>-505.503262</td>\n",
       "      <td>11.950531</td>\n",
       "      <td>-501.331529</td>\n",
       "      <td>10.039245</td>\n",
       "      <td>-500.169983</td>\n",
       "      <td>7.984757</td>\n",
       "      <td>-500.582168</td>\n",
       "      <td>13.998353</td>\n",
       "      <td>-599.787184</td>\n",
       "    </tr>\n",
       "    <tr>\n",
       "      <th>2</th>\n",
       "      <td>2016-01-15 02:00:00</td>\n",
       "      <td>6.055926</td>\n",
       "      <td>10.213995</td>\n",
       "      <td>5.383759</td>\n",
       "      <td>42.657501</td>\n",
       "      <td>68.116445</td>\n",
       "      <td>10.507046</td>\n",
       "      <td>0.953716</td>\n",
       "      <td>16.208849</td>\n",
       "      <td>2.257889</td>\n",
       "      <td>...</td>\n",
       "      <td>14.015015</td>\n",
       "      <td>-502.520901</td>\n",
       "      <td>11.912783</td>\n",
       "      <td>-501.133383</td>\n",
       "      <td>10.070913</td>\n",
       "      <td>-500.129135</td>\n",
       "      <td>8.013877</td>\n",
       "      <td>-500.517572</td>\n",
       "      <td>14.028663</td>\n",
       "      <td>-601.427363</td>\n",
       "    </tr>\n",
       "    <tr>\n",
       "      <th>3</th>\n",
       "      <td>2016-01-15 03:00:00</td>\n",
       "      <td>6.047977</td>\n",
       "      <td>9.977019</td>\n",
       "      <td>4.858634</td>\n",
       "      <td>42.689819</td>\n",
       "      <td>68.347543</td>\n",
       "      <td>10.422762</td>\n",
       "      <td>0.883763</td>\n",
       "      <td>16.532835</td>\n",
       "      <td>2.146849</td>\n",
       "      <td>...</td>\n",
       "      <td>14.036510</td>\n",
       "      <td>-500.857308</td>\n",
       "      <td>11.999550</td>\n",
       "      <td>-501.193686</td>\n",
       "      <td>9.970366</td>\n",
       "      <td>-499.201640</td>\n",
       "      <td>7.977324</td>\n",
       "      <td>-500.255908</td>\n",
       "      <td>14.005551</td>\n",
       "      <td>-599.996129</td>\n",
       "    </tr>\n",
       "    <tr>\n",
       "      <th>4</th>\n",
       "      <td>2016-01-15 04:00:00</td>\n",
       "      <td>6.148599</td>\n",
       "      <td>10.142511</td>\n",
       "      <td>4.939416</td>\n",
       "      <td>42.774141</td>\n",
       "      <td>66.927016</td>\n",
       "      <td>10.360302</td>\n",
       "      <td>0.792826</td>\n",
       "      <td>16.525686</td>\n",
       "      <td>2.055292</td>\n",
       "      <td>...</td>\n",
       "      <td>14.027298</td>\n",
       "      <td>-499.838632</td>\n",
       "      <td>11.953070</td>\n",
       "      <td>-501.053894</td>\n",
       "      <td>9.925709</td>\n",
       "      <td>-501.686727</td>\n",
       "      <td>7.894242</td>\n",
       "      <td>-500.356035</td>\n",
       "      <td>13.996647</td>\n",
       "      <td>-601.496691</td>\n",
       "    </tr>\n",
       "  </tbody>\n",
       "</table>\n",
       "<p>5 rows × 87 columns</p>\n",
       "</div>"
      ],
      "text/plain": [
       "                  date  final.output.concentrate_ag  \\\n",
       "0  2016-01-15 00:00:00                     6.055403   \n",
       "1  2016-01-15 01:00:00                     6.029369   \n",
       "2  2016-01-15 02:00:00                     6.055926   \n",
       "3  2016-01-15 03:00:00                     6.047977   \n",
       "4  2016-01-15 04:00:00                     6.148599   \n",
       "\n",
       "   final.output.concentrate_pb  final.output.concentrate_sol  \\\n",
       "0                     9.889648                      5.507324   \n",
       "1                     9.968944                      5.257781   \n",
       "2                    10.213995                      5.383759   \n",
       "3                     9.977019                      4.858634   \n",
       "4                    10.142511                      4.939416   \n",
       "\n",
       "   final.output.concentrate_au  final.output.recovery  final.output.tail_ag  \\\n",
       "0                    42.192020              70.541216             10.411962   \n",
       "1                    42.701629              69.266198             10.462676   \n",
       "2                    42.657501              68.116445             10.507046   \n",
       "3                    42.689819              68.347543             10.422762   \n",
       "4                    42.774141              66.927016             10.360302   \n",
       "\n",
       "   final.output.tail_pb  final.output.tail_sol  final.output.tail_au  ...  \\\n",
       "0              0.895447              16.904297              2.143149  ...   \n",
       "1              0.927452              16.634514              2.224930  ...   \n",
       "2              0.953716              16.208849              2.257889  ...   \n",
       "3              0.883763              16.532835              2.146849  ...   \n",
       "4              0.792826              16.525686              2.055292  ...   \n",
       "\n",
       "   secondary_cleaner.state.floatbank4_a_air  \\\n",
       "0                                 14.016835   \n",
       "1                                 13.992281   \n",
       "2                                 14.015015   \n",
       "3                                 14.036510   \n",
       "4                                 14.027298   \n",
       "\n",
       "   secondary_cleaner.state.floatbank4_a_level  \\\n",
       "0                                 -502.488007   \n",
       "1                                 -505.503262   \n",
       "2                                 -502.520901   \n",
       "3                                 -500.857308   \n",
       "4                                 -499.838632   \n",
       "\n",
       "   secondary_cleaner.state.floatbank4_b_air  \\\n",
       "0                                 12.099931   \n",
       "1                                 11.950531   \n",
       "2                                 11.912783   \n",
       "3                                 11.999550   \n",
       "4                                 11.953070   \n",
       "\n",
       "   secondary_cleaner.state.floatbank4_b_level  \\\n",
       "0                                 -504.715942   \n",
       "1                                 -501.331529   \n",
       "2                                 -501.133383   \n",
       "3                                 -501.193686   \n",
       "4                                 -501.053894   \n",
       "\n",
       "   secondary_cleaner.state.floatbank5_a_air  \\\n",
       "0                                  9.925633   \n",
       "1                                 10.039245   \n",
       "2                                 10.070913   \n",
       "3                                  9.970366   \n",
       "4                                  9.925709   \n",
       "\n",
       "   secondary_cleaner.state.floatbank5_a_level  \\\n",
       "0                                 -498.310211   \n",
       "1                                 -500.169983   \n",
       "2                                 -500.129135   \n",
       "3                                 -499.201640   \n",
       "4                                 -501.686727   \n",
       "\n",
       "   secondary_cleaner.state.floatbank5_b_air  \\\n",
       "0                                  8.079666   \n",
       "1                                  7.984757   \n",
       "2                                  8.013877   \n",
       "3                                  7.977324   \n",
       "4                                  7.894242   \n",
       "\n",
       "   secondary_cleaner.state.floatbank5_b_level  \\\n",
       "0                                 -500.470978   \n",
       "1                                 -500.582168   \n",
       "2                                 -500.517572   \n",
       "3                                 -500.255908   \n",
       "4                                 -500.356035   \n",
       "\n",
       "   secondary_cleaner.state.floatbank6_a_air  \\\n",
       "0                                 14.151341   \n",
       "1                                 13.998353   \n",
       "2                                 14.028663   \n",
       "3                                 14.005551   \n",
       "4                                 13.996647   \n",
       "\n",
       "   secondary_cleaner.state.floatbank6_a_level  \n",
       "0                                 -605.841980  \n",
       "1                                 -599.787184  \n",
       "2                                 -601.427363  \n",
       "3                                 -599.996129  \n",
       "4                                 -601.496691  \n",
       "\n",
       "[5 rows x 87 columns]"
      ]
     },
     "execution_count": 6,
     "metadata": {},
     "output_type": "execute_result"
    }
   ],
   "source": [
    "# Full Dataframe\n",
    "full.head()"
   ]
  },
  {
   "cell_type": "code",
   "execution_count": 7,
   "id": "0bcf0214",
   "metadata": {},
   "outputs": [
    {
     "name": "stdout",
     "output_type": "stream",
     "text": [
      "<class 'pandas.core.frame.DataFrame'>\n",
      "RangeIndex: 16860 entries, 0 to 16859\n",
      "Data columns (total 87 columns):\n",
      " #   Column                                              Non-Null Count  Dtype  \n",
      "---  ------                                              --------------  -----  \n",
      " 0   date                                                16860 non-null  object \n",
      " 1   final.output.concentrate_ag                         16788 non-null  float64\n",
      " 2   final.output.concentrate_pb                         16788 non-null  float64\n",
      " 3   final.output.concentrate_sol                        16490 non-null  float64\n",
      " 4   final.output.concentrate_au                         16789 non-null  float64\n",
      " 5   final.output.recovery                               15339 non-null  float64\n",
      " 6   final.output.tail_ag                                16794 non-null  float64\n",
      " 7   final.output.tail_pb                                16677 non-null  float64\n",
      " 8   final.output.tail_sol                               16715 non-null  float64\n",
      " 9   final.output.tail_au                                16794 non-null  float64\n",
      " 10  primary_cleaner.input.sulfate                       15553 non-null  float64\n",
      " 11  primary_cleaner.input.depressant                    15598 non-null  float64\n",
      " 12  primary_cleaner.input.feed_size                     16860 non-null  float64\n",
      " 13  primary_cleaner.input.xanthate                      15875 non-null  float64\n",
      " 14  primary_cleaner.output.concentrate_ag               16778 non-null  float64\n",
      " 15  primary_cleaner.output.concentrate_pb               16502 non-null  float64\n",
      " 16  primary_cleaner.output.concentrate_sol              16224 non-null  float64\n",
      " 17  primary_cleaner.output.concentrate_au               16778 non-null  float64\n",
      " 18  primary_cleaner.output.tail_ag                      16777 non-null  float64\n",
      " 19  primary_cleaner.output.tail_pb                      16761 non-null  float64\n",
      " 20  primary_cleaner.output.tail_sol                     16579 non-null  float64\n",
      " 21  primary_cleaner.output.tail_au                      16777 non-null  float64\n",
      " 22  primary_cleaner.state.floatbank8_a_air              16820 non-null  float64\n",
      " 23  primary_cleaner.state.floatbank8_a_level            16827 non-null  float64\n",
      " 24  primary_cleaner.state.floatbank8_b_air              16820 non-null  float64\n",
      " 25  primary_cleaner.state.floatbank8_b_level            16833 non-null  float64\n",
      " 26  primary_cleaner.state.floatbank8_c_air              16822 non-null  float64\n",
      " 27  primary_cleaner.state.floatbank8_c_level            16833 non-null  float64\n",
      " 28  primary_cleaner.state.floatbank8_d_air              16821 non-null  float64\n",
      " 29  primary_cleaner.state.floatbank8_d_level            16833 non-null  float64\n",
      " 30  rougher.calculation.sulfate_to_au_concentrate       16833 non-null  float64\n",
      " 31  rougher.calculation.floatbank10_sulfate_to_au_feed  16833 non-null  float64\n",
      " 32  rougher.calculation.floatbank11_sulfate_to_au_feed  16833 non-null  float64\n",
      " 33  rougher.calculation.au_pb_ratio                     15618 non-null  float64\n",
      " 34  rougher.input.feed_ag                               16778 non-null  float64\n",
      " 35  rougher.input.feed_pb                               16632 non-null  float64\n",
      " 36  rougher.input.feed_rate                             16347 non-null  float64\n",
      " 37  rougher.input.feed_size                             16443 non-null  float64\n",
      " 38  rougher.input.feed_sol                              16568 non-null  float64\n",
      " 39  rougher.input.feed_au                               16777 non-null  float64\n",
      " 40  rougher.input.floatbank10_sulfate                   15816 non-null  float64\n",
      " 41  rougher.input.floatbank10_xanthate                  16514 non-null  float64\n",
      " 42  rougher.input.floatbank11_sulfate                   16237 non-null  float64\n",
      " 43  rougher.input.floatbank11_xanthate                  14956 non-null  float64\n",
      " 44  rougher.output.concentrate_ag                       16778 non-null  float64\n",
      " 45  rougher.output.concentrate_pb                       16778 non-null  float64\n",
      " 46  rougher.output.concentrate_sol                      16698 non-null  float64\n",
      " 47  rougher.output.concentrate_au                       16778 non-null  float64\n",
      " 48  rougher.output.recovery                             14287 non-null  float64\n",
      " 49  rougher.output.tail_ag                              14610 non-null  float64\n",
      " 50  rougher.output.tail_pb                              16778 non-null  float64\n",
      " 51  rougher.output.tail_sol                             14611 non-null  float64\n",
      " 52  rougher.output.tail_au                              14611 non-null  float64\n",
      " 53  rougher.state.floatbank10_a_air                     16807 non-null  float64\n",
      " 54  rougher.state.floatbank10_a_level                   16807 non-null  float64\n",
      " 55  rougher.state.floatbank10_b_air                     16807 non-null  float64\n",
      " 56  rougher.state.floatbank10_b_level                   16807 non-null  float64\n",
      " 57  rougher.state.floatbank10_c_air                     16807 non-null  float64\n",
      " 58  rougher.state.floatbank10_c_level                   16814 non-null  float64\n",
      " 59  rougher.state.floatbank10_d_air                     16802 non-null  float64\n",
      " 60  rougher.state.floatbank10_d_level                   16809 non-null  float64\n",
      " 61  rougher.state.floatbank10_e_air                     16257 non-null  float64\n",
      " 62  rougher.state.floatbank10_e_level                   16809 non-null  float64\n",
      " 63  rougher.state.floatbank10_f_air                     16802 non-null  float64\n",
      " 64  rougher.state.floatbank10_f_level                   16802 non-null  float64\n",
      " 65  secondary_cleaner.output.tail_ag                    16776 non-null  float64\n",
      " 66  secondary_cleaner.output.tail_pb                    16764 non-null  float64\n",
      " 67  secondary_cleaner.output.tail_sol                   14874 non-null  float64\n",
      " 68  secondary_cleaner.output.tail_au                    16778 non-null  float64\n",
      " 69  secondary_cleaner.state.floatbank2_a_air            16497 non-null  float64\n",
      " 70  secondary_cleaner.state.floatbank2_a_level          16751 non-null  float64\n",
      " 71  secondary_cleaner.state.floatbank2_b_air            16705 non-null  float64\n",
      " 72  secondary_cleaner.state.floatbank2_b_level          16748 non-null  float64\n",
      " 73  secondary_cleaner.state.floatbank3_a_air            16763 non-null  float64\n",
      " 74  secondary_cleaner.state.floatbank3_a_level          16747 non-null  float64\n",
      " 75  secondary_cleaner.state.floatbank3_b_air            16752 non-null  float64\n",
      " 76  secondary_cleaner.state.floatbank3_b_level          16750 non-null  float64\n",
      " 77  secondary_cleaner.state.floatbank4_a_air            16731 non-null  float64\n",
      " 78  secondary_cleaner.state.floatbank4_a_level          16747 non-null  float64\n",
      " 79  secondary_cleaner.state.floatbank4_b_air            16768 non-null  float64\n",
      " 80  secondary_cleaner.state.floatbank4_b_level          16767 non-null  float64\n",
      " 81  secondary_cleaner.state.floatbank5_a_air            16775 non-null  float64\n",
      " 82  secondary_cleaner.state.floatbank5_a_level          16775 non-null  float64\n",
      " 83  secondary_cleaner.state.floatbank5_b_air            16775 non-null  float64\n",
      " 84  secondary_cleaner.state.floatbank5_b_level          16776 non-null  float64\n",
      " 85  secondary_cleaner.state.floatbank6_a_air            16757 non-null  float64\n",
      " 86  secondary_cleaner.state.floatbank6_a_level          16775 non-null  float64\n",
      "dtypes: float64(86), object(1)\n",
      "memory usage: 11.2+ MB\n"
     ]
    }
   ],
   "source": [
    "# Training set dataframe info\n",
    "train.info()"
   ]
  },
  {
   "cell_type": "code",
   "execution_count": 8,
   "id": "af6b7bc0",
   "metadata": {},
   "outputs": [
    {
     "name": "stdout",
     "output_type": "stream",
     "text": [
      "<class 'pandas.core.frame.DataFrame'>\n",
      "RangeIndex: 5856 entries, 0 to 5855\n",
      "Data columns (total 53 columns):\n",
      " #   Column                                      Non-Null Count  Dtype  \n",
      "---  ------                                      --------------  -----  \n",
      " 0   date                                        5856 non-null   object \n",
      " 1   primary_cleaner.input.sulfate               5554 non-null   float64\n",
      " 2   primary_cleaner.input.depressant            5572 non-null   float64\n",
      " 3   primary_cleaner.input.feed_size             5856 non-null   float64\n",
      " 4   primary_cleaner.input.xanthate              5690 non-null   float64\n",
      " 5   primary_cleaner.state.floatbank8_a_air      5840 non-null   float64\n",
      " 6   primary_cleaner.state.floatbank8_a_level    5840 non-null   float64\n",
      " 7   primary_cleaner.state.floatbank8_b_air      5840 non-null   float64\n",
      " 8   primary_cleaner.state.floatbank8_b_level    5840 non-null   float64\n",
      " 9   primary_cleaner.state.floatbank8_c_air      5840 non-null   float64\n",
      " 10  primary_cleaner.state.floatbank8_c_level    5840 non-null   float64\n",
      " 11  primary_cleaner.state.floatbank8_d_air      5840 non-null   float64\n",
      " 12  primary_cleaner.state.floatbank8_d_level    5840 non-null   float64\n",
      " 13  rougher.input.feed_ag                       5840 non-null   float64\n",
      " 14  rougher.input.feed_pb                       5840 non-null   float64\n",
      " 15  rougher.input.feed_rate                     5816 non-null   float64\n",
      " 16  rougher.input.feed_size                     5834 non-null   float64\n",
      " 17  rougher.input.feed_sol                      5789 non-null   float64\n",
      " 18  rougher.input.feed_au                       5840 non-null   float64\n",
      " 19  rougher.input.floatbank10_sulfate           5599 non-null   float64\n",
      " 20  rougher.input.floatbank10_xanthate          5733 non-null   float64\n",
      " 21  rougher.input.floatbank11_sulfate           5801 non-null   float64\n",
      " 22  rougher.input.floatbank11_xanthate          5503 non-null   float64\n",
      " 23  rougher.state.floatbank10_a_air             5839 non-null   float64\n",
      " 24  rougher.state.floatbank10_a_level           5840 non-null   float64\n",
      " 25  rougher.state.floatbank10_b_air             5839 non-null   float64\n",
      " 26  rougher.state.floatbank10_b_level           5840 non-null   float64\n",
      " 27  rougher.state.floatbank10_c_air             5839 non-null   float64\n",
      " 28  rougher.state.floatbank10_c_level           5840 non-null   float64\n",
      " 29  rougher.state.floatbank10_d_air             5839 non-null   float64\n",
      " 30  rougher.state.floatbank10_d_level           5840 non-null   float64\n",
      " 31  rougher.state.floatbank10_e_air             5839 non-null   float64\n",
      " 32  rougher.state.floatbank10_e_level           5840 non-null   float64\n",
      " 33  rougher.state.floatbank10_f_air             5839 non-null   float64\n",
      " 34  rougher.state.floatbank10_f_level           5840 non-null   float64\n",
      " 35  secondary_cleaner.state.floatbank2_a_air    5836 non-null   float64\n",
      " 36  secondary_cleaner.state.floatbank2_a_level  5840 non-null   float64\n",
      " 37  secondary_cleaner.state.floatbank2_b_air    5833 non-null   float64\n",
      " 38  secondary_cleaner.state.floatbank2_b_level  5840 non-null   float64\n",
      " 39  secondary_cleaner.state.floatbank3_a_air    5822 non-null   float64\n",
      " 40  secondary_cleaner.state.floatbank3_a_level  5840 non-null   float64\n",
      " 41  secondary_cleaner.state.floatbank3_b_air    5840 non-null   float64\n",
      " 42  secondary_cleaner.state.floatbank3_b_level  5840 non-null   float64\n",
      " 43  secondary_cleaner.state.floatbank4_a_air    5840 non-null   float64\n",
      " 44  secondary_cleaner.state.floatbank4_a_level  5840 non-null   float64\n",
      " 45  secondary_cleaner.state.floatbank4_b_air    5840 non-null   float64\n",
      " 46  secondary_cleaner.state.floatbank4_b_level  5840 non-null   float64\n",
      " 47  secondary_cleaner.state.floatbank5_a_air    5840 non-null   float64\n",
      " 48  secondary_cleaner.state.floatbank5_a_level  5840 non-null   float64\n",
      " 49  secondary_cleaner.state.floatbank5_b_air    5840 non-null   float64\n",
      " 50  secondary_cleaner.state.floatbank5_b_level  5840 non-null   float64\n",
      " 51  secondary_cleaner.state.floatbank6_a_air    5840 non-null   float64\n",
      " 52  secondary_cleaner.state.floatbank6_a_level  5840 non-null   float64\n",
      "dtypes: float64(52), object(1)\n",
      "memory usage: 2.4+ MB\n"
     ]
    }
   ],
   "source": [
    "# Test set dataframe info\n",
    "test.info()"
   ]
  },
  {
   "cell_type": "code",
   "execution_count": 9,
   "id": "f98a3ffc",
   "metadata": {
    "scrolled": false
   },
   "outputs": [
    {
     "name": "stdout",
     "output_type": "stream",
     "text": [
      "<class 'pandas.core.frame.DataFrame'>\n",
      "RangeIndex: 22716 entries, 0 to 22715\n",
      "Data columns (total 87 columns):\n",
      " #   Column                                              Non-Null Count  Dtype  \n",
      "---  ------                                              --------------  -----  \n",
      " 0   date                                                22716 non-null  object \n",
      " 1   final.output.concentrate_ag                         22627 non-null  float64\n",
      " 2   final.output.concentrate_pb                         22629 non-null  float64\n",
      " 3   final.output.concentrate_sol                        22331 non-null  float64\n",
      " 4   final.output.concentrate_au                         22630 non-null  float64\n",
      " 5   final.output.recovery                               20753 non-null  float64\n",
      " 6   final.output.tail_ag                                22633 non-null  float64\n",
      " 7   final.output.tail_pb                                22516 non-null  float64\n",
      " 8   final.output.tail_sol                               22445 non-null  float64\n",
      " 9   final.output.tail_au                                22635 non-null  float64\n",
      " 10  primary_cleaner.input.sulfate                       21107 non-null  float64\n",
      " 11  primary_cleaner.input.depressant                    21170 non-null  float64\n",
      " 12  primary_cleaner.input.feed_size                     22716 non-null  float64\n",
      " 13  primary_cleaner.input.xanthate                      21565 non-null  float64\n",
      " 14  primary_cleaner.output.concentrate_ag               22618 non-null  float64\n",
      " 15  primary_cleaner.output.concentrate_pb               22268 non-null  float64\n",
      " 16  primary_cleaner.output.concentrate_sol              21918 non-null  float64\n",
      " 17  primary_cleaner.output.concentrate_au               22618 non-null  float64\n",
      " 18  primary_cleaner.output.tail_ag                      22614 non-null  float64\n",
      " 19  primary_cleaner.output.tail_pb                      22594 non-null  float64\n",
      " 20  primary_cleaner.output.tail_sol                     22365 non-null  float64\n",
      " 21  primary_cleaner.output.tail_au                      22617 non-null  float64\n",
      " 22  primary_cleaner.state.floatbank8_a_air              22660 non-null  float64\n",
      " 23  primary_cleaner.state.floatbank8_a_level            22667 non-null  float64\n",
      " 24  primary_cleaner.state.floatbank8_b_air              22660 non-null  float64\n",
      " 25  primary_cleaner.state.floatbank8_b_level            22673 non-null  float64\n",
      " 26  primary_cleaner.state.floatbank8_c_air              22662 non-null  float64\n",
      " 27  primary_cleaner.state.floatbank8_c_level            22673 non-null  float64\n",
      " 28  primary_cleaner.state.floatbank8_d_air              22661 non-null  float64\n",
      " 29  primary_cleaner.state.floatbank8_d_level            22673 non-null  float64\n",
      " 30  rougher.calculation.sulfate_to_au_concentrate       22672 non-null  float64\n",
      " 31  rougher.calculation.floatbank10_sulfate_to_au_feed  22672 non-null  float64\n",
      " 32  rougher.calculation.floatbank11_sulfate_to_au_feed  22672 non-null  float64\n",
      " 33  rougher.calculation.au_pb_ratio                     21089 non-null  float64\n",
      " 34  rougher.input.feed_ag                               22618 non-null  float64\n",
      " 35  rougher.input.feed_pb                               22472 non-null  float64\n",
      " 36  rougher.input.feed_rate                             22163 non-null  float64\n",
      " 37  rougher.input.feed_size                             22277 non-null  float64\n",
      " 38  rougher.input.feed_sol                              22357 non-null  float64\n",
      " 39  rougher.input.feed_au                               22617 non-null  float64\n",
      " 40  rougher.input.floatbank10_sulfate                   21415 non-null  float64\n",
      " 41  rougher.input.floatbank10_xanthate                  22247 non-null  float64\n",
      " 42  rougher.input.floatbank11_sulfate                   22038 non-null  float64\n",
      " 43  rougher.input.floatbank11_xanthate                  20459 non-null  float64\n",
      " 44  rougher.output.concentrate_ag                       22618 non-null  float64\n",
      " 45  rougher.output.concentrate_pb                       22618 non-null  float64\n",
      " 46  rougher.output.concentrate_sol                      22526 non-null  float64\n",
      " 47  rougher.output.concentrate_au                       22618 non-null  float64\n",
      " 48  rougher.output.recovery                             19597 non-null  float64\n",
      " 49  rougher.output.tail_ag                              19979 non-null  float64\n",
      " 50  rougher.output.tail_pb                              22618 non-null  float64\n",
      " 51  rougher.output.tail_sol                             19980 non-null  float64\n",
      " 52  rougher.output.tail_au                              19980 non-null  float64\n",
      " 53  rougher.state.floatbank10_a_air                     22646 non-null  float64\n",
      " 54  rougher.state.floatbank10_a_level                   22647 non-null  float64\n",
      " 55  rougher.state.floatbank10_b_air                     22646 non-null  float64\n",
      " 56  rougher.state.floatbank10_b_level                   22647 non-null  float64\n",
      " 57  rougher.state.floatbank10_c_air                     22646 non-null  float64\n",
      " 58  rougher.state.floatbank10_c_level                   22654 non-null  float64\n",
      " 59  rougher.state.floatbank10_d_air                     22641 non-null  float64\n",
      " 60  rougher.state.floatbank10_d_level                   22649 non-null  float64\n",
      " 61  rougher.state.floatbank10_e_air                     22096 non-null  float64\n",
      " 62  rougher.state.floatbank10_e_level                   22649 non-null  float64\n",
      " 63  rougher.state.floatbank10_f_air                     22641 non-null  float64\n",
      " 64  rougher.state.floatbank10_f_level                   22642 non-null  float64\n",
      " 65  secondary_cleaner.output.tail_ag                    22616 non-null  float64\n",
      " 66  secondary_cleaner.output.tail_pb                    22600 non-null  float64\n",
      " 67  secondary_cleaner.output.tail_sol                   20501 non-null  float64\n",
      " 68  secondary_cleaner.output.tail_au                    22618 non-null  float64\n",
      " 69  secondary_cleaner.state.floatbank2_a_air            22333 non-null  float64\n",
      " 70  secondary_cleaner.state.floatbank2_a_level          22591 non-null  float64\n",
      " 71  secondary_cleaner.state.floatbank2_b_air            22538 non-null  float64\n",
      " 72  secondary_cleaner.state.floatbank2_b_level          22588 non-null  float64\n",
      " 73  secondary_cleaner.state.floatbank3_a_air            22585 non-null  float64\n",
      " 74  secondary_cleaner.state.floatbank3_a_level          22587 non-null  float64\n",
      " 75  secondary_cleaner.state.floatbank3_b_air            22592 non-null  float64\n",
      " 76  secondary_cleaner.state.floatbank3_b_level          22590 non-null  float64\n",
      " 77  secondary_cleaner.state.floatbank4_a_air            22571 non-null  float64\n",
      " 78  secondary_cleaner.state.floatbank4_a_level          22587 non-null  float64\n",
      " 79  secondary_cleaner.state.floatbank4_b_air            22608 non-null  float64\n",
      " 80  secondary_cleaner.state.floatbank4_b_level          22607 non-null  float64\n",
      " 81  secondary_cleaner.state.floatbank5_a_air            22615 non-null  float64\n",
      " 82  secondary_cleaner.state.floatbank5_a_level          22615 non-null  float64\n",
      " 83  secondary_cleaner.state.floatbank5_b_air            22615 non-null  float64\n",
      " 84  secondary_cleaner.state.floatbank5_b_level          22616 non-null  float64\n",
      " 85  secondary_cleaner.state.floatbank6_a_air            22597 non-null  float64\n",
      " 86  secondary_cleaner.state.floatbank6_a_level          22615 non-null  float64\n",
      "dtypes: float64(86), object(1)\n",
      "memory usage: 15.1+ MB\n"
     ]
    }
   ],
   "source": [
    "# Full dataframe info\n",
    "full.info()"
   ]
  },
  {
   "cell_type": "markdown",
   "id": "2df803f9",
   "metadata": {},
   "source": [
    "## Gold Recovery Simulation/Calculation"
   ]
  },
  {
   "cell_type": "markdown",
   "id": "274652fb",
   "metadata": {},
   "source": [
    "Recovery calculation\n",
    "You need to simulate the process of recovering gold from gold ore.\n",
    "Use the following formula to simulate the recovery process:\n",
    "![title](https://pictures.s3.yandex.net/resources/Recovery_1576238822_1589899219.jpg)\n",
    "Recovery = ((C*(F-T))/(F*(C-T)))*100\n",
    "\n",
    "\n",
    "\n",
    "**where:**\n",
    "- C — share of gold in the concentrate right after flotation (for finding the rougher concentrate recovery)/after purification (for finding the final concentrate recovery) `rougher.output.concentrate_au`\n",
    "- F — share of gold in the feed before flotation (for finding the rougher concentrate recovery)/in the concentrate right after flotation (for finding the final concentrate recovery) `rougher.input.feed_au`\n",
    "- T — share of gold in the rougher tails right after flotation (for finding the rougher concentrate recovery)/after purification (for finding the final concentrate recovery) `rougher.output.tail_au`\n",
    "\n",
    "\n",
    "To predict the coefficient, you need to find the share of gold in the concentrate and the tails. Note that both final and rougher concentrates matter."
   ]
  },
  {
   "cell_type": "code",
   "execution_count": 10,
   "id": "ec1d8129",
   "metadata": {},
   "outputs": [
    {
     "data": {
      "text/html": [
       "<div>\n",
       "<style scoped>\n",
       "    .dataframe tbody tr th:only-of-type {\n",
       "        vertical-align: middle;\n",
       "    }\n",
       "\n",
       "    .dataframe tbody tr th {\n",
       "        vertical-align: top;\n",
       "    }\n",
       "\n",
       "    .dataframe thead th {\n",
       "        text-align: right;\n",
       "    }\n",
       "</style>\n",
       "<table border=\"1\" class=\"dataframe\">\n",
       "  <thead>\n",
       "    <tr style=\"text-align: right;\">\n",
       "      <th></th>\n",
       "      <th>c_recovery</th>\n",
       "      <th>rougher.output.recovery</th>\n",
       "    </tr>\n",
       "  </thead>\n",
       "  <tbody>\n",
       "    <tr>\n",
       "      <th>0</th>\n",
       "      <td>87.107763</td>\n",
       "      <td>87.107763</td>\n",
       "    </tr>\n",
       "    <tr>\n",
       "      <th>1</th>\n",
       "      <td>86.843261</td>\n",
       "      <td>86.843261</td>\n",
       "    </tr>\n",
       "    <tr>\n",
       "      <th>2</th>\n",
       "      <td>86.842308</td>\n",
       "      <td>86.842308</td>\n",
       "    </tr>\n",
       "    <tr>\n",
       "      <th>3</th>\n",
       "      <td>87.226430</td>\n",
       "      <td>87.226430</td>\n",
       "    </tr>\n",
       "    <tr>\n",
       "      <th>4</th>\n",
       "      <td>86.688794</td>\n",
       "      <td>86.688794</td>\n",
       "    </tr>\n",
       "  </tbody>\n",
       "</table>\n",
       "</div>"
      ],
      "text/plain": [
       "   c_recovery  rougher.output.recovery\n",
       "0   87.107763                87.107763\n",
       "1   86.843261                86.843261\n",
       "2   86.842308                86.842308\n",
       "3   87.226430                87.226430\n",
       "4   86.688794                86.688794"
      ]
     },
     "execution_count": 10,
     "metadata": {},
     "output_type": "execute_result"
    }
   ],
   "source": [
    "# Recovery Calculation\n",
    "C = train['rougher.output.concentrate_au']\n",
    "F = train['rougher.input.feed_au']\n",
    "T = train['rougher.output.tail_au']\n",
    "train['c_recovery'] = (((C*(F-T))/(F*(C-T)))*100).round(6)\n",
    "train[['c_recovery','rougher.output.recovery']].head()"
   ]
  },
  {
   "cell_type": "code",
   "execution_count": 11,
   "id": "9b421d4a",
   "metadata": {},
   "outputs": [
    {
     "name": "stdout",
     "output_type": "stream",
     "text": [
      "Mean Absolute Error between calculated and actual values: 2.074619260549184e-07\n"
     ]
    }
   ],
   "source": [
    "# MAE between calculated and actual values\n",
    "recovery_mae = abs(train['rougher.output.recovery'] - train['c_recovery']).sum()/len(train)\n",
    "print('Mean Absolute Error between calculated and actual values:',recovery_mae)"
   ]
  },
  {
   "cell_type": "markdown",
   "id": "c09222fa",
   "metadata": {},
   "source": [
    "**Gold Recovery simulation**\n",
    "\n",
    "The calculation `c_recovery` matched approximately matched the actual data `rougher.output.recovery`. Mean Absolute Error between calculated and actual values is very insignificant which verified the calculation method is done correctly."
   ]
  },
  {
   "cell_type": "markdown",
   "id": "e35d7b16",
   "metadata": {},
   "source": [
    "## Preprocessing Data"
   ]
  },
  {
   "cell_type": "code",
   "execution_count": 12,
   "id": "8401d795",
   "metadata": {},
   "outputs": [],
   "source": [
    "# Convert date column to dtype datetime\n",
    "train['date']= pd.to_datetime(train['date'])\n",
    "test['date']= pd.to_datetime(test['date'])\n",
    "full['date']= pd.to_datetime(full['date'])"
   ]
  },
  {
   "cell_type": "code",
   "execution_count": 13,
   "id": "94e73163",
   "metadata": {},
   "outputs": [
    {
     "data": {
      "text/plain": [
       "['primary_cleaner.output.concentrate_ag',\n",
       " 'rougher.calculation.sulfate_to_au_concentrate',\n",
       " 'final.output.concentrate_sol',\n",
       " 'final.output.recovery',\n",
       " 'secondary_cleaner.output.tail_pb',\n",
       " 'final.output.concentrate_ag',\n",
       " 'secondary_cleaner.output.tail_ag',\n",
       " 'primary_cleaner.output.tail_pb',\n",
       " 'rougher.output.concentrate_sol',\n",
       " 'rougher.output.recovery',\n",
       " 'secondary_cleaner.output.tail_au',\n",
       " 'primary_cleaner.output.concentrate_au',\n",
       " 'secondary_cleaner.output.tail_sol',\n",
       " 'rougher.output.tail_ag',\n",
       " 'rougher.output.tail_pb',\n",
       " 'rougher.calculation.floatbank10_sulfate_to_au_feed',\n",
       " 'rougher.output.concentrate_pb',\n",
       " 'rougher.output.tail_sol',\n",
       " 'final.output.tail_pb',\n",
       " 'rougher.calculation.au_pb_ratio',\n",
       " 'rougher.output.tail_au',\n",
       " 'final.output.tail_sol',\n",
       " 'final.output.tail_ag',\n",
       " 'rougher.calculation.floatbank11_sulfate_to_au_feed',\n",
       " 'rougher.output.concentrate_ag',\n",
       " 'primary_cleaner.output.tail_sol',\n",
       " 'c_recovery',\n",
       " 'final.output.concentrate_pb',\n",
       " 'primary_cleaner.output.concentrate_pb',\n",
       " 'final.output.concentrate_au',\n",
       " 'primary_cleaner.output.tail_ag',\n",
       " 'primary_cleaner.output.concentrate_sol',\n",
       " 'rougher.output.concentrate_au',\n",
       " 'final.output.tail_au',\n",
       " 'primary_cleaner.output.tail_au']"
      ]
     },
     "execution_count": 13,
     "metadata": {},
     "output_type": "execute_result"
    }
   ],
   "source": [
    "# Missing columns on test set.\n",
    "missing_columns = list(set(train.columns)-set(test.columns))\n",
    "missing_columns"
   ]
  },
  {
   "cell_type": "code",
   "execution_count": 14,
   "id": "30ae0abb",
   "metadata": {},
   "outputs": [],
   "source": [
    "# Merge missing final and rougher output recovery from full to test set by date.\n",
    "test2 = test.merge(full[['date', 'final.output.recovery', 'rougher.output.recovery']], on='date',how='left')"
   ]
  },
  {
   "cell_type": "code",
   "execution_count": 15,
   "id": "7e9cfb98",
   "metadata": {},
   "outputs": [
    {
     "data": {
      "text/plain": [
       "rougher.output.recovery                               0.152610\n",
       "c_recovery                                            0.135409\n",
       "rougher.output.tail_ag                                0.133452\n",
       "rougher.output.tail_au                                0.133393\n",
       "rougher.output.tail_sol                               0.133393\n",
       "                                                        ...   \n",
       "primary_cleaner.state.floatbank8_d_level              0.001601\n",
       "rougher.calculation.sulfate_to_au_concentrate         0.001601\n",
       "rougher.calculation.floatbank11_sulfate_to_au_feed    0.001601\n",
       "primary_cleaner.input.feed_size                       0.000000\n",
       "date                                                  0.000000\n",
       "Length: 88, dtype: float64"
      ]
     },
     "execution_count": 15,
     "metadata": {},
     "output_type": "execute_result"
    }
   ],
   "source": [
    "# Missing values % in training set\n",
    "train.isna().sum().sort_values(ascending=False)/len(train)"
   ]
  },
  {
   "cell_type": "code",
   "execution_count": 16,
   "id": "5e5b0ea9",
   "metadata": {
    "scrolled": false
   },
   "outputs": [
    {
     "data": {
      "text/plain": [
       "rougher.output.recovery                       0.093238\n",
       "final.output.recovery                         0.075478\n",
       "rougher.input.floatbank11_xanthate            0.060280\n",
       "primary_cleaner.input.sulfate                 0.051571\n",
       "primary_cleaner.input.depressant              0.048497\n",
       "rougher.input.floatbank10_sulfate             0.043887\n",
       "primary_cleaner.input.xanthate                0.028347\n",
       "rougher.input.floatbank10_xanthate            0.021004\n",
       "rougher.input.feed_sol                        0.011441\n",
       "rougher.input.floatbank11_sulfate             0.009392\n",
       "rougher.input.feed_rate                       0.006831\n",
       "secondary_cleaner.state.floatbank3_a_air      0.005806\n",
       "secondary_cleaner.state.floatbank2_b_air      0.003928\n",
       "rougher.input.feed_size                       0.003757\n",
       "secondary_cleaner.state.floatbank2_a_air      0.003415\n",
       "rougher.state.floatbank10_f_air               0.002903\n",
       "rougher.state.floatbank10_e_air               0.002903\n",
       "rougher.state.floatbank10_b_air               0.002903\n",
       "rougher.state.floatbank10_a_air               0.002903\n",
       "rougher.state.floatbank10_d_air               0.002903\n",
       "rougher.state.floatbank10_c_air               0.002903\n",
       "rougher.input.feed_au                         0.002732\n",
       "rougher.input.feed_pb                         0.002732\n",
       "secondary_cleaner.state.floatbank6_a_level    0.002732\n",
       "secondary_cleaner.state.floatbank6_a_air      0.002732\n",
       "secondary_cleaner.state.floatbank5_b_level    0.002732\n",
       "secondary_cleaner.state.floatbank5_b_air      0.002732\n",
       "secondary_cleaner.state.floatbank5_a_level    0.002732\n",
       "secondary_cleaner.state.floatbank5_a_air      0.002732\n",
       "secondary_cleaner.state.floatbank4_b_level    0.002732\n",
       "secondary_cleaner.state.floatbank4_b_air      0.002732\n",
       "secondary_cleaner.state.floatbank4_a_level    0.002732\n",
       "secondary_cleaner.state.floatbank4_a_air      0.002732\n",
       "secondary_cleaner.state.floatbank3_b_level    0.002732\n",
       "secondary_cleaner.state.floatbank3_b_air      0.002732\n",
       "secondary_cleaner.state.floatbank3_a_level    0.002732\n",
       "primary_cleaner.state.floatbank8_a_air        0.002732\n",
       "secondary_cleaner.state.floatbank2_b_level    0.002732\n",
       "primary_cleaner.state.floatbank8_a_level      0.002732\n",
       "secondary_cleaner.state.floatbank2_a_level    0.002732\n",
       "rougher.input.feed_ag                         0.002732\n",
       "rougher.state.floatbank10_a_level             0.002732\n",
       "primary_cleaner.state.floatbank8_d_level      0.002732\n",
       "rougher.state.floatbank10_b_level             0.002732\n",
       "primary_cleaner.state.floatbank8_d_air        0.002732\n",
       "rougher.state.floatbank10_c_level             0.002732\n",
       "primary_cleaner.state.floatbank8_c_level      0.002732\n",
       "rougher.state.floatbank10_d_level             0.002732\n",
       "primary_cleaner.state.floatbank8_c_air        0.002732\n",
       "rougher.state.floatbank10_e_level             0.002732\n",
       "primary_cleaner.state.floatbank8_b_level      0.002732\n",
       "rougher.state.floatbank10_f_level             0.002732\n",
       "primary_cleaner.state.floatbank8_b_air        0.002732\n",
       "primary_cleaner.input.feed_size               0.000000\n",
       "date                                          0.000000\n",
       "dtype: float64"
      ]
     },
     "execution_count": 16,
     "metadata": {},
     "output_type": "execute_result"
    }
   ],
   "source": [
    "# Missing values % in test set\n",
    "test2.isna().sum().sort_values(ascending=False)/len(test2)"
   ]
  },
  {
   "cell_type": "code",
   "execution_count": 17,
   "id": "5500ac75",
   "metadata": {},
   "outputs": [],
   "source": [
    "# Fill missing values\n",
    "train = train.fillna(method='ffill')\n",
    "test2 = test2.fillna(method='ffill')"
   ]
  },
  {
   "cell_type": "code",
   "execution_count": 18,
   "id": "67ed4be3",
   "metadata": {},
   "outputs": [
    {
     "name": "stdout",
     "output_type": "stream",
     "text": [
      "0\n",
      "0\n",
      "0\n",
      "0\n"
     ]
    }
   ],
   "source": [
    "# Reverify missing and duplicates value\n",
    "print(train.isna().any().sum())\n",
    "print(test2.isna().any().sum())\n",
    "print(train.duplicated().sum())\n",
    "print(test2.duplicated().sum())"
   ]
  },
  {
   "cell_type": "code",
   "execution_count": 19,
   "id": "11286cdc",
   "metadata": {},
   "outputs": [
    {
     "name": "stdout",
     "output_type": "stream",
     "text": [
      "(5856, 55)\n",
      "(16860, 88)\n"
     ]
    }
   ],
   "source": [
    "# Test and train set shape\n",
    "print(test2.shape)\n",
    "print(train.shape)"
   ]
  },
  {
   "cell_type": "markdown",
   "id": "b57f311c",
   "metadata": {},
   "source": [
    "**Preprocessing Data** \n",
    "\n",
    "\n",
    "Date column on train, test, and full set were converted to datetime dtype. There are some missing values on both training and test set data set, ranging from 0.1% to 15% on training set and 0.2% to 9% on test set. The missing values were not significant and were filled by the front fill and back fill method. Both train and test set were then reverified again for missing values and duplicated values. \n",
    "\n",
    "The train set has 16860 rows and 87 columns, and test set has only 5856 rows and 55 columns. 32 of those missing columns on the test set will have to be dropped on the train set during the model training. "
   ]
  },
  {
   "cell_type": "markdown",
   "id": "0f885497",
   "metadata": {},
   "source": [
    "## EDA"
   ]
  },
  {
   "cell_type": "markdown",
   "id": "2e8d088c",
   "metadata": {},
   "source": [
    "### Metals Purification Stage and Concentration"
   ]
  },
  {
   "cell_type": "code",
   "execution_count": 20,
   "id": "4639850f",
   "metadata": {},
   "outputs": [],
   "source": [
    "# Filtered Dataset by various metals\n",
    "silver_concentration = train.filter(regex='output').filter(regex='concentrate').filter(regex='ag').columns.tolist()\n",
    "gold_concentration = train.filter(regex='output').filter(regex='concentrate').filter(regex='au').columns.tolist()\n",
    "lead_concentration = train.filter(regex='output').filter(regex='concentrate').filter(regex='pb').columns.tolist()"
   ]
  },
  {
   "cell_type": "code",
   "execution_count": 21,
   "id": "11e5487b",
   "metadata": {},
   "outputs": [],
   "source": [
    "# Retrieve variable as string\n",
    "def retrieve_name(var):\n",
    "        \"\"\"\n",
    "        Gets the name of var. Does it from the out most frame inner-wards.\n",
    "        :param var: variable to get name from.\n",
    "        :return: string\n",
    "        \"\"\"\n",
    "        for fi in reversed(inspect.stack()):\n",
    "            names = [var_name for var_name, var_val in fi.frame.f_locals.items() if var_val is var]\n",
    "            if len(names) > 0:\n",
    "                return names[0]"
   ]
  },
  {
   "cell_type": "code",
   "execution_count": 22,
   "id": "8512fcfe",
   "metadata": {
    "scrolled": false
   },
   "outputs": [
    {
     "data": {
      "image/png": "[encoded data removed]",
      "text/plain": [
       "<Figure size 720x360 with 1 Axes>"
      ]
     },
     "metadata": {
      "needs_background": "light"
     },
     "output_type": "display_data"
    },
    {
     "data": {
      "image/png": "[encoded data removed]",
      "text/plain": [
       "<Figure size 720x360 with 1 Axes>"
      ]
     },
     "metadata": {
      "needs_background": "light"
     },
     "output_type": "display_data"
    },
    {
     "data": {
      "image/png": "[encoded data removed]",
      "text/plain": [
       "<Figure size 720x360 with 1 Axes>"
      ]
     },
     "metadata": {
      "needs_background": "light"
     },
     "output_type": "display_data"
    }
   ],
   "source": [
    "# Purification stage vs metal concentration\n",
    "agaupb = [gold_concentration,silver_concentration,lead_concentration]\n",
    "for i,j in enumerate(agaupb):\n",
    "    def plothistogram(x):\n",
    "        plt.figure(figsize=(10,5))\n",
    "        for list in x:\n",
    "            plt.hist(train[list], bins=150, alpha=.5)\n",
    "            plt.legend(x)\n",
    "            plt.xlabel('Purification State')\n",
    "            plt.ylabel('Metal Concentration')\n",
    "            plt.title(retrieve_name(j))\n",
    "    plothistogram(j)"
   ]
  },
  {
   "cell_type": "markdown",
   "id": "0b3aaeb8",
   "metadata": {},
   "source": [
    "### Eliminate Abnormalities on Metal Purification Distribution"
   ]
  },
  {
   "cell_type": "code",
   "execution_count": 23,
   "id": "3a6d2ace",
   "metadata": {
    "scrolled": true
   },
   "outputs": [
    {
     "data": {
      "text/plain": [
       "0"
      ]
     },
     "execution_count": 23,
     "metadata": {},
     "output_type": "execute_result"
    }
   ],
   "source": [
    "# Eliminate outliers near zero for metal purification Distribution\n",
    "for k in agaupb:\n",
    "    def ridzero(x):\n",
    "        train[(train[x]<0.05)]=np.nan\n",
    "    ridzero(k)\n",
    "train = train.dropna(how='any',axis=0)\n",
    "train.isna().any().sum()"
   ]
  },
  {
   "cell_type": "code",
   "execution_count": 24,
   "id": "fcf98cf1",
   "metadata": {
    "scrolled": false
   },
   "outputs": [
    {
     "data": {
      "image/png": "[encoded data removed]",
      "text/plain": [
       "<Figure size 720x360 with 1 Axes>"
      ]
     },
     "metadata": {
      "needs_background": "light"
     },
     "output_type": "display_data"
    },
    {
     "data": {
      "image/png": "[encoded data removed]",
      "text/plain": [
       "<Figure size 720x360 with 1 Axes>"
      ]
     },
     "metadata": {
      "needs_background": "light"
     },
     "output_type": "display_data"
    },
    {
     "data": {
      "image/png": "[encoded data removed]",
      "text/plain": [
       "<Figure size 720x360 with 1 Axes>"
      ]
     },
     "metadata": {
      "needs_background": "light"
     },
     "output_type": "display_data"
    }
   ],
   "source": [
    "# Replot\n",
    "for i,j in enumerate(agaupb):\n",
    "    def plothistogram(x):\n",
    "        plt.figure(figsize=(10,5))\n",
    "        for list in x:\n",
    "            plt.hist(train[list], bins=150, alpha=.5)\n",
    "            plt.legend(x)\n",
    "            plt.xlabel('Purification Stage')\n",
    "            plt.ylabel('Metal Concentration')\n",
    "            plt.title(retrieve_name(j))\n",
    "    plothistogram(j)"
   ]
  },
  {
   "cell_type": "markdown",
   "id": "d4d96a8f",
   "metadata": {},
   "source": [
    "**Metal Purification Stage and Concentration** \n",
    "\n",
    "  \n",
    "Original plot on Metal Purification Stage and Concentration showed outliers near zero on all three metals. Those outliers were removed by eliminating output lower than 0.05. Data on three different metals were used to compare the output on varipus purification state. Plot was processed in order of gold (Au), silver (Ag), and lead (Pb). Gold produced about twice as much concentration output on the final purification stage compared to primary and rougher output. Silver and lead output decreased after primary purification stage, but final output went back to same level as the output produced during the rougher purification stage. "
   ]
  },
  {
   "cell_type": "markdown",
   "id": "ecc63d74",
   "metadata": {},
   "source": [
    "### Feed Particle Size Distributions"
   ]
  },
  {
   "cell_type": "code",
   "execution_count": 25,
   "id": "c1c86d38",
   "metadata": {},
   "outputs": [
    {
     "data": {
      "image/png": "[encoded data removed]",
      "text/plain": [
       "<Figure size 720x360 with 1 Axes>"
      ]
     },
     "metadata": {
      "needs_background": "light"
     },
     "output_type": "display_data"
    }
   ],
   "source": [
    "# Feed Particle Size Distributions\n",
    "plt.figure(figsize=(10,5))\n",
    "plt.hist(train['rougher.input.feed_size'], bins=100, alpha=.5,density=True,label='train')\n",
    "plt.hist(test['rougher.input.feed_size'], bins=100, alpha=.5,density=True,label='test')\n",
    "plt.legend()\n",
    "plt.xlabel('Rougher input feed size')\n",
    "plt.ylabel('Density')\n",
    "plt.title('Feed Particle Size Distributions');"
   ]
  },
  {
   "cell_type": "markdown",
   "id": "5f819a02",
   "metadata": {},
   "source": [
    "**Feed Particle Size Distributions** \n",
    "\n",
    "  \n",
    "The distribution of feed particle size on train and test set are similar, the model evaluation will be able to proceed correctly. The `density` parameters are turn on to scale up the sample size of the test set due to having a smaller sample size compared to train set. "
   ]
  },
  {
   "cell_type": "markdown",
   "id": "1bc7215d",
   "metadata": {},
   "source": [
    "## Choosing the Best Model with sMAPE"
   ]
  },
  {
   "cell_type": "markdown",
   "id": "2473aad6",
   "metadata": {},
   "source": [
    "### Features and Target for Train and Test set"
   ]
  },
  {
   "cell_type": "markdown",
   "id": "85ac1c0d",
   "metadata": {},
   "source": [
    "sMAPE, symmetric Mean Absolute Percentage Error is similar to MAE, but is expressed in relative values instead of absolute ones. sMAPE equally takes into account the scale of both the target and the prediction."
   ]
  },
  {
   "cell_type": "markdown",
   "id": "d26752c2",
   "metadata": {},
   "source": [
    "We need to predict two values:\n",
    "- rougher concentrate recovery `rougher.output.recovery`\n",
    "- final concentrate recovery `final.output.recovery`"
   ]
  },
  {
   "cell_type": "code",
   "execution_count": 26,
   "id": "370186d3",
   "metadata": {},
   "outputs": [
    {
     "data": {
      "text/plain": [
       "(14343, 85)"
      ]
     },
     "execution_count": 26,
     "metadata": {},
     "output_type": "execute_result"
    }
   ],
   "source": [
    "# Creating train/test features, and target\n",
    "train_f = train.drop(['rougher.output.recovery','final.output.recovery','date'],axis=1)\n",
    "train_t = train[['rougher.output.recovery','final.output.recovery']]\n",
    "test_f = test2.drop(['rougher.output.recovery','final.output.recovery','date'],axis=1)\n",
    "test_t = test2[['rougher.output.recovery','final.output.recovery']]\n",
    "train_f.shape"
   ]
  },
  {
   "cell_type": "code",
   "execution_count": 27,
   "id": "2ed445bf",
   "metadata": {},
   "outputs": [],
   "source": [
    "# Drop all columns on train set that are not in test set\n",
    "comcol = test_f.columns.tolist()\n",
    "train_f = train_f[comcol]"
   ]
  },
  {
   "cell_type": "markdown",
   "id": "ed0f0258",
   "metadata": {},
   "source": [
    "### Data scaling"
   ]
  },
  {
   "cell_type": "code",
   "execution_count": 28,
   "id": "3730dbea",
   "metadata": {
    "scrolled": true
   },
   "outputs": [
    {
     "data": {
      "text/html": [
       "<div>\n",
       "<style scoped>\n",
       "    .dataframe tbody tr th:only-of-type {\n",
       "        vertical-align: middle;\n",
       "    }\n",
       "\n",
       "    .dataframe tbody tr th {\n",
       "        vertical-align: top;\n",
       "    }\n",
       "\n",
       "    .dataframe thead th {\n",
       "        text-align: right;\n",
       "    }\n",
       "</style>\n",
       "<table border=\"1\" class=\"dataframe\">\n",
       "  <thead>\n",
       "    <tr style=\"text-align: right;\">\n",
       "      <th></th>\n",
       "      <th>primary_cleaner.input.sulfate</th>\n",
       "      <th>primary_cleaner.input.depressant</th>\n",
       "      <th>primary_cleaner.input.feed_size</th>\n",
       "      <th>primary_cleaner.input.xanthate</th>\n",
       "      <th>primary_cleaner.state.floatbank8_a_air</th>\n",
       "      <th>primary_cleaner.state.floatbank8_a_level</th>\n",
       "      <th>primary_cleaner.state.floatbank8_b_air</th>\n",
       "      <th>primary_cleaner.state.floatbank8_b_level</th>\n",
       "      <th>primary_cleaner.state.floatbank8_c_air</th>\n",
       "      <th>primary_cleaner.state.floatbank8_c_level</th>\n",
       "      <th>...</th>\n",
       "      <th>secondary_cleaner.state.floatbank4_a_air</th>\n",
       "      <th>secondary_cleaner.state.floatbank4_a_level</th>\n",
       "      <th>secondary_cleaner.state.floatbank4_b_air</th>\n",
       "      <th>secondary_cleaner.state.floatbank4_b_level</th>\n",
       "      <th>secondary_cleaner.state.floatbank5_a_air</th>\n",
       "      <th>secondary_cleaner.state.floatbank5_a_level</th>\n",
       "      <th>secondary_cleaner.state.floatbank5_b_air</th>\n",
       "      <th>secondary_cleaner.state.floatbank5_b_level</th>\n",
       "      <th>secondary_cleaner.state.floatbank6_a_air</th>\n",
       "      <th>secondary_cleaner.state.floatbank6_a_level</th>\n",
       "    </tr>\n",
       "  </thead>\n",
       "  <tbody>\n",
       "    <tr>\n",
       "      <th>0</th>\n",
       "      <td>-0.163880</td>\n",
       "      <td>0.357443</td>\n",
       "      <td>-0.109594</td>\n",
       "      <td>0.282356</td>\n",
       "      <td>-0.435472</td>\n",
       "      <td>-0.297452</td>\n",
       "      <td>-0.418877</td>\n",
       "      <td>-0.800474</td>\n",
       "      <td>-0.424602</td>\n",
       "      <td>-0.270206</td>\n",
       "      <td>...</td>\n",
       "      <td>-1.042873</td>\n",
       "      <td>-0.463636</td>\n",
       "      <td>-0.634938</td>\n",
       "      <td>-0.754694</td>\n",
       "      <td>-1.155985</td>\n",
       "      <td>-0.375338</td>\n",
       "      <td>-0.858975</td>\n",
       "      <td>-0.424295</td>\n",
       "      <td>-0.933382</td>\n",
       "      <td>-2.625279</td>\n",
       "    </tr>\n",
       "    <tr>\n",
       "      <th>1</th>\n",
       "      <td>-0.200172</td>\n",
       "      <td>0.406489</td>\n",
       "      <td>-0.109594</td>\n",
       "      <td>0.318781</td>\n",
       "      <td>-0.231367</td>\n",
       "      <td>-0.353760</td>\n",
       "      <td>-0.233058</td>\n",
       "      <td>-0.316624</td>\n",
       "      <td>-0.231045</td>\n",
       "      <td>-0.288699</td>\n",
       "      <td>...</td>\n",
       "      <td>-1.047216</td>\n",
       "      <td>-0.522729</td>\n",
       "      <td>-0.663410</td>\n",
       "      <td>-0.696600</td>\n",
       "      <td>-1.136501</td>\n",
       "      <td>-0.424087</td>\n",
       "      <td>-0.875556</td>\n",
       "      <td>-0.427147</td>\n",
       "      <td>-0.960017</td>\n",
       "      <td>-2.464604</td>\n",
       "    </tr>\n",
       "    <tr>\n",
       "      <th>2</th>\n",
       "      <td>-0.245066</td>\n",
       "      <td>0.704353</td>\n",
       "      <td>-0.109594</td>\n",
       "      <td>0.288923</td>\n",
       "      <td>-0.035008</td>\n",
       "      <td>-0.328127</td>\n",
       "      <td>-0.047848</td>\n",
       "      <td>-0.338329</td>\n",
       "      <td>-0.038309</td>\n",
       "      <td>-0.333041</td>\n",
       "      <td>...</td>\n",
       "      <td>-1.043195</td>\n",
       "      <td>-0.464280</td>\n",
       "      <td>-0.670604</td>\n",
       "      <td>-0.693198</td>\n",
       "      <td>-1.131070</td>\n",
       "      <td>-0.423016</td>\n",
       "      <td>-0.870468</td>\n",
       "      <td>-0.425490</td>\n",
       "      <td>-0.954740</td>\n",
       "      <td>-2.508129</td>\n",
       "    </tr>\n",
       "    <tr>\n",
       "      <th>3</th>\n",
       "      <td>-0.283513</td>\n",
       "      <td>0.706065</td>\n",
       "      <td>-0.109594</td>\n",
       "      <td>0.303261</td>\n",
       "      <td>-0.047285</td>\n",
       "      <td>-0.355082</td>\n",
       "      <td>-0.045782</td>\n",
       "      <td>-0.311100</td>\n",
       "      <td>-0.050902</td>\n",
       "      <td>-0.328990</td>\n",
       "      <td>...</td>\n",
       "      <td>-1.039393</td>\n",
       "      <td>-0.431677</td>\n",
       "      <td>-0.654068</td>\n",
       "      <td>-0.694233</td>\n",
       "      <td>-1.148314</td>\n",
       "      <td>-0.398704</td>\n",
       "      <td>-0.876854</td>\n",
       "      <td>-0.418780</td>\n",
       "      <td>-0.958764</td>\n",
       "      <td>-2.470149</td>\n",
       "    </tr>\n",
       "    <tr>\n",
       "      <th>4</th>\n",
       "      <td>-0.389753</td>\n",
       "      <td>0.878784</td>\n",
       "      <td>-0.109594</td>\n",
       "      <td>0.337660</td>\n",
       "      <td>-0.036682</td>\n",
       "      <td>-0.299241</td>\n",
       "      <td>-0.039881</td>\n",
       "      <td>-0.330005</td>\n",
       "      <td>-0.056254</td>\n",
       "      <td>-0.333557</td>\n",
       "      <td>...</td>\n",
       "      <td>-1.041022</td>\n",
       "      <td>-0.411713</td>\n",
       "      <td>-0.662926</td>\n",
       "      <td>-0.691834</td>\n",
       "      <td>-1.155972</td>\n",
       "      <td>-0.463844</td>\n",
       "      <td>-0.891368</td>\n",
       "      <td>-0.421347</td>\n",
       "      <td>-0.960314</td>\n",
       "      <td>-2.509969</td>\n",
       "    </tr>\n",
       "  </tbody>\n",
       "</table>\n",
       "<p>5 rows × 52 columns</p>\n",
       "</div>"
      ],
      "text/plain": [
       "   primary_cleaner.input.sulfate  primary_cleaner.input.depressant  \\\n",
       "0                      -0.163880                          0.357443   \n",
       "1                      -0.200172                          0.406489   \n",
       "2                      -0.245066                          0.704353   \n",
       "3                      -0.283513                          0.706065   \n",
       "4                      -0.389753                          0.878784   \n",
       "\n",
       "   primary_cleaner.input.feed_size  primary_cleaner.input.xanthate  \\\n",
       "0                        -0.109594                        0.282356   \n",
       "1                        -0.109594                        0.318781   \n",
       "2                        -0.109594                        0.288923   \n",
       "3                        -0.109594                        0.303261   \n",
       "4                        -0.109594                        0.337660   \n",
       "\n",
       "   primary_cleaner.state.floatbank8_a_air  \\\n",
       "0                               -0.435472   \n",
       "1                               -0.231367   \n",
       "2                               -0.035008   \n",
       "3                               -0.047285   \n",
       "4                               -0.036682   \n",
       "\n",
       "   primary_cleaner.state.floatbank8_a_level  \\\n",
       "0                                 -0.297452   \n",
       "1                                 -0.353760   \n",
       "2                                 -0.328127   \n",
       "3                                 -0.355082   \n",
       "4                                 -0.299241   \n",
       "\n",
       "   primary_cleaner.state.floatbank8_b_air  \\\n",
       "0                               -0.418877   \n",
       "1                               -0.233058   \n",
       "2                               -0.047848   \n",
       "3                               -0.045782   \n",
       "4                               -0.039881   \n",
       "\n",
       "   primary_cleaner.state.floatbank8_b_level  \\\n",
       "0                                 -0.800474   \n",
       "1                                 -0.316624   \n",
       "2                                 -0.338329   \n",
       "3                                 -0.311100   \n",
       "4                                 -0.330005   \n",
       "\n",
       "   primary_cleaner.state.floatbank8_c_air  \\\n",
       "0                               -0.424602   \n",
       "1                               -0.231045   \n",
       "2                               -0.038309   \n",
       "3                               -0.050902   \n",
       "4                               -0.056254   \n",
       "\n",
       "   primary_cleaner.state.floatbank8_c_level  ...  \\\n",
       "0                                 -0.270206  ...   \n",
       "1                                 -0.288699  ...   \n",
       "2                                 -0.333041  ...   \n",
       "3                                 -0.328990  ...   \n",
       "4                                 -0.333557  ...   \n",
       "\n",
       "   secondary_cleaner.state.floatbank4_a_air  \\\n",
       "0                                 -1.042873   \n",
       "1                                 -1.047216   \n",
       "2                                 -1.043195   \n",
       "3                                 -1.039393   \n",
       "4                                 -1.041022   \n",
       "\n",
       "   secondary_cleaner.state.floatbank4_a_level  \\\n",
       "0                                   -0.463636   \n",
       "1                                   -0.522729   \n",
       "2                                   -0.464280   \n",
       "3                                   -0.431677   \n",
       "4                                   -0.411713   \n",
       "\n",
       "   secondary_cleaner.state.floatbank4_b_air  \\\n",
       "0                                 -0.634938   \n",
       "1                                 -0.663410   \n",
       "2                                 -0.670604   \n",
       "3                                 -0.654068   \n",
       "4                                 -0.662926   \n",
       "\n",
       "   secondary_cleaner.state.floatbank4_b_level  \\\n",
       "0                                   -0.754694   \n",
       "1                                   -0.696600   \n",
       "2                                   -0.693198   \n",
       "3                                   -0.694233   \n",
       "4                                   -0.691834   \n",
       "\n",
       "   secondary_cleaner.state.floatbank5_a_air  \\\n",
       "0                                 -1.155985   \n",
       "1                                 -1.136501   \n",
       "2                                 -1.131070   \n",
       "3                                 -1.148314   \n",
       "4                                 -1.155972   \n",
       "\n",
       "   secondary_cleaner.state.floatbank5_a_level  \\\n",
       "0                                   -0.375338   \n",
       "1                                   -0.424087   \n",
       "2                                   -0.423016   \n",
       "3                                   -0.398704   \n",
       "4                                   -0.463844   \n",
       "\n",
       "   secondary_cleaner.state.floatbank5_b_air  \\\n",
       "0                                 -0.858975   \n",
       "1                                 -0.875556   \n",
       "2                                 -0.870468   \n",
       "3                                 -0.876854   \n",
       "4                                 -0.891368   \n",
       "\n",
       "   secondary_cleaner.state.floatbank5_b_level  \\\n",
       "0                                   -0.424295   \n",
       "1                                   -0.427147   \n",
       "2                                   -0.425490   \n",
       "3                                   -0.418780   \n",
       "4                                   -0.421347   \n",
       "\n",
       "   secondary_cleaner.state.floatbank6_a_air  \\\n",
       "0                                 -0.933382   \n",
       "1                                 -0.960017   \n",
       "2                                 -0.954740   \n",
       "3                                 -0.958764   \n",
       "4                                 -0.960314   \n",
       "\n",
       "   secondary_cleaner.state.floatbank6_a_level  \n",
       "0                                   -2.625279  \n",
       "1                                   -2.464604  \n",
       "2                                   -2.508129  \n",
       "3                                   -2.470149  \n",
       "4                                   -2.509969  \n",
       "\n",
       "[5 rows x 52 columns]"
      ]
     },
     "execution_count": 28,
     "metadata": {},
     "output_type": "execute_result"
    }
   ],
   "source": [
    "# Scale data\n",
    "scaler = StandardScaler()\n",
    "scaler.fit(train[comcol])\n",
    "train_f[comcol] = scaler.transform(train_f[comcol])\n",
    "test_f[comcol] = scaler.transform(test_f[comcol])\n",
    "train_f.head()"
   ]
  },
  {
   "cell_type": "markdown",
   "id": "794f570a",
   "metadata": {},
   "source": [
    "### Models evaluation by sMAPE score"
   ]
  },
  {
   "cell_type": "markdown",
   "id": "490d4a4a",
   "metadata": {},
   "source": [
    "Here’s how sMAPE is calculated:\n",
    "![title](https://pictures.s3.yandex.net/resources/smape_1576238825_1589899257.jpg)"
   ]
  },
  {
   "cell_type": "markdown",
   "id": "dd05b61f",
   "metadata": {},
   "source": [
    "The final metric includes the two values:\n",
    "![title](https://pictures.s3.yandex.net/resources/_smape_1589899561.jpg)"
   ]
  },
  {
   "cell_type": "code",
   "execution_count": 29,
   "id": "cc246526",
   "metadata": {},
   "outputs": [],
   "source": [
    "# Function to calculate sMAPE\n",
    "def smape(y_target, y_predict):\n",
    "    return np.average(np.abs(y_target-y_predict)/((np.abs(y_target)+np.abs(y_predict))/2))\n",
    "\n",
    "# Function to calculate final sMAPE\n",
    "def smape_final(y_target,y_predict):\n",
    "    smape_rougher = smape(y_target.iloc[:,0], y_predict[:,0])\n",
    "    smape_final = smape(y_target.iloc[:,1], y_predict[:,1])\n",
    "    return 0.25*smape_rougher + 0.75*smape_final\n",
    "\n",
    "# Cross validated final sMAPE\n",
    "def cv_model(model, y_features, y_target, cv):\n",
    "    scorer = make_scorer(smape_final)\n",
    "    scores = cross_val_score(model, y_features, y_target, cv=cv, n_jobs=-1,scoring=scorer)\n",
    "    return np.average(scores)"
   ]
  },
  {
   "cell_type": "code",
   "execution_count": 30,
   "id": "ec34d567",
   "metadata": {},
   "outputs": [],
   "source": [
    "# Various Model\n",
    "LR = LinearRegression()\n",
    "DT = DecisionTreeRegressor(random_state=12345)\n",
    "RF = RandomForestRegressor(random_state=12345,n_jobs=-1)\n",
    "base = DummyRegressor(strategy='mean')"
   ]
  },
  {
   "cell_type": "code",
   "execution_count": 31,
   "id": "c20c6484",
   "metadata": {},
   "outputs": [],
   "source": [
    "# Applying different model with cross_validation\n",
    "LR_smape_finalscore = cv_model(LR,train_f,train_t,cv=5)\n",
    "DT_smape_finalscore = cv_model(DT,train_f,train_t,cv=5)\n",
    "base_smape_finalscore = cv_model(base,train_f,train_t,cv=5)\n",
    "RF_smape_finalscore = cv_model(RF,train_f,train_t,cv=5)"
   ]
  },
  {
   "cell_type": "code",
   "execution_count": 32,
   "id": "0c06c4ac",
   "metadata": {},
   "outputs": [
    {
     "data": {
      "text/html": [
       "<div>\n",
       "<style scoped>\n",
       "    .dataframe tbody tr th:only-of-type {\n",
       "        vertical-align: middle;\n",
       "    }\n",
       "\n",
       "    .dataframe tbody tr th {\n",
       "        vertical-align: top;\n",
       "    }\n",
       "\n",
       "    .dataframe thead th {\n",
       "        text-align: right;\n",
       "    }\n",
       "</style>\n",
       "<table border=\"1\" class=\"dataframe\">\n",
       "  <thead>\n",
       "    <tr style=\"text-align: right;\">\n",
       "      <th></th>\n",
       "      <th>Model</th>\n",
       "      <th>Final sMAPE</th>\n",
       "    </tr>\n",
       "  </thead>\n",
       "  <tbody>\n",
       "    <tr>\n",
       "      <th>2</th>\n",
       "      <td>RF</td>\n",
       "      <td>0.097736</td>\n",
       "    </tr>\n",
       "    <tr>\n",
       "      <th>3</th>\n",
       "      <td>Base</td>\n",
       "      <td>0.101694</td>\n",
       "    </tr>\n",
       "    <tr>\n",
       "      <th>0</th>\n",
       "      <td>LR</td>\n",
       "      <td>0.105455</td>\n",
       "    </tr>\n",
       "    <tr>\n",
       "      <th>1</th>\n",
       "      <td>DT</td>\n",
       "      <td>0.145731</td>\n",
       "    </tr>\n",
       "  </tbody>\n",
       "</table>\n",
       "</div>"
      ],
      "text/plain": [
       "  Model  Final sMAPE\n",
       "2    RF     0.097736\n",
       "3  Base     0.101694\n",
       "0    LR     0.105455\n",
       "1    DT     0.145731"
      ]
     },
     "execution_count": 32,
     "metadata": {},
     "output_type": "execute_result"
    }
   ],
   "source": [
    "# Model's final sMAPE dataframe\n",
    "modelplot = pd.DataFrame({\n",
    "    'Model': ['LR','DT','RF','Base'],\n",
    "    'Final sMAPE': [LR_smape_finalscore, DT_smape_finalscore, RF_smape_finalscore, base_smape_finalscore]})\n",
    "modelplot.sort_values(by='Final sMAPE')"
   ]
  },
  {
   "cell_type": "code",
   "execution_count": 33,
   "id": "23d3e4cb",
   "metadata": {
    "scrolled": false
   },
   "outputs": [
    {
     "data": {
      "image/png": "[encoded data removed]",
      "text/plain": [
       "<Figure size 432x288 with 1 Axes>"
      ]
     },
     "metadata": {
      "needs_background": "light"
     },
     "output_type": "display_data"
    }
   ],
   "source": [
    "# Final sMAPE with various Model\n",
    "sns.barplot(data=modelplot.sort_values(by='Final sMAPE',ascending=False),x='Final sMAPE', y = 'Model',color='b')\n",
    "plt.title('Different Model Final sMAPE score')\n",
    "plt.xlabel('Final sMAPE mean')\n",
    "plt.ylabel('Model');"
   ]
  },
  {
   "cell_type": "markdown",
   "id": "b4e610d1",
   "metadata": {},
   "source": [
    "**Models evaluation by sMAPE score** \n",
    "\n",
    "  \n",
    "Model evaluations were performed with four different: `DecisionTreeRegressor`, `LinearRegression`,`DummyRegressor.mean`, and `RandomForestRegressor`. Out of all the model evaluation, `RandomForestRegressor` seems to have the lowest symmetrical mean absolute error of 9.77%, followed by `DummyRegressor.mean`. `DecisionTreeRegressor` showed produced te highest sMAPE at 14.57%."
   ]
  },
  {
   "cell_type": "markdown",
   "id": "a85be6f0",
   "metadata": {},
   "source": [
    "#### Hyperparameter tuning on RF"
   ]
  },
  {
   "cell_type": "code",
   "execution_count": 34,
   "id": "b7fc66bc",
   "metadata": {},
   "outputs": [
    {
     "name": "stdout",
     "output_type": "stream",
     "text": [
      "Best tree depth and n_estimators :4.0,56.0; with the lowest sMAPE score of 0.0886070867888067\n",
      "Wall time: 6min 10s\n"
     ]
    }
   ],
   "source": [
    "%%time\n",
    "# Hyperparameter tuning on RF\n",
    "bestrf = pd.DataFrame(columns=['i','n','smape'])\n",
    "for i in range (1,10):\n",
    "    for n in range (1,100,5):\n",
    "        RF_hyper = RandomForestRegressor(max_depth=i,n_estimators=n,\n",
    "                                      random_state=12345,\n",
    "                                      n_jobs=-1,\n",
    "                                      max_features=18).fit(train_f,train_t) #max_features=n_features/3\n",
    "        test_smape = cv_model(RF_hyper,train_f,train_t,cv=5)\n",
    "        bestrf=bestrf.append({'i': i,\n",
    "                       'n': n,\n",
    "                       'smape': test_smape}, ignore_index=True)\n",
    "print(f\"Best tree depth and n_estimators :{bestrf['i'][bestrf.smape.idxmin()]},{bestrf['n'][bestrf.smape.idxmin()]}; with the lowest sMAPE score of {bestrf.smape.min()}\")"
   ]
  },
  {
   "cell_type": "code",
   "execution_count": 35,
   "id": "dccd532a",
   "metadata": {},
   "outputs": [
    {
     "name": "stdout",
     "output_type": "stream",
     "text": [
      "Final sMAPE score on test set using Hyperparameter Tuned RF: 0.1080534199193687\n"
     ]
    }
   ],
   "source": [
    "# Hyperparameter Tuned RF on Test set\n",
    "RF_test = RandomForestRegressor(max_depth=4,n_estimators=56,\n",
    "                              random_state=12345,\n",
    "                              n_jobs=-1,\n",
    "                              max_features=18).fit(train_f,train_t)\n",
    "smape_final_test = smape_final(test_t,RF_test.predict(test_f))\n",
    "print('Final sMAPE score on test set using Hyperparameter Tuned RF:',smape_final_test)"
   ]
  },
  {
   "cell_type": "markdown",
   "id": "2c760134",
   "metadata": {},
   "source": [
    "**Choosing the Best Model with sMAPE** \n",
    "\n",
    "  \n",
    "With the model RandomForestRegressor producing the lowest sMAPE, RandomForestRegressor is chosen to be the best model for this analysis. Test set was then evaluated using RandomForestRegressor model fitting with train set. RandomForestRegressor on test set seems to produce much higher sMAPE of 12.73% compared to train set at 9.77%. \n",
    "\n",
    "RandomForestRegressor model was hyperparameter tuned to improve the sMAPE score. With parameters `max_depth=4`, `n_estimators=56`, `max_features=18`, the RandomForestRegressor model was able to achieve lower score at 8.86%."
   ]
  },
  {
   "cell_type": "markdown",
   "id": "bad89d4a",
   "metadata": {},
   "source": [
    "### Features selection to Eliminate Unprofitable Parameters "
   ]
  },
  {
   "cell_type": "code",
   "execution_count": 36,
   "id": "8a1b2bf4",
   "metadata": {},
   "outputs": [
    {
     "data": {
      "text/html": [
       "<div>\n",
       "<style scoped>\n",
       "    .dataframe tbody tr th:only-of-type {\n",
       "        vertical-align: middle;\n",
       "    }\n",
       "\n",
       "    .dataframe tbody tr th {\n",
       "        vertical-align: top;\n",
       "    }\n",
       "\n",
       "    .dataframe thead th {\n",
       "        text-align: right;\n",
       "    }\n",
       "</style>\n",
       "<table border=\"1\" class=\"dataframe\">\n",
       "  <thead>\n",
       "    <tr style=\"text-align: right;\">\n",
       "      <th></th>\n",
       "      <th>Feature</th>\n",
       "      <th>Importances</th>\n",
       "    </tr>\n",
       "  </thead>\n",
       "  <tbody>\n",
       "    <tr>\n",
       "      <th>12</th>\n",
       "      <td>rougher.input.feed_ag</td>\n",
       "      <td>0.19867</td>\n",
       "    </tr>\n",
       "    <tr>\n",
       "      <th>0</th>\n",
       "      <td>primary_cleaner.input.sulfate</td>\n",
       "      <td>0.17316</td>\n",
       "    </tr>\n",
       "    <tr>\n",
       "      <th>44</th>\n",
       "      <td>secondary_cleaner.state.floatbank4_b_air</td>\n",
       "      <td>0.07106</td>\n",
       "    </tr>\n",
       "    <tr>\n",
       "      <th>42</th>\n",
       "      <td>secondary_cleaner.state.floatbank4_a_air</td>\n",
       "      <td>0.06346</td>\n",
       "    </tr>\n",
       "    <tr>\n",
       "      <th>17</th>\n",
       "      <td>rougher.input.feed_au</td>\n",
       "      <td>0.05293</td>\n",
       "    </tr>\n",
       "    <tr>\n",
       "      <th>16</th>\n",
       "      <td>rougher.input.feed_sol</td>\n",
       "      <td>0.03776</td>\n",
       "    </tr>\n",
       "    <tr>\n",
       "      <th>28</th>\n",
       "      <td>rougher.state.floatbank10_d_air</td>\n",
       "      <td>0.03767</td>\n",
       "    </tr>\n",
       "    <tr>\n",
       "      <th>19</th>\n",
       "      <td>rougher.input.floatbank10_xanthate</td>\n",
       "      <td>0.03653</td>\n",
       "    </tr>\n",
       "    <tr>\n",
       "      <th>34</th>\n",
       "      <td>secondary_cleaner.state.floatbank2_a_air</td>\n",
       "      <td>0.02968</td>\n",
       "    </tr>\n",
       "    <tr>\n",
       "      <th>22</th>\n",
       "      <td>rougher.state.floatbank10_a_air</td>\n",
       "      <td>0.02631</td>\n",
       "    </tr>\n",
       "    <tr>\n",
       "      <th>23</th>\n",
       "      <td>rougher.state.floatbank10_a_level</td>\n",
       "      <td>0.02468</td>\n",
       "    </tr>\n",
       "    <tr>\n",
       "      <th>21</th>\n",
       "      <td>rougher.input.floatbank11_xanthate</td>\n",
       "      <td>0.02250</td>\n",
       "    </tr>\n",
       "    <tr>\n",
       "      <th>26</th>\n",
       "      <td>rougher.state.floatbank10_c_air</td>\n",
       "      <td>0.02130</td>\n",
       "    </tr>\n",
       "    <tr>\n",
       "      <th>15</th>\n",
       "      <td>rougher.input.feed_size</td>\n",
       "      <td>0.01741</td>\n",
       "    </tr>\n",
       "    <tr>\n",
       "      <th>48</th>\n",
       "      <td>secondary_cleaner.state.floatbank5_b_air</td>\n",
       "      <td>0.01721</td>\n",
       "    </tr>\n",
       "    <tr>\n",
       "      <th>36</th>\n",
       "      <td>secondary_cleaner.state.floatbank2_b_air</td>\n",
       "      <td>0.01682</td>\n",
       "    </tr>\n",
       "    <tr>\n",
       "      <th>50</th>\n",
       "      <td>secondary_cleaner.state.floatbank6_a_air</td>\n",
       "      <td>0.01506</td>\n",
       "    </tr>\n",
       "    <tr>\n",
       "      <th>38</th>\n",
       "      <td>secondary_cleaner.state.floatbank3_a_air</td>\n",
       "      <td>0.01183</td>\n",
       "    </tr>\n",
       "    <tr>\n",
       "      <th>13</th>\n",
       "      <td>rougher.input.feed_pb</td>\n",
       "      <td>0.01166</td>\n",
       "    </tr>\n",
       "    <tr>\n",
       "      <th>24</th>\n",
       "      <td>rougher.state.floatbank10_b_air</td>\n",
       "      <td>0.01126</td>\n",
       "    </tr>\n",
       "    <tr>\n",
       "      <th>43</th>\n",
       "      <td>secondary_cleaner.state.floatbank4_a_level</td>\n",
       "      <td>0.00990</td>\n",
       "    </tr>\n",
       "    <tr>\n",
       "      <th>40</th>\n",
       "      <td>secondary_cleaner.state.floatbank3_b_air</td>\n",
       "      <td>0.00913</td>\n",
       "    </tr>\n",
       "    <tr>\n",
       "      <th>11</th>\n",
       "      <td>primary_cleaner.state.floatbank8_d_level</td>\n",
       "      <td>0.00899</td>\n",
       "    </tr>\n",
       "    <tr>\n",
       "      <th>8</th>\n",
       "      <td>primary_cleaner.state.floatbank8_c_air</td>\n",
       "      <td>0.00894</td>\n",
       "    </tr>\n",
       "    <tr>\n",
       "      <th>46</th>\n",
       "      <td>secondary_cleaner.state.floatbank5_a_air</td>\n",
       "      <td>0.00730</td>\n",
       "    </tr>\n",
       "    <tr>\n",
       "      <th>6</th>\n",
       "      <td>primary_cleaner.state.floatbank8_b_air</td>\n",
       "      <td>0.00618</td>\n",
       "    </tr>\n",
       "    <tr>\n",
       "      <th>4</th>\n",
       "      <td>primary_cleaner.state.floatbank8_a_air</td>\n",
       "      <td>0.00615</td>\n",
       "    </tr>\n",
       "    <tr>\n",
       "      <th>20</th>\n",
       "      <td>rougher.input.floatbank11_sulfate</td>\n",
       "      <td>0.00611</td>\n",
       "    </tr>\n",
       "    <tr>\n",
       "      <th>14</th>\n",
       "      <td>rougher.input.feed_rate</td>\n",
       "      <td>0.00511</td>\n",
       "    </tr>\n",
       "    <tr>\n",
       "      <th>18</th>\n",
       "      <td>rougher.input.floatbank10_sulfate</td>\n",
       "      <td>0.00487</td>\n",
       "    </tr>\n",
       "    <tr>\n",
       "      <th>45</th>\n",
       "      <td>secondary_cleaner.state.floatbank4_b_level</td>\n",
       "      <td>0.00426</td>\n",
       "    </tr>\n",
       "    <tr>\n",
       "      <th>30</th>\n",
       "      <td>rougher.state.floatbank10_e_air</td>\n",
       "      <td>0.00421</td>\n",
       "    </tr>\n",
       "    <tr>\n",
       "      <th>32</th>\n",
       "      <td>rougher.state.floatbank10_f_air</td>\n",
       "      <td>0.00363</td>\n",
       "    </tr>\n",
       "    <tr>\n",
       "      <th>49</th>\n",
       "      <td>secondary_cleaner.state.floatbank5_b_level</td>\n",
       "      <td>0.00243</td>\n",
       "    </tr>\n",
       "    <tr>\n",
       "      <th>41</th>\n",
       "      <td>secondary_cleaner.state.floatbank3_b_level</td>\n",
       "      <td>0.00215</td>\n",
       "    </tr>\n",
       "    <tr>\n",
       "      <th>3</th>\n",
       "      <td>primary_cleaner.input.xanthate</td>\n",
       "      <td>0.00186</td>\n",
       "    </tr>\n",
       "    <tr>\n",
       "      <th>7</th>\n",
       "      <td>primary_cleaner.state.floatbank8_b_level</td>\n",
       "      <td>0.00175</td>\n",
       "    </tr>\n",
       "    <tr>\n",
       "      <th>39</th>\n",
       "      <td>secondary_cleaner.state.floatbank3_a_level</td>\n",
       "      <td>0.00174</td>\n",
       "    </tr>\n",
       "    <tr>\n",
       "      <th>47</th>\n",
       "      <td>secondary_cleaner.state.floatbank5_a_level</td>\n",
       "      <td>0.00168</td>\n",
       "    </tr>\n",
       "    <tr>\n",
       "      <th>2</th>\n",
       "      <td>primary_cleaner.input.feed_size</td>\n",
       "      <td>0.00144</td>\n",
       "    </tr>\n",
       "    <tr>\n",
       "      <th>1</th>\n",
       "      <td>primary_cleaner.input.depressant</td>\n",
       "      <td>0.00143</td>\n",
       "    </tr>\n",
       "    <tr>\n",
       "      <th>10</th>\n",
       "      <td>primary_cleaner.state.floatbank8_d_air</td>\n",
       "      <td>0.00138</td>\n",
       "    </tr>\n",
       "    <tr>\n",
       "      <th>25</th>\n",
       "      <td>rougher.state.floatbank10_b_level</td>\n",
       "      <td>0.00076</td>\n",
       "    </tr>\n",
       "    <tr>\n",
       "      <th>51</th>\n",
       "      <td>secondary_cleaner.state.floatbank6_a_level</td>\n",
       "      <td>0.00051</td>\n",
       "    </tr>\n",
       "    <tr>\n",
       "      <th>29</th>\n",
       "      <td>rougher.state.floatbank10_d_level</td>\n",
       "      <td>0.00047</td>\n",
       "    </tr>\n",
       "    <tr>\n",
       "      <th>31</th>\n",
       "      <td>rougher.state.floatbank10_e_level</td>\n",
       "      <td>0.00036</td>\n",
       "    </tr>\n",
       "    <tr>\n",
       "      <th>37</th>\n",
       "      <td>secondary_cleaner.state.floatbank2_b_level</td>\n",
       "      <td>0.00025</td>\n",
       "    </tr>\n",
       "    <tr>\n",
       "      <th>35</th>\n",
       "      <td>secondary_cleaner.state.floatbank2_a_level</td>\n",
       "      <td>0.00002</td>\n",
       "    </tr>\n",
       "    <tr>\n",
       "      <th>27</th>\n",
       "      <td>rougher.state.floatbank10_c_level</td>\n",
       "      <td>0.00000</td>\n",
       "    </tr>\n",
       "    <tr>\n",
       "      <th>5</th>\n",
       "      <td>primary_cleaner.state.floatbank8_a_level</td>\n",
       "      <td>0.00000</td>\n",
       "    </tr>\n",
       "    <tr>\n",
       "      <th>9</th>\n",
       "      <td>primary_cleaner.state.floatbank8_c_level</td>\n",
       "      <td>0.00000</td>\n",
       "    </tr>\n",
       "    <tr>\n",
       "      <th>33</th>\n",
       "      <td>rougher.state.floatbank10_f_level</td>\n",
       "      <td>0.00000</td>\n",
       "    </tr>\n",
       "  </tbody>\n",
       "</table>\n",
       "</div>"
      ],
      "text/plain": [
       "                                       Feature  Importances\n",
       "12                       rougher.input.feed_ag      0.19867\n",
       "0                primary_cleaner.input.sulfate      0.17316\n",
       "44    secondary_cleaner.state.floatbank4_b_air      0.07106\n",
       "42    secondary_cleaner.state.floatbank4_a_air      0.06346\n",
       "17                       rougher.input.feed_au      0.05293\n",
       "16                      rougher.input.feed_sol      0.03776\n",
       "28             rougher.state.floatbank10_d_air      0.03767\n",
       "19          rougher.input.floatbank10_xanthate      0.03653\n",
       "34    secondary_cleaner.state.floatbank2_a_air      0.02968\n",
       "22             rougher.state.floatbank10_a_air      0.02631\n",
       "23           rougher.state.floatbank10_a_level      0.02468\n",
       "21          rougher.input.floatbank11_xanthate      0.02250\n",
       "26             rougher.state.floatbank10_c_air      0.02130\n",
       "15                     rougher.input.feed_size      0.01741\n",
       "48    secondary_cleaner.state.floatbank5_b_air      0.01721\n",
       "36    secondary_cleaner.state.floatbank2_b_air      0.01682\n",
       "50    secondary_cleaner.state.floatbank6_a_air      0.01506\n",
       "38    secondary_cleaner.state.floatbank3_a_air      0.01183\n",
       "13                       rougher.input.feed_pb      0.01166\n",
       "24             rougher.state.floatbank10_b_air      0.01126\n",
       "43  secondary_cleaner.state.floatbank4_a_level      0.00990\n",
       "40    secondary_cleaner.state.floatbank3_b_air      0.00913\n",
       "11    primary_cleaner.state.floatbank8_d_level      0.00899\n",
       "8       primary_cleaner.state.floatbank8_c_air      0.00894\n",
       "46    secondary_cleaner.state.floatbank5_a_air      0.00730\n",
       "6       primary_cleaner.state.floatbank8_b_air      0.00618\n",
       "4       primary_cleaner.state.floatbank8_a_air      0.00615\n",
       "20           rougher.input.floatbank11_sulfate      0.00611\n",
       "14                     rougher.input.feed_rate      0.00511\n",
       "18           rougher.input.floatbank10_sulfate      0.00487\n",
       "45  secondary_cleaner.state.floatbank4_b_level      0.00426\n",
       "30             rougher.state.floatbank10_e_air      0.00421\n",
       "32             rougher.state.floatbank10_f_air      0.00363\n",
       "49  secondary_cleaner.state.floatbank5_b_level      0.00243\n",
       "41  secondary_cleaner.state.floatbank3_b_level      0.00215\n",
       "3               primary_cleaner.input.xanthate      0.00186\n",
       "7     primary_cleaner.state.floatbank8_b_level      0.00175\n",
       "39  secondary_cleaner.state.floatbank3_a_level      0.00174\n",
       "47  secondary_cleaner.state.floatbank5_a_level      0.00168\n",
       "2              primary_cleaner.input.feed_size      0.00144\n",
       "1             primary_cleaner.input.depressant      0.00143\n",
       "10      primary_cleaner.state.floatbank8_d_air      0.00138\n",
       "25           rougher.state.floatbank10_b_level      0.00076\n",
       "51  secondary_cleaner.state.floatbank6_a_level      0.00051\n",
       "29           rougher.state.floatbank10_d_level      0.00047\n",
       "31           rougher.state.floatbank10_e_level      0.00036\n",
       "37  secondary_cleaner.state.floatbank2_b_level      0.00025\n",
       "35  secondary_cleaner.state.floatbank2_a_level      0.00002\n",
       "27           rougher.state.floatbank10_c_level      0.00000\n",
       "5     primary_cleaner.state.floatbank8_a_level      0.00000\n",
       "9     primary_cleaner.state.floatbank8_c_level      0.00000\n",
       "33           rougher.state.floatbank10_f_level      0.00000"
      ]
     },
     "execution_count": 36,
     "metadata": {},
     "output_type": "execute_result"
    }
   ],
   "source": [
    "RF_test.fit(train_f, train_t)\n",
    "s = pd.DataFrame()\n",
    "s['Feature'] = train_f.columns.values\n",
    "s[\"Importances\"] = pd.Series(RF_test.feature_importances_)\n",
    "s.sort_values(by='Importances', ascending=False).round(5)"
   ]
  },
  {
   "cell_type": "markdown",
   "id": "876cf10f",
   "metadata": {},
   "source": [
    "**Features Selection**\n",
    "\n",
    "Features `rougher.input.feed_ag` showing the highest importance feature in RandomForestRegressor model. "
   ]
  },
  {
   "cell_type": "code",
   "execution_count": 37,
   "id": "20fae627",
   "metadata": {},
   "outputs": [],
   "source": [
    "# Drop features's importances lower than 0.01\n",
    "selected = s.loc[abs(s[\"Importances\"]) > 0.01 , 'Feature']"
   ]
  },
  {
   "cell_type": "code",
   "execution_count": 38,
   "id": "1be8c6f3",
   "metadata": {
    "scrolled": false
   },
   "outputs": [
    {
     "name": "stdout",
     "output_type": "stream",
     "text": [
      "52\n",
      "20\n"
     ]
    }
   ],
   "source": [
    "# Correlation on train set\n",
    "train_f2 = train_f[selected]\n",
    "test_f2 = test_f[selected]\n",
    "print(test_f.shape[1])\n",
    "print(test_f2.shape[1])"
   ]
  },
  {
   "cell_type": "code",
   "execution_count": 39,
   "id": "181bf99f",
   "metadata": {},
   "outputs": [
    {
     "name": "stdout",
     "output_type": "stream",
     "text": [
      "Best tree depth and n_estimators :4.0,11.0; with the lowest sMAPE score of 0.08751303091685445\n",
      "Wall time: 3min 20s\n"
     ]
    }
   ],
   "source": [
    "%%time\n",
    "# Hyperparameter tuning on RF\n",
    "bestrf = pd.DataFrame(columns=['i','n','smape'])\n",
    "for i in range (1,10):\n",
    "    for n in range (1,100,5):\n",
    "        RF_hyper = RandomForestRegressor(max_depth=i,n_estimators=n,random_state=12345,n_jobs=-1,\n",
    "                                      max_features=7).fit(train_f2,train_t) #max_features=n_features/3\n",
    "        test_smape = cv_model(RF_hyper,train_f2,train_t,cv=5)\n",
    "        bestrf=bestrf.append({'i': i,\n",
    "                       'n': n,\n",
    "                       'smape': test_smape}, ignore_index=True)\n",
    "print(f\"Best tree depth and n_estimators :{bestrf['i'][bestrf.smape.idxmin()]},{bestrf['n'][bestrf.smape.idxmin()]}; with the lowest sMAPE score of {bestrf.smape.min()}\")"
   ]
  },
  {
   "cell_type": "code",
   "execution_count": 40,
   "id": "653fe9a5",
   "metadata": {},
   "outputs": [
    {
     "name": "stdout",
     "output_type": "stream",
     "text": [
      "Final sMAPE score on test set using Hyperparameter Tuned RF: 0.10593223621204992\n"
     ]
    }
   ],
   "source": [
    "# Selected features Test set on hyperparameter tuned RF.\n",
    "RF_test2 = RandomForestRegressor(max_depth=4,n_estimators=11,\n",
    "                              random_state=12345,\n",
    "                              n_jobs=-1,\n",
    "                              max_features=7).fit(train_f2,train_t)\n",
    "smape_final_test2 = smape_final(test_t,RF_test2.predict(test_f2))\n",
    "print('Final sMAPE score on test set using Hyperparameter Tuned RF:',smape_final_test2)"
   ]
  },
  {
   "cell_type": "code",
   "execution_count": 41,
   "id": "71bc6d9e",
   "metadata": {},
   "outputs": [
    {
     "name": "stdout",
     "output_type": "stream",
     "text": [
      "Sanity check with dummyregressor, sMAPE score on original test set: 0.12335466980468278\n"
     ]
    }
   ],
   "source": [
    "# Sanity Check\n",
    "base.fit(train_f, train_t)\n",
    "test_p = base.predict(test_f)\n",
    "smape_base = smape_final(test_t, test_p).mean()\n",
    "print(f'Sanity check with dummyregressor, sMAPE score on original test set: {smape_base}')"
   ]
  },
  {
   "cell_type": "code",
   "execution_count": 42,
   "id": "92d33dcf",
   "metadata": {
    "scrolled": true
   },
   "outputs": [
    {
     "name": "stdout",
     "output_type": "stream",
     "text": [
      "Improvement from base model to hyperparamter tuned and features selected test set: 14.12 %\n"
     ]
    }
   ],
   "source": [
    "print('Improvement from base model to hyperparamter tuned and features selected test set:',\n",
    "      ((smape_base-smape_final_test2)/smape_base*100).round(2),'%')"
   ]
  },
  {
   "cell_type": "markdown",
   "id": "f5a5906f",
   "metadata": {},
   "source": [
    "## Conclusion"
   ]
  },
  {
   "cell_type": "markdown",
   "id": "dcd8f9ca",
   "metadata": {},
   "source": [
    "**Summary:**"
   ]
  },
  {
   "cell_type": "markdown",
   "id": "c9256bce",
   "metadata": {},
   "source": [
    "- Date column on train, test, and full set were converted to datetime dtype and There are some missing values on both training and test set data set, the missing values were not significant and were filled by the front fill and back fill method. \n",
    "\n",
    "  \n",
    "\n",
    "- The train set has 16860 rows, and test set has only 5856 rows due to full data set being split at the ratio 75:25. Some of the features that are present in the training set may be absent from the test set because they were measured and/or calculated much later. 32 of those missing columns on the test set will have to be dropped on the train set during the model training.  \n",
    "\n",
    "  \n",
    "\n",
    "  \n",
    "\n",
    "- First plot on Metal Purification Stage and Concentration showed outliers near zero on all three metals. Those outliers were removed by eliminating output lower than 0.05. Data on three different metals were used to compare the output on various purification state. Gold produced about twice as much concentration output on the final purification stage compared to primary and rougher output. Silver and lead output decreased after primary purification stage, but final output went back to same level as the output produced during the rougher purification stage.  \n",
    "\n",
    "  \n",
    "\n",
    "   \n",
    "\n",
    "- The distribution of feed particle size on train and test were verified by plotting both of their distribution. Distribution sets are similar, the model evaluation will be able to proceed correctly. \n",
    "\n",
    "  \n",
    "\n",
    "   \n",
    "\n",
    "- Model evaluations were performed with four different models: `DecisionTreeRegressor`, `LinearRegression`,`DummyRegressor.mean`, and `RandomForestRegressor`. `RandomForestRegressor` seems to have the lowest symmetrical mean absolute error of 9.77%, followed by `DummyRegressor.mean`. `DecisionTreeRegressor` produced the highest sMAPE at 14.57%. \n",
    "\n",
    "  \n",
    "  \n",
    "\n",
    "- With the model RandomForestRegressor producing the lowest sMAPE, RandomForestRegressor is chosen to be the best model for this analysis. Test set was then evaluated using RandomForestRegressor model fitting with train set. RandomForestRegressor model was hyperparameter tuned to improve the sMAPE score. With parameters `max_depth=4`, `n_estimators=56`, `max_features=18`, the RandomForestRegressor model was able to achieve lower score at 8.86%.\n",
    "  \n",
    "\n",
    "- Features selection processed was performed by using the RandomForestRegressor `feature_importances_` to eliminate the unporfitable parameters. Features `rougher.input.feed_ag` showing the highest importance feature in RandomForestRegressor model. This process was performed by eliminating the importances between features of the train set that is lower than 0.01. After features are selected,  `RandomForestRegressor` Hyperparameter tunings was use on new train set with features selected before evaluate on the test set.\n",
    "\n",
    "\n",
    "- Tuning produced hyperparameters of `max_depth=4`, `n_estimators=11`, `max_features=7`, new test set with selected features was then evaluate with this hyperparameters. Final sMAPE score of 10.59% on test set produced using Hyperparameter Tuned RandomForestRegressor."
   ]
  },
  {
   "cell_type": "markdown",
   "id": "5abf0787",
   "metadata": {},
   "source": [
    "**Final Conclusion:**"
   ]
  },
  {
   "cell_type": "markdown",
   "id": "726678b6",
   "metadata": {},
   "source": [
    "The best model to optimze production on Gold Recovery for Zyfra will be Hyperparameter tuned `RandomForestRegressor` with parameters of `max_depth=4`, `n_estimators=11`, `max_features=n_features/3`, with features selected using `feature_importances_` from `RandomForestRegressor` to eliminate the unporfitable features. This Hyperparameter tuned `RandomForestRegressor` model achieved approximately **14.12%** improvement on sMAPE score compared to base model via DummyRegressor.mean."
   ]
  }
 ],
 "metadata": {
  "ExecuteTimeLog": [
   {
    "duration": 2393,
    "start_time": "2022-03-22T01:41:24.511Z"
   },
   {
    "duration": 1562,
    "start_time": "2022-03-22T01:41:46.491Z"
   },
   {
    "duration": 45,
    "start_time": "2022-03-22T01:41:48.057Z"
   },
   {
    "duration": 33,
    "start_time": "2022-03-22T01:41:48.104Z"
   },
   {
    "duration": 32,
    "start_time": "2022-03-22T01:41:48.312Z"
   },
   {
    "duration": 28,
    "start_time": "2022-03-22T01:41:48.578Z"
   },
   {
    "duration": 21,
    "start_time": "2022-03-22T01:41:49.096Z"
   },
   {
    "duration": 30,
    "start_time": "2022-03-22T01:41:49.561Z"
   },
   {
    "duration": 38,
    "start_time": "2022-03-22T01:42:00.637Z"
   },
   {
    "duration": 159,
    "start_time": "2022-03-22T01:42:42.779Z"
   },
   {
    "duration": 6,
    "start_time": "2022-03-22T01:44:06.766Z"
   },
   {
    "duration": 8,
    "start_time": "2022-03-22T01:44:14.891Z"
   },
   {
    "duration": 12,
    "start_time": "2022-03-22T01:44:21.897Z"
   },
   {
    "duration": 7,
    "start_time": "2022-03-22T01:44:43.236Z"
   },
   {
    "duration": 6,
    "start_time": "2022-03-22T01:44:53.537Z"
   },
   {
    "duration": 8,
    "start_time": "2022-03-22T01:45:10.091Z"
   },
   {
    "duration": 28,
    "start_time": "2022-03-22T01:46:13.007Z"
   },
   {
    "duration": 19,
    "start_time": "2022-03-22T01:46:20.245Z"
   },
   {
    "duration": 8,
    "start_time": "2022-03-22T01:46:21.138Z"
   },
   {
    "duration": 7,
    "start_time": "2022-03-22T01:46:21.954Z"
   },
   {
    "duration": 20,
    "start_time": "2022-03-22T01:46:26.343Z"
   },
   {
    "duration": 20,
    "start_time": "2022-03-22T01:46:32.018Z"
   },
   {
    "duration": 176,
    "start_time": "2022-03-22T01:46:55.029Z"
   },
   {
    "duration": 16,
    "start_time": "2022-03-22T01:47:03.967Z"
   },
   {
    "duration": 21,
    "start_time": "2022-03-22T01:47:34.375Z"
   },
   {
    "duration": 13,
    "start_time": "2022-03-22T01:50:43.536Z"
   },
   {
    "duration": 10,
    "start_time": "2022-03-22T01:50:51.228Z"
   },
   {
    "duration": 7,
    "start_time": "2022-03-22T01:51:17.430Z"
   },
   {
    "duration": 8,
    "start_time": "2022-03-22T01:51:33.871Z"
   },
   {
    "duration": 7,
    "start_time": "2022-03-22T01:51:46.270Z"
   },
   {
    "duration": 7,
    "start_time": "2022-03-22T01:52:08.009Z"
   },
   {
    "duration": 7,
    "start_time": "2022-03-22T01:52:37.805Z"
   },
   {
    "duration": 7,
    "start_time": "2022-03-22T01:53:36.302Z"
   },
   {
    "duration": 8,
    "start_time": "2022-03-22T01:53:42.859Z"
   },
   {
    "duration": 6,
    "start_time": "2022-03-22T01:53:45.907Z"
   },
   {
    "duration": 8,
    "start_time": "2022-03-22T01:53:51.160Z"
   },
   {
    "duration": 8,
    "start_time": "2022-03-22T01:53:57.804Z"
   },
   {
    "duration": 7,
    "start_time": "2022-03-22T01:54:01.821Z"
   },
   {
    "duration": 6,
    "start_time": "2022-03-22T01:54:08.894Z"
   },
   {
    "duration": 7,
    "start_time": "2022-03-22T01:54:12.724Z"
   },
   {
    "duration": 7,
    "start_time": "2022-03-22T01:58:39.598Z"
   },
   {
    "duration": 7,
    "start_time": "2022-03-22T01:58:52.252Z"
   },
   {
    "duration": 19,
    "start_time": "2022-03-22T01:58:53.457Z"
   },
   {
    "duration": 7,
    "start_time": "2022-03-22T01:58:54.062Z"
   },
   {
    "duration": 16,
    "start_time": "2022-03-22T01:58:56.664Z"
   },
   {
    "duration": 14,
    "start_time": "2022-03-22T01:58:58.809Z"
   },
   {
    "duration": 12,
    "start_time": "2022-03-22T01:59:01.891Z"
   },
   {
    "duration": 16,
    "start_time": "2022-03-22T01:59:05.501Z"
   },
   {
    "duration": 190,
    "start_time": "2022-03-22T01:59:07.633Z"
   },
   {
    "duration": 4,
    "start_time": "2022-03-22T01:59:09.254Z"
   },
   {
    "duration": 26,
    "start_time": "2022-03-22T01:59:40.747Z"
   },
   {
    "duration": 4,
    "start_time": "2022-03-22T01:59:41.140Z"
   },
   {
    "duration": 4500,
    "start_time": "2022-03-22T01:59:41.342Z"
   },
   {
    "duration": 24297,
    "start_time": "2022-03-22T01:59:45.845Z"
   },
   {
    "duration": 4443,
    "start_time": "2022-03-22T02:00:10.145Z"
   },
   {
    "duration": 900,
    "start_time": "2022-03-22T02:00:14.591Z"
   },
   {
    "duration": 17,
    "start_time": "2022-03-22T02:00:15.493Z"
   },
   {
    "duration": 8,
    "start_time": "2022-03-22T02:00:17.424Z"
   },
   {
    "duration": 62,
    "start_time": "2022-03-22T02:00:18.799Z"
   },
   {
    "duration": 7,
    "start_time": "2022-03-22T02:01:10.946Z"
   },
   {
    "duration": 6,
    "start_time": "2022-03-22T02:01:22.118Z"
   },
   {
    "duration": 7,
    "start_time": "2022-03-22T02:03:34.155Z"
   },
   {
    "duration": 7,
    "start_time": "2022-03-22T02:05:30.351Z"
   },
   {
    "duration": 8,
    "start_time": "2022-03-22T02:06:33.131Z"
   },
   {
    "duration": 14,
    "start_time": "2022-03-22T02:06:34.649Z"
   },
   {
    "duration": 7,
    "start_time": "2022-03-22T02:07:19.922Z"
   },
   {
    "duration": 7,
    "start_time": "2022-03-22T02:07:29.938Z"
   },
   {
    "duration": 4,
    "start_time": "2022-03-22T02:07:31.792Z"
   },
   {
    "duration": 17,
    "start_time": "2022-03-22T02:07:33.314Z"
   },
   {
    "duration": 7,
    "start_time": "2022-03-22T02:07:50.794Z"
   },
   {
    "duration": 5,
    "start_time": "2022-03-22T02:07:54.308Z"
   },
   {
    "duration": 387939,
    "start_time": "2022-03-22T02:07:54.700Z"
   },
   {
    "duration": 17,
    "start_time": "2022-03-22T02:14:22.642Z"
   },
   {
    "duration": 207,
    "start_time": "2022-03-22T02:14:22.661Z"
   }
  ],
  "kernelspec": {
   "display_name": "Python 3",
   "language": "python",
   "name": "python3"
  },
  "language_info": {
   "codemirror_mode": {
    "name": "ipython",
    "version": 3
   },
   "file_extension": ".py",
   "mimetype": "text/x-python",
   "name": "python",
   "nbconvert_exporter": "python",
   "pygments_lexer": "ipython3",
   "version": "3.7.12"
  },
  "toc": {
   "base_numbering": 1,
   "nav_menu": {},
   "number_sections": true,
   "sideBar": true,
   "skip_h1_title": false,
   "title_cell": "Table of Contents",
   "title_sidebar": "Contents",
   "toc_cell": true,
   "toc_position": {},
   "toc_section_display": true,
   "toc_window_display": true
  }
 },
 "nbformat": 4,
 "nbformat_minor": 5
}
